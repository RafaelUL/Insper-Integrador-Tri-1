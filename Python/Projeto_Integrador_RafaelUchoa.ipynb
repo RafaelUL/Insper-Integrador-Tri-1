{
 "cells": [
  {
   "cell_type": "markdown",
   "metadata": {},
   "source": [
    "# Setup"
   ]
  },
  {
   "cell_type": "code",
   "execution_count": 1,
   "metadata": {
    "ExecuteTime": {
     "end_time": "2021-06-26T14:45:08.046270Z",
     "start_time": "2021-06-26T14:45:06.048917Z"
    }
   },
   "outputs": [],
   "source": [
    "import pandas as pd\n",
    "import numpy as np\n",
    "import missingno as msno\n",
    "import matplotlib.pyplot as plt\n",
    "import altair as alt"
   ]
  },
  {
   "cell_type": "code",
   "execution_count": 2,
   "metadata": {
    "ExecuteTime": {
     "end_time": "2021-06-26T14:45:08.542273Z",
     "start_time": "2021-06-26T14:45:08.048272Z"
    }
   },
   "outputs": [
    {
     "name": "stderr",
     "output_type": "stream",
     "text": [
      "C:\\Users\\filsk\\anaconda3\\envs\\comp\\lib\\site-packages\\IPython\\core\\interactiveshell.py:3147: DtypeWarning: Columns (47) have mixed types.Specify dtype option on import or set low_memory=False.\n",
      "  interactivity=interactivity, compiler=compiler, result=result)\n"
     ]
    }
   ],
   "source": [
    "df = pd.read_csv('BD_PRE.csv', dtype={'G1': str})"
   ]
  },
  {
   "cell_type": "code",
   "execution_count": 3,
   "metadata": {
    "ExecuteTime": {
     "end_time": "2021-06-26T14:45:08.588772Z",
     "start_time": "2021-06-26T14:45:08.546273Z"
    }
   },
   "outputs": [
    {
     "data": {
      "text/html": [
       "<div>\n",
       "<style scoped>\n",
       "    .dataframe tbody tr th:only-of-type {\n",
       "        vertical-align: middle;\n",
       "    }\n",
       "\n",
       "    .dataframe tbody tr th {\n",
       "        vertical-align: top;\n",
       "    }\n",
       "\n",
       "    .dataframe thead th {\n",
       "        text-align: right;\n",
       "    }\n",
       "</style>\n",
       "<table border=\"1\" class=\"dataframe\">\n",
       "  <thead>\n",
       "    <tr style=\"text-align: right;\">\n",
       "      <th></th>\n",
       "      <th>IDTNS</th>\n",
       "      <th>TIPO</th>\n",
       "      <th>OPERADORA</th>\n",
       "      <th>ESTADO</th>\n",
       "      <th>DATA</th>\n",
       "      <th>ANO_BASE</th>\n",
       "      <th>Q1</th>\n",
       "      <th>Q2</th>\n",
       "      <th>Q2_1</th>\n",
       "      <th>Q2_2</th>\n",
       "      <th>...</th>\n",
       "      <th>G1</th>\n",
       "      <th>H0</th>\n",
       "      <th>COD_IBGE</th>\n",
       "      <th>H1</th>\n",
       "      <th>H2</th>\n",
       "      <th>H2a</th>\n",
       "      <th>H3</th>\n",
       "      <th>I1</th>\n",
       "      <th>I2</th>\n",
       "      <th>PESO</th>\n",
       "    </tr>\n",
       "  </thead>\n",
       "  <tbody>\n",
       "    <tr>\n",
       "      <th>0</th>\n",
       "      <td>6159652</td>\n",
       "      <td>PRE</td>\n",
       "      <td>CLARO</td>\n",
       "      <td>RS</td>\n",
       "      <td>15/Jul/20</td>\n",
       "      <td>2020</td>\n",
       "      <td>1</td>\n",
       "      <td>NaN</td>\n",
       "      <td>2.0</td>\n",
       "      <td>2.0</td>\n",
       "      <td>...</td>\n",
       "      <td>NaN</td>\n",
       "      <td>CANOAS</td>\n",
       "      <td>4304606.0</td>\n",
       "      <td>3</td>\n",
       "      <td>2000</td>\n",
       "      <td>1</td>\n",
       "      <td>5.0</td>\n",
       "      <td>1</td>\n",
       "      <td>NaN</td>\n",
       "      <td>1.880793</td>\n",
       "    </tr>\n",
       "    <tr>\n",
       "      <th>1</th>\n",
       "      <td>6377853</td>\n",
       "      <td>PRE</td>\n",
       "      <td>OI</td>\n",
       "      <td>SP</td>\n",
       "      <td>15/Jul/20</td>\n",
       "      <td>2020</td>\n",
       "      <td>1</td>\n",
       "      <td>NaN</td>\n",
       "      <td>2.0</td>\n",
       "      <td>2.0</td>\n",
       "      <td>...</td>\n",
       "      <td>NaN</td>\n",
       "      <td>SÃO PAULO</td>\n",
       "      <td>3550308.0</td>\n",
       "      <td>1</td>\n",
       "      <td>2000</td>\n",
       "      <td>1</td>\n",
       "      <td>2.0</td>\n",
       "      <td>1</td>\n",
       "      <td>NaN</td>\n",
       "      <td>2.637631</td>\n",
       "    </tr>\n",
       "    <tr>\n",
       "      <th>2</th>\n",
       "      <td>6454535</td>\n",
       "      <td>PRE</td>\n",
       "      <td>TIM</td>\n",
       "      <td>MG</td>\n",
       "      <td>15/Jul/20</td>\n",
       "      <td>2020</td>\n",
       "      <td>1</td>\n",
       "      <td>NaN</td>\n",
       "      <td>2.0</td>\n",
       "      <td>2.0</td>\n",
       "      <td>...</td>\n",
       "      <td>NaN</td>\n",
       "      <td>ESMERALDAS</td>\n",
       "      <td>3124104.0</td>\n",
       "      <td>2</td>\n",
       "      <td>999998</td>\n",
       "      <td>98</td>\n",
       "      <td>4.0</td>\n",
       "      <td>1</td>\n",
       "      <td>NaN</td>\n",
       "      <td>2.615088</td>\n",
       "    </tr>\n",
       "    <tr>\n",
       "      <th>3</th>\n",
       "      <td>6570392</td>\n",
       "      <td>PRE</td>\n",
       "      <td>VIVO</td>\n",
       "      <td>AC</td>\n",
       "      <td>15/Jul/20</td>\n",
       "      <td>2020</td>\n",
       "      <td>1</td>\n",
       "      <td>NaN</td>\n",
       "      <td>2.0</td>\n",
       "      <td>2.0</td>\n",
       "      <td>...</td>\n",
       "      <td>NaN</td>\n",
       "      <td>RIO BRANCO</td>\n",
       "      <td>1200401.0</td>\n",
       "      <td>1</td>\n",
       "      <td>1040</td>\n",
       "      <td>1</td>\n",
       "      <td>5.0</td>\n",
       "      <td>3</td>\n",
       "      <td>NaN</td>\n",
       "      <td>0.135088</td>\n",
       "    </tr>\n",
       "    <tr>\n",
       "      <th>4</th>\n",
       "      <td>6641272</td>\n",
       "      <td>PRE</td>\n",
       "      <td>VIVO</td>\n",
       "      <td>MG</td>\n",
       "      <td>15/Jul/20</td>\n",
       "      <td>2020</td>\n",
       "      <td>1</td>\n",
       "      <td>NaN</td>\n",
       "      <td>2.0</td>\n",
       "      <td>2.0</td>\n",
       "      <td>...</td>\n",
       "      <td>NaN</td>\n",
       "      <td>FORTUNA DE MINAS</td>\n",
       "      <td>3126406.0</td>\n",
       "      <td>2</td>\n",
       "      <td>2000</td>\n",
       "      <td>1</td>\n",
       "      <td>5.0</td>\n",
       "      <td>1</td>\n",
       "      <td>NaN</td>\n",
       "      <td>2.133139</td>\n",
       "    </tr>\n",
       "  </tbody>\n",
       "</table>\n",
       "<p>5 rows × 56 columns</p>\n",
       "</div>"
      ],
      "text/plain": [
       "     IDTNS TIPO OPERADORA ESTADO       DATA  ANO_BASE  Q1  Q2  Q2_1  Q2_2  \\\n",
       "0  6159652  PRE     CLARO     RS  15/Jul/20      2020   1 NaN   2.0   2.0   \n",
       "1  6377853  PRE        OI     SP  15/Jul/20      2020   1 NaN   2.0   2.0   \n",
       "2  6454535  PRE       TIM     MG  15/Jul/20      2020   1 NaN   2.0   2.0   \n",
       "3  6570392  PRE      VIVO     AC  15/Jul/20      2020   1 NaN   2.0   2.0   \n",
       "4  6641272  PRE      VIVO     MG  15/Jul/20      2020   1 NaN   2.0   2.0   \n",
       "\n",
       "   ...   G1                H0   COD_IBGE  H1      H2  H2a   H3  I1  I2  \\\n",
       "0  ...  NaN            CANOAS  4304606.0   3    2000    1  5.0   1 NaN   \n",
       "1  ...  NaN         SÃO PAULO  3550308.0   1    2000    1  2.0   1 NaN   \n",
       "2  ...  NaN        ESMERALDAS  3124104.0   2  999998   98  4.0   1 NaN   \n",
       "3  ...  NaN        RIO BRANCO  1200401.0   1    1040    1  5.0   3 NaN   \n",
       "4  ...  NaN  FORTUNA DE MINAS  3126406.0   2    2000    1  5.0   1 NaN   \n",
       "\n",
       "       PESO  \n",
       "0  1.880793  \n",
       "1  2.637631  \n",
       "2  2.615088  \n",
       "3  0.135088  \n",
       "4  2.133139  \n",
       "\n",
       "[5 rows x 56 columns]"
      ]
     },
     "execution_count": 3,
     "metadata": {},
     "output_type": "execute_result"
    }
   ],
   "source": [
    "df.head()"
   ]
  },
  {
   "cell_type": "markdown",
   "metadata": {},
   "source": [
    "Primeiro, removemos todas as entradas com J1 = 99, ou seja, sem a variável resposta."
   ]
  },
  {
   "cell_type": "code",
   "execution_count": 4,
   "metadata": {
    "ExecuteTime": {
     "end_time": "2021-06-26T14:45:08.650770Z",
     "start_time": "2021-06-26T14:45:08.590273Z"
    }
   },
   "outputs": [],
   "source": [
    "df = df.query('J1 != 99')"
   ]
  },
  {
   "cell_type": "markdown",
   "metadata": {
    "heading_collapsed": true
   },
   "source": [
    "# Informações estatísticas básicas"
   ]
  },
  {
   "cell_type": "code",
   "execution_count": 5,
   "metadata": {
    "ExecuteTime": {
     "end_time": "2021-06-26T14:45:08.960773Z",
     "start_time": "2021-06-26T14:45:08.651771Z"
    },
    "hidden": true
   },
   "outputs": [
    {
     "data": {
      "text/html": [
       "<div>\n",
       "<style scoped>\n",
       "    .dataframe tbody tr th:only-of-type {\n",
       "        vertical-align: middle;\n",
       "    }\n",
       "\n",
       "    .dataframe tbody tr th {\n",
       "        vertical-align: top;\n",
       "    }\n",
       "\n",
       "    .dataframe thead th {\n",
       "        text-align: right;\n",
       "    }\n",
       "</style>\n",
       "<table border=\"1\" class=\"dataframe\">\n",
       "  <thead>\n",
       "    <tr style=\"text-align: right;\">\n",
       "      <th></th>\n",
       "      <th>IDTNS</th>\n",
       "      <th>ANO_BASE</th>\n",
       "      <th>Q1</th>\n",
       "      <th>Q2</th>\n",
       "      <th>Q2_1</th>\n",
       "      <th>Q2_2</th>\n",
       "      <th>Q3</th>\n",
       "      <th>Q4</th>\n",
       "      <th>Q5</th>\n",
       "      <th>Q6</th>\n",
       "      <th>...</th>\n",
       "      <th>F5</th>\n",
       "      <th>F6</th>\n",
       "      <th>COD_IBGE</th>\n",
       "      <th>H1</th>\n",
       "      <th>H2</th>\n",
       "      <th>H2a</th>\n",
       "      <th>H3</th>\n",
       "      <th>I1</th>\n",
       "      <th>I2</th>\n",
       "      <th>PESO</th>\n",
       "    </tr>\n",
       "  </thead>\n",
       "  <tbody>\n",
       "    <tr>\n",
       "      <th>count</th>\n",
       "      <td>1.664410e+05</td>\n",
       "      <td>166441.000000</td>\n",
       "      <td>166441.0</td>\n",
       "      <td>147783.000000</td>\n",
       "      <td>18658.0</td>\n",
       "      <td>18658.0</td>\n",
       "      <td>166441.0</td>\n",
       "      <td>166441.0</td>\n",
       "      <td>166441.000000</td>\n",
       "      <td>166441.0</td>\n",
       "      <td>...</td>\n",
       "      <td>96395.000000</td>\n",
       "      <td>24253.000000</td>\n",
       "      <td>6.213900e+04</td>\n",
       "      <td>166441.000000</td>\n",
       "      <td>166441.000000</td>\n",
       "      <td>166441.000000</td>\n",
       "      <td>62139.000000</td>\n",
       "      <td>166441.000000</td>\n",
       "      <td>84299.000000</td>\n",
       "      <td>166441.000000</td>\n",
       "    </tr>\n",
       "    <tr>\n",
       "      <th>mean</th>\n",
       "      <td>1.669824e+07</td>\n",
       "      <td>2017.008946</td>\n",
       "      <td>1.0</td>\n",
       "      <td>3.485252</td>\n",
       "      <td>2.0</td>\n",
       "      <td>2.0</td>\n",
       "      <td>1.0</td>\n",
       "      <td>1.0</td>\n",
       "      <td>1.029055</td>\n",
       "      <td>1.0</td>\n",
       "      <td>...</td>\n",
       "      <td>1.748400</td>\n",
       "      <td>5.309529</td>\n",
       "      <td>3.252957e+06</td>\n",
       "      <td>212.929116</td>\n",
       "      <td>248345.818206</td>\n",
       "      <td>113508.475448</td>\n",
       "      <td>8.574229</td>\n",
       "      <td>1.256427</td>\n",
       "      <td>1.179255</td>\n",
       "      <td>1.000226</td>\n",
       "    </tr>\n",
       "    <tr>\n",
       "      <th>std</th>\n",
       "      <td>2.058642e+07</td>\n",
       "      <td>1.690221</td>\n",
       "      <td>0.0</td>\n",
       "      <td>2.284802</td>\n",
       "      <td>0.0</td>\n",
       "      <td>0.0</td>\n",
       "      <td>0.0</td>\n",
       "      <td>0.0</td>\n",
       "      <td>0.167962</td>\n",
       "      <td>0.0</td>\n",
       "      <td>...</td>\n",
       "      <td>0.433935</td>\n",
       "      <td>4.818559</td>\n",
       "      <td>1.922400e+06</td>\n",
       "      <td>4554.428895</td>\n",
       "      <td>430354.832670</td>\n",
       "      <td>317199.709710</td>\n",
       "      <td>18.284999</td>\n",
       "      <td>0.513186</td>\n",
       "      <td>0.383568</td>\n",
       "      <td>1.290194</td>\n",
       "    </tr>\n",
       "    <tr>\n",
       "      <th>min</th>\n",
       "      <td>3.780000e+02</td>\n",
       "      <td>2015.000000</td>\n",
       "      <td>1.0</td>\n",
       "      <td>2.000000</td>\n",
       "      <td>2.0</td>\n",
       "      <td>2.0</td>\n",
       "      <td>1.0</td>\n",
       "      <td>1.0</td>\n",
       "      <td>1.000000</td>\n",
       "      <td>1.0</td>\n",
       "      <td>...</td>\n",
       "      <td>1.000000</td>\n",
       "      <td>0.000000</td>\n",
       "      <td>9.999000e+03</td>\n",
       "      <td>1.000000</td>\n",
       "      <td>100.000000</td>\n",
       "      <td>1.000000</td>\n",
       "      <td>1.000000</td>\n",
       "      <td>1.000000</td>\n",
       "      <td>1.000000</td>\n",
       "      <td>0.013938</td>\n",
       "    </tr>\n",
       "    <tr>\n",
       "      <th>25%</th>\n",
       "      <td>4.725778e+06</td>\n",
       "      <td>2015.000000</td>\n",
       "      <td>1.0</td>\n",
       "      <td>2.000000</td>\n",
       "      <td>2.0</td>\n",
       "      <td>2.0</td>\n",
       "      <td>1.0</td>\n",
       "      <td>1.0</td>\n",
       "      <td>1.000000</td>\n",
       "      <td>1.0</td>\n",
       "      <td>...</td>\n",
       "      <td>1.000000</td>\n",
       "      <td>3.000000</td>\n",
       "      <td>2.105302e+06</td>\n",
       "      <td>1.000000</td>\n",
       "      <td>1000.000000</td>\n",
       "      <td>1.000000</td>\n",
       "      <td>4.000000</td>\n",
       "      <td>1.000000</td>\n",
       "      <td>1.000000</td>\n",
       "      <td>0.183445</td>\n",
       "    </tr>\n",
       "    <tr>\n",
       "      <th>50%</th>\n",
       "      <td>6.538125e+06</td>\n",
       "      <td>2017.000000</td>\n",
       "      <td>1.0</td>\n",
       "      <td>2.000000</td>\n",
       "      <td>2.0</td>\n",
       "      <td>2.0</td>\n",
       "      <td>1.0</td>\n",
       "      <td>1.0</td>\n",
       "      <td>1.000000</td>\n",
       "      <td>1.0</td>\n",
       "      <td>...</td>\n",
       "      <td>2.000000</td>\n",
       "      <td>5.000000</td>\n",
       "      <td>2.903276e+06</td>\n",
       "      <td>2.000000</td>\n",
       "      <td>1800.000000</td>\n",
       "      <td>2.000000</td>\n",
       "      <td>5.000000</td>\n",
       "      <td>1.000000</td>\n",
       "      <td>1.000000</td>\n",
       "      <td>0.601990</td>\n",
       "    </tr>\n",
       "    <tr>\n",
       "      <th>75%</th>\n",
       "      <td>4.012689e+07</td>\n",
       "      <td>2018.000000</td>\n",
       "      <td>1.0</td>\n",
       "      <td>7.000000</td>\n",
       "      <td>2.0</td>\n",
       "      <td>2.0</td>\n",
       "      <td>1.0</td>\n",
       "      <td>1.0</td>\n",
       "      <td>1.000000</td>\n",
       "      <td>1.0</td>\n",
       "      <td>...</td>\n",
       "      <td>2.000000</td>\n",
       "      <td>8.000000</td>\n",
       "      <td>4.201208e+06</td>\n",
       "      <td>3.000000</td>\n",
       "      <td>15000.000000</td>\n",
       "      <td>3.000000</td>\n",
       "      <td>6.000000</td>\n",
       "      <td>1.000000</td>\n",
       "      <td>1.000000</td>\n",
       "      <td>1.362559</td>\n",
       "    </tr>\n",
       "    <tr>\n",
       "      <th>max</th>\n",
       "      <td>6.203986e+07</td>\n",
       "      <td>2020.000000</td>\n",
       "      <td>1.0</td>\n",
       "      <td>7.000000</td>\n",
       "      <td>2.0</td>\n",
       "      <td>2.0</td>\n",
       "      <td>1.0</td>\n",
       "      <td>1.0</td>\n",
       "      <td>2.000000</td>\n",
       "      <td>1.0</td>\n",
       "      <td>...</td>\n",
       "      <td>2.000000</td>\n",
       "      <td>99.000000</td>\n",
       "      <td>9.999999e+06</td>\n",
       "      <td>99999.000000</td>\n",
       "      <td>999999.000000</td>\n",
       "      <td>999998.000000</td>\n",
       "      <td>99.000000</td>\n",
       "      <td>3.000000</td>\n",
       "      <td>2.000000</td>\n",
       "      <td>10.965368</td>\n",
       "    </tr>\n",
       "  </tbody>\n",
       "</table>\n",
       "<p>8 rows × 50 columns</p>\n",
       "</div>"
      ],
      "text/plain": [
       "              IDTNS       ANO_BASE        Q1             Q2     Q2_1     Q2_2  \\\n",
       "count  1.664410e+05  166441.000000  166441.0  147783.000000  18658.0  18658.0   \n",
       "mean   1.669824e+07    2017.008946       1.0       3.485252      2.0      2.0   \n",
       "std    2.058642e+07       1.690221       0.0       2.284802      0.0      0.0   \n",
       "min    3.780000e+02    2015.000000       1.0       2.000000      2.0      2.0   \n",
       "25%    4.725778e+06    2015.000000       1.0       2.000000      2.0      2.0   \n",
       "50%    6.538125e+06    2017.000000       1.0       2.000000      2.0      2.0   \n",
       "75%    4.012689e+07    2018.000000       1.0       7.000000      2.0      2.0   \n",
       "max    6.203986e+07    2020.000000       1.0       7.000000      2.0      2.0   \n",
       "\n",
       "             Q3        Q4             Q5        Q6  ...            F5  \\\n",
       "count  166441.0  166441.0  166441.000000  166441.0  ...  96395.000000   \n",
       "mean        1.0       1.0       1.029055       1.0  ...      1.748400   \n",
       "std         0.0       0.0       0.167962       0.0  ...      0.433935   \n",
       "min         1.0       1.0       1.000000       1.0  ...      1.000000   \n",
       "25%         1.0       1.0       1.000000       1.0  ...      1.000000   \n",
       "50%         1.0       1.0       1.000000       1.0  ...      2.000000   \n",
       "75%         1.0       1.0       1.000000       1.0  ...      2.000000   \n",
       "max         1.0       1.0       2.000000       1.0  ...      2.000000   \n",
       "\n",
       "                 F6      COD_IBGE             H1             H2  \\\n",
       "count  24253.000000  6.213900e+04  166441.000000  166441.000000   \n",
       "mean       5.309529  3.252957e+06     212.929116  248345.818206   \n",
       "std        4.818559  1.922400e+06    4554.428895  430354.832670   \n",
       "min        0.000000  9.999000e+03       1.000000     100.000000   \n",
       "25%        3.000000  2.105302e+06       1.000000    1000.000000   \n",
       "50%        5.000000  2.903276e+06       2.000000    1800.000000   \n",
       "75%        8.000000  4.201208e+06       3.000000   15000.000000   \n",
       "max       99.000000  9.999999e+06   99999.000000  999999.000000   \n",
       "\n",
       "                 H2a            H3             I1            I2           PESO  \n",
       "count  166441.000000  62139.000000  166441.000000  84299.000000  166441.000000  \n",
       "mean   113508.475448      8.574229       1.256427      1.179255       1.000226  \n",
       "std    317199.709710     18.284999       0.513186      0.383568       1.290194  \n",
       "min         1.000000      1.000000       1.000000      1.000000       0.013938  \n",
       "25%         1.000000      4.000000       1.000000      1.000000       0.183445  \n",
       "50%         2.000000      5.000000       1.000000      1.000000       0.601990  \n",
       "75%         3.000000      6.000000       1.000000      1.000000       1.362559  \n",
       "max    999998.000000     99.000000       3.000000      2.000000      10.965368  \n",
       "\n",
       "[8 rows x 50 columns]"
      ]
     },
     "execution_count": 5,
     "metadata": {},
     "output_type": "execute_result"
    }
   ],
   "source": [
    "df.describe()"
   ]
  },
  {
   "cell_type": "markdown",
   "metadata": {},
   "source": [
    "# Informações de Identificação"
   ]
  },
  {
   "cell_type": "markdown",
   "metadata": {},
   "source": [
    "Vamos remover informações de identificação, já que não terão efeito na avaliação do usuário.\n",
    "\n",
    "Essas informações incluem idade e gênero do respondente, que podem ter efeito na avaliação final, portanto iremos explorar o relacionamento dessas variáveis com a nota J1."
   ]
  },
  {
   "cell_type": "code",
   "execution_count": 6,
   "metadata": {
    "ExecuteTime": {
     "end_time": "2021-06-26T14:45:09.394770Z",
     "start_time": "2021-06-26T14:45:08.963773Z"
    }
   },
   "outputs": [
    {
     "data": {
      "text/plain": [
       "<AxesSubplot:>"
      ]
     },
     "execution_count": 6,
     "metadata": {},
     "output_type": "execute_result"
    },
    {
     "data": {
      "image/png": "[encoded data removed]",
      "text/plain": [
       "<Figure size 1728x720 with 3 Axes>"
      ]
     },
     "metadata": {
      "needs_background": "light"
     },
     "output_type": "display_data"
    }
   ],
   "source": [
    "msno.bar(df[['Q9', 'Q8a', 'H2a', 'H1', 'OPERADORA']])"
   ]
  },
  {
   "cell_type": "markdown",
   "metadata": {},
   "source": [
    "## Gênero"
   ]
  },
  {
   "cell_type": "code",
   "execution_count": 7,
   "metadata": {
    "ExecuteTime": {
     "end_time": "2021-06-26T14:45:09.410272Z",
     "start_time": "2021-06-26T14:45:09.396772Z"
    }
   },
   "outputs": [
    {
     "data": {
      "text/plain": [
       "1    83685\n",
       "2    82756\n",
       "Name: Q9, dtype: int64"
      ]
     },
     "execution_count": 7,
     "metadata": {},
     "output_type": "execute_result"
    }
   ],
   "source": [
    "df['Q9'].value_counts()"
   ]
  },
  {
   "cell_type": "code",
   "execution_count": 8,
   "metadata": {
    "ExecuteTime": {
     "end_time": "2021-06-26T14:45:09.456771Z",
     "start_time": "2021-06-26T14:45:09.412272Z"
    }
   },
   "outputs": [
    {
     "data": {
      "text/plain": [
       "0         Masculino\n",
       "1         Masculino\n",
       "2         Masculino\n",
       "3         Masculino\n",
       "4          Feminino\n",
       "            ...    \n",
       "166694     Feminino\n",
       "166695     Feminino\n",
       "166696    Masculino\n",
       "166697     Feminino\n",
       "166698     Feminino\n",
       "Name: Q9, Length: 166441, dtype: object"
      ]
     },
     "execution_count": 8,
     "metadata": {},
     "output_type": "execute_result"
    }
   ],
   "source": [
    "df['Q9'] = df['Q9'].apply(lambda x: 'Feminino' if x == 1 else 'Masculino')\n",
    "df['Q9']"
   ]
  },
  {
   "cell_type": "code",
   "execution_count": 9,
   "metadata": {
    "ExecuteTime": {
     "end_time": "2021-06-26T14:45:09.472272Z",
     "start_time": "2021-06-26T14:45:09.458272Z"
    }
   },
   "outputs": [],
   "source": [
    "# Comentado para diminuir tamanho do arquivo e melhorar performance.\n",
    "# Para ver o gráfico, rebuildar todo o projeto.\n",
    "# PNG a parte na pasta do projeto.\n",
    "\n",
    "# alt.data_transformers.disable_max_rows()\n",
    "\n",
    "# alt.Chart(df).mark_bar().encode(\n",
    "#     x = alt.X('Q9:O', title='Gênero'),\n",
    "#     y = alt.Y('count(Q9):Q', title='Número de respondentes por gênero'),\n",
    "#     color = alt.Color('Q9:N', title='Gênero'),\n",
    "#     column = alt.Column('J1:N', title='Nota de avaliação final')\n",
    "# )"
   ]
  },
  {
   "cell_type": "code",
   "execution_count": 10,
   "metadata": {
    "ExecuteTime": {
     "end_time": "2021-06-26T14:45:09.487772Z",
     "start_time": "2021-06-26T14:45:09.473772Z"
    }
   },
   "outputs": [],
   "source": [
    "# alt.Chart(df, width=500).mark_line().encode(\n",
    "#     x = alt.X('J1:O', title='Nota de avaliação final'),\n",
    "#     y = alt.Y('count(Q9):Q', title='Número de respondentes por gênero'),\n",
    "#     color = alt.Color('Q9:N', title='Gênero')\n",
    "# )\n",
    "\n",
    "# Outra visualização dos mesmos dados. Escondida para diminuir o tamanho do notebook."
   ]
  },
  {
   "cell_type": "markdown",
   "metadata": {},
   "source": [
    "Como podemos ver nestes dois gráficos, não parece que o gênero do respondente afeta muito a avaliação final. Porém, existe uma diferença grande quando a avaliação final é 10. Por isso, se não tivermos um número muito grande de variáveis no modelo, iremos incluir a variável gênero no nosso modelo."
   ]
  },
  {
   "cell_type": "code",
   "execution_count": 11,
   "metadata": {
    "ExecuteTime": {
     "end_time": "2021-06-26T14:45:09.518771Z",
     "start_time": "2021-06-26T14:45:09.489773Z"
    }
   },
   "outputs": [],
   "source": [
    "df['genero'] = pd.get_dummies(df['Q9'], drop_first=True)"
   ]
  },
  {
   "cell_type": "markdown",
   "metadata": {},
   "source": [
    "##  Idade"
   ]
  },
  {
   "cell_type": "code",
   "execution_count": 12,
   "metadata": {
    "ExecuteTime": {
     "end_time": "2021-06-26T14:45:09.534271Z",
     "start_time": "2021-06-26T14:45:09.520771Z"
    }
   },
   "outputs": [
    {
     "data": {
      "text/plain": [
       "4    32310\n",
       "7    31664\n",
       "3    28989\n",
       "5    24771\n",
       "8    23909\n",
       "6    23244\n",
       "9     1554\n",
       "Name: Q8a, dtype: int64"
      ]
     },
     "execution_count": 12,
     "metadata": {},
     "output_type": "execute_result"
    }
   ],
   "source": [
    "df['Q8a'].value_counts()"
   ]
  },
  {
   "cell_type": "code",
   "execution_count": 13,
   "metadata": {
    "ExecuteTime": {
     "end_time": "2021-06-26T14:45:09.673773Z",
     "start_time": "2021-06-26T14:45:09.536272Z"
    }
   },
   "outputs": [
    {
     "data": {
      "text/plain": [
       "0         De 31 a 35 anos\n",
       "1         De 51 a 70 anos\n",
       "2         De 18 a 24 anos\n",
       "3         De 25 a 30 anos\n",
       "4         De 41 a 50 anos\n",
       "               ...       \n",
       "166694    De 25 a 30 anos\n",
       "166695    De 51 a 70 anos\n",
       "166696    De 41 a 50 anos\n",
       "166697    De 25 a 30 anos\n",
       "166698    De 25 a 30 anos\n",
       "Name: Q8a, Length: 166441, dtype: object"
      ]
     },
     "execution_count": 13,
     "metadata": {},
     "output_type": "execute_result"
    }
   ],
   "source": [
    "def faixa_etaria(id_idade):\n",
    "    \n",
    "    dict_faixa = {\n",
    "        1:'Menor de 16',\n",
    "        2:\t'De 16 a 17 anos',\n",
    "        3:\t'De 18 a 24 anos',\n",
    "        4:\t'De 25 a 30 anos',\n",
    "        5:\t'De 31 a 35 anos',\n",
    "        6:\t'De 36 a 40 anos',\n",
    "        7:\t'De 41 a 50 anos',\n",
    "        8:\t'De 51 a 70 anos',\n",
    "        9:\t'Mais de 70 anos',\n",
    "        99:\t'Recusa'\n",
    "    }\n",
    "    \n",
    "    return dict_faixa[id_idade]\n",
    "\n",
    "new_q8a = df[\"Q8a\"].apply(faixa_etaria)\n",
    "new_q8a"
   ]
  },
  {
   "cell_type": "code",
   "execution_count": 14,
   "metadata": {
    "ExecuteTime": {
     "end_time": "2021-06-26T14:45:09.689272Z",
     "start_time": "2021-06-26T14:45:09.675771Z"
    }
   },
   "outputs": [],
   "source": [
    "df[\"Q8a\"] = new_q8a"
   ]
  },
  {
   "cell_type": "code",
   "execution_count": 15,
   "metadata": {
    "ExecuteTime": {
     "end_time": "2021-06-26T14:45:09.704772Z",
     "start_time": "2021-06-26T14:45:09.691272Z"
    },
    "scrolled": true
   },
   "outputs": [],
   "source": [
    "# Comentado para diminuir tamanho do arquivo e melhorar performance.\n",
    "# Para ver o gráfico, rebuildar todo o projeto.\n",
    "# PNG a parte na pasta do projeto.\n",
    "\n",
    "# alt.Chart(df, width=500).transform_aggregate(\n",
    "#     media='mean(J1)',\n",
    "#     mediana='median(J1)',\n",
    "#     groupby=['Q8a']\n",
    "# ).transform_fold(\n",
    "#     ['media', 'mediana'],\n",
    "#     as_=['Agregados', 'Nota Final']\n",
    "# ).mark_line().encode(\n",
    "#     x=alt.X('Q8a', title='Faixa Etária', axis=alt.Axis(labelAngle=45)),\n",
    "#     y='Nota Final:Q', \n",
    "#     color='Agregados:N',\n",
    "# )"
   ]
  },
  {
   "cell_type": "markdown",
   "metadata": {},
   "source": [
    "Como podemos ver, tanto a média quanto a mediana da nota final para cada faixa etária sofrem pouca variação. Portanto, podemos remover a coluna Q8a."
   ]
  },
  {
   "cell_type": "markdown",
   "metadata": {
    "heading_collapsed": true
   },
   "source": [
    "## 3.3 Renda"
   ]
  },
  {
   "cell_type": "markdown",
   "metadata": {
    "heading_collapsed": true,
    "hidden": true
   },
   "source": [
    "### 3.3.1 Renda em salários mínimos"
   ]
  },
  {
   "cell_type": "markdown",
   "metadata": {
    "hidden": true
   },
   "source": [
    "A informação de renda dos respondentes está armazenada na coluna H2a, que tem valores diferentes para anos diferentes da pesquisa. Vamos transformar os valores na média da faixa de renda (por exemplo 3 para a faixa de renda 2 a 4 salários mínimos). Também substituimos os valores faltantes pela média de renda daquele ano."
   ]
  },
  {
   "cell_type": "code",
   "execution_count": 16,
   "metadata": {
    "ExecuteTime": {
     "end_time": "2021-06-26T14:45:09.720272Z",
     "start_time": "2021-06-26T14:45:09.706772Z"
    },
    "hidden": true
   },
   "outputs": [
    {
     "data": {
      "text/plain": [
       "1         77439\n",
       "2         35620\n",
       "999998    18891\n",
       "3         13601\n",
       "99         7700\n",
       "98         5255\n",
       "4          4503\n",
       "5          3432\n",
       "Name: H2a, dtype: int64"
      ]
     },
     "execution_count": 16,
     "metadata": {},
     "output_type": "execute_result"
    }
   ],
   "source": [
    "df['H2a'].value_counts()"
   ]
  },
  {
   "cell_type": "code",
   "execution_count": 17,
   "metadata": {
    "ExecuteTime": {
     "end_time": "2021-06-26T14:45:09.952771Z",
     "start_time": "2021-06-26T14:45:09.721771Z"
    },
    "hidden": true
   },
   "outputs": [],
   "source": [
    "def map_renda(ano, renda):\n",
    "    \n",
    "    dict_2015 = {\n",
    "        1:\t0.5,\n",
    "        2:\t1.5,\n",
    "        3:\t3.5,\n",
    "        4:\t5,\n",
    "        5:\t8,\n",
    "        6:\t10,\n",
    "        999998: 0,\n",
    "        98: 0,\n",
    "        99:\t0,\n",
    "        99999: 0\n",
    "    }\n",
    "    \n",
    "    dict_2016 = {\n",
    "        1:\t1,\n",
    "        2:\t3,\n",
    "        3:\t5,\n",
    "        4:\t8,\n",
    "        5:\t10,\n",
    "        999998: 0,\n",
    "        99:\t0,\n",
    "        99999: 0\n",
    "    }\n",
    "    \n",
    "    dict_2017_20 = {\n",
    "        1:\t1,\n",
    "        2:\t3,\n",
    "        3:\t5,\n",
    "        4:\t8,\n",
    "        5:\t10,\n",
    "        97: 0,\n",
    "        98: 0,\n",
    "        999998: 0,\n",
    "        99:\t0,\n",
    "        999999: 0\n",
    "    }\n",
    "    \n",
    "    if ano == 2015:\n",
    "        return dict_2015[renda]\n",
    "    elif ano == 2016:\n",
    "        return dict_2016[renda]\n",
    "    else:\n",
    "        return dict_2017_20[renda]\n",
    "    \n",
    "df['renda'] = list(map(map_renda, df[\"ANO_BASE\"], df[\"H2a\"]))"
   ]
  },
  {
   "cell_type": "code",
   "execution_count": 18,
   "metadata": {
    "ExecuteTime": {
     "end_time": "2021-06-26T14:45:10.014770Z",
     "start_time": "2021-06-26T14:45:09.954271Z"
    },
    "hidden": true
   },
   "outputs": [
    {
     "data": {
      "text/plain": [
       "122729    0.5\n",
       "122730    0.5\n",
       "122731    0.5\n",
       "122732    1.5\n",
       "122733    1.5\n",
       "         ... \n",
       "166694    0.0\n",
       "166695    3.5\n",
       "166696    1.5\n",
       "166697    0.0\n",
       "166698    0.5\n",
       "Name: renda, Length: 43899, dtype: float64"
      ]
     },
     "execution_count": 18,
     "metadata": {},
     "output_type": "execute_result"
    }
   ],
   "source": [
    "renda_2015 = df.query('ANO_BASE == 2015')['renda']\n",
    "renda_2015"
   ]
  },
  {
   "cell_type": "code",
   "execution_count": 19,
   "metadata": {
    "ExecuteTime": {
     "end_time": "2021-06-26T14:45:10.030270Z",
     "start_time": "2021-06-26T14:45:10.016271Z"
    },
    "hidden": true
   },
   "outputs": [
    {
     "data": {
      "text/plain": [
       "2.1758553776788516"
      ]
     },
     "execution_count": 19,
     "metadata": {},
     "output_type": "execute_result"
    }
   ],
   "source": [
    "renda_2015_mean = renda_2015.where(renda_2015 != 0).describe()['mean']\n",
    "renda_2015_mean"
   ]
  },
  {
   "cell_type": "code",
   "execution_count": 20,
   "metadata": {
    "ExecuteTime": {
     "end_time": "2021-06-26T14:45:10.061272Z",
     "start_time": "2021-06-26T14:45:10.031771Z"
    },
    "hidden": true
   },
   "outputs": [
    {
     "data": {
      "text/plain": [
       "92927     1.0\n",
       "92928     0.0\n",
       "92929     0.0\n",
       "92930     3.0\n",
       "92931     3.0\n",
       "         ... \n",
       "122724    8.0\n",
       "122725    3.0\n",
       "122726    1.0\n",
       "122727    3.0\n",
       "122728    3.0\n",
       "Name: renda, Length: 29753, dtype: float64"
      ]
     },
     "execution_count": 20,
     "metadata": {},
     "output_type": "execute_result"
    }
   ],
   "source": [
    "renda_2016 = df.query('ANO_BASE == 2016')['renda']\n",
    "renda_2016"
   ]
  },
  {
   "cell_type": "code",
   "execution_count": 21,
   "metadata": {
    "ExecuteTime": {
     "end_time": "2021-06-26T14:45:10.076773Z",
     "start_time": "2021-06-26T14:45:10.065273Z"
    },
    "hidden": true
   },
   "outputs": [
    {
     "data": {
      "text/plain": [
       "2.09215702686867"
      ]
     },
     "execution_count": 21,
     "metadata": {},
     "output_type": "execute_result"
    }
   ],
   "source": [
    "renda_2016_mean = renda_2016.where(renda_2016 != 0).describe()['mean']\n",
    "renda_2016_mean"
   ]
  },
  {
   "cell_type": "code",
   "execution_count": 22,
   "metadata": {
    "ExecuteTime": {
     "end_time": "2021-06-26T14:45:10.123271Z",
     "start_time": "2021-06-26T14:45:10.079272Z"
    },
    "hidden": true
   },
   "outputs": [
    {
     "data": {
      "text/plain": [
       "0        1.0\n",
       "1        1.0\n",
       "2        0.0\n",
       "3        1.0\n",
       "4        1.0\n",
       "        ... \n",
       "92922    1.0\n",
       "92923    1.0\n",
       "92924    3.0\n",
       "92925    1.0\n",
       "92926    1.0\n",
       "Name: renda, Length: 92789, dtype: float64"
      ]
     },
     "execution_count": 22,
     "metadata": {},
     "output_type": "execute_result"
    }
   ],
   "source": [
    "renda_2017_20 = df.query('ANO_BASE in [2017, 2018, 2019, 2020]')['renda']\n",
    "renda_2017_20"
   ]
  },
  {
   "cell_type": "code",
   "execution_count": 23,
   "metadata": {
    "ExecuteTime": {
     "end_time": "2021-06-26T14:45:10.138770Z",
     "start_time": "2021-06-26T14:45:10.124772Z"
    },
    "hidden": true
   },
   "outputs": [
    {
     "data": {
      "text/plain": [
       "1.9881968859869412"
      ]
     },
     "execution_count": 23,
     "metadata": {},
     "output_type": "execute_result"
    }
   ],
   "source": [
    "renda_2017_20_mean = renda_2017_20.where(renda_2017_20 != 0).describe()['mean']\n",
    "renda_2017_20_mean"
   ]
  },
  {
   "cell_type": "code",
   "execution_count": 24,
   "metadata": {
    "ExecuteTime": {
     "end_time": "2021-06-26T14:45:10.216270Z",
     "start_time": "2021-06-26T14:45:10.140271Z"
    },
    "hidden": true
   },
   "outputs": [],
   "source": [
    "def map_renda_mean(ano, renda):\n",
    "    \n",
    "    if renda == 0:\n",
    "        if ano == 2015:\n",
    "            return renda_2015_mean\n",
    "        elif ano == 2016:\n",
    "            return renda_2016_mean\n",
    "        else:\n",
    "            return renda_2017_20_mean\n",
    "    else:\n",
    "        return renda\n",
    "\n",
    "df[\"renda\"] = list(map(map_renda_mean, df[\"ANO_BASE\"], df[\"renda\"]))"
   ]
  },
  {
   "cell_type": "code",
   "execution_count": 25,
   "metadata": {
    "ExecuteTime": {
     "end_time": "2021-06-26T14:45:10.231772Z",
     "start_time": "2021-06-26T14:45:10.217773Z"
    },
    "hidden": true
   },
   "outputs": [
    {
     "data": {
      "text/plain": [
       "1.000000     67161\n",
       "3.000000     22274\n",
       "1.988197     17131\n",
       "1.500000     13346\n",
       "0.500000     10278\n",
       "2.175855      8856\n",
       "5.000000      7734\n",
       "3.500000      7715\n",
       "2.092157      5859\n",
       "8.000000      4511\n",
       "10.000000     1576\n",
       "Name: renda, dtype: int64"
      ]
     },
     "execution_count": 25,
     "metadata": {},
     "output_type": "execute_result"
    }
   ],
   "source": [
    "df['renda'].value_counts()"
   ]
  },
  {
   "cell_type": "code",
   "execution_count": 26,
   "metadata": {
    "ExecuteTime": {
     "end_time": "2021-06-26T14:45:10.278272Z",
     "start_time": "2021-06-26T14:45:10.233271Z"
    },
    "hidden": true
   },
   "outputs": [
    {
     "data": {
      "text/html": [
       "\n",
       "<div id=\"altair-viz-43d51d728a5a441f97559f8ba2203189\"></div>\n",
       "<script type=\"text/javascript\">\n",
       "  (function(spec, embedOpt){\n",
       "    let outputDiv = document.currentScript.previousElementSibling;\n",
       "    if (outputDiv.id !== \"altair-viz-43d51d728a5a441f97559f8ba2203189\") {\n",
       "      outputDiv = document.getElementById(\"altair-viz-43d51d728a5a441f97559f8ba2203189\");\n",
       "    }\n",
       "    const paths = {\n",
       "      \"vega\": \"https://cdn.jsdelivr.net/npm//vega@5?noext\",\n",
       "      \"vega-lib\": \"https://cdn.jsdelivr.net/npm//vega-lib?noext\",\n",
       "      \"vega-lite\": \"https://cdn.jsdelivr.net/npm//vega-lite@4.8.1?noext\",\n",
       "      \"vega-embed\": \"https://cdn.jsdelivr.net/npm//vega-embed@6?noext\",\n",
       "    };\n",
       "\n",
       "    function loadScript(lib) {\n",
       "      return new Promise(function(resolve, reject) {\n",
       "        var s = document.createElement('script');\n",
       "        s.src = paths[lib];\n",
       "        s.async = true;\n",
       "        s.onload = () => resolve(paths[lib]);\n",
       "        s.onerror = () => reject(`Error loading script: ${paths[lib]}`);\n",
       "        document.getElementsByTagName(\"head\")[0].appendChild(s);\n",
       "      });\n",
       "    }\n",
       "\n",
       "    function showError(err) {\n",
       "      outputDiv.innerHTML = `<div class=\"error\" style=\"color:red;\">${err}</div>`;\n",
       "      throw err;\n",
       "    }\n",
       "\n",
       "    function displayChart(vegaEmbed) {\n",
       "      vegaEmbed(outputDiv, spec, embedOpt)\n",
       "        .catch(err => showError(`Javascript Error: ${err.message}<br>This usually means there's a typo in your chart specification. See the javascript console for the full traceback.`));\n",
       "    }\n",
       "\n",
       "    if(typeof define === \"function\" && define.amd) {\n",
       "      requirejs.config({paths});\n",
       "      require([\"vega-embed\"], displayChart, err => showError(`Error loading script: ${err.message}`));\n",
       "    } else if (typeof vegaEmbed === \"function\") {\n",
       "      displayChart(vegaEmbed);\n",
       "    } else {\n",
       "      loadScript(\"vega\")\n",
       "        .then(() => loadScript(\"vega-lite\"))\n",
       "        .then(() => loadScript(\"vega-embed\"))\n",
       "        .catch(showError)\n",
       "        .then(() => displayChart(vegaEmbed));\n",
       "    }\n",
       "  })({\"config\": {\"view\": {\"continuousWidth\": 400, \"continuousHeight\": 300}}, \"data\": {\"name\": \"data-283b43c7ac68709f1c2697bcd8e317ef\"}, \"mark\": \"line\", \"encoding\": {\"tooltip\": [{\"type\": \"quantitative\", \"field\": \"J1\"}, {\"type\": \"quantitative\", \"field\": \"renda\"}], \"x\": {\"type\": \"quantitative\", \"field\": \"renda\", \"title\": \"Renda (em sal\\u00e1rios m\\u00ednimos)\"}, \"y\": {\"type\": \"quantitative\", \"field\": \"J1\", \"title\": \"M\\u00e9dia J1\"}}, \"selection\": {\"selector001\": {\"type\": \"interval\", \"bind\": \"scales\", \"encodings\": [\"x\", \"y\"]}}, \"title\": \"M\\u00e9dia de J1 por renda\", \"$schema\": \"https://vega.github.io/schema/vega-lite/v4.8.1.json\", \"datasets\": {\"data-283b43c7ac68709f1c2697bcd8e317ef\": [{\"renda\": 0.5, \"J1\": 7.064409418174742}, {\"renda\": 1.0, \"J1\": 7.378285016601897}, {\"renda\": 1.5, \"J1\": 6.875468305110146}, {\"renda\": 1.9881968859869412, \"J1\": 7.207868775903333}, {\"renda\": 2.09215702686867, \"J1\": 6.899982932240997}, {\"renda\": 2.1758553776788516, \"J1\": 6.809056007226739}, {\"renda\": 3.0, \"J1\": 7.058768070395978}, {\"renda\": 3.5, \"J1\": 6.691898898250162}, {\"renda\": 5.0, \"J1\": 6.7018360486164985}, {\"renda\": 8.0, \"J1\": 6.550432276657061}, {\"renda\": 10.0, \"J1\": 6.61484771573604}]}}, {\"mode\": \"vega-lite\"});\n",
       "</script>"
      ],
      "text/plain": [
       "alt.Chart(...)"
      ]
     },
     "execution_count": 26,
     "metadata": {},
     "output_type": "execute_result"
    }
   ],
   "source": [
    "renda_groupby = df[['renda', 'J1']].groupby(['renda'], as_index=False).mean()\n",
    "\n",
    "alt.Chart(renda_groupby).mark_line().encode(\n",
    "    x = alt.X('renda', title='Renda (em salários mínimos)'),\n",
    "    y = alt.Y('J1', title='Média J1'),\n",
    "    tooltip = ['J1', 'renda']\n",
    ").properties(\n",
    "    title = 'Média de J1 por renda'\n",
    ").interactive()"
   ]
  },
  {
   "cell_type": "markdown",
   "metadata": {
    "heading_collapsed": true,
    "hidden": true
   },
   "source": [
    "### 3.3.2 Residentes que contribuem com a renda"
   ]
  },
  {
   "cell_type": "markdown",
   "metadata": {
    "hidden": true
   },
   "source": [
    "Limpamos a coluna H1 - informação sobre o número de contribuintes para a renda total - para lidar com respondentes que se recusaram a dar essa informação. Também substituimos pela média total da coluna."
   ]
  },
  {
   "cell_type": "code",
   "execution_count": 27,
   "metadata": {
    "ExecuteTime": {
     "end_time": "2021-06-26T14:45:10.293772Z",
     "start_time": "2021-06-26T14:45:10.279771Z"
    },
    "hidden": true
   },
   "outputs": [
    {
     "data": {
      "text/plain": [
       "2        67465\n",
       "1        55175\n",
       "3        21366\n",
       "4         9696\n",
       "99        5087\n",
       "5         4411\n",
       "6         1373\n",
       "7          520\n",
       "8          467\n",
       "99999      346\n",
       "10         241\n",
       "9           93\n",
       "12          58\n",
       "20          50\n",
       "15          25\n",
       "13          24\n",
       "11          21\n",
       "14          14\n",
       "17           4\n",
       "16           2\n",
       "18           2\n",
       "19           1\n",
       "Name: H1, dtype: int64"
      ]
     },
     "execution_count": 27,
     "metadata": {},
     "output_type": "execute_result"
    }
   ],
   "source": [
    "df['H1'].value_counts()"
   ]
  },
  {
   "cell_type": "code",
   "execution_count": 28,
   "metadata": {
    "ExecuteTime": {
     "end_time": "2021-06-26T14:45:10.371270Z",
     "start_time": "2021-06-26T14:45:10.295772Z"
    },
    "hidden": true
   },
   "outputs": [
    {
     "data": {
      "text/plain": [
       "0         3\n",
       "1         1\n",
       "2         2\n",
       "3         1\n",
       "4         2\n",
       "         ..\n",
       "166694    1\n",
       "166695    4\n",
       "166696    3\n",
       "166697    1\n",
       "166698    2\n",
       "Name: H1, Length: 166441, dtype: int64"
      ]
     },
     "execution_count": 28,
     "metadata": {},
     "output_type": "execute_result"
    }
   ],
   "source": [
    "df['H1'] = df['H1'].apply(lambda x: -1 if x == 99 else (-1 if x == 99999 else x))\n",
    "df['H1']"
   ]
  },
  {
   "cell_type": "code",
   "execution_count": 29,
   "metadata": {
    "ExecuteTime": {
     "end_time": "2021-06-26T14:45:10.433270Z",
     "start_time": "2021-06-26T14:45:10.372772Z"
    },
    "hidden": true
   },
   "outputs": [
    {
     "data": {
      "text/plain": [
       "2.0922438636589487"
      ]
     },
     "execution_count": 29,
     "metadata": {},
     "output_type": "execute_result"
    }
   ],
   "source": [
    "h1_mean = df.query('H1 != -1')['H1'].describe()['mean']\n",
    "h1_mean"
   ]
  },
  {
   "cell_type": "code",
   "execution_count": 30,
   "metadata": {
    "ExecuteTime": {
     "end_time": "2021-06-26T14:45:10.510772Z",
     "start_time": "2021-06-26T14:45:10.434772Z"
    },
    "hidden": true
   },
   "outputs": [
    {
     "data": {
      "text/plain": [
       "0         3\n",
       "1         1\n",
       "2         2\n",
       "3         1\n",
       "4         2\n",
       "         ..\n",
       "166694    1\n",
       "166695    4\n",
       "166696    3\n",
       "166697    1\n",
       "166698    2\n",
       "Name: contribuintes_renda, Length: 166441, dtype: int64"
      ]
     },
     "execution_count": 30,
     "metadata": {},
     "output_type": "execute_result"
    }
   ],
   "source": [
    "df['contribuintes_renda'] = df['H1'].apply(lambda x: 2 if x == -1 else x)\n",
    "df['contribuintes_renda']"
   ]
  },
  {
   "cell_type": "code",
   "execution_count": 31,
   "metadata": {
    "ExecuteTime": {
     "end_time": "2021-06-26T14:45:10.557270Z",
     "start_time": "2021-06-26T14:45:10.512272Z"
    },
    "hidden": true
   },
   "outputs": [
    {
     "data": {
      "text/html": [
       "\n",
       "<div id=\"altair-viz-d86c21e867c3421ea2e06db8f3f80e54\"></div>\n",
       "<script type=\"text/javascript\">\n",
       "  (function(spec, embedOpt){\n",
       "    let outputDiv = document.currentScript.previousElementSibling;\n",
       "    if (outputDiv.id !== \"altair-viz-d86c21e867c3421ea2e06db8f3f80e54\") {\n",
       "      outputDiv = document.getElementById(\"altair-viz-d86c21e867c3421ea2e06db8f3f80e54\");\n",
       "    }\n",
       "    const paths = {\n",
       "      \"vega\": \"https://cdn.jsdelivr.net/npm//vega@5?noext\",\n",
       "      \"vega-lib\": \"https://cdn.jsdelivr.net/npm//vega-lib?noext\",\n",
       "      \"vega-lite\": \"https://cdn.jsdelivr.net/npm//vega-lite@4.8.1?noext\",\n",
       "      \"vega-embed\": \"https://cdn.jsdelivr.net/npm//vega-embed@6?noext\",\n",
       "    };\n",
       "\n",
       "    function loadScript(lib) {\n",
       "      return new Promise(function(resolve, reject) {\n",
       "        var s = document.createElement('script');\n",
       "        s.src = paths[lib];\n",
       "        s.async = true;\n",
       "        s.onload = () => resolve(paths[lib]);\n",
       "        s.onerror = () => reject(`Error loading script: ${paths[lib]}`);\n",
       "        document.getElementsByTagName(\"head\")[0].appendChild(s);\n",
       "      });\n",
       "    }\n",
       "\n",
       "    function showError(err) {\n",
       "      outputDiv.innerHTML = `<div class=\"error\" style=\"color:red;\">${err}</div>`;\n",
       "      throw err;\n",
       "    }\n",
       "\n",
       "    function displayChart(vegaEmbed) {\n",
       "      vegaEmbed(outputDiv, spec, embedOpt)\n",
       "        .catch(err => showError(`Javascript Error: ${err.message}<br>This usually means there's a typo in your chart specification. See the javascript console for the full traceback.`));\n",
       "    }\n",
       "\n",
       "    if(typeof define === \"function\" && define.amd) {\n",
       "      requirejs.config({paths});\n",
       "      require([\"vega-embed\"], displayChart, err => showError(`Error loading script: ${err.message}`));\n",
       "    } else if (typeof vegaEmbed === \"function\") {\n",
       "      displayChart(vegaEmbed);\n",
       "    } else {\n",
       "      loadScript(\"vega\")\n",
       "        .then(() => loadScript(\"vega-lite\"))\n",
       "        .then(() => loadScript(\"vega-embed\"))\n",
       "        .catch(showError)\n",
       "        .then(() => displayChart(vegaEmbed));\n",
       "    }\n",
       "  })({\"config\": {\"view\": {\"continuousWidth\": 400, \"continuousHeight\": 300}}, \"data\": {\"name\": \"data-6dda5726e57be47c50d8b6c749892f02\"}, \"mark\": \"line\", \"encoding\": {\"tooltip\": [{\"type\": \"quantitative\", \"field\": \"J1\"}, {\"type\": \"quantitative\", \"field\": \"contribuintes_renda\"}], \"x\": {\"type\": \"quantitative\", \"field\": \"contribuintes_renda\", \"title\": \"Contribuintes para renda\"}, \"y\": {\"type\": \"quantitative\", \"field\": \"J1\", \"title\": \"M\\u00e9dia J1\"}}, \"selection\": {\"selector002\": {\"type\": \"interval\", \"bind\": \"scales\", \"encodings\": [\"x\", \"y\"]}}, \"title\": \"M\\u00e9dia de J1 por n\\u00famero de contribuintes para renda\", \"$schema\": \"https://vega.github.io/schema/vega-lite/v4.8.1.json\", \"datasets\": {\"data-6dda5726e57be47c50d8b6c749892f02\": [{\"contribuintes_renda\": 1, \"J1\": 7.083679202537381}, {\"contribuintes_renda\": 2, \"J1\": 7.074789431808829}, {\"contribuintes_renda\": 3, \"J1\": 7.175184873162969}, {\"contribuintes_renda\": 4, \"J1\": 7.3127062706270625}, {\"contribuintes_renda\": 5, \"J1\": 7.347993652233054}, {\"contribuintes_renda\": 6, \"J1\": 7.490895848506919}, {\"contribuintes_renda\": 7, \"J1\": 7.463461538461538}, {\"contribuintes_renda\": 8, \"J1\": 7.387580299785867}, {\"contribuintes_renda\": 9, \"J1\": 7.494623655913978}, {\"contribuintes_renda\": 10, \"J1\": 7.556016597510373}, {\"contribuintes_renda\": 11, \"J1\": 8.095238095238095}, {\"contribuintes_renda\": 12, \"J1\": 6.724137931034483}, {\"contribuintes_renda\": 13, \"J1\": 6.666666666666667}, {\"contribuintes_renda\": 14, \"J1\": 7.571428571428571}, {\"contribuintes_renda\": 15, \"J1\": 6.12}, {\"contribuintes_renda\": 16, \"J1\": 10.0}, {\"contribuintes_renda\": 17, \"J1\": 7.25}, {\"contribuintes_renda\": 18, \"J1\": 8.5}, {\"contribuintes_renda\": 19, \"J1\": 8.0}, {\"contribuintes_renda\": 20, \"J1\": 7.6}]}}, {\"mode\": \"vega-lite\"});\n",
       "</script>"
      ],
      "text/plain": [
       "alt.Chart(...)"
      ]
     },
     "execution_count": 31,
     "metadata": {},
     "output_type": "execute_result"
    }
   ],
   "source": [
    "h1_groupby = df[['contribuintes_renda', 'J1']].groupby(['contribuintes_renda'], as_index=False).mean()\n",
    "\n",
    "alt.Chart(h1_groupby).mark_line().encode(\n",
    "    x = alt.X('contribuintes_renda', title='Contribuintes para renda'),\n",
    "    y = alt.Y('J1', title='Média J1'),\n",
    "    tooltip = ['J1', 'contribuintes_renda']\n",
    ").properties(\n",
    "    title = 'Média de J1 por número de contribuintes para renda'\n",
    ").interactive()"
   ]
  },
  {
   "cell_type": "markdown",
   "metadata": {
    "heading_collapsed": true
   },
   "source": [
    "## 3.4 Operadora"
   ]
  },
  {
   "cell_type": "markdown",
   "metadata": {
    "hidden": true
   },
   "source": [
    "A informação de operadora do usuário está codificada como uma string. Precisamos transformar em variáveis dummy para serem usadas como valores numéricos."
   ]
  },
  {
   "cell_type": "code",
   "execution_count": 32,
   "metadata": {
    "ExecuteTime": {
     "end_time": "2021-06-26T14:45:10.588270Z",
     "start_time": "2021-06-26T14:45:10.558772Z"
    },
    "hidden": true
   },
   "outputs": [
    {
     "data": {
      "text/plain": [
       "OI           40600\n",
       "VIVO         40463\n",
       "CLARO        39510\n",
       "TIM          39262\n",
       "ALGAR         4404\n",
       "SERCOMTEL     1418\n",
       "NEXTEL         784\n",
       "Name: OPERADORA, dtype: int64"
      ]
     },
     "execution_count": 32,
     "metadata": {},
     "output_type": "execute_result"
    }
   ],
   "source": [
    "df['OPERADORA'].value_counts()"
   ]
  },
  {
   "cell_type": "code",
   "execution_count": 33,
   "metadata": {
    "ExecuteTime": {
     "end_time": "2021-06-26T14:45:10.650270Z",
     "start_time": "2021-06-26T14:45:10.589772Z"
    },
    "hidden": true
   },
   "outputs": [
    {
     "ename": "ValueError",
     "evalue": "OPERADORA encoding field is specified without a type; the type cannot be inferred because it does not match any column in the data.",
     "output_type": "error",
     "traceback": [
      "\u001b[1;31m---------------------------------------------------------------------------\u001b[0m",
      "\u001b[1;31mValueError\u001b[0m                                Traceback (most recent call last)",
      "\u001b[1;32m~\\anaconda3\\envs\\comp\\lib\\site-packages\\altair\\vegalite\\v4\\api.py\u001b[0m in \u001b[0;36mto_dict\u001b[1;34m(self, *args, **kwargs)\u001b[0m\n\u001b[0;32m    371\u001b[0m \u001b[1;33m\u001b[0m\u001b[0m\n\u001b[0;32m    372\u001b[0m         \u001b[1;32mtry\u001b[0m\u001b[1;33m:\u001b[0m\u001b[1;33m\u001b[0m\u001b[1;33m\u001b[0m\u001b[0m\n\u001b[1;32m--> 373\u001b[1;33m             \u001b[0mdct\u001b[0m \u001b[1;33m=\u001b[0m \u001b[0msuper\u001b[0m\u001b[1;33m(\u001b[0m\u001b[0mTopLevelMixin\u001b[0m\u001b[1;33m,\u001b[0m \u001b[0mcopy\u001b[0m\u001b[1;33m)\u001b[0m\u001b[1;33m.\u001b[0m\u001b[0mto_dict\u001b[0m\u001b[1;33m(\u001b[0m\u001b[1;33m*\u001b[0m\u001b[0margs\u001b[0m\u001b[1;33m,\u001b[0m \u001b[1;33m**\u001b[0m\u001b[0mkwargs\u001b[0m\u001b[1;33m)\u001b[0m\u001b[1;33m\u001b[0m\u001b[1;33m\u001b[0m\u001b[0m\n\u001b[0m\u001b[0;32m    374\u001b[0m         \u001b[1;32mexcept\u001b[0m \u001b[0mjsonschema\u001b[0m\u001b[1;33m.\u001b[0m\u001b[0mValidationError\u001b[0m\u001b[1;33m:\u001b[0m\u001b[1;33m\u001b[0m\u001b[1;33m\u001b[0m\u001b[0m\n\u001b[0;32m    375\u001b[0m             \u001b[0mdct\u001b[0m \u001b[1;33m=\u001b[0m \u001b[1;32mNone\u001b[0m\u001b[1;33m\u001b[0m\u001b[1;33m\u001b[0m\u001b[0m\n",
      "\u001b[1;32m~\\anaconda3\\envs\\comp\\lib\\site-packages\\altair\\utils\\schemapi.py\u001b[0m in \u001b[0;36mto_dict\u001b[1;34m(self, validate, ignore, context)\u001b[0m\n\u001b[0;32m    326\u001b[0m                 \u001b[1;33m{\u001b[0m\u001b[0mk\u001b[0m\u001b[1;33m:\u001b[0m \u001b[0mv\u001b[0m \u001b[1;32mfor\u001b[0m \u001b[0mk\u001b[0m\u001b[1;33m,\u001b[0m \u001b[0mv\u001b[0m \u001b[1;32min\u001b[0m \u001b[0mself\u001b[0m\u001b[1;33m.\u001b[0m\u001b[0m_kwds\u001b[0m\u001b[1;33m.\u001b[0m\u001b[0mitems\u001b[0m\u001b[1;33m(\u001b[0m\u001b[1;33m)\u001b[0m \u001b[1;32mif\u001b[0m \u001b[0mk\u001b[0m \u001b[1;32mnot\u001b[0m \u001b[1;32min\u001b[0m \u001b[0mignore\u001b[0m\u001b[1;33m}\u001b[0m\u001b[1;33m,\u001b[0m\u001b[1;33m\u001b[0m\u001b[1;33m\u001b[0m\u001b[0m\n\u001b[0;32m    327\u001b[0m                 \u001b[0mvalidate\u001b[0m\u001b[1;33m=\u001b[0m\u001b[0msub_validate\u001b[0m\u001b[1;33m,\u001b[0m\u001b[1;33m\u001b[0m\u001b[1;33m\u001b[0m\u001b[0m\n\u001b[1;32m--> 328\u001b[1;33m                 \u001b[0mcontext\u001b[0m\u001b[1;33m=\u001b[0m\u001b[0mcontext\u001b[0m\u001b[1;33m,\u001b[0m\u001b[1;33m\u001b[0m\u001b[1;33m\u001b[0m\u001b[0m\n\u001b[0m\u001b[0;32m    329\u001b[0m             )\n\u001b[0;32m    330\u001b[0m         \u001b[1;32melse\u001b[0m\u001b[1;33m:\u001b[0m\u001b[1;33m\u001b[0m\u001b[1;33m\u001b[0m\u001b[0m\n",
      "\u001b[1;32m~\\anaconda3\\envs\\comp\\lib\\site-packages\\altair\\utils\\schemapi.py\u001b[0m in \u001b[0;36m_todict\u001b[1;34m(obj, validate, context)\u001b[0m\n\u001b[0;32m     60\u001b[0m         return {\n\u001b[0;32m     61\u001b[0m             \u001b[0mk\u001b[0m\u001b[1;33m:\u001b[0m \u001b[0m_todict\u001b[0m\u001b[1;33m(\u001b[0m\u001b[0mv\u001b[0m\u001b[1;33m,\u001b[0m \u001b[0mvalidate\u001b[0m\u001b[1;33m,\u001b[0m \u001b[0mcontext\u001b[0m\u001b[1;33m)\u001b[0m\u001b[1;33m\u001b[0m\u001b[1;33m\u001b[0m\u001b[0m\n\u001b[1;32m---> 62\u001b[1;33m             \u001b[1;32mfor\u001b[0m \u001b[0mk\u001b[0m\u001b[1;33m,\u001b[0m \u001b[0mv\u001b[0m \u001b[1;32min\u001b[0m \u001b[0mobj\u001b[0m\u001b[1;33m.\u001b[0m\u001b[0mitems\u001b[0m\u001b[1;33m(\u001b[0m\u001b[1;33m)\u001b[0m\u001b[1;33m\u001b[0m\u001b[1;33m\u001b[0m\u001b[0m\n\u001b[0m\u001b[0;32m     63\u001b[0m             \u001b[1;32mif\u001b[0m \u001b[0mv\u001b[0m \u001b[1;32mis\u001b[0m \u001b[1;32mnot\u001b[0m \u001b[0mUndefined\u001b[0m\u001b[1;33m\u001b[0m\u001b[1;33m\u001b[0m\u001b[0m\n\u001b[0;32m     64\u001b[0m         }\n",
      "\u001b[1;32m~\\anaconda3\\envs\\comp\\lib\\site-packages\\altair\\utils\\schemapi.py\u001b[0m in \u001b[0;36m<dictcomp>\u001b[1;34m(.0)\u001b[0m\n\u001b[0;32m     61\u001b[0m             \u001b[0mk\u001b[0m\u001b[1;33m:\u001b[0m \u001b[0m_todict\u001b[0m\u001b[1;33m(\u001b[0m\u001b[0mv\u001b[0m\u001b[1;33m,\u001b[0m \u001b[0mvalidate\u001b[0m\u001b[1;33m,\u001b[0m \u001b[0mcontext\u001b[0m\u001b[1;33m)\u001b[0m\u001b[1;33m\u001b[0m\u001b[1;33m\u001b[0m\u001b[0m\n\u001b[0;32m     62\u001b[0m             \u001b[1;32mfor\u001b[0m \u001b[0mk\u001b[0m\u001b[1;33m,\u001b[0m \u001b[0mv\u001b[0m \u001b[1;32min\u001b[0m \u001b[0mobj\u001b[0m\u001b[1;33m.\u001b[0m\u001b[0mitems\u001b[0m\u001b[1;33m(\u001b[0m\u001b[1;33m)\u001b[0m\u001b[1;33m\u001b[0m\u001b[1;33m\u001b[0m\u001b[0m\n\u001b[1;32m---> 63\u001b[1;33m             \u001b[1;32mif\u001b[0m \u001b[0mv\u001b[0m \u001b[1;32mis\u001b[0m \u001b[1;32mnot\u001b[0m \u001b[0mUndefined\u001b[0m\u001b[1;33m\u001b[0m\u001b[1;33m\u001b[0m\u001b[0m\n\u001b[0m\u001b[0;32m     64\u001b[0m         }\n\u001b[0;32m     65\u001b[0m     \u001b[1;32melif\u001b[0m \u001b[0mhasattr\u001b[0m\u001b[1;33m(\u001b[0m\u001b[0mobj\u001b[0m\u001b[1;33m,\u001b[0m \u001b[1;34m\"to_dict\"\u001b[0m\u001b[1;33m)\u001b[0m\u001b[1;33m:\u001b[0m\u001b[1;33m\u001b[0m\u001b[1;33m\u001b[0m\u001b[0m\n",
      "\u001b[1;32m~\\anaconda3\\envs\\comp\\lib\\site-packages\\altair\\utils\\schemapi.py\u001b[0m in \u001b[0;36m_todict\u001b[1;34m(obj, validate, context)\u001b[0m\n\u001b[0;32m     54\u001b[0m     \u001b[1;34m\"\"\"Convert an object to a dict representation.\"\"\"\u001b[0m\u001b[1;33m\u001b[0m\u001b[1;33m\u001b[0m\u001b[0m\n\u001b[0;32m     55\u001b[0m     \u001b[1;32mif\u001b[0m \u001b[0misinstance\u001b[0m\u001b[1;33m(\u001b[0m\u001b[0mobj\u001b[0m\u001b[1;33m,\u001b[0m \u001b[0mSchemaBase\u001b[0m\u001b[1;33m)\u001b[0m\u001b[1;33m:\u001b[0m\u001b[1;33m\u001b[0m\u001b[1;33m\u001b[0m\u001b[0m\n\u001b[1;32m---> 56\u001b[1;33m         \u001b[1;32mreturn\u001b[0m \u001b[0mobj\u001b[0m\u001b[1;33m.\u001b[0m\u001b[0mto_dict\u001b[0m\u001b[1;33m(\u001b[0m\u001b[0mvalidate\u001b[0m\u001b[1;33m=\u001b[0m\u001b[0mvalidate\u001b[0m\u001b[1;33m,\u001b[0m \u001b[0mcontext\u001b[0m\u001b[1;33m=\u001b[0m\u001b[0mcontext\u001b[0m\u001b[1;33m)\u001b[0m\u001b[1;33m\u001b[0m\u001b[1;33m\u001b[0m\u001b[0m\n\u001b[0m\u001b[0;32m     57\u001b[0m     \u001b[1;32melif\u001b[0m \u001b[0misinstance\u001b[0m\u001b[1;33m(\u001b[0m\u001b[0mobj\u001b[0m\u001b[1;33m,\u001b[0m \u001b[1;33m(\u001b[0m\u001b[0mlist\u001b[0m\u001b[1;33m,\u001b[0m \u001b[0mtuple\u001b[0m\u001b[1;33m,\u001b[0m \u001b[0mnp\u001b[0m\u001b[1;33m.\u001b[0m\u001b[0mndarray\u001b[0m\u001b[1;33m)\u001b[0m\u001b[1;33m)\u001b[0m\u001b[1;33m:\u001b[0m\u001b[1;33m\u001b[0m\u001b[1;33m\u001b[0m\u001b[0m\n\u001b[0;32m     58\u001b[0m         \u001b[1;32mreturn\u001b[0m \u001b[1;33m[\u001b[0m\u001b[0m_todict\u001b[0m\u001b[1;33m(\u001b[0m\u001b[0mv\u001b[0m\u001b[1;33m,\u001b[0m \u001b[0mvalidate\u001b[0m\u001b[1;33m,\u001b[0m \u001b[0mcontext\u001b[0m\u001b[1;33m)\u001b[0m \u001b[1;32mfor\u001b[0m \u001b[0mv\u001b[0m \u001b[1;32min\u001b[0m \u001b[0mobj\u001b[0m\u001b[1;33m]\u001b[0m\u001b[1;33m\u001b[0m\u001b[1;33m\u001b[0m\u001b[0m\n",
      "\u001b[1;32m~\\anaconda3\\envs\\comp\\lib\\site-packages\\altair\\utils\\schemapi.py\u001b[0m in \u001b[0;36mto_dict\u001b[1;34m(self, validate, ignore, context)\u001b[0m\n\u001b[0;32m    326\u001b[0m                 \u001b[1;33m{\u001b[0m\u001b[0mk\u001b[0m\u001b[1;33m:\u001b[0m \u001b[0mv\u001b[0m \u001b[1;32mfor\u001b[0m \u001b[0mk\u001b[0m\u001b[1;33m,\u001b[0m \u001b[0mv\u001b[0m \u001b[1;32min\u001b[0m \u001b[0mself\u001b[0m\u001b[1;33m.\u001b[0m\u001b[0m_kwds\u001b[0m\u001b[1;33m.\u001b[0m\u001b[0mitems\u001b[0m\u001b[1;33m(\u001b[0m\u001b[1;33m)\u001b[0m \u001b[1;32mif\u001b[0m \u001b[0mk\u001b[0m \u001b[1;32mnot\u001b[0m \u001b[1;32min\u001b[0m \u001b[0mignore\u001b[0m\u001b[1;33m}\u001b[0m\u001b[1;33m,\u001b[0m\u001b[1;33m\u001b[0m\u001b[1;33m\u001b[0m\u001b[0m\n\u001b[0;32m    327\u001b[0m                 \u001b[0mvalidate\u001b[0m\u001b[1;33m=\u001b[0m\u001b[0msub_validate\u001b[0m\u001b[1;33m,\u001b[0m\u001b[1;33m\u001b[0m\u001b[1;33m\u001b[0m\u001b[0m\n\u001b[1;32m--> 328\u001b[1;33m                 \u001b[0mcontext\u001b[0m\u001b[1;33m=\u001b[0m\u001b[0mcontext\u001b[0m\u001b[1;33m,\u001b[0m\u001b[1;33m\u001b[0m\u001b[1;33m\u001b[0m\u001b[0m\n\u001b[0m\u001b[0;32m    329\u001b[0m             )\n\u001b[0;32m    330\u001b[0m         \u001b[1;32melse\u001b[0m\u001b[1;33m:\u001b[0m\u001b[1;33m\u001b[0m\u001b[1;33m\u001b[0m\u001b[0m\n",
      "\u001b[1;32m~\\anaconda3\\envs\\comp\\lib\\site-packages\\altair\\utils\\schemapi.py\u001b[0m in \u001b[0;36m_todict\u001b[1;34m(obj, validate, context)\u001b[0m\n\u001b[0;32m     60\u001b[0m         return {\n\u001b[0;32m     61\u001b[0m             \u001b[0mk\u001b[0m\u001b[1;33m:\u001b[0m \u001b[0m_todict\u001b[0m\u001b[1;33m(\u001b[0m\u001b[0mv\u001b[0m\u001b[1;33m,\u001b[0m \u001b[0mvalidate\u001b[0m\u001b[1;33m,\u001b[0m \u001b[0mcontext\u001b[0m\u001b[1;33m)\u001b[0m\u001b[1;33m\u001b[0m\u001b[1;33m\u001b[0m\u001b[0m\n\u001b[1;32m---> 62\u001b[1;33m             \u001b[1;32mfor\u001b[0m \u001b[0mk\u001b[0m\u001b[1;33m,\u001b[0m \u001b[0mv\u001b[0m \u001b[1;32min\u001b[0m \u001b[0mobj\u001b[0m\u001b[1;33m.\u001b[0m\u001b[0mitems\u001b[0m\u001b[1;33m(\u001b[0m\u001b[1;33m)\u001b[0m\u001b[1;33m\u001b[0m\u001b[1;33m\u001b[0m\u001b[0m\n\u001b[0m\u001b[0;32m     63\u001b[0m             \u001b[1;32mif\u001b[0m \u001b[0mv\u001b[0m \u001b[1;32mis\u001b[0m \u001b[1;32mnot\u001b[0m \u001b[0mUndefined\u001b[0m\u001b[1;33m\u001b[0m\u001b[1;33m\u001b[0m\u001b[0m\n\u001b[0;32m     64\u001b[0m         }\n",
      "\u001b[1;32m~\\anaconda3\\envs\\comp\\lib\\site-packages\\altair\\utils\\schemapi.py\u001b[0m in \u001b[0;36m<dictcomp>\u001b[1;34m(.0)\u001b[0m\n\u001b[0;32m     61\u001b[0m             \u001b[0mk\u001b[0m\u001b[1;33m:\u001b[0m \u001b[0m_todict\u001b[0m\u001b[1;33m(\u001b[0m\u001b[0mv\u001b[0m\u001b[1;33m,\u001b[0m \u001b[0mvalidate\u001b[0m\u001b[1;33m,\u001b[0m \u001b[0mcontext\u001b[0m\u001b[1;33m)\u001b[0m\u001b[1;33m\u001b[0m\u001b[1;33m\u001b[0m\u001b[0m\n\u001b[0;32m     62\u001b[0m             \u001b[1;32mfor\u001b[0m \u001b[0mk\u001b[0m\u001b[1;33m,\u001b[0m \u001b[0mv\u001b[0m \u001b[1;32min\u001b[0m \u001b[0mobj\u001b[0m\u001b[1;33m.\u001b[0m\u001b[0mitems\u001b[0m\u001b[1;33m(\u001b[0m\u001b[1;33m)\u001b[0m\u001b[1;33m\u001b[0m\u001b[1;33m\u001b[0m\u001b[0m\n\u001b[1;32m---> 63\u001b[1;33m             \u001b[1;32mif\u001b[0m \u001b[0mv\u001b[0m \u001b[1;32mis\u001b[0m \u001b[1;32mnot\u001b[0m \u001b[0mUndefined\u001b[0m\u001b[1;33m\u001b[0m\u001b[1;33m\u001b[0m\u001b[0m\n\u001b[0m\u001b[0;32m     64\u001b[0m         }\n\u001b[0;32m     65\u001b[0m     \u001b[1;32melif\u001b[0m \u001b[0mhasattr\u001b[0m\u001b[1;33m(\u001b[0m\u001b[0mobj\u001b[0m\u001b[1;33m,\u001b[0m \u001b[1;34m\"to_dict\"\u001b[0m\u001b[1;33m)\u001b[0m\u001b[1;33m:\u001b[0m\u001b[1;33m\u001b[0m\u001b[1;33m\u001b[0m\u001b[0m\n",
      "\u001b[1;32m~\\anaconda3\\envs\\comp\\lib\\site-packages\\altair\\utils\\schemapi.py\u001b[0m in \u001b[0;36m_todict\u001b[1;34m(obj, validate, context)\u001b[0m\n\u001b[0;32m     56\u001b[0m         \u001b[1;32mreturn\u001b[0m \u001b[0mobj\u001b[0m\u001b[1;33m.\u001b[0m\u001b[0mto_dict\u001b[0m\u001b[1;33m(\u001b[0m\u001b[0mvalidate\u001b[0m\u001b[1;33m=\u001b[0m\u001b[0mvalidate\u001b[0m\u001b[1;33m,\u001b[0m \u001b[0mcontext\u001b[0m\u001b[1;33m=\u001b[0m\u001b[0mcontext\u001b[0m\u001b[1;33m)\u001b[0m\u001b[1;33m\u001b[0m\u001b[1;33m\u001b[0m\u001b[0m\n\u001b[0;32m     57\u001b[0m     \u001b[1;32melif\u001b[0m \u001b[0misinstance\u001b[0m\u001b[1;33m(\u001b[0m\u001b[0mobj\u001b[0m\u001b[1;33m,\u001b[0m \u001b[1;33m(\u001b[0m\u001b[0mlist\u001b[0m\u001b[1;33m,\u001b[0m \u001b[0mtuple\u001b[0m\u001b[1;33m,\u001b[0m \u001b[0mnp\u001b[0m\u001b[1;33m.\u001b[0m\u001b[0mndarray\u001b[0m\u001b[1;33m)\u001b[0m\u001b[1;33m)\u001b[0m\u001b[1;33m:\u001b[0m\u001b[1;33m\u001b[0m\u001b[1;33m\u001b[0m\u001b[0m\n\u001b[1;32m---> 58\u001b[1;33m         \u001b[1;32mreturn\u001b[0m \u001b[1;33m[\u001b[0m\u001b[0m_todict\u001b[0m\u001b[1;33m(\u001b[0m\u001b[0mv\u001b[0m\u001b[1;33m,\u001b[0m \u001b[0mvalidate\u001b[0m\u001b[1;33m,\u001b[0m \u001b[0mcontext\u001b[0m\u001b[1;33m)\u001b[0m \u001b[1;32mfor\u001b[0m \u001b[0mv\u001b[0m \u001b[1;32min\u001b[0m \u001b[0mobj\u001b[0m\u001b[1;33m]\u001b[0m\u001b[1;33m\u001b[0m\u001b[1;33m\u001b[0m\u001b[0m\n\u001b[0m\u001b[0;32m     59\u001b[0m     \u001b[1;32melif\u001b[0m \u001b[0misinstance\u001b[0m\u001b[1;33m(\u001b[0m\u001b[0mobj\u001b[0m\u001b[1;33m,\u001b[0m \u001b[0mdict\u001b[0m\u001b[1;33m)\u001b[0m\u001b[1;33m:\u001b[0m\u001b[1;33m\u001b[0m\u001b[1;33m\u001b[0m\u001b[0m\n\u001b[0;32m     60\u001b[0m         return {\n",
      "\u001b[1;32m~\\anaconda3\\envs\\comp\\lib\\site-packages\\altair\\utils\\schemapi.py\u001b[0m in \u001b[0;36m<listcomp>\u001b[1;34m(.0)\u001b[0m\n\u001b[0;32m     56\u001b[0m         \u001b[1;32mreturn\u001b[0m \u001b[0mobj\u001b[0m\u001b[1;33m.\u001b[0m\u001b[0mto_dict\u001b[0m\u001b[1;33m(\u001b[0m\u001b[0mvalidate\u001b[0m\u001b[1;33m=\u001b[0m\u001b[0mvalidate\u001b[0m\u001b[1;33m,\u001b[0m \u001b[0mcontext\u001b[0m\u001b[1;33m=\u001b[0m\u001b[0mcontext\u001b[0m\u001b[1;33m)\u001b[0m\u001b[1;33m\u001b[0m\u001b[1;33m\u001b[0m\u001b[0m\n\u001b[0;32m     57\u001b[0m     \u001b[1;32melif\u001b[0m \u001b[0misinstance\u001b[0m\u001b[1;33m(\u001b[0m\u001b[0mobj\u001b[0m\u001b[1;33m,\u001b[0m \u001b[1;33m(\u001b[0m\u001b[0mlist\u001b[0m\u001b[1;33m,\u001b[0m \u001b[0mtuple\u001b[0m\u001b[1;33m,\u001b[0m \u001b[0mnp\u001b[0m\u001b[1;33m.\u001b[0m\u001b[0mndarray\u001b[0m\u001b[1;33m)\u001b[0m\u001b[1;33m)\u001b[0m\u001b[1;33m:\u001b[0m\u001b[1;33m\u001b[0m\u001b[1;33m\u001b[0m\u001b[0m\n\u001b[1;32m---> 58\u001b[1;33m         \u001b[1;32mreturn\u001b[0m \u001b[1;33m[\u001b[0m\u001b[0m_todict\u001b[0m\u001b[1;33m(\u001b[0m\u001b[0mv\u001b[0m\u001b[1;33m,\u001b[0m \u001b[0mvalidate\u001b[0m\u001b[1;33m,\u001b[0m \u001b[0mcontext\u001b[0m\u001b[1;33m)\u001b[0m \u001b[1;32mfor\u001b[0m \u001b[0mv\u001b[0m \u001b[1;32min\u001b[0m \u001b[0mobj\u001b[0m\u001b[1;33m]\u001b[0m\u001b[1;33m\u001b[0m\u001b[1;33m\u001b[0m\u001b[0m\n\u001b[0m\u001b[0;32m     59\u001b[0m     \u001b[1;32melif\u001b[0m \u001b[0misinstance\u001b[0m\u001b[1;33m(\u001b[0m\u001b[0mobj\u001b[0m\u001b[1;33m,\u001b[0m \u001b[0mdict\u001b[0m\u001b[1;33m)\u001b[0m\u001b[1;33m:\u001b[0m\u001b[1;33m\u001b[0m\u001b[1;33m\u001b[0m\u001b[0m\n\u001b[0;32m     60\u001b[0m         return {\n",
      "\u001b[1;32m~\\anaconda3\\envs\\comp\\lib\\site-packages\\altair\\utils\\schemapi.py\u001b[0m in \u001b[0;36m_todict\u001b[1;34m(obj, validate, context)\u001b[0m\n\u001b[0;32m     54\u001b[0m     \u001b[1;34m\"\"\"Convert an object to a dict representation.\"\"\"\u001b[0m\u001b[1;33m\u001b[0m\u001b[1;33m\u001b[0m\u001b[0m\n\u001b[0;32m     55\u001b[0m     \u001b[1;32mif\u001b[0m \u001b[0misinstance\u001b[0m\u001b[1;33m(\u001b[0m\u001b[0mobj\u001b[0m\u001b[1;33m,\u001b[0m \u001b[0mSchemaBase\u001b[0m\u001b[1;33m)\u001b[0m\u001b[1;33m:\u001b[0m\u001b[1;33m\u001b[0m\u001b[1;33m\u001b[0m\u001b[0m\n\u001b[1;32m---> 56\u001b[1;33m         \u001b[1;32mreturn\u001b[0m \u001b[0mobj\u001b[0m\u001b[1;33m.\u001b[0m\u001b[0mto_dict\u001b[0m\u001b[1;33m(\u001b[0m\u001b[0mvalidate\u001b[0m\u001b[1;33m=\u001b[0m\u001b[0mvalidate\u001b[0m\u001b[1;33m,\u001b[0m \u001b[0mcontext\u001b[0m\u001b[1;33m=\u001b[0m\u001b[0mcontext\u001b[0m\u001b[1;33m)\u001b[0m\u001b[1;33m\u001b[0m\u001b[1;33m\u001b[0m\u001b[0m\n\u001b[0m\u001b[0;32m     57\u001b[0m     \u001b[1;32melif\u001b[0m \u001b[0misinstance\u001b[0m\u001b[1;33m(\u001b[0m\u001b[0mobj\u001b[0m\u001b[1;33m,\u001b[0m \u001b[1;33m(\u001b[0m\u001b[0mlist\u001b[0m\u001b[1;33m,\u001b[0m \u001b[0mtuple\u001b[0m\u001b[1;33m,\u001b[0m \u001b[0mnp\u001b[0m\u001b[1;33m.\u001b[0m\u001b[0mndarray\u001b[0m\u001b[1;33m)\u001b[0m\u001b[1;33m)\u001b[0m\u001b[1;33m:\u001b[0m\u001b[1;33m\u001b[0m\u001b[1;33m\u001b[0m\u001b[0m\n\u001b[0;32m     58\u001b[0m         \u001b[1;32mreturn\u001b[0m \u001b[1;33m[\u001b[0m\u001b[0m_todict\u001b[0m\u001b[1;33m(\u001b[0m\u001b[0mv\u001b[0m\u001b[1;33m,\u001b[0m \u001b[0mvalidate\u001b[0m\u001b[1;33m,\u001b[0m \u001b[0mcontext\u001b[0m\u001b[1;33m)\u001b[0m \u001b[1;32mfor\u001b[0m \u001b[0mv\u001b[0m \u001b[1;32min\u001b[0m \u001b[0mobj\u001b[0m\u001b[1;33m]\u001b[0m\u001b[1;33m\u001b[0m\u001b[1;33m\u001b[0m\u001b[0m\n",
      "\u001b[1;32m~\\anaconda3\\envs\\comp\\lib\\site-packages\\altair\\vegalite\\v4\\schema\\channels.py\u001b[0m in \u001b[0;36mto_dict\u001b[1;34m(self, validate, ignore, context)\u001b[0m\n\u001b[0;32m     40\u001b[0m                     raise ValueError(\"{} encoding field is specified without a type; \"\n\u001b[0;32m     41\u001b[0m                                      \u001b[1;34m\"the type cannot be inferred because it does not \"\u001b[0m\u001b[1;33m\u001b[0m\u001b[1;33m\u001b[0m\u001b[0m\n\u001b[1;32m---> 42\u001b[1;33m                                      \"match any column in the data.\".format(shorthand))\n\u001b[0m\u001b[0;32m     43\u001b[0m                 \u001b[1;32melse\u001b[0m\u001b[1;33m:\u001b[0m\u001b[1;33m\u001b[0m\u001b[1;33m\u001b[0m\u001b[0m\n\u001b[0;32m     44\u001b[0m                     raise ValueError(\"{} encoding field is specified without a type; \"\n",
      "\u001b[1;31mValueError\u001b[0m: OPERADORA encoding field is specified without a type; the type cannot be inferred because it does not match any column in the data."
     ]
    },
    {
     "data": {
      "text/plain": [
       "alt.Chart(...)"
      ]
     },
     "execution_count": 33,
     "metadata": {},
     "output_type": "execute_result"
    }
   ],
   "source": [
    "operadora_groupby = df[['OPERADORA', 'J1']].groupby(['OPERADORA'], as_index=False).mean()\n",
    "\n",
    "alt.Chart(h1_groupby).mark_bar().encode(\n",
    "    x = alt.X('OPERADORA', title='Operadora'),\n",
    "    y = alt.Y('J1', title='Média J1'),\n",
    "    tooltip = ['J1', 'OPERADORA']\n",
    ").properties(\n",
    "    title = 'Média de J1 por operadora'\n",
    ").interactive()"
   ]
  },
  {
   "cell_type": "code",
   "execution_count": 34,
   "metadata": {
    "ExecuteTime": {
     "end_time": "2021-06-26T14:45:10.681271Z",
     "start_time": "2021-06-26T14:45:10.651773Z"
    },
    "hidden": true
   },
   "outputs": [
    {
     "data": {
      "text/html": [
       "<div>\n",
       "<style scoped>\n",
       "    .dataframe tbody tr th:only-of-type {\n",
       "        vertical-align: middle;\n",
       "    }\n",
       "\n",
       "    .dataframe tbody tr th {\n",
       "        vertical-align: top;\n",
       "    }\n",
       "\n",
       "    .dataframe thead th {\n",
       "        text-align: right;\n",
       "    }\n",
       "</style>\n",
       "<table border=\"1\" class=\"dataframe\">\n",
       "  <thead>\n",
       "    <tr style=\"text-align: right;\">\n",
       "      <th></th>\n",
       "      <th>CLARO</th>\n",
       "      <th>NEXTEL</th>\n",
       "      <th>OI</th>\n",
       "      <th>SERCOMTEL</th>\n",
       "      <th>TIM</th>\n",
       "      <th>VIVO</th>\n",
       "    </tr>\n",
       "  </thead>\n",
       "  <tbody>\n",
       "    <tr>\n",
       "      <th>0</th>\n",
       "      <td>1</td>\n",
       "      <td>0</td>\n",
       "      <td>0</td>\n",
       "      <td>0</td>\n",
       "      <td>0</td>\n",
       "      <td>0</td>\n",
       "    </tr>\n",
       "    <tr>\n",
       "      <th>1</th>\n",
       "      <td>0</td>\n",
       "      <td>0</td>\n",
       "      <td>1</td>\n",
       "      <td>0</td>\n",
       "      <td>0</td>\n",
       "      <td>0</td>\n",
       "    </tr>\n",
       "    <tr>\n",
       "      <th>2</th>\n",
       "      <td>0</td>\n",
       "      <td>0</td>\n",
       "      <td>0</td>\n",
       "      <td>0</td>\n",
       "      <td>1</td>\n",
       "      <td>0</td>\n",
       "    </tr>\n",
       "    <tr>\n",
       "      <th>3</th>\n",
       "      <td>0</td>\n",
       "      <td>0</td>\n",
       "      <td>0</td>\n",
       "      <td>0</td>\n",
       "      <td>0</td>\n",
       "      <td>1</td>\n",
       "    </tr>\n",
       "    <tr>\n",
       "      <th>4</th>\n",
       "      <td>0</td>\n",
       "      <td>0</td>\n",
       "      <td>0</td>\n",
       "      <td>0</td>\n",
       "      <td>0</td>\n",
       "      <td>1</td>\n",
       "    </tr>\n",
       "    <tr>\n",
       "      <th>...</th>\n",
       "      <td>...</td>\n",
       "      <td>...</td>\n",
       "      <td>...</td>\n",
       "      <td>...</td>\n",
       "      <td>...</td>\n",
       "      <td>...</td>\n",
       "    </tr>\n",
       "    <tr>\n",
       "      <th>166694</th>\n",
       "      <td>0</td>\n",
       "      <td>0</td>\n",
       "      <td>0</td>\n",
       "      <td>1</td>\n",
       "      <td>0</td>\n",
       "      <td>0</td>\n",
       "    </tr>\n",
       "    <tr>\n",
       "      <th>166695</th>\n",
       "      <td>0</td>\n",
       "      <td>0</td>\n",
       "      <td>0</td>\n",
       "      <td>1</td>\n",
       "      <td>0</td>\n",
       "      <td>0</td>\n",
       "    </tr>\n",
       "    <tr>\n",
       "      <th>166696</th>\n",
       "      <td>0</td>\n",
       "      <td>0</td>\n",
       "      <td>0</td>\n",
       "      <td>1</td>\n",
       "      <td>0</td>\n",
       "      <td>0</td>\n",
       "    </tr>\n",
       "    <tr>\n",
       "      <th>166697</th>\n",
       "      <td>0</td>\n",
       "      <td>0</td>\n",
       "      <td>0</td>\n",
       "      <td>1</td>\n",
       "      <td>0</td>\n",
       "      <td>0</td>\n",
       "    </tr>\n",
       "    <tr>\n",
       "      <th>166698</th>\n",
       "      <td>0</td>\n",
       "      <td>0</td>\n",
       "      <td>0</td>\n",
       "      <td>1</td>\n",
       "      <td>0</td>\n",
       "      <td>0</td>\n",
       "    </tr>\n",
       "  </tbody>\n",
       "</table>\n",
       "<p>166441 rows × 6 columns</p>\n",
       "</div>"
      ],
      "text/plain": [
       "        CLARO  NEXTEL  OI  SERCOMTEL  TIM  VIVO\n",
       "0           1       0   0          0    0     0\n",
       "1           0       0   1          0    0     0\n",
       "2           0       0   0          0    1     0\n",
       "3           0       0   0          0    0     1\n",
       "4           0       0   0          0    0     1\n",
       "...       ...     ...  ..        ...  ...   ...\n",
       "166694      0       0   0          1    0     0\n",
       "166695      0       0   0          1    0     0\n",
       "166696      0       0   0          1    0     0\n",
       "166697      0       0   0          1    0     0\n",
       "166698      0       0   0          1    0     0\n",
       "\n",
       "[166441 rows x 6 columns]"
      ]
     },
     "execution_count": 34,
     "metadata": {},
     "output_type": "execute_result"
    }
   ],
   "source": [
    "operadora = pd.get_dummies(df['OPERADORA'], drop_first=True)\n",
    "operadora"
   ]
  },
  {
   "cell_type": "code",
   "execution_count": 35,
   "metadata": {
    "ExecuteTime": {
     "end_time": "2021-06-26T14:45:10.805271Z",
     "start_time": "2021-06-26T14:45:10.682772Z"
    },
    "hidden": true
   },
   "outputs": [
    {
     "data": {
      "text/html": [
       "<div>\n",
       "<style scoped>\n",
       "    .dataframe tbody tr th:only-of-type {\n",
       "        vertical-align: middle;\n",
       "    }\n",
       "\n",
       "    .dataframe tbody tr th {\n",
       "        vertical-align: top;\n",
       "    }\n",
       "\n",
       "    .dataframe thead th {\n",
       "        text-align: right;\n",
       "    }\n",
       "</style>\n",
       "<table border=\"1\" class=\"dataframe\">\n",
       "  <thead>\n",
       "    <tr style=\"text-align: right;\">\n",
       "      <th></th>\n",
       "      <th>IDTNS</th>\n",
       "      <th>TIPO</th>\n",
       "      <th>OPERADORA</th>\n",
       "      <th>ESTADO</th>\n",
       "      <th>DATA</th>\n",
       "      <th>ANO_BASE</th>\n",
       "      <th>Q1</th>\n",
       "      <th>Q2</th>\n",
       "      <th>Q2_1</th>\n",
       "      <th>Q2_2</th>\n",
       "      <th>...</th>\n",
       "      <th>PESO</th>\n",
       "      <th>genero</th>\n",
       "      <th>renda</th>\n",
       "      <th>contribuintes_renda</th>\n",
       "      <th>CLARO</th>\n",
       "      <th>NEXTEL</th>\n",
       "      <th>OI</th>\n",
       "      <th>SERCOMTEL</th>\n",
       "      <th>TIM</th>\n",
       "      <th>VIVO</th>\n",
       "    </tr>\n",
       "  </thead>\n",
       "  <tbody>\n",
       "    <tr>\n",
       "      <th>0</th>\n",
       "      <td>6159652</td>\n",
       "      <td>PRE</td>\n",
       "      <td>CLARO</td>\n",
       "      <td>RS</td>\n",
       "      <td>15/Jul/20</td>\n",
       "      <td>2020</td>\n",
       "      <td>1</td>\n",
       "      <td>NaN</td>\n",
       "      <td>2.0</td>\n",
       "      <td>2.0</td>\n",
       "      <td>...</td>\n",
       "      <td>1.880793</td>\n",
       "      <td>1</td>\n",
       "      <td>1.000000</td>\n",
       "      <td>3</td>\n",
       "      <td>1</td>\n",
       "      <td>0</td>\n",
       "      <td>0</td>\n",
       "      <td>0</td>\n",
       "      <td>0</td>\n",
       "      <td>0</td>\n",
       "    </tr>\n",
       "    <tr>\n",
       "      <th>1</th>\n",
       "      <td>6377853</td>\n",
       "      <td>PRE</td>\n",
       "      <td>OI</td>\n",
       "      <td>SP</td>\n",
       "      <td>15/Jul/20</td>\n",
       "      <td>2020</td>\n",
       "      <td>1</td>\n",
       "      <td>NaN</td>\n",
       "      <td>2.0</td>\n",
       "      <td>2.0</td>\n",
       "      <td>...</td>\n",
       "      <td>2.637631</td>\n",
       "      <td>1</td>\n",
       "      <td>1.000000</td>\n",
       "      <td>1</td>\n",
       "      <td>0</td>\n",
       "      <td>0</td>\n",
       "      <td>1</td>\n",
       "      <td>0</td>\n",
       "      <td>0</td>\n",
       "      <td>0</td>\n",
       "    </tr>\n",
       "    <tr>\n",
       "      <th>2</th>\n",
       "      <td>6454535</td>\n",
       "      <td>PRE</td>\n",
       "      <td>TIM</td>\n",
       "      <td>MG</td>\n",
       "      <td>15/Jul/20</td>\n",
       "      <td>2020</td>\n",
       "      <td>1</td>\n",
       "      <td>NaN</td>\n",
       "      <td>2.0</td>\n",
       "      <td>2.0</td>\n",
       "      <td>...</td>\n",
       "      <td>2.615088</td>\n",
       "      <td>1</td>\n",
       "      <td>1.988197</td>\n",
       "      <td>2</td>\n",
       "      <td>0</td>\n",
       "      <td>0</td>\n",
       "      <td>0</td>\n",
       "      <td>0</td>\n",
       "      <td>1</td>\n",
       "      <td>0</td>\n",
       "    </tr>\n",
       "    <tr>\n",
       "      <th>3</th>\n",
       "      <td>6570392</td>\n",
       "      <td>PRE</td>\n",
       "      <td>VIVO</td>\n",
       "      <td>AC</td>\n",
       "      <td>15/Jul/20</td>\n",
       "      <td>2020</td>\n",
       "      <td>1</td>\n",
       "      <td>NaN</td>\n",
       "      <td>2.0</td>\n",
       "      <td>2.0</td>\n",
       "      <td>...</td>\n",
       "      <td>0.135088</td>\n",
       "      <td>1</td>\n",
       "      <td>1.000000</td>\n",
       "      <td>1</td>\n",
       "      <td>0</td>\n",
       "      <td>0</td>\n",
       "      <td>0</td>\n",
       "      <td>0</td>\n",
       "      <td>0</td>\n",
       "      <td>1</td>\n",
       "    </tr>\n",
       "    <tr>\n",
       "      <th>4</th>\n",
       "      <td>6641272</td>\n",
       "      <td>PRE</td>\n",
       "      <td>VIVO</td>\n",
       "      <td>MG</td>\n",
       "      <td>15/Jul/20</td>\n",
       "      <td>2020</td>\n",
       "      <td>1</td>\n",
       "      <td>NaN</td>\n",
       "      <td>2.0</td>\n",
       "      <td>2.0</td>\n",
       "      <td>...</td>\n",
       "      <td>2.133139</td>\n",
       "      <td>0</td>\n",
       "      <td>1.000000</td>\n",
       "      <td>2</td>\n",
       "      <td>0</td>\n",
       "      <td>0</td>\n",
       "      <td>0</td>\n",
       "      <td>0</td>\n",
       "      <td>0</td>\n",
       "      <td>1</td>\n",
       "    </tr>\n",
       "    <tr>\n",
       "      <th>...</th>\n",
       "      <td>...</td>\n",
       "      <td>...</td>\n",
       "      <td>...</td>\n",
       "      <td>...</td>\n",
       "      <td>...</td>\n",
       "      <td>...</td>\n",
       "      <td>...</td>\n",
       "      <td>...</td>\n",
       "      <td>...</td>\n",
       "      <td>...</td>\n",
       "      <td>...</td>\n",
       "      <td>...</td>\n",
       "      <td>...</td>\n",
       "      <td>...</td>\n",
       "      <td>...</td>\n",
       "      <td>...</td>\n",
       "      <td>...</td>\n",
       "      <td>...</td>\n",
       "      <td>...</td>\n",
       "      <td>...</td>\n",
       "      <td>...</td>\n",
       "    </tr>\n",
       "    <tr>\n",
       "      <th>166694</th>\n",
       "      <td>40897361</td>\n",
       "      <td>PRE</td>\n",
       "      <td>SERCOMTEL</td>\n",
       "      <td>PR</td>\n",
       "      <td>15/Dec/15</td>\n",
       "      <td>2015</td>\n",
       "      <td>1</td>\n",
       "      <td>7.0</td>\n",
       "      <td>NaN</td>\n",
       "      <td>NaN</td>\n",
       "      <td>...</td>\n",
       "      <td>0.026012</td>\n",
       "      <td>0</td>\n",
       "      <td>2.175855</td>\n",
       "      <td>1</td>\n",
       "      <td>0</td>\n",
       "      <td>0</td>\n",
       "      <td>0</td>\n",
       "      <td>1</td>\n",
       "      <td>0</td>\n",
       "      <td>0</td>\n",
       "    </tr>\n",
       "    <tr>\n",
       "      <th>166695</th>\n",
       "      <td>40897479</td>\n",
       "      <td>PRE</td>\n",
       "      <td>SERCOMTEL</td>\n",
       "      <td>PR</td>\n",
       "      <td>15/Dec/15</td>\n",
       "      <td>2015</td>\n",
       "      <td>1</td>\n",
       "      <td>7.0</td>\n",
       "      <td>NaN</td>\n",
       "      <td>NaN</td>\n",
       "      <td>...</td>\n",
       "      <td>0.026012</td>\n",
       "      <td>0</td>\n",
       "      <td>3.500000</td>\n",
       "      <td>4</td>\n",
       "      <td>0</td>\n",
       "      <td>0</td>\n",
       "      <td>0</td>\n",
       "      <td>1</td>\n",
       "      <td>0</td>\n",
       "      <td>0</td>\n",
       "    </tr>\n",
       "    <tr>\n",
       "      <th>166696</th>\n",
       "      <td>40897581</td>\n",
       "      <td>PRE</td>\n",
       "      <td>SERCOMTEL</td>\n",
       "      <td>PR</td>\n",
       "      <td>15/Dec/15</td>\n",
       "      <td>2015</td>\n",
       "      <td>1</td>\n",
       "      <td>7.0</td>\n",
       "      <td>NaN</td>\n",
       "      <td>NaN</td>\n",
       "      <td>...</td>\n",
       "      <td>0.026012</td>\n",
       "      <td>1</td>\n",
       "      <td>1.500000</td>\n",
       "      <td>3</td>\n",
       "      <td>0</td>\n",
       "      <td>0</td>\n",
       "      <td>0</td>\n",
       "      <td>1</td>\n",
       "      <td>0</td>\n",
       "      <td>0</td>\n",
       "    </tr>\n",
       "    <tr>\n",
       "      <th>166697</th>\n",
       "      <td>40898480</td>\n",
       "      <td>PRE</td>\n",
       "      <td>SERCOMTEL</td>\n",
       "      <td>PR</td>\n",
       "      <td>15/Dec/15</td>\n",
       "      <td>2015</td>\n",
       "      <td>1</td>\n",
       "      <td>7.0</td>\n",
       "      <td>NaN</td>\n",
       "      <td>NaN</td>\n",
       "      <td>...</td>\n",
       "      <td>0.026012</td>\n",
       "      <td>0</td>\n",
       "      <td>2.175855</td>\n",
       "      <td>1</td>\n",
       "      <td>0</td>\n",
       "      <td>0</td>\n",
       "      <td>0</td>\n",
       "      <td>1</td>\n",
       "      <td>0</td>\n",
       "      <td>0</td>\n",
       "    </tr>\n",
       "    <tr>\n",
       "      <th>166698</th>\n",
       "      <td>40899031</td>\n",
       "      <td>PRE</td>\n",
       "      <td>SERCOMTEL</td>\n",
       "      <td>PR</td>\n",
       "      <td>15/Dec/15</td>\n",
       "      <td>2015</td>\n",
       "      <td>1</td>\n",
       "      <td>7.0</td>\n",
       "      <td>NaN</td>\n",
       "      <td>NaN</td>\n",
       "      <td>...</td>\n",
       "      <td>0.026012</td>\n",
       "      <td>0</td>\n",
       "      <td>0.500000</td>\n",
       "      <td>2</td>\n",
       "      <td>0</td>\n",
       "      <td>0</td>\n",
       "      <td>0</td>\n",
       "      <td>1</td>\n",
       "      <td>0</td>\n",
       "      <td>0</td>\n",
       "    </tr>\n",
       "  </tbody>\n",
       "</table>\n",
       "<p>166441 rows × 65 columns</p>\n",
       "</div>"
      ],
      "text/plain": [
       "           IDTNS TIPO  OPERADORA ESTADO       DATA  ANO_BASE  Q1   Q2  Q2_1  \\\n",
       "0        6159652  PRE      CLARO     RS  15/Jul/20      2020   1  NaN   2.0   \n",
       "1        6377853  PRE         OI     SP  15/Jul/20      2020   1  NaN   2.0   \n",
       "2        6454535  PRE        TIM     MG  15/Jul/20      2020   1  NaN   2.0   \n",
       "3        6570392  PRE       VIVO     AC  15/Jul/20      2020   1  NaN   2.0   \n",
       "4        6641272  PRE       VIVO     MG  15/Jul/20      2020   1  NaN   2.0   \n",
       "...          ...  ...        ...    ...        ...       ...  ..  ...   ...   \n",
       "166694  40897361  PRE  SERCOMTEL     PR  15/Dec/15      2015   1  7.0   NaN   \n",
       "166695  40897479  PRE  SERCOMTEL     PR  15/Dec/15      2015   1  7.0   NaN   \n",
       "166696  40897581  PRE  SERCOMTEL     PR  15/Dec/15      2015   1  7.0   NaN   \n",
       "166697  40898480  PRE  SERCOMTEL     PR  15/Dec/15      2015   1  7.0   NaN   \n",
       "166698  40899031  PRE  SERCOMTEL     PR  15/Dec/15      2015   1  7.0   NaN   \n",
       "\n",
       "        Q2_2  ...      PESO  genero     renda  contribuintes_renda  CLARO  \\\n",
       "0        2.0  ...  1.880793       1  1.000000                    3      1   \n",
       "1        2.0  ...  2.637631       1  1.000000                    1      0   \n",
       "2        2.0  ...  2.615088       1  1.988197                    2      0   \n",
       "3        2.0  ...  0.135088       1  1.000000                    1      0   \n",
       "4        2.0  ...  2.133139       0  1.000000                    2      0   \n",
       "...      ...  ...       ...     ...       ...                  ...    ...   \n",
       "166694   NaN  ...  0.026012       0  2.175855                    1      0   \n",
       "166695   NaN  ...  0.026012       0  3.500000                    4      0   \n",
       "166696   NaN  ...  0.026012       1  1.500000                    3      0   \n",
       "166697   NaN  ...  0.026012       0  2.175855                    1      0   \n",
       "166698   NaN  ...  0.026012       0  0.500000                    2      0   \n",
       "\n",
       "        NEXTEL OI SERCOMTEL  TIM  VIVO  \n",
       "0            0  0         0    0     0  \n",
       "1            0  1         0    0     0  \n",
       "2            0  0         0    1     0  \n",
       "3            0  0         0    0     1  \n",
       "4            0  0         0    0     1  \n",
       "...        ... ..       ...  ...   ...  \n",
       "166694       0  0         1    0     0  \n",
       "166695       0  0         1    0     0  \n",
       "166696       0  0         1    0     0  \n",
       "166697       0  0         1    0     0  \n",
       "166698       0  0         1    0     0  \n",
       "\n",
       "[166441 rows x 65 columns]"
      ]
     },
     "execution_count": 35,
     "metadata": {},
     "output_type": "execute_result"
    }
   ],
   "source": [
    "df = pd.concat([df, operadora], axis = 1)\n",
    "df"
   ]
  },
  {
   "cell_type": "markdown",
   "metadata": {
    "heading_collapsed": true
   },
   "source": [
    "# Remover informações desnecessárias"
   ]
  },
  {
   "cell_type": "markdown",
   "metadata": {
    "hidden": true
   },
   "source": [
    "Removemos as informações de identificação, localizadas nas colunas Q1-Q9 (coluna Q9 recriada como coluna dummy gênero), OPERADORA, ESTADO, H0 e COD_IBGE.\n",
    "\n",
    "Também removemos a coluna TIPO, já que é a mesma para todos os usuários entrevistados, e as colunas de informação da pesquisa: IDTNS, DATA, ANO_BASE, I1, I2 e PESO.\n",
    "\n",
    "Por fim, removemos as colunas H1, H2 e H2a, já que foram recriadas nas colunas de renda."
   ]
  },
  {
   "cell_type": "code",
   "execution_count": 36,
   "metadata": {
    "ExecuteTime": {
     "end_time": "2021-06-26T14:45:10.882772Z",
     "start_time": "2021-06-26T14:45:10.806773Z"
    },
    "hidden": true
   },
   "outputs": [],
   "source": [
    "df = df.drop(columns = ['Q1', 'Q2', 'Q2_1', 'Q2_2', 'Q3', 'Q4', 'Q5', 'Q6', 'Q7', 'Q8', 'Q8a', 'Q9', \n",
    "                        'OPERADORA', 'ESTADO', 'H0', 'COD_IBGE', \n",
    "                        'TIPO', 'IDTNS', 'DATA', 'ANO_BASE', 'I1', 'I2', 'PESO', 'G1',\n",
    "                        'H1', 'H2', 'H2a', 'H3'])"
   ]
  },
  {
   "cell_type": "code",
   "execution_count": 37,
   "metadata": {
    "ExecuteTime": {
     "end_time": "2021-06-26T14:45:10.944770Z",
     "start_time": "2021-06-26T14:45:10.884772Z"
    },
    "hidden": true
   },
   "outputs": [
    {
     "data": {
      "text/html": [
       "<div>\n",
       "<style scoped>\n",
       "    .dataframe tbody tr th:only-of-type {\n",
       "        vertical-align: middle;\n",
       "    }\n",
       "\n",
       "    .dataframe tbody tr th {\n",
       "        vertical-align: top;\n",
       "    }\n",
       "\n",
       "    .dataframe thead th {\n",
       "        text-align: right;\n",
       "    }\n",
       "</style>\n",
       "<table border=\"1\" class=\"dataframe\">\n",
       "  <thead>\n",
       "    <tr style=\"text-align: right;\">\n",
       "      <th></th>\n",
       "      <th>J1</th>\n",
       "      <th>B1_1</th>\n",
       "      <th>B1_2</th>\n",
       "      <th>C1_1</th>\n",
       "      <th>C1_2</th>\n",
       "      <th>D1</th>\n",
       "      <th>D2_1</th>\n",
       "      <th>D2_2</th>\n",
       "      <th>D2_3</th>\n",
       "      <th>E1_1</th>\n",
       "      <th>...</th>\n",
       "      <th>F6</th>\n",
       "      <th>genero</th>\n",
       "      <th>renda</th>\n",
       "      <th>contribuintes_renda</th>\n",
       "      <th>CLARO</th>\n",
       "      <th>NEXTEL</th>\n",
       "      <th>OI</th>\n",
       "      <th>SERCOMTEL</th>\n",
       "      <th>TIM</th>\n",
       "      <th>VIVO</th>\n",
       "    </tr>\n",
       "  </thead>\n",
       "  <tbody>\n",
       "    <tr>\n",
       "      <th>0</th>\n",
       "      <td>4</td>\n",
       "      <td>7</td>\n",
       "      <td>7</td>\n",
       "      <td>10</td>\n",
       "      <td>10</td>\n",
       "      <td>1</td>\n",
       "      <td>4.0</td>\n",
       "      <td>6.0</td>\n",
       "      <td>5.0</td>\n",
       "      <td>8</td>\n",
       "      <td>...</td>\n",
       "      <td>NaN</td>\n",
       "      <td>1</td>\n",
       "      <td>1.000000</td>\n",
       "      <td>3</td>\n",
       "      <td>1</td>\n",
       "      <td>0</td>\n",
       "      <td>0</td>\n",
       "      <td>0</td>\n",
       "      <td>0</td>\n",
       "      <td>0</td>\n",
       "    </tr>\n",
       "    <tr>\n",
       "      <th>1</th>\n",
       "      <td>10</td>\n",
       "      <td>10</td>\n",
       "      <td>10</td>\n",
       "      <td>10</td>\n",
       "      <td>10</td>\n",
       "      <td>2</td>\n",
       "      <td>NaN</td>\n",
       "      <td>NaN</td>\n",
       "      <td>NaN</td>\n",
       "      <td>10</td>\n",
       "      <td>...</td>\n",
       "      <td>NaN</td>\n",
       "      <td>1</td>\n",
       "      <td>1.000000</td>\n",
       "      <td>1</td>\n",
       "      <td>0</td>\n",
       "      <td>0</td>\n",
       "      <td>1</td>\n",
       "      <td>0</td>\n",
       "      <td>0</td>\n",
       "      <td>0</td>\n",
       "    </tr>\n",
       "    <tr>\n",
       "      <th>2</th>\n",
       "      <td>10</td>\n",
       "      <td>10</td>\n",
       "      <td>10</td>\n",
       "      <td>7</td>\n",
       "      <td>8</td>\n",
       "      <td>1</td>\n",
       "      <td>4.0</td>\n",
       "      <td>9.0</td>\n",
       "      <td>5.0</td>\n",
       "      <td>8</td>\n",
       "      <td>...</td>\n",
       "      <td>NaN</td>\n",
       "      <td>1</td>\n",
       "      <td>1.988197</td>\n",
       "      <td>2</td>\n",
       "      <td>0</td>\n",
       "      <td>0</td>\n",
       "      <td>0</td>\n",
       "      <td>0</td>\n",
       "      <td>1</td>\n",
       "      <td>0</td>\n",
       "    </tr>\n",
       "    <tr>\n",
       "      <th>3</th>\n",
       "      <td>10</td>\n",
       "      <td>10</td>\n",
       "      <td>10</td>\n",
       "      <td>10</td>\n",
       "      <td>10</td>\n",
       "      <td>1</td>\n",
       "      <td>10.0</td>\n",
       "      <td>10.0</td>\n",
       "      <td>10.0</td>\n",
       "      <td>10</td>\n",
       "      <td>...</td>\n",
       "      <td>NaN</td>\n",
       "      <td>1</td>\n",
       "      <td>1.000000</td>\n",
       "      <td>1</td>\n",
       "      <td>0</td>\n",
       "      <td>0</td>\n",
       "      <td>0</td>\n",
       "      <td>0</td>\n",
       "      <td>0</td>\n",
       "      <td>1</td>\n",
       "    </tr>\n",
       "    <tr>\n",
       "      <th>4</th>\n",
       "      <td>9</td>\n",
       "      <td>10</td>\n",
       "      <td>10</td>\n",
       "      <td>0</td>\n",
       "      <td>0</td>\n",
       "      <td>1</td>\n",
       "      <td>6.0</td>\n",
       "      <td>5.0</td>\n",
       "      <td>6.0</td>\n",
       "      <td>10</td>\n",
       "      <td>...</td>\n",
       "      <td>NaN</td>\n",
       "      <td>0</td>\n",
       "      <td>1.000000</td>\n",
       "      <td>2</td>\n",
       "      <td>0</td>\n",
       "      <td>0</td>\n",
       "      <td>0</td>\n",
       "      <td>0</td>\n",
       "      <td>0</td>\n",
       "      <td>1</td>\n",
       "    </tr>\n",
       "    <tr>\n",
       "      <th>...</th>\n",
       "      <td>...</td>\n",
       "      <td>...</td>\n",
       "      <td>...</td>\n",
       "      <td>...</td>\n",
       "      <td>...</td>\n",
       "      <td>...</td>\n",
       "      <td>...</td>\n",
       "      <td>...</td>\n",
       "      <td>...</td>\n",
       "      <td>...</td>\n",
       "      <td>...</td>\n",
       "      <td>...</td>\n",
       "      <td>...</td>\n",
       "      <td>...</td>\n",
       "      <td>...</td>\n",
       "      <td>...</td>\n",
       "      <td>...</td>\n",
       "      <td>...</td>\n",
       "      <td>...</td>\n",
       "      <td>...</td>\n",
       "      <td>...</td>\n",
       "    </tr>\n",
       "    <tr>\n",
       "      <th>166694</th>\n",
       "      <td>10</td>\n",
       "      <td>10</td>\n",
       "      <td>10</td>\n",
       "      <td>8</td>\n",
       "      <td>8</td>\n",
       "      <td>1</td>\n",
       "      <td>10.0</td>\n",
       "      <td>10.0</td>\n",
       "      <td>8.0</td>\n",
       "      <td>8</td>\n",
       "      <td>...</td>\n",
       "      <td>NaN</td>\n",
       "      <td>0</td>\n",
       "      <td>2.175855</td>\n",
       "      <td>1</td>\n",
       "      <td>0</td>\n",
       "      <td>0</td>\n",
       "      <td>0</td>\n",
       "      <td>1</td>\n",
       "      <td>0</td>\n",
       "      <td>0</td>\n",
       "    </tr>\n",
       "    <tr>\n",
       "      <th>166695</th>\n",
       "      <td>10</td>\n",
       "      <td>10</td>\n",
       "      <td>10</td>\n",
       "      <td>10</td>\n",
       "      <td>10</td>\n",
       "      <td>2</td>\n",
       "      <td>NaN</td>\n",
       "      <td>NaN</td>\n",
       "      <td>NaN</td>\n",
       "      <td>10</td>\n",
       "      <td>...</td>\n",
       "      <td>NaN</td>\n",
       "      <td>0</td>\n",
       "      <td>3.500000</td>\n",
       "      <td>4</td>\n",
       "      <td>0</td>\n",
       "      <td>0</td>\n",
       "      <td>0</td>\n",
       "      <td>1</td>\n",
       "      <td>0</td>\n",
       "      <td>0</td>\n",
       "    </tr>\n",
       "    <tr>\n",
       "      <th>166696</th>\n",
       "      <td>7</td>\n",
       "      <td>8</td>\n",
       "      <td>8</td>\n",
       "      <td>6</td>\n",
       "      <td>6</td>\n",
       "      <td>2</td>\n",
       "      <td>NaN</td>\n",
       "      <td>NaN</td>\n",
       "      <td>NaN</td>\n",
       "      <td>8</td>\n",
       "      <td>...</td>\n",
       "      <td>NaN</td>\n",
       "      <td>1</td>\n",
       "      <td>1.500000</td>\n",
       "      <td>3</td>\n",
       "      <td>0</td>\n",
       "      <td>0</td>\n",
       "      <td>0</td>\n",
       "      <td>1</td>\n",
       "      <td>0</td>\n",
       "      <td>0</td>\n",
       "    </tr>\n",
       "    <tr>\n",
       "      <th>166697</th>\n",
       "      <td>8</td>\n",
       "      <td>5</td>\n",
       "      <td>4</td>\n",
       "      <td>8</td>\n",
       "      <td>8</td>\n",
       "      <td>1</td>\n",
       "      <td>8.0</td>\n",
       "      <td>6.0</td>\n",
       "      <td>5.0</td>\n",
       "      <td>6</td>\n",
       "      <td>...</td>\n",
       "      <td>NaN</td>\n",
       "      <td>0</td>\n",
       "      <td>2.175855</td>\n",
       "      <td>1</td>\n",
       "      <td>0</td>\n",
       "      <td>0</td>\n",
       "      <td>0</td>\n",
       "      <td>1</td>\n",
       "      <td>0</td>\n",
       "      <td>0</td>\n",
       "    </tr>\n",
       "    <tr>\n",
       "      <th>166698</th>\n",
       "      <td>8</td>\n",
       "      <td>9</td>\n",
       "      <td>10</td>\n",
       "      <td>8</td>\n",
       "      <td>10</td>\n",
       "      <td>1</td>\n",
       "      <td>10.0</td>\n",
       "      <td>8.0</td>\n",
       "      <td>10.0</td>\n",
       "      <td>10</td>\n",
       "      <td>...</td>\n",
       "      <td>NaN</td>\n",
       "      <td>0</td>\n",
       "      <td>0.500000</td>\n",
       "      <td>2</td>\n",
       "      <td>0</td>\n",
       "      <td>0</td>\n",
       "      <td>0</td>\n",
       "      <td>1</td>\n",
       "      <td>0</td>\n",
       "      <td>0</td>\n",
       "    </tr>\n",
       "  </tbody>\n",
       "</table>\n",
       "<p>166441 rows × 37 columns</p>\n",
       "</div>"
      ],
      "text/plain": [
       "        J1  B1_1  B1_2  C1_1  C1_2  D1  D2_1  D2_2  D2_3  E1_1  ...  F6  \\\n",
       "0        4     7     7    10    10   1   4.0   6.0   5.0     8  ... NaN   \n",
       "1       10    10    10    10    10   2   NaN   NaN   NaN    10  ... NaN   \n",
       "2       10    10    10     7     8   1   4.0   9.0   5.0     8  ... NaN   \n",
       "3       10    10    10    10    10   1  10.0  10.0  10.0    10  ... NaN   \n",
       "4        9    10    10     0     0   1   6.0   5.0   6.0    10  ... NaN   \n",
       "...     ..   ...   ...   ...   ...  ..   ...   ...   ...   ...  ...  ..   \n",
       "166694  10    10    10     8     8   1  10.0  10.0   8.0     8  ... NaN   \n",
       "166695  10    10    10    10    10   2   NaN   NaN   NaN    10  ... NaN   \n",
       "166696   7     8     8     6     6   2   NaN   NaN   NaN     8  ... NaN   \n",
       "166697   8     5     4     8     8   1   8.0   6.0   5.0     6  ... NaN   \n",
       "166698   8     9    10     8    10   1  10.0   8.0  10.0    10  ... NaN   \n",
       "\n",
       "        genero     renda  contribuintes_renda  CLARO  NEXTEL  OI  SERCOMTEL  \\\n",
       "0            1  1.000000                    3      1       0   0          0   \n",
       "1            1  1.000000                    1      0       0   1          0   \n",
       "2            1  1.988197                    2      0       0   0          0   \n",
       "3            1  1.000000                    1      0       0   0          0   \n",
       "4            0  1.000000                    2      0       0   0          0   \n",
       "...        ...       ...                  ...    ...     ...  ..        ...   \n",
       "166694       0  2.175855                    1      0       0   0          1   \n",
       "166695       0  3.500000                    4      0       0   0          1   \n",
       "166696       1  1.500000                    3      0       0   0          1   \n",
       "166697       0  2.175855                    1      0       0   0          1   \n",
       "166698       0  0.500000                    2      0       0   0          1   \n",
       "\n",
       "        TIM  VIVO  \n",
       "0         0     0  \n",
       "1         0     0  \n",
       "2         1     0  \n",
       "3         0     1  \n",
       "4         0     1  \n",
       "...     ...   ...  \n",
       "166694    0     0  \n",
       "166695    0     0  \n",
       "166696    0     0  \n",
       "166697    0     0  \n",
       "166698    0     0  \n",
       "\n",
       "[166441 rows x 37 columns]"
      ]
     },
     "execution_count": 37,
     "metadata": {},
     "output_type": "execute_result"
    }
   ],
   "source": [
    "df"
   ]
  },
  {
   "cell_type": "markdown",
   "metadata": {
    "heading_collapsed": true
   },
   "source": [
    "# Missing data para notas"
   ]
  },
  {
   "cell_type": "code",
   "execution_count": 38,
   "metadata": {
    "ExecuteTime": {
     "end_time": "2021-06-26T14:45:12.184272Z",
     "start_time": "2021-06-26T14:45:10.946772Z"
    },
    "hidden": true
   },
   "outputs": [
    {
     "data": {
      "text/plain": [
       "<AxesSubplot:>"
      ]
     },
     "execution_count": 38,
     "metadata": {},
     "output_type": "execute_result"
    },
    {
     "data": {
      "image/png": "[encoded data removed]",
      "text/plain": [
       "<Figure size 1800x720 with 2 Axes>"
      ]
     },
     "metadata": {
      "needs_background": "light"
     },
     "output_type": "display_data"
    }
   ],
   "source": [
    "msno.matrix(df)"
   ]
  },
  {
   "cell_type": "code",
   "execution_count": 39,
   "metadata": {
    "ExecuteTime": {
     "end_time": "2021-06-26T14:45:14.368773Z",
     "start_time": "2021-06-26T14:45:12.185772Z"
    },
    "hidden": true
   },
   "outputs": [
    {
     "data": {
      "text/plain": [
       "<AxesSubplot:>"
      ]
     },
     "execution_count": 39,
     "metadata": {},
     "output_type": "execute_result"
    },
    {
     "data": {
      "image/png": "[encoded data removed]",
      "text/plain": [
       "<Figure size 1728x720 with 3 Axes>"
      ]
     },
     "metadata": {
      "needs_background": "light"
     },
     "output_type": "display_data"
    }
   ],
   "source": [
    "msno.bar(df)"
   ]
  },
  {
   "cell_type": "markdown",
   "metadata": {
    "hidden": true
   },
   "source": [
    "Vamos explorar as colunas com missing data para decidir se devemos substituir as informações ou descartar a coluna."
   ]
  },
  {
   "cell_type": "markdown",
   "metadata": {
    "heading_collapsed": true,
    "hidden": true
   },
   "source": [
    "## Colunas A"
   ]
  },
  {
   "cell_type": "markdown",
   "metadata": {
    "heading_collapsed": true,
    "hidden": true
   },
   "source": [
    "### Colunas A1"
   ]
  },
  {
   "cell_type": "markdown",
   "metadata": {
    "hidden": true
   },
   "source": [
    "As colunas A1 contém informações sobre a utilização dos usuários aos canais de atendimento.\n",
    "\n",
    "Contém um número para sim e NaN para não.\n",
    "\n",
    "Vamos mudar as respostas sim para 1 e não para 0."
   ]
  },
  {
   "cell_type": "code",
   "execution_count": 40,
   "metadata": {
    "ExecuteTime": {
     "end_time": "2021-06-26T14:45:14.384272Z",
     "start_time": "2021-06-26T14:45:14.370271Z"
    },
    "hidden": true
   },
   "outputs": [
    {
     "data": {
      "text/html": [
       "<div>\n",
       "<style scoped>\n",
       "    .dataframe tbody tr th:only-of-type {\n",
       "        vertical-align: middle;\n",
       "    }\n",
       "\n",
       "    .dataframe tbody tr th {\n",
       "        vertical-align: top;\n",
       "    }\n",
       "\n",
       "    .dataframe thead th {\n",
       "        text-align: right;\n",
       "    }\n",
       "</style>\n",
       "<table border=\"1\" class=\"dataframe\">\n",
       "  <thead>\n",
       "    <tr style=\"text-align: right;\">\n",
       "      <th></th>\n",
       "      <th>A1_1</th>\n",
       "      <th>A1_2</th>\n",
       "      <th>A1_3</th>\n",
       "      <th>A1_4</th>\n",
       "    </tr>\n",
       "  </thead>\n",
       "  <tbody>\n",
       "    <tr>\n",
       "      <th>0</th>\n",
       "      <td>1.0</td>\n",
       "      <td>NaN</td>\n",
       "      <td>NaN</td>\n",
       "      <td>NaN</td>\n",
       "    </tr>\n",
       "    <tr>\n",
       "      <th>1</th>\n",
       "      <td>1.0</td>\n",
       "      <td>2.0</td>\n",
       "      <td>3.0</td>\n",
       "      <td>NaN</td>\n",
       "    </tr>\n",
       "    <tr>\n",
       "      <th>2</th>\n",
       "      <td>1.0</td>\n",
       "      <td>NaN</td>\n",
       "      <td>NaN</td>\n",
       "      <td>NaN</td>\n",
       "    </tr>\n",
       "    <tr>\n",
       "      <th>3</th>\n",
       "      <td>NaN</td>\n",
       "      <td>NaN</td>\n",
       "      <td>NaN</td>\n",
       "      <td>97.0</td>\n",
       "    </tr>\n",
       "    <tr>\n",
       "      <th>4</th>\n",
       "      <td>1.0</td>\n",
       "      <td>2.0</td>\n",
       "      <td>NaN</td>\n",
       "      <td>NaN</td>\n",
       "    </tr>\n",
       "    <tr>\n",
       "      <th>...</th>\n",
       "      <td>...</td>\n",
       "      <td>...</td>\n",
       "      <td>...</td>\n",
       "      <td>...</td>\n",
       "    </tr>\n",
       "    <tr>\n",
       "      <th>166694</th>\n",
       "      <td>NaN</td>\n",
       "      <td>NaN</td>\n",
       "      <td>3.0</td>\n",
       "      <td>NaN</td>\n",
       "    </tr>\n",
       "    <tr>\n",
       "      <th>166695</th>\n",
       "      <td>1.0</td>\n",
       "      <td>NaN</td>\n",
       "      <td>NaN</td>\n",
       "      <td>NaN</td>\n",
       "    </tr>\n",
       "    <tr>\n",
       "      <th>166696</th>\n",
       "      <td>NaN</td>\n",
       "      <td>NaN</td>\n",
       "      <td>NaN</td>\n",
       "      <td>97.0</td>\n",
       "    </tr>\n",
       "    <tr>\n",
       "      <th>166697</th>\n",
       "      <td>1.0</td>\n",
       "      <td>NaN</td>\n",
       "      <td>NaN</td>\n",
       "      <td>NaN</td>\n",
       "    </tr>\n",
       "    <tr>\n",
       "      <th>166698</th>\n",
       "      <td>NaN</td>\n",
       "      <td>2.0</td>\n",
       "      <td>NaN</td>\n",
       "      <td>NaN</td>\n",
       "    </tr>\n",
       "  </tbody>\n",
       "</table>\n",
       "<p>166441 rows × 4 columns</p>\n",
       "</div>"
      ],
      "text/plain": [
       "        A1_1  A1_2  A1_3  A1_4\n",
       "0        1.0   NaN   NaN   NaN\n",
       "1        1.0   2.0   3.0   NaN\n",
       "2        1.0   NaN   NaN   NaN\n",
       "3        NaN   NaN   NaN  97.0\n",
       "4        1.0   2.0   NaN   NaN\n",
       "...      ...   ...   ...   ...\n",
       "166694   NaN   NaN   3.0   NaN\n",
       "166695   1.0   NaN   NaN   NaN\n",
       "166696   NaN   NaN   NaN  97.0\n",
       "166697   1.0   NaN   NaN   NaN\n",
       "166698   NaN   2.0   NaN   NaN\n",
       "\n",
       "[166441 rows x 4 columns]"
      ]
     },
     "execution_count": 40,
     "metadata": {},
     "output_type": "execute_result"
    }
   ],
   "source": [
    "df[['A1_1', 'A1_2', 'A1_3', 'A1_4']]"
   ]
  },
  {
   "cell_type": "code",
   "execution_count": 41,
   "metadata": {
    "ExecuteTime": {
     "end_time": "2021-06-26T14:45:14.787271Z",
     "start_time": "2021-06-26T14:45:14.386272Z"
    },
    "hidden": true
   },
   "outputs": [
    {
     "data": {
      "text/plain": [
       "<AxesSubplot:>"
      ]
     },
     "execution_count": 41,
     "metadata": {},
     "output_type": "execute_result"
    },
    {
     "data": {
      "image/png": "[encoded data removed]",
      "text/plain": [
       "<Figure size 1800x720 with 2 Axes>"
      ]
     },
     "metadata": {
      "needs_background": "light"
     },
     "output_type": "display_data"
    }
   ],
   "source": [
    "msno.matrix(df[['A1_1', 'A1_2', 'A1_3', 'A1_4']])"
   ]
  },
  {
   "cell_type": "code",
   "execution_count": 42,
   "metadata": {
    "ExecuteTime": {
     "end_time": "2021-06-26T14:45:15.128270Z",
     "start_time": "2021-06-26T14:45:14.788772Z"
    },
    "hidden": true
   },
   "outputs": [
    {
     "data": {
      "text/plain": [
       "<AxesSubplot:>"
      ]
     },
     "execution_count": 42,
     "metadata": {},
     "output_type": "execute_result"
    },
    {
     "data": {
      "image/png": "[encoded data removed]",
      "text/plain": [
       "<Figure size 1728x720 with 3 Axes>"
      ]
     },
     "metadata": {
      "needs_background": "light"
     },
     "output_type": "display_data"
    }
   ],
   "source": [
    "msno.bar(df[['A1_1', 'A1_2', 'A1_3', 'A1_4']])"
   ]
  },
  {
   "cell_type": "code",
   "execution_count": 43,
   "metadata": {
    "ExecuteTime": {
     "end_time": "2021-06-26T14:45:15.422773Z",
     "start_time": "2021-06-26T14:45:15.129773Z"
    },
    "hidden": true
   },
   "outputs": [
    {
     "data": {
      "text/html": [
       "<div>\n",
       "<style scoped>\n",
       "    .dataframe tbody tr th:only-of-type {\n",
       "        vertical-align: middle;\n",
       "    }\n",
       "\n",
       "    .dataframe tbody tr th {\n",
       "        vertical-align: top;\n",
       "    }\n",
       "\n",
       "    .dataframe thead th {\n",
       "        text-align: right;\n",
       "    }\n",
       "</style>\n",
       "<table border=\"1\" class=\"dataframe\">\n",
       "  <thead>\n",
       "    <tr style=\"text-align: right;\">\n",
       "      <th></th>\n",
       "      <th>A1_1</th>\n",
       "      <th>A1_2</th>\n",
       "      <th>A1_3</th>\n",
       "      <th>A1_4</th>\n",
       "    </tr>\n",
       "  </thead>\n",
       "  <tbody>\n",
       "    <tr>\n",
       "      <th>0</th>\n",
       "      <td>1</td>\n",
       "      <td>0</td>\n",
       "      <td>0</td>\n",
       "      <td>0</td>\n",
       "    </tr>\n",
       "    <tr>\n",
       "      <th>1</th>\n",
       "      <td>1</td>\n",
       "      <td>1</td>\n",
       "      <td>1</td>\n",
       "      <td>0</td>\n",
       "    </tr>\n",
       "    <tr>\n",
       "      <th>2</th>\n",
       "      <td>1</td>\n",
       "      <td>0</td>\n",
       "      <td>0</td>\n",
       "      <td>0</td>\n",
       "    </tr>\n",
       "    <tr>\n",
       "      <th>3</th>\n",
       "      <td>0</td>\n",
       "      <td>0</td>\n",
       "      <td>0</td>\n",
       "      <td>1</td>\n",
       "    </tr>\n",
       "    <tr>\n",
       "      <th>4</th>\n",
       "      <td>1</td>\n",
       "      <td>1</td>\n",
       "      <td>0</td>\n",
       "      <td>0</td>\n",
       "    </tr>\n",
       "    <tr>\n",
       "      <th>...</th>\n",
       "      <td>...</td>\n",
       "      <td>...</td>\n",
       "      <td>...</td>\n",
       "      <td>...</td>\n",
       "    </tr>\n",
       "    <tr>\n",
       "      <th>166694</th>\n",
       "      <td>0</td>\n",
       "      <td>0</td>\n",
       "      <td>1</td>\n",
       "      <td>0</td>\n",
       "    </tr>\n",
       "    <tr>\n",
       "      <th>166695</th>\n",
       "      <td>1</td>\n",
       "      <td>0</td>\n",
       "      <td>0</td>\n",
       "      <td>0</td>\n",
       "    </tr>\n",
       "    <tr>\n",
       "      <th>166696</th>\n",
       "      <td>0</td>\n",
       "      <td>0</td>\n",
       "      <td>0</td>\n",
       "      <td>1</td>\n",
       "    </tr>\n",
       "    <tr>\n",
       "      <th>166697</th>\n",
       "      <td>1</td>\n",
       "      <td>0</td>\n",
       "      <td>0</td>\n",
       "      <td>0</td>\n",
       "    </tr>\n",
       "    <tr>\n",
       "      <th>166698</th>\n",
       "      <td>0</td>\n",
       "      <td>1</td>\n",
       "      <td>0</td>\n",
       "      <td>0</td>\n",
       "    </tr>\n",
       "  </tbody>\n",
       "</table>\n",
       "<p>166441 rows × 4 columns</p>\n",
       "</div>"
      ],
      "text/plain": [
       "        A1_1  A1_2  A1_3  A1_4\n",
       "0          1     0     0     0\n",
       "1          1     1     1     0\n",
       "2          1     0     0     0\n",
       "3          0     0     0     1\n",
       "4          1     1     0     0\n",
       "...      ...   ...   ...   ...\n",
       "166694     0     0     1     0\n",
       "166695     1     0     0     0\n",
       "166696     0     0     0     1\n",
       "166697     1     0     0     0\n",
       "166698     0     1     0     0\n",
       "\n",
       "[166441 rows x 4 columns]"
      ]
     },
     "execution_count": 43,
     "metadata": {},
     "output_type": "execute_result"
    }
   ],
   "source": [
    "df['A1_1'] = df['A1_1'].apply(lambda x: 1 if x == 1 else 0)\n",
    "df['A1_2'] = df['A1_2'].apply(lambda x: 1 if x == 2 else 0)\n",
    "df['A1_3'] = df['A1_3'].apply(lambda x: 1 if x == 3 else 0)\n",
    "df['A1_4'] = df['A1_4'].apply(lambda x: 1 if x == 97 else 0)\n",
    "\n",
    "df[['A1_1', 'A1_2', 'A1_3', 'A1_4']]"
   ]
  },
  {
   "cell_type": "markdown",
   "metadata": {
    "hidden": true
   },
   "source": [
    "### Colunas A2-A5"
   ]
  },
  {
   "cell_type": "markdown",
   "metadata": {
    "hidden": true
   },
   "source": [
    "As colunas A2-A5 contém notas atribuídas à qualidade dos diversos canais de atendimento. As entradas com missing data são referentes a usuários que não utilizaram esses canais nos 6 meses anteriores a pesquisa (perguntas A1).\n",
    "\n",
    "Para elas, iremos substituir os dados faltantes com a nota média da coluna, assim como fizemos para as colunas D."
   ]
  },
  {
   "cell_type": "code",
   "execution_count": 44,
   "metadata": {
    "ExecuteTime": {
     "end_time": "2021-06-26T14:45:15.872273Z",
     "start_time": "2021-06-26T14:45:15.424272Z"
    },
    "hidden": true
   },
   "outputs": [
    {
     "data": {
      "text/plain": [
       "<AxesSubplot:>"
      ]
     },
     "execution_count": 44,
     "metadata": {},
     "output_type": "execute_result"
    },
    {
     "data": {
      "image/png": "[encoded data removed]",
      "text/plain": [
       "<Figure size 1800x720 with 2 Axes>"
      ]
     },
     "metadata": {
      "needs_background": "light"
     },
     "output_type": "display_data"
    }
   ],
   "source": [
    "msno.matrix(df[['A2_1', 'A2_2', 'A2_3', 'A3', 'A4', 'A5']])"
   ]
  },
  {
   "cell_type": "code",
   "execution_count": 45,
   "metadata": {
    "ExecuteTime": {
     "end_time": "2021-06-26T14:45:16.274771Z",
     "start_time": "2021-06-26T14:45:15.874273Z"
    },
    "hidden": true,
    "scrolled": false
   },
   "outputs": [
    {
     "data": {
      "text/plain": [
       "<AxesSubplot:>"
      ]
     },
     "execution_count": 45,
     "metadata": {},
     "output_type": "execute_result"
    },
    {
     "data": {
      "image/png": "[encoded data removed]",
      "text/plain": [
       "<Figure size 1728x720 with 3 Axes>"
      ]
     },
     "metadata": {
      "needs_background": "light"
     },
     "output_type": "display_data"
    }
   ],
   "source": [
    "msno.bar(df[['A2_1', 'A2_2', 'A2_3', 'A3', 'A4', 'A5']])"
   ]
  },
  {
   "cell_type": "markdown",
   "metadata": {
    "hidden": true
   },
   "source": [
    "As colunas A4 e A5 contém mais de 50% de missing data, portanto vamos removê-la."
   ]
  },
  {
   "cell_type": "code",
   "execution_count": 46,
   "metadata": {
    "ExecuteTime": {
     "end_time": "2021-06-26T14:45:16.305771Z",
     "start_time": "2021-06-26T14:45:16.276774Z"
    },
    "hidden": true
   },
   "outputs": [],
   "source": [
    "df = df.drop(columns=['A4', 'A5'])"
   ]
  },
  {
   "cell_type": "code",
   "execution_count": 47,
   "metadata": {
    "ExecuteTime": {
     "end_time": "2021-06-26T14:45:16.336771Z",
     "start_time": "2021-06-26T14:45:16.307272Z"
    },
    "hidden": true
   },
   "outputs": [
    {
     "data": {
      "text/html": [
       "<div>\n",
       "<style scoped>\n",
       "    .dataframe tbody tr th:only-of-type {\n",
       "        vertical-align: middle;\n",
       "    }\n",
       "\n",
       "    .dataframe tbody tr th {\n",
       "        vertical-align: top;\n",
       "    }\n",
       "\n",
       "    .dataframe thead th {\n",
       "        text-align: right;\n",
       "    }\n",
       "</style>\n",
       "<table border=\"1\" class=\"dataframe\">\n",
       "  <thead>\n",
       "    <tr style=\"text-align: right;\">\n",
       "      <th></th>\n",
       "      <th>J1</th>\n",
       "      <th>B1_1</th>\n",
       "      <th>B1_2</th>\n",
       "      <th>C1_1</th>\n",
       "      <th>C1_2</th>\n",
       "      <th>D1</th>\n",
       "      <th>D2_1</th>\n",
       "      <th>D2_2</th>\n",
       "      <th>D2_3</th>\n",
       "      <th>E1_1</th>\n",
       "      <th>...</th>\n",
       "      <th>F6</th>\n",
       "      <th>genero</th>\n",
       "      <th>renda</th>\n",
       "      <th>contribuintes_renda</th>\n",
       "      <th>CLARO</th>\n",
       "      <th>NEXTEL</th>\n",
       "      <th>OI</th>\n",
       "      <th>SERCOMTEL</th>\n",
       "      <th>TIM</th>\n",
       "      <th>VIVO</th>\n",
       "    </tr>\n",
       "  </thead>\n",
       "  <tbody>\n",
       "    <tr>\n",
       "      <th>0</th>\n",
       "      <td>4</td>\n",
       "      <td>7</td>\n",
       "      <td>7</td>\n",
       "      <td>10</td>\n",
       "      <td>10</td>\n",
       "      <td>1</td>\n",
       "      <td>4.0</td>\n",
       "      <td>6.0</td>\n",
       "      <td>5.0</td>\n",
       "      <td>8</td>\n",
       "      <td>...</td>\n",
       "      <td>NaN</td>\n",
       "      <td>1</td>\n",
       "      <td>1.000000</td>\n",
       "      <td>3</td>\n",
       "      <td>1</td>\n",
       "      <td>0</td>\n",
       "      <td>0</td>\n",
       "      <td>0</td>\n",
       "      <td>0</td>\n",
       "      <td>0</td>\n",
       "    </tr>\n",
       "    <tr>\n",
       "      <th>1</th>\n",
       "      <td>10</td>\n",
       "      <td>10</td>\n",
       "      <td>10</td>\n",
       "      <td>10</td>\n",
       "      <td>10</td>\n",
       "      <td>2</td>\n",
       "      <td>NaN</td>\n",
       "      <td>NaN</td>\n",
       "      <td>NaN</td>\n",
       "      <td>10</td>\n",
       "      <td>...</td>\n",
       "      <td>NaN</td>\n",
       "      <td>1</td>\n",
       "      <td>1.000000</td>\n",
       "      <td>1</td>\n",
       "      <td>0</td>\n",
       "      <td>0</td>\n",
       "      <td>1</td>\n",
       "      <td>0</td>\n",
       "      <td>0</td>\n",
       "      <td>0</td>\n",
       "    </tr>\n",
       "    <tr>\n",
       "      <th>2</th>\n",
       "      <td>10</td>\n",
       "      <td>10</td>\n",
       "      <td>10</td>\n",
       "      <td>7</td>\n",
       "      <td>8</td>\n",
       "      <td>1</td>\n",
       "      <td>4.0</td>\n",
       "      <td>9.0</td>\n",
       "      <td>5.0</td>\n",
       "      <td>8</td>\n",
       "      <td>...</td>\n",
       "      <td>NaN</td>\n",
       "      <td>1</td>\n",
       "      <td>1.988197</td>\n",
       "      <td>2</td>\n",
       "      <td>0</td>\n",
       "      <td>0</td>\n",
       "      <td>0</td>\n",
       "      <td>0</td>\n",
       "      <td>1</td>\n",
       "      <td>0</td>\n",
       "    </tr>\n",
       "    <tr>\n",
       "      <th>3</th>\n",
       "      <td>10</td>\n",
       "      <td>10</td>\n",
       "      <td>10</td>\n",
       "      <td>10</td>\n",
       "      <td>10</td>\n",
       "      <td>1</td>\n",
       "      <td>10.0</td>\n",
       "      <td>10.0</td>\n",
       "      <td>10.0</td>\n",
       "      <td>10</td>\n",
       "      <td>...</td>\n",
       "      <td>NaN</td>\n",
       "      <td>1</td>\n",
       "      <td>1.000000</td>\n",
       "      <td>1</td>\n",
       "      <td>0</td>\n",
       "      <td>0</td>\n",
       "      <td>0</td>\n",
       "      <td>0</td>\n",
       "      <td>0</td>\n",
       "      <td>1</td>\n",
       "    </tr>\n",
       "    <tr>\n",
       "      <th>4</th>\n",
       "      <td>9</td>\n",
       "      <td>10</td>\n",
       "      <td>10</td>\n",
       "      <td>0</td>\n",
       "      <td>0</td>\n",
       "      <td>1</td>\n",
       "      <td>6.0</td>\n",
       "      <td>5.0</td>\n",
       "      <td>6.0</td>\n",
       "      <td>10</td>\n",
       "      <td>...</td>\n",
       "      <td>NaN</td>\n",
       "      <td>0</td>\n",
       "      <td>1.000000</td>\n",
       "      <td>2</td>\n",
       "      <td>0</td>\n",
       "      <td>0</td>\n",
       "      <td>0</td>\n",
       "      <td>0</td>\n",
       "      <td>0</td>\n",
       "      <td>1</td>\n",
       "    </tr>\n",
       "  </tbody>\n",
       "</table>\n",
       "<p>5 rows × 35 columns</p>\n",
       "</div>"
      ],
      "text/plain": [
       "   J1  B1_1  B1_2  C1_1  C1_2  D1  D2_1  D2_2  D2_3  E1_1  ...  F6  genero  \\\n",
       "0   4     7     7    10    10   1   4.0   6.0   5.0     8  ... NaN       1   \n",
       "1  10    10    10    10    10   2   NaN   NaN   NaN    10  ... NaN       1   \n",
       "2  10    10    10     7     8   1   4.0   9.0   5.0     8  ... NaN       1   \n",
       "3  10    10    10    10    10   1  10.0  10.0  10.0    10  ... NaN       1   \n",
       "4   9    10    10     0     0   1   6.0   5.0   6.0    10  ... NaN       0   \n",
       "\n",
       "      renda  contribuintes_renda  CLARO  NEXTEL  OI  SERCOMTEL  TIM  VIVO  \n",
       "0  1.000000                    3      1       0   0          0    0     0  \n",
       "1  1.000000                    1      0       0   1          0    0     0  \n",
       "2  1.988197                    2      0       0   0          0    1     0  \n",
       "3  1.000000                    1      0       0   0          0    0     1  \n",
       "4  1.000000                    2      0       0   0          0    0     1  \n",
       "\n",
       "[5 rows x 35 columns]"
      ]
     },
     "execution_count": 47,
     "metadata": {},
     "output_type": "execute_result"
    }
   ],
   "source": [
    "df.head()"
   ]
  },
  {
   "cell_type": "markdown",
   "metadata": {
    "hidden": true
   },
   "source": [
    "#### A2_1"
   ]
  },
  {
   "cell_type": "code",
   "execution_count": 48,
   "metadata": {
    "ExecuteTime": {
     "end_time": "2021-06-26T14:45:16.352272Z",
     "start_time": "2021-06-26T14:45:16.338272Z"
    },
    "hidden": true
   },
   "outputs": [
    {
     "data": {
      "text/plain": [
       "0.0     18650\n",
       "10.0    14568\n",
       "5.0     13389\n",
       "8.0     12881\n",
       "7.0     10028\n",
       "6.0      7076\n",
       "9.0      6314\n",
       "2.0      5016\n",
       "4.0      4995\n",
       "3.0      4790\n",
       "1.0      2474\n",
       "99.0      368\n",
       "Name: A2_1, dtype: int64"
      ]
     },
     "execution_count": 48,
     "metadata": {},
     "output_type": "execute_result"
    }
   ],
   "source": [
    "df['A2_1'].value_counts()"
   ]
  },
  {
   "cell_type": "code",
   "execution_count": 49,
   "metadata": {
    "ExecuteTime": {
     "end_time": "2021-06-26T14:45:16.367773Z",
     "start_time": "2021-06-26T14:45:16.354272Z"
    },
    "hidden": true
   },
   "outputs": [
    {
     "data": {
      "text/plain": [
       "False    100549\n",
       "True      65892\n",
       "Name: A2_1, dtype: int64"
      ]
     },
     "execution_count": 49,
     "metadata": {},
     "output_type": "execute_result"
    }
   ],
   "source": [
    "df['A2_1'].isnull().value_counts() #O resultado será o mesmo para as outras colunas A2 e A3"
   ]
  },
  {
   "cell_type": "code",
   "execution_count": 50,
   "metadata": {
    "ExecuteTime": {
     "end_time": "2021-06-26T14:45:16.414273Z",
     "start_time": "2021-06-26T14:45:16.369773Z"
    },
    "hidden": true
   },
   "outputs": [
    {
     "data": {
      "text/plain": [
       "count    100181.000000\n",
       "mean          5.310458\n",
       "std           3.452062\n",
       "min           0.000000\n",
       "25%           2.000000\n",
       "50%           6.000000\n",
       "75%           8.000000\n",
       "max          10.000000\n",
       "Name: A2_1, dtype: float64"
      ]
     },
     "execution_count": 50,
     "metadata": {},
     "output_type": "execute_result"
    }
   ],
   "source": [
    "df.query('A2_1 != 99')['A2_1'].describe()"
   ]
  },
  {
   "cell_type": "code",
   "execution_count": 51,
   "metadata": {
    "ExecuteTime": {
     "end_time": "2021-06-26T14:45:16.507271Z",
     "start_time": "2021-06-26T14:45:16.416272Z"
    },
    "hidden": true
   },
   "outputs": [
    {
     "data": {
      "text/plain": [
       "0          7.000000\n",
       "1         10.000000\n",
       "2          8.000000\n",
       "3          5.310458\n",
       "4          5.000000\n",
       "            ...    \n",
       "166694     5.310458\n",
       "166695    10.000000\n",
       "166696     5.310458\n",
       "166697     1.000000\n",
       "166698     5.310458\n",
       "Name: A2_1, Length: 166441, dtype: float64"
      ]
     },
     "execution_count": 51,
     "metadata": {},
     "output_type": "execute_result"
    }
   ],
   "source": [
    "a2_1_mean = df.query('A2_1 != 99')['A2_1'].describe()['mean']\n",
    "a2_1_filled = df['A2_1'].fillna(a2_1_mean)\n",
    "a2_1_filled = a2_1_filled.apply(lambda x: a2_1_mean if x == 99 else x)\n",
    "a2_1_filled"
   ]
  },
  {
   "cell_type": "code",
   "execution_count": 52,
   "metadata": {
    "ExecuteTime": {
     "end_time": "2021-06-26T14:45:16.522772Z",
     "start_time": "2021-06-26T14:45:16.508773Z"
    },
    "hidden": true
   },
   "outputs": [
    {
     "data": {
      "text/plain": [
       "count    166441.000000\n",
       "mean          5.310458\n",
       "std           2.678183\n",
       "min           0.000000\n",
       "25%           5.000000\n",
       "50%           5.310458\n",
       "75%           7.000000\n",
       "max          10.000000\n",
       "Name: A2_1, dtype: float64"
      ]
     },
     "execution_count": 52,
     "metadata": {},
     "output_type": "execute_result"
    }
   ],
   "source": [
    "df['A2_1'] = a2_1_filled\n",
    "df['A2_1'].describe()"
   ]
  },
  {
   "cell_type": "code",
   "execution_count": 53,
   "metadata": {
    "ExecuteTime": {
     "end_time": "2021-06-26T14:45:16.630773Z",
     "start_time": "2021-06-26T14:45:16.524772Z"
    },
    "hidden": true
   },
   "outputs": [
    {
     "data": {
      "text/html": [
       "\n",
       "<div id=\"altair-viz-c210e391baee448c9dd0f14b42c1bb65\"></div>\n",
       "<script type=\"text/javascript\">\n",
       "  (function(spec, embedOpt){\n",
       "    let outputDiv = document.currentScript.previousElementSibling;\n",
       "    if (outputDiv.id !== \"altair-viz-c210e391baee448c9dd0f14b42c1bb65\") {\n",
       "      outputDiv = document.getElementById(\"altair-viz-c210e391baee448c9dd0f14b42c1bb65\");\n",
       "    }\n",
       "    const paths = {\n",
       "      \"vega\": \"https://cdn.jsdelivr.net/npm//vega@5?noext\",\n",
       "      \"vega-lib\": \"https://cdn.jsdelivr.net/npm//vega-lib?noext\",\n",
       "      \"vega-lite\": \"https://cdn.jsdelivr.net/npm//vega-lite@4.8.1?noext\",\n",
       "      \"vega-embed\": \"https://cdn.jsdelivr.net/npm//vega-embed@6?noext\",\n",
       "    };\n",
       "\n",
       "    function loadScript(lib) {\n",
       "      return new Promise(function(resolve, reject) {\n",
       "        var s = document.createElement('script');\n",
       "        s.src = paths[lib];\n",
       "        s.async = true;\n",
       "        s.onload = () => resolve(paths[lib]);\n",
       "        s.onerror = () => reject(`Error loading script: ${paths[lib]}`);\n",
       "        document.getElementsByTagName(\"head\")[0].appendChild(s);\n",
       "      });\n",
       "    }\n",
       "\n",
       "    function showError(err) {\n",
       "      outputDiv.innerHTML = `<div class=\"error\" style=\"color:red;\">${err}</div>`;\n",
       "      throw err;\n",
       "    }\n",
       "\n",
       "    function displayChart(vegaEmbed) {\n",
       "      vegaEmbed(outputDiv, spec, embedOpt)\n",
       "        .catch(err => showError(`Javascript Error: ${err.message}<br>This usually means there's a typo in your chart specification. See the javascript console for the full traceback.`));\n",
       "    }\n",
       "\n",
       "    if(typeof define === \"function\" && define.amd) {\n",
       "      requirejs.config({paths});\n",
       "      require([\"vega-embed\"], displayChart, err => showError(`Error loading script: ${err.message}`));\n",
       "    } else if (typeof vegaEmbed === \"function\") {\n",
       "      displayChart(vegaEmbed);\n",
       "    } else {\n",
       "      loadScript(\"vega\")\n",
       "        .then(() => loadScript(\"vega-lite\"))\n",
       "        .then(() => loadScript(\"vega-embed\"))\n",
       "        .catch(showError)\n",
       "        .then(() => displayChart(vegaEmbed));\n",
       "    }\n",
       "  })({\"config\": {\"view\": {\"continuousWidth\": 400, \"continuousHeight\": 300}}, \"data\": {\"name\": \"data-603c3840376619e828f080f0bcf545ce\"}, \"mark\": \"line\", \"encoding\": {\"tooltip\": [{\"type\": \"quantitative\", \"field\": \"J1\"}, {\"type\": \"quantitative\", \"field\": \"A2_1\"}], \"x\": {\"type\": \"quantitative\", \"field\": \"A2_1\"}, \"y\": {\"type\": \"quantitative\", \"field\": \"J1\", \"title\": \"M\\u00e9dia J1\"}}, \"selection\": {\"selector004\": {\"type\": \"interval\", \"bind\": \"scales\", \"encodings\": [\"x\", \"y\"]}}, \"title\": \"M\\u00e9dia de J1 por nota A2_1\", \"$schema\": \"https://vega.github.io/schema/vega-lite/v4.8.1.json\", \"datasets\": {\"data-603c3840376619e828f080f0bcf545ce\": [{\"A2_1\": 0.0, \"J1\": 5.196997319034852, \"B1_1\": 5.444986595174263, \"B1_2\": 5.10230563002681, \"C1_1\": 6.571742627345844, \"C1_2\": 5.837426273458445, \"D1\": 1.3824664879356567, \"D2_1\": 4.663019883650256, \"D2_2\": 4.504297994269341, \"D2_3\": 4.670660762351306, \"E1_1\": 5.00514745308311, \"E1_2\": 4.253994638069705, \"E1_3\": 6.745361930294906, \"A1_1\": 1.0, \"A1_2\": 0.24198391420911528, \"A1_3\": 0.16193029490616623, \"A1_4\": 0.0, \"A2_2\": 3.177104557640751, \"A2_3\": 4.608632707774799, \"A3\": 4.184772117962466, \"F1\": 1.433941018766756, \"F2\": 3.26759496068959, \"F3\": 1.6572654155495978, \"F4\": 3.0896433041301625, \"F5\": 1.5298254753842147, \"F6\": 3.224376731301939, \"genero\": 0.47072386058981236, \"renda\": 2.0584143656093223, \"contribuintes_renda\": 2.085951742627346, \"CLARO\": 0.18187667560321716, \"NEXTEL\": 0.00193029490616622, \"OI\": 0.25769436997319034, \"SERCOMTEL\": 0.00193029490616622, \"TIM\": 0.16766756032171581, \"VIVO\": 0.3796246648793566}, {\"A2_1\": 1.0, \"J1\": 5.677041228779305, \"B1_1\": 5.90016168148747, \"B1_2\": 5.704527081649151, \"C1_1\": 6.735246564268391, \"C1_2\": 6.270816491511722, \"D1\": 1.3411479385610348, \"D2_1\": 5.038036809815951, \"D2_2\": 4.975460122699387, \"D2_3\": 5.125153374233129, \"E1_1\": 5.469684721099434, \"E1_2\": 4.8334680679062245, \"E1_3\": 6.558609539207761, \"A1_1\": 1.0, \"A1_2\": 0.2510105092966855, \"A1_3\": 0.16248989490703314, \"A1_4\": 0.0, \"A2_2\": 3.99232012934519, \"A2_3\": 4.990299110751819, \"A3\": 4.574777687954729, \"F1\": 1.5198059822150365, \"F2\": 3.984006734006734, \"F3\": 1.6988682295877122, \"F4\": 3.822818791946309, \"F5\": 1.5785276073619632, \"F6\": 3.8238719068413394, \"genero\": 0.5383993532740501, \"renda\": 2.2596361234790936, \"contribuintes_renda\": 2.042037186742118, \"CLARO\": 0.17744543249797898, \"NEXTEL\": 0.0032336297493936943, \"OI\": 0.26434923201293453, \"SERCOMTEL\": 0.004042037186742118, \"TIM\": 0.22271624898949072, \"VIVO\": 0.3152789005658852}, {\"A2_1\": 2.0, \"J1\": 6.015350877192983, \"B1_1\": 6.3028309409888355, \"B1_2\": 6.185207336523126, \"C1_1\": 6.989832535885167, \"C1_2\": 6.474481658692185, \"D1\": 1.371012759170654, \"D2_1\": 5.497622820919176, \"D2_2\": 5.492868462757528, \"D2_3\": 5.508716323296355, \"E1_1\": 6.032296650717703, \"E1_2\": 5.292464114832536, \"E1_3\": 7.079346092503987, \"A1_1\": 1.0, \"A1_2\": 0.25478468899521534, \"A1_3\": 0.1467304625199362, \"A1_4\": 0.0, \"A2_2\": 4.918859649122807, \"A2_3\": 5.642145135566188, \"A3\": 5.318580542264753, \"F1\": 1.5454545454545454, \"F2\": 4.614473684210527, \"F3\": 1.7254784688995215, \"F4\": 4.404502541757444, \"F5\": 1.5911251980982568, \"F6\": 4.8496124031007755, \"genero\": 0.5324960127591707, \"renda\": 2.157200470960104, \"contribuintes_renda\": 2.0841307814992027, \"CLARO\": 0.1933811802232855, \"NEXTEL\": 0.001993620414673046, \"OI\": 0.25179425837320574, \"SERCOMTEL\": 0.0027910685805422647, \"TIM\": 0.22228867623604465, \"VIVO\": 0.3116028708133971}, {\"A2_1\": 3.0, \"J1\": 6.178288100208769, \"B1_1\": 6.414613778705637, \"B1_2\": 6.41169102296451, \"C1_1\": 7.077453027139875, \"C1_2\": 6.624008350730689, \"D1\": 1.3828810020876827, \"D2_1\": 5.707713125845737, \"D2_2\": 5.602165087956698, \"D2_3\": 5.7672530446549395, \"E1_1\": 6.179749478079332, \"E1_2\": 5.592901878914405, \"E1_3\": 7.2, \"A1_1\": 1.0, \"A1_2\": 0.2534446764091858, \"A1_3\": 0.14718162839248433, \"A1_4\": 0.0, \"A2_2\": 5.365553235908142, \"A2_3\": 6.106889352818372, \"A3\": 5.734655532359081, \"F1\": 1.5764091858037579, \"F2\": 4.898472153770331, \"F3\": 1.7555323590814196, \"F4\": 4.788215200683177, \"F5\": 1.6211096075778078, \"F6\": 4.714285714285714, \"genero\": 0.5359081419624218, \"renda\": 2.1786584068944177, \"contribuintes_renda\": 2.096659707724426, \"CLARO\": 0.20521920668058455, \"NEXTEL\": 0.0029227557411273487, \"OI\": 0.25845511482254696, \"SERCOMTEL\": 0.0037578288100208767, \"TIM\": 0.23549060542797495, \"VIVO\": 0.27828810020876826}, {\"A2_1\": 4.0, \"J1\": 6.515915915915916, \"B1_1\": 6.882882882882883, \"B1_2\": 6.91991991991992, \"C1_1\": 7.353353353353353, \"C1_2\": 6.963163163163163, \"D1\": 1.3725725725725726, \"D2_1\": 6.157945118059987, \"D2_2\": 6.039246968730057, \"D2_3\": 6.119017230376516, \"E1_1\": 6.591391391391391, \"E1_2\": 5.942542542542543, \"E1_3\": 7.474074074074074, \"A1_1\": 1.0, \"A1_2\": 0.27347347347347345, \"A1_3\": 0.14574574574574575, \"A1_4\": 0.0, \"A2_2\": 5.9811811811811815, \"A2_3\": 6.485685685685685, \"A3\": 6.252652652652652, \"F1\": 1.607007007007007, \"F2\": 5.618441161487519, \"F3\": 1.773973973973974, \"F4\": 5.444641275465013, \"F5\": 1.6442246330567964, \"F6\": 5.349775784753363, \"genero\": 0.5277277277277277, \"renda\": 2.150239027399686, \"contribuintes_renda\": 2.08988988988989, \"CLARO\": 0.22342342342342342, \"NEXTEL\": 0.0018018018018018018, \"OI\": 0.25045045045045045, \"SERCOMTEL\": 0.0038038038038038036, \"TIM\": 0.24144144144144145, \"VIVO\": 0.2618618618618619}, {\"A2_1\": 5.0, \"J1\": 7.087534543281799, \"B1_1\": 7.529389797595041, \"B1_2\": 7.470834266935544, \"C1_1\": 7.891104638135783, \"C1_2\": 7.44036149077601, \"D1\": 1.3844947344835312, \"D2_1\": 6.610848198034219, \"D2_2\": 6.5350078873923065, \"D2_3\": 6.57323140395583, \"E1_1\": 7.1611770856673385, \"E1_2\": 6.706624841287624, \"E1_3\": 7.9965643438643665, \"A1_1\": 1.0, \"A1_2\": 0.2788109642243633, \"A1_3\": 0.15087011726043767, \"A1_4\": 0.0, \"A2_2\": 6.76936290985137, \"A2_3\": 7.336470236761521, \"A3\": 7.124131749943984, \"F1\": 1.6573306445589664, \"F2\": 5.991063644289451, \"F3\": 1.811785794308761, \"F4\": 5.843253968253968, \"F5\": 1.6883873316345104, \"F6\": 5.8847352024922115, \"genero\": 0.4867428486070655, \"renda\": 2.0377963671383896, \"contribuintes_renda\": 2.102322802300396, \"CLARO\": 0.23593995070580326, \"NEXTEL\": 0.003435656135633729, \"OI\": 0.24796474718052133, \"SERCOMTEL\": 0.0061991186795130335, \"TIM\": 0.23474493987601763, \"VIVO\": 0.2497572634251998}, {\"A2_1\": 5.310458070891686, \"J1\": 7.183610021128886, \"B1_1\": 8.183760941744643, \"B1_2\": 8.18913371566556, \"C1_1\": 8.017129489888319, \"C1_2\": 7.632146091156052, \"D1\": 1.4639148807727136, \"D2_1\": 6.9752259226936175, \"D2_2\": 6.905633287351145, \"D2_3\": 7.087159708341544, \"E1_1\": 7.83001811047389, \"E1_2\": 7.1720796860851195, \"E1_3\": 8.367114397826743, \"A1_1\": 0.0055538786598249325, \"A1_2\": 0.17361907636583157, \"A1_3\": 0.11740114699667975, \"A1_4\": 0.7263960156957441, \"A2_2\": 38.54891304347826, \"A2_3\": 40.005434782608695, \"A3\": 19.71195652173913, \"F1\": 1.8464080893450046, \"F2\": 5.401002259998035, \"F3\": 1.913431934802294, \"F4\": 4.908124128312413, \"F5\": 1.8588159117141971, \"F6\": 5.4083748753738785, \"genero\": 0.5143072743736794, \"renda\": 2.108005447293041, \"contribuintes_renda\": 2.0552520374283128, \"CLARO\": 0.2375188650769695, \"NEXTEL\": 0.005568970721400543, \"OI\": 0.24586477512828253, \"SERCOMTEL\": 0.0077120434651373375, \"TIM\": 0.24237850890431634, \"VIVO\": 0.23380621792936915}, {\"A2_1\": 6.0, \"J1\": 7.252826455624647, \"B1_1\": 7.549180327868853, \"B1_2\": 7.468343697003957, \"C1_1\": 7.975551158846806, \"C1_2\": 7.596099491237988, \"D1\": 1.3839739966082532, \"D2_1\": 6.86487726542785, \"D2_2\": 6.778618949300299, \"D2_3\": 6.834136269786648, \"E1_1\": 7.394007914075749, \"E1_2\": 6.933578292820803, \"E1_3\": 8.053561334087055, \"A1_1\": 1.0, \"A1_2\": 0.28688524590163933, \"A1_3\": 0.1533352176370831, \"A1_4\": 0.0, \"A2_2\": 7.259468626342566, \"A2_3\": 7.645703787450537, \"A3\": 7.4732899943470885, \"F1\": 1.6920576596947428, \"F2\": 6.487838458008261, \"F3\": 1.8380440927077444, \"F4\": 6.445898778359512, \"F5\": 1.7253957329662766, \"F6\": 6.411862990810359, \"genero\": 0.5131430186546071, \"renda\": 2.0802807509895525, \"contribuintes_renda\": 2.0823911814584513, \"CLARO\": 0.23784624081401923, \"NEXTEL\": 0.002826455624646693, \"OI\": 0.23671565856416055, \"SERCOMTEL\": 0.0059355568117580556, \"TIM\": 0.2744488411531939, \"VIVO\": 0.21650650084793668}, {\"A2_1\": 7.0, \"J1\": 7.632927802153969, \"B1_1\": 8.003988831272437, \"B1_2\": 8.197746310331073, \"C1_1\": 8.358197048264858, \"C1_2\": 7.961906661348225, \"D1\": 1.3733546071001197, \"D2_1\": 7.333386378103119, \"D2_2\": 7.152768936982813, \"D2_3\": 7.3130171865054105, \"E1_1\": 7.840945353011568, \"E1_2\": 7.5482648583964895, \"E1_3\": 8.439868368568009, \"A1_1\": 1.0, \"A1_2\": 0.2940765855604308, \"A1_3\": 0.14838452333466295, \"A1_4\": 0.0, \"A2_2\": 8.023932987634623, \"A2_3\": 8.162445153570005, \"A3\": 8.109593139210212, \"F1\": 1.728859194256083, \"F2\": 7.051857300478117, \"F3\": 1.867271639409653, \"F4\": 6.805409466566491, \"F5\": 1.7541374920432846, \"F6\": 6.677022653721683, \"genero\": 0.4834463502193857, \"renda\": 2.042780678264187, \"contribuintes_renda\": 2.0786796968488233, \"CLARO\": 0.2533905065815716, \"NEXTEL\": 0.004686876745113682, \"OI\": 0.2425209413641803, \"SERCOMTEL\": 0.009174311926605505, \"TIM\": 0.26844834463502193, \"VIVO\": 0.19325887514958118}, {\"A2_1\": 8.0, \"J1\": 7.962891079885102, \"B1_1\": 8.424190668426364, \"B1_2\": 8.496234764381647, \"C1_1\": 8.688611132676035, \"C1_2\": 8.27971430789535, \"D1\": 1.397562301063582, \"D2_1\": 7.799613402061856, \"D2_2\": 7.655541237113402, \"D2_3\": 7.768814432989691, \"E1_1\": 8.432109308283518, \"E1_2\": 7.974769039670833, \"E1_3\": 8.794270631162178, \"A1_1\": 1.0, \"A1_2\": 0.30044251222731155, \"A1_3\": 0.1699402220324509, \"A1_4\": 0.0, \"A2_2\": 8.630385839608726, \"A2_3\": 8.74435214657247, \"A3\": 8.670677742411304, \"F1\": 1.7514944491887277, \"F2\": 7.426116838487973, \"F3\": 1.8743110006987036, \"F4\": 7.199505867819642, \"F5\": 1.771262886597938, \"F6\": 6.859154929577465, \"genero\": 0.4704603679838522, \"renda\": 2.002612062776623, \"contribuintes_renda\": 2.0853194627746294, \"CLARO\": 0.265041534042388, \"NEXTEL\": 0.005434360686282121, \"OI\": 0.2345314804751184, \"SERCOMTEL\": 0.01490567502523096, \"TIM\": 0.2592190047356572, \"VIVO\": 0.18383665864451518}, {\"A2_1\": 9.0, \"J1\": 8.295058599936649, \"B1_1\": 8.928888184985746, \"B1_2\": 8.808679125752297, \"C1_1\": 8.986379474184352, \"C1_2\": 8.650934431422236, \"D1\": 1.401805511561609, \"D2_1\": 8.16097431824199, \"D2_2\": 8.012178978024888, \"D2_3\": 8.05612920307122, \"E1_1\": 8.597560975609756, \"E1_2\": 8.352233132720938, \"E1_3\": 9.018847006651885, \"A1_1\": 1.0, \"A1_2\": 0.3085207475451378, \"A1_3\": 0.19084573962622742, \"A1_4\": 0.0, \"A2_2\": 9.08489071903706, \"A2_3\": 9.184193854925562, \"A3\": 9.1384225530567, \"F1\": 1.7602153943617358, \"F2\": 7.94782034346103, \"F3\": 1.8839087741526765, \"F4\": 7.566166439290587, \"F5\": 1.7733651045803547, \"F6\": 7.251168224299065, \"genero\": 0.455337345581248, \"renda\": 1.9199449494282346, \"contribuintes_renda\": 2.1612290148875513, \"CLARO\": 0.28476401647133354, \"NEXTEL\": 0.007127019322141274, \"OI\": 0.2296484003801077, \"SERCOMTEL\": 0.019322141273360786, \"TIM\": 0.2507127019322141, \"VIVO\": 0.16708900855242317}, {\"A2_1\": 10.0, \"J1\": 8.772309170785283, \"B1_1\": 9.381315211422296, \"B1_2\": 9.215815485996705, \"C1_1\": 9.321457990115322, \"C1_2\": 8.879461834157057, \"D1\": 1.44666392092257, \"D2_1\": 8.62312368192532, \"D2_2\": 8.520779059670016, \"D2_3\": 8.776826696439647, \"E1_1\": 9.138660076880834, \"E1_2\": 8.904242174629324, \"E1_3\": 9.42428610653487, \"A1_1\": 1.0, \"A1_2\": 0.3279791323448655, \"A1_3\": 0.2340746842394289, \"A1_4\": 0.0, \"A2_2\": 9.775809994508512, \"A2_3\": 9.72542559033498, \"A3\": 9.619028006589787, \"F1\": 1.7622872048325096, \"F2\": 8.221484262200404, \"F3\": 1.8835118066996155, \"F4\": 7.898644667059517, \"F5\": 1.7928296737377496, \"F6\": 7.530538922155689, \"genero\": 0.464168039538715, \"renda\": 1.7976644023510857, \"contribuintes_renda\": 2.2259060955518946, \"CLARO\": 0.2935886875343218, \"NEXTEL\": 0.007550796265788029, \"OI\": 0.21959088412959912, \"SERCOMTEL\": 0.01915156507413509, \"TIM\": 0.2317408017572762, \"VIVO\": 0.18327841845140033}]}}, {\"mode\": \"vega-lite\"});\n",
       "</script>"
      ],
      "text/plain": [
       "alt.Chart(...)"
      ]
     },
     "execution_count": 53,
     "metadata": {},
     "output_type": "execute_result"
    }
   ],
   "source": [
    "a2_1_groupby = df.groupby(['A2_1'], as_index=False).mean()\n",
    "\n",
    "alt.Chart(a2_1_groupby).mark_line().encode(\n",
    "    x = 'A2_1',\n",
    "    y = alt.Y('J1', title='Média J1'),\n",
    "    tooltip = ['J1', 'A2_1']\n",
    ").properties(\n",
    "    title = 'Média de J1 por nota A2_1'\n",
    ").interactive()"
   ]
  },
  {
   "cell_type": "markdown",
   "metadata": {
    "heading_collapsed": true,
    "hidden": true
   },
   "source": [
    "####  A2_2"
   ]
  },
  {
   "cell_type": "code",
   "execution_count": 54,
   "metadata": {
    "ExecuteTime": {
     "end_time": "2021-06-26T14:45:16.646270Z",
     "start_time": "2021-06-26T14:45:16.632772Z"
    },
    "hidden": true
   },
   "outputs": [
    {
     "data": {
      "text/plain": [
       "10.0    18894\n",
       "8.0     16862\n",
       "5.0     13431\n",
       "7.0     11881\n",
       "0.0     10621\n",
       "9.0      7991\n",
       "6.0      7611\n",
       "4.0      4026\n",
       "3.0      3849\n",
       "2.0      3404\n",
       "1.0      1277\n",
       "99.0      702\n",
       "Name: A2_2, dtype: int64"
      ]
     },
     "execution_count": 54,
     "metadata": {},
     "output_type": "execute_result"
    }
   ],
   "source": [
    "df['A2_2'].value_counts()"
   ]
  },
  {
   "cell_type": "code",
   "execution_count": 55,
   "metadata": {
    "ExecuteTime": {
     "end_time": "2021-06-26T14:45:16.692770Z",
     "start_time": "2021-06-26T14:45:16.647772Z"
    },
    "hidden": true
   },
   "outputs": [
    {
     "data": {
      "text/plain": [
       "count    99847.000000\n",
       "mean         6.284405\n",
       "std          3.130345\n",
       "min          0.000000\n",
       "25%          5.000000\n",
       "50%          7.000000\n",
       "75%          9.000000\n",
       "max         10.000000\n",
       "Name: A2_2, dtype: float64"
      ]
     },
     "execution_count": 55,
     "metadata": {},
     "output_type": "execute_result"
    }
   ],
   "source": [
    "df.query('A2_2 != 99')['A2_2'].describe()"
   ]
  },
  {
   "cell_type": "code",
   "execution_count": 56,
   "metadata": {
    "ExecuteTime": {
     "end_time": "2021-06-26T14:45:16.785771Z",
     "start_time": "2021-06-26T14:45:16.694771Z"
    },
    "hidden": true
   },
   "outputs": [
    {
     "data": {
      "text/plain": [
       "0          8.000000\n",
       "1         10.000000\n",
       "2          9.000000\n",
       "3          6.284405\n",
       "4         10.000000\n",
       "            ...    \n",
       "166694     6.284405\n",
       "166695     8.000000\n",
       "166696     6.284405\n",
       "166697     2.000000\n",
       "166698     6.284405\n",
       "Name: A2_2, Length: 166441, dtype: float64"
      ]
     },
     "execution_count": 56,
     "metadata": {},
     "output_type": "execute_result"
    }
   ],
   "source": [
    "a2_2_mean = df.query('A2_2 != 99')['A2_2'].describe()['mean']\n",
    "a2_2_filled = df['A2_2'].fillna(a2_2_mean)\n",
    "a2_2_filled = a2_2_filled.apply(lambda x: a2_2_mean if x == 99 else x)\n",
    "a2_2_filled"
   ]
  },
  {
   "cell_type": "code",
   "execution_count": 57,
   "metadata": {
    "ExecuteTime": {
     "end_time": "2021-06-26T14:45:16.801272Z",
     "start_time": "2021-06-26T14:45:16.787272Z"
    },
    "hidden": true
   },
   "outputs": [
    {
     "data": {
      "text/plain": [
       "count    166441.000000\n",
       "mean          6.284405\n",
       "std           2.424536\n",
       "min           0.000000\n",
       "25%           6.000000\n",
       "50%           6.284405\n",
       "75%           8.000000\n",
       "max          10.000000\n",
       "Name: A2_2, dtype: float64"
      ]
     },
     "execution_count": 57,
     "metadata": {},
     "output_type": "execute_result"
    }
   ],
   "source": [
    "df['A2_2'] = a2_2_filled\n",
    "df['A2_2'].describe()"
   ]
  },
  {
   "cell_type": "code",
   "execution_count": 58,
   "metadata": {
    "ExecuteTime": {
     "end_time": "2021-06-26T14:45:16.909770Z",
     "start_time": "2021-06-26T14:45:16.802773Z"
    },
    "hidden": true
   },
   "outputs": [
    {
     "data": {
      "text/html": [
       "\n",
       "<div id=\"altair-viz-a0914cc111da4a24a8b7d81cf01057f4\"></div>\n",
       "<script type=\"text/javascript\">\n",
       "  (function(spec, embedOpt){\n",
       "    let outputDiv = document.currentScript.previousElementSibling;\n",
       "    if (outputDiv.id !== \"altair-viz-a0914cc111da4a24a8b7d81cf01057f4\") {\n",
       "      outputDiv = document.getElementById(\"altair-viz-a0914cc111da4a24a8b7d81cf01057f4\");\n",
       "    }\n",
       "    const paths = {\n",
       "      \"vega\": \"https://cdn.jsdelivr.net/npm//vega@5?noext\",\n",
       "      \"vega-lib\": \"https://cdn.jsdelivr.net/npm//vega-lib?noext\",\n",
       "      \"vega-lite\": \"https://cdn.jsdelivr.net/npm//vega-lite@4.8.1?noext\",\n",
       "      \"vega-embed\": \"https://cdn.jsdelivr.net/npm//vega-embed@6?noext\",\n",
       "    };\n",
       "\n",
       "    function loadScript(lib) {\n",
       "      return new Promise(function(resolve, reject) {\n",
       "        var s = document.createElement('script');\n",
       "        s.src = paths[lib];\n",
       "        s.async = true;\n",
       "        s.onload = () => resolve(paths[lib]);\n",
       "        s.onerror = () => reject(`Error loading script: ${paths[lib]}`);\n",
       "        document.getElementsByTagName(\"head\")[0].appendChild(s);\n",
       "      });\n",
       "    }\n",
       "\n",
       "    function showError(err) {\n",
       "      outputDiv.innerHTML = `<div class=\"error\" style=\"color:red;\">${err}</div>`;\n",
       "      throw err;\n",
       "    }\n",
       "\n",
       "    function displayChart(vegaEmbed) {\n",
       "      vegaEmbed(outputDiv, spec, embedOpt)\n",
       "        .catch(err => showError(`Javascript Error: ${err.message}<br>This usually means there's a typo in your chart specification. See the javascript console for the full traceback.`));\n",
       "    }\n",
       "\n",
       "    if(typeof define === \"function\" && define.amd) {\n",
       "      requirejs.config({paths});\n",
       "      require([\"vega-embed\"], displayChart, err => showError(`Error loading script: ${err.message}`));\n",
       "    } else if (typeof vegaEmbed === \"function\") {\n",
       "      displayChart(vegaEmbed);\n",
       "    } else {\n",
       "      loadScript(\"vega\")\n",
       "        .then(() => loadScript(\"vega-lite\"))\n",
       "        .then(() => loadScript(\"vega-embed\"))\n",
       "        .catch(showError)\n",
       "        .then(() => displayChart(vegaEmbed));\n",
       "    }\n",
       "  })({\"config\": {\"view\": {\"continuousWidth\": 400, \"continuousHeight\": 300}}, \"data\": {\"name\": \"data-16ce9c329c15c11eb5d4060e5d7b224c\"}, \"mark\": \"line\", \"encoding\": {\"tooltip\": [{\"type\": \"quantitative\", \"field\": \"J1\"}, {\"type\": \"quantitative\", \"field\": \"A2_2\"}], \"x\": {\"type\": \"quantitative\", \"field\": \"A2_2\"}, \"y\": {\"type\": \"quantitative\", \"field\": \"J1\", \"title\": \"M\\u00e9dia J1\"}}, \"selection\": {\"selector005\": {\"type\": \"interval\", \"bind\": \"scales\", \"encodings\": [\"x\", \"y\"]}}, \"title\": \"M\\u00e9dia de J1 por nota A2_2\", \"$schema\": \"https://vega.github.io/schema/vega-lite/v4.8.1.json\", \"datasets\": {\"data-16ce9c329c15c11eb5d4060e5d7b224c\": [{\"A2_2\": 0.0, \"J1\": 4.5489125317766685, \"B1_1\": 4.741455606816684, \"B1_2\": 4.205253742585444, \"C1_1\": 6.167686658506732, \"C1_2\": 5.387534130496187, \"D1\": 1.403351850108276, \"D2_1\": 4.111566987533533, \"D2_2\": 3.9521855767713427, \"D2_3\": 4.179106832886224, \"E1_1\": 4.334243479898315, \"E1_2\": 3.5640711797382543, \"E1_3\": 6.364937388193202, \"A1_1\": 1.0, \"A1_2\": 0.2453629601732417, \"A1_3\": 0.17437152810469825, \"A1_4\": 0.0, \"A2_1\": 1.1767936632003293, \"A2_3\": 3.6244233123058094, \"A3\": 3.4429903022314283, \"F1\": 1.4054232181527164, \"F2\": 2.3618368962787013, \"F3\": 1.6194331983805668, \"F4\": 2.3080158337456704, \"F5\": 1.5166482562726842, \"F6\": 2.2598759386222658, \"genero\": 0.4781094058939836, \"renda\": 2.112455584943939, \"contribuintes_renda\": 2.076169852179644, \"CLARO\": 0.20572450805008943, \"NEXTEL\": 0.0024479804161566705, \"OI\": 0.27134921382167404, \"SERCOMTEL\": 0.0028245927878730818, \"TIM\": 0.19197815648244046, \"VIVO\": 0.3147537896619904}, {\"A2_2\": 1.0, \"J1\": 4.98981989036805, \"B1_1\": 5.23257635082224, \"B1_2\": 4.765074393108849, \"C1_1\": 5.880971025841816, \"C1_2\": 5.497259201252937, \"D1\": 1.3335943617854347, \"D2_1\": 4.403055229142185, \"D2_2\": 4.17743830787309, \"D2_3\": 4.371327849588719, \"E1_1\": 4.857478465152702, \"E1_2\": 4.068128425998434, \"E1_3\": 6.024275646045419, \"A1_1\": 1.0, \"A1_2\": 0.2701644479248238, \"A1_3\": 0.19498825371965545, \"A1_4\": 0.0, \"A2_1\": 1.6055680955919276, \"A2_3\": 3.7290524667188722, \"A3\": 3.3923257635082225, \"F1\": 1.4581049334377447, \"F2\": 2.820809248554913, \"F3\": 1.6703210649960847, \"F4\": 2.705463182897862, \"F5\": 1.5558166862514688, \"F6\": 2.7037037037037037, \"genero\": 0.5473766640563822, \"renda\": 2.4082625046621633, \"contribuintes_renda\": 2.0877055599060297, \"CLARO\": 0.2004698512137823, \"NEXTEL\": 0.003915426781519186, \"OI\": 0.2748629600626468, \"SERCOMTEL\": 0.008613938919342208, \"TIM\": 0.23492560689115113, \"VIVO\": 0.2615505090054816}, {\"A2_2\": 2.0, \"J1\": 5.167450058754406, \"B1_1\": 5.389541715628672, \"B1_2\": 5.359870740305523, \"C1_1\": 6.23207990599295, \"C1_2\": 5.83578143360752, \"D1\": 1.3669212690951822, \"D2_1\": 4.709512761020882, \"D2_2\": 4.612529002320185, \"D2_3\": 4.54245939675174, \"E1_1\": 5.018801410105758, \"E1_2\": 4.2896592244418335, \"E1_3\": 6.3451821386604, \"A1_1\": 1.0, \"A1_2\": 0.24148061104582844, \"A1_3\": 0.16128084606345475, \"A1_4\": 0.0, \"A2_1\": 1.9214515029793722, \"A2_3\": 4.450940070505288, \"A3\": 4.214747356051704, \"F1\": 1.4676850763807285, \"F2\": 3.1915011037527594, \"F3\": 1.6601057579318448, \"F4\": 3.373379429559205, \"F5\": 1.54292343387471, \"F6\": 3.6385786802030458, \"genero\": 0.5235017626321974, \"renda\": 2.212302480178536, \"contribuintes_renda\": 2.053760282021152, \"CLARO\": 0.20123384253819038, \"NEXTEL\": 0.0032314923619271444, \"OI\": 0.26380728554641597, \"SERCOMTEL\": 0.0026439482961222094, \"TIM\": 0.2309048178613396, \"VIVO\": 0.28143360752056407}, {\"A2_2\": 3.0, \"J1\": 5.468173551571837, \"B1_1\": 5.631592621460119, \"B1_2\": 5.618602234346583, \"C1_1\": 6.559106261366589, \"C1_2\": 5.987009612886464, \"D1\": 1.3717848791893998, \"D2_1\": 4.863110008271299, \"D2_2\": 4.880893300248139, \"D2_3\": 4.792390405293631, \"E1_1\": 5.4372564302416215, \"E1_2\": 4.720706677058977, \"E1_3\": 6.614185502727981, \"A1_1\": 1.0, \"A1_2\": 0.24369966224993506, \"A1_3\": 0.15926214601195116, \"A1_4\": 0.0, \"A2_1\": 2.5346665040822742, \"A2_3\": 5.024162120031177, \"A3\": 4.7703299558326835, \"F1\": 1.5154585606651079, \"F2\": 3.707774798927614, \"F3\": 1.694985710574175, \"F4\": 3.8211243611584327, \"F5\": 1.564102564102564, \"F6\": 3.9791271347248576, \"genero\": 0.541179527149909, \"renda\": 2.228751834429777, \"contribuintes_renda\": 2.0553390491036634, \"CLARO\": 0.20654715510522215, \"NEXTEL\": 0.0028578851649779164, \"OI\": 0.27175889841517276, \"SERCOMTEL\": 0.005455962587685113, \"TIM\": 0.24318004676539362, \"VIVO\": 0.25461158742530526}, {\"A2_2\": 4.0, \"J1\": 5.902632886239443, \"B1_1\": 6.073025335320417, \"B1_2\": 5.940387481371088, \"C1_1\": 6.856929955290611, \"C1_2\": 6.435419771485345, \"D1\": 1.362642821659215, \"D2_1\": 5.345674201091192, \"D2_2\": 5.17692907248636, \"D2_3\": 5.26539360872954, \"E1_1\": 5.781172379533035, \"E1_2\": 5.097367113760557, \"E1_3\": 6.904619970193741, \"A1_1\": 1.0, \"A1_2\": 0.25832091405861896, \"A1_3\": 0.15846994535519127, \"A1_4\": 0.0, \"A2_1\": 3.2165751053682747, \"A2_3\": 5.597615499254844, \"A3\": 5.362146050670641, \"F1\": 1.5340288127173374, \"F2\": 4.371002132196162, \"F3\": 1.7275211127670145, \"F4\": 4.522333637192343, \"F5\": 1.5923616523772408, \"F6\": 4.393881453154876, \"genero\": 0.5330352707401887, \"renda\": 2.140256333299986, \"contribuintes_renda\": 2.0623447590660704, \"CLARO\": 0.20914058618976653, \"NEXTEL\": 0.0012419274714356682, \"OI\": 0.26328862394436164, \"SERCOMTEL\": 0.0014903129657228018, \"TIM\": 0.2372081470442126, \"VIVO\": 0.2707401887729757}, {\"A2_2\": 5.0, \"J1\": 6.393120393120393, \"B1_1\": 6.780880053607326, \"B1_2\": 6.665698756607847, \"C1_1\": 7.354329536147718, \"C1_2\": 6.895465713647532, \"D1\": 1.3961730325366688, \"D2_1\": 5.838471023427867, \"D2_2\": 5.688532675709001, \"D2_3\": 5.834401972872996, \"E1_1\": 6.322537413446504, \"E1_2\": 5.7490879309061125, \"E1_3\": 7.4802322984141165, \"A1_1\": 1.0, \"A1_2\": 0.25634725634725636, \"A1_3\": 0.14987714987714987, \"A1_4\": 0.0, \"A2_1\": 3.9484031929160777, \"A2_3\": 6.437644255826074, \"A3\": 6.268930087111905, \"F1\": 1.5858834040652223, \"F2\": 5.114347357065804, \"F3\": 1.7697863152408606, \"F4\": 5.104139715394567, \"F5\": 1.627743526510481, \"F6\": 4.816164292812189, \"genero\": 0.5070359615814162, \"renda\": 2.0758759586181883, \"contribuintes_renda\": 2.084654902836721, \"CLARO\": 0.22686322686322685, \"NEXTEL\": 0.003276003276003276, \"OI\": 0.25783634874543965, \"SERCOMTEL\": 0.00610527883255156, \"TIM\": 0.22641649914377188, \"VIVO\": 0.2616335343608071}, {\"A2_2\": 6.0, \"J1\": 6.845486795427671, \"B1_1\": 7.198134279332545, \"B1_2\": 7.174221521482066, \"C1_1\": 7.655367231638418, \"C1_2\": 7.2178425962422805, \"D1\": 1.386414400210222, \"D2_1\": 6.323554603854389, \"D2_2\": 6.312633832976445, \"D2_3\": 6.37152034261242, \"E1_1\": 6.810800157666535, \"E1_2\": 6.262514781237682, \"E1_3\": 7.6323741952437265, \"A1_1\": 1.0, \"A1_2\": 0.26908422020759426, \"A1_3\": 0.14754959926422284, \"A1_4\": 0.0, \"A2_1\": 4.928329998618937, \"A2_3\": 7.087504927079228, \"A3\": 6.824201813165156, \"F1\": 1.6465641834187361, \"F2\": 5.895539033457249, \"F3\": 1.7991065563000919, \"F4\": 5.764551994767822, \"F5\": 1.682441113490364, \"F6\": 5.686446392447741, \"genero\": 0.5201681776376298, \"renda\": 2.0889647927059802, \"contribuintes_renda\": 2.0989357508868745, \"CLARO\": 0.22625147812376822, \"NEXTEL\": 0.0031533307055577452, \"OI\": 0.2445145184601235, \"SERCOMTEL\": 0.005124162396531336, \"TIM\": 0.24793062672447774, \"VIVO\": 0.2510839574300355}, {\"A2_2\": 6.284405139863992, \"J1\": 7.185467159203532, \"B1_1\": 8.21333753791633, \"B1_2\": 8.219253986845661, \"C1_1\": 8.017674264948795, \"C1_2\": 7.632849806288855, \"D1\": 1.4643211100099107, \"D2_1\": 6.983825302049169, \"D2_2\": 6.915706556779638, \"D2_3\": 7.101309113335016, \"E1_1\": 7.857689881971349, \"E1_2\": 7.191293509925819, \"E1_3\": 8.38497462233835, \"A1_1\": 0.010541490224344535, \"A1_2\": 0.17369432681622968, \"A1_3\": 0.11745802925188456, \"A1_4\": 0.7227528005526024, \"A2_1\": 5.321387969876181, \"A2_3\": 23.83903133903134, \"A3\": 13.555555555555555, \"F1\": 1.8464276060906388, \"F2\": 5.4270069424073535, \"F3\": 1.9134456557647836, \"F4\": 4.913948646773075, \"F5\": 1.8588848709107728, \"F6\": 5.392729439809297, \"genero\": 0.5139051566207166, \"renda\": 2.106751612376265, \"contribuintes_renda\": 2.055110069976274, \"CLARO\": 0.23754392287593476, \"NEXTEL\": 0.005571072468991201, \"OI\": 0.24562272877436406, \"SERCOMTEL\": 0.007748445805928462, \"TIM\": 0.24269453704537947, \"VIVO\": 0.23369973270865244}, {\"A2_2\": 7.0, \"J1\": 7.3308644053530845, \"B1_1\": 7.656257890749937, \"B1_2\": 7.743203434054372, \"C1_1\": 8.075835367393317, \"C1_2\": 7.65592121875263, \"D1\": 1.3737900850096794, \"D2_1\": 6.958064516129032, \"D2_2\": 6.841935483870968, \"D2_3\": 6.935887096774193, \"E1_1\": 7.441713660466291, \"E1_2\": 7.038043935695648, \"E1_3\": 8.121875263024998, \"A1_1\": 1.0, \"A1_2\": 0.2876862216985102, \"A1_3\": 0.14594731083242152, \"A1_4\": 0.0, \"A2_1\": 5.849145090984341, \"A2_3\": 7.747748506018012, \"A3\": 7.593805235249558, \"F1\": 1.692450130460399, \"F2\": 6.792282430213465, \"F3\": 1.838313273293494, \"F4\": 6.5356585111920875, \"F5\": 1.7004032258064516, \"F6\": 6.507402422611037, \"genero\": 0.4960861880313105, \"renda\": 2.0427192624430766, \"contribuintes_renda\": 2.0977190472182476, \"CLARO\": 0.24518138203854895, \"NEXTEL\": 0.003114215975086272, \"OI\": 0.23769043009847657, \"SERCOMTEL\": 0.008080127935358977, \"TIM\": 0.2503997979968016, \"VIVO\": 0.2308728221530174}, {\"A2_2\": 8.0, \"J1\": 7.827066777369232, \"B1_1\": 8.282706677736924, \"B1_2\": 8.31941643933104, \"C1_1\": 8.558889811410271, \"C1_2\": 8.130708101055628, \"D1\": 1.4008421302336616, \"D2_1\": 7.463624665940809, \"D2_2\": 7.4020587944175, \"D2_3\": 7.4993566267445315, \"E1_1\": 8.095777487842486, \"E1_2\": 7.734373146720436, \"E1_3\": 8.618431977226901, \"A1_1\": 1.0, \"A1_2\": 0.2916024196417981, \"A1_3\": 0.1610129284782351, \"A1_4\": 0.0, \"A2_1\": 6.64937927657546, \"A2_3\": 8.540623888032261, \"A3\": 8.302395919819713, \"F1\": 1.726841418574309, \"F2\": 7.374511506730352, \"F3\": 1.865496382398292, \"F4\": 7.090388007054674, \"F5\": 1.7475997228545976, \"F6\": 6.889803921568627, \"genero\": 0.4806665875934053, \"renda\": 2.0161438203086774, \"contribuintes_renda\": 2.100640493417151, \"CLARO\": 0.24154904519036888, \"NEXTEL\": 0.004210651168307437, \"OI\": 0.2327126082315265, \"SERCOMTEL\": 0.011267939746174831, \"TIM\": 0.24439568259992883, \"VIVO\": 0.23561855058711897}, {\"A2_2\": 9.0, \"J1\": 8.320735827806281, \"B1_1\": 8.723313727943937, \"B1_2\": 8.769240395444875, \"C1_1\": 8.966086847703666, \"C1_2\": 8.55950444249781, \"D1\": 1.3846827681141285, \"D2_1\": 8.106772422208664, \"D2_2\": 8.017083587553387, \"D2_3\": 8.219035997559487, \"E1_1\": 8.669127768739832, \"E1_2\": 8.349017644850457, \"E1_3\": 9.006382179952446, \"A1_1\": 1.0, \"A1_2\": 0.3136028031535477, \"A1_3\": 0.18095357276936552, \"A1_4\": 0.0, \"A2_1\": 7.629609455815021, \"A2_3\": 9.127518458265548, \"A3\": 8.957326992866975, \"F1\": 1.7523463896883995, \"F2\": 8.145528044466902, \"F3\": 1.8857464647728694, \"F4\": 7.795180722891566, \"F5\": 1.7705918242830994, \"F6\": 7.601950354609929, \"genero\": 0.4316105618821174, \"renda\": 1.8959262672091342, \"contribuintes_renda\": 2.135402327618571, \"CLARO\": 0.26980352897009136, \"NEXTEL\": 0.006882743085971718, \"OI\": 0.21511700663246153, \"SERCOMTEL\": 0.014766612438993867, \"TIM\": 0.23776748842447754, \"VIVO\": 0.2209986234513828}, {\"A2_2\": 10.0, \"J1\": 8.766592569069546, \"B1_1\": 9.341907483857309, \"B1_2\": 9.220175717158886, \"C1_1\": 9.342701386683602, \"C1_2\": 8.867682862284322, \"D1\": 1.4096009315126494, \"D2_1\": 8.61228148812192, \"D2_2\": 8.404571940833707, \"D2_3\": 8.570416853428956, \"E1_1\": 9.187255213295225, \"E1_2\": 8.912406054832221, \"E1_3\": 9.478247062559543, \"A1_1\": 1.0, \"A1_2\": 0.32571186620091036, \"A1_3\": 0.2123954694612046, \"A1_4\": 0.0, \"A2_1\": 8.075879297087699, \"A2_3\": 9.68720228644014, \"A3\": 9.445273631840797, \"F1\": 1.7575950037048798, \"F2\": 8.357860262008733, \"F3\": 1.8826082354186515, \"F4\": 8.049594229035167, \"F5\": 1.7952487673688928, \"F6\": 7.742994746059544, \"genero\": 0.45136022017571714, \"renda\": 1.8269152796258463, \"contribuintes_renda\": 2.2002752196464486, \"CLARO\": 0.2655340319678205, \"NEXTEL\": 0.006562930030697576, \"OI\": 0.2230866941886313, \"SERCOMTEL\": 0.015878056525881232, \"TIM\": 0.22017571715888642, \"VIVO\": 0.22695035460992907}]}}, {\"mode\": \"vega-lite\"});\n",
       "</script>"
      ],
      "text/plain": [
       "alt.Chart(...)"
      ]
     },
     "execution_count": 58,
     "metadata": {},
     "output_type": "execute_result"
    }
   ],
   "source": [
    "a2_2_groupby = df.groupby(['A2_2'], as_index=False).mean()\n",
    "\n",
    "alt.Chart(a2_2_groupby).mark_line().encode(\n",
    "    x = 'A2_2',\n",
    "    y = alt.Y('J1', title='Média J1'),\n",
    "    tooltip = ['J1', 'A2_2']\n",
    ").properties(\n",
    "    title = 'Média de J1 por nota A2_2'\n",
    ").interactive()"
   ]
  },
  {
   "cell_type": "markdown",
   "metadata": {
    "heading_collapsed": true,
    "hidden": true
   },
   "source": [
    "#### A2_3"
   ]
  },
  {
   "cell_type": "code",
   "execution_count": 59,
   "metadata": {
    "ExecuteTime": {
     "end_time": "2021-06-26T14:45:16.925270Z",
     "start_time": "2021-06-26T14:45:16.911271Z"
    },
    "hidden": true
   },
   "outputs": [
    {
     "data": {
      "text/plain": [
       "10.0    29114\n",
       "8.0     17047\n",
       "9.0     10730\n",
       "7.0     10694\n",
       "5.0     10193\n",
       "0.0      6578\n",
       "6.0      6021\n",
       "4.0      3149\n",
       "3.0      2942\n",
       "2.0      2637\n",
       "1.0      1084\n",
       "99.0      360\n",
       "Name: A2_3, dtype: int64"
      ]
     },
     "execution_count": 59,
     "metadata": {},
     "output_type": "execute_result"
    }
   ],
   "source": [
    "df['A2_3'].value_counts()"
   ]
  },
  {
   "cell_type": "code",
   "execution_count": 60,
   "metadata": {
    "ExecuteTime": {
     "end_time": "2021-06-26T14:45:16.971772Z",
     "start_time": "2021-06-26T14:45:16.927274Z"
    },
    "hidden": true
   },
   "outputs": [
    {
     "data": {
      "text/plain": [
       "count    100189.000000\n",
       "mean          7.124684\n",
       "std           2.946659\n",
       "min           0.000000\n",
       "25%           5.000000\n",
       "50%           8.000000\n",
       "75%          10.000000\n",
       "max          10.000000\n",
       "Name: A2_3, dtype: float64"
      ]
     },
     "execution_count": 60,
     "metadata": {},
     "output_type": "execute_result"
    }
   ],
   "source": [
    "df.query('A2_3 != 99')['A2_3'].describe()"
   ]
  },
  {
   "cell_type": "code",
   "execution_count": 61,
   "metadata": {
    "ExecuteTime": {
     "end_time": "2021-06-26T14:45:17.049272Z",
     "start_time": "2021-06-26T14:45:16.973771Z"
    },
    "hidden": true
   },
   "outputs": [
    {
     "data": {
      "text/plain": [
       "0          8.000000\n",
       "1         10.000000\n",
       "2         10.000000\n",
       "3          7.124684\n",
       "4         10.000000\n",
       "            ...    \n",
       "166694     7.124684\n",
       "166695    10.000000\n",
       "166696     7.124684\n",
       "166697     9.000000\n",
       "166698     7.124684\n",
       "Name: A2_3, Length: 166441, dtype: float64"
      ]
     },
     "execution_count": 61,
     "metadata": {},
     "output_type": "execute_result"
    }
   ],
   "source": [
    "a2_3_mean = df.query('A2_3 != 99')['A2_3'].describe()['mean']\n",
    "a2_3_filled = df['A2_3'].fillna(a2_3_mean)\n",
    "a2_3_filled = a2_3_filled.apply(lambda x: a2_3_mean if x == 99 else x)\n",
    "a2_3_filled"
   ]
  },
  {
   "cell_type": "code",
   "execution_count": 62,
   "metadata": {
    "ExecuteTime": {
     "end_time": "2021-06-26T14:45:17.064772Z",
     "start_time": "2021-06-26T14:45:17.050772Z"
    },
    "hidden": true
   },
   "outputs": [
    {
     "data": {
      "text/plain": [
       "count    166441.000000\n",
       "mean          7.124684\n",
       "std           2.286172\n",
       "min           0.000000\n",
       "25%           7.000000\n",
       "50%           7.124684\n",
       "75%           8.000000\n",
       "max          10.000000\n",
       "Name: A2_3, dtype: float64"
      ]
     },
     "execution_count": 62,
     "metadata": {},
     "output_type": "execute_result"
    }
   ],
   "source": [
    "df['A2_3'] = a2_3_filled\n",
    "df['A2_3'].describe()"
   ]
  },
  {
   "cell_type": "code",
   "execution_count": 63,
   "metadata": {
    "ExecuteTime": {
     "end_time": "2021-06-26T14:45:17.188770Z",
     "start_time": "2021-06-26T14:45:17.066272Z"
    },
    "hidden": true
   },
   "outputs": [
    {
     "data": {
      "text/html": [
       "\n",
       "<div id=\"altair-viz-04def884950a4d80b0b693b1db1f0610\"></div>\n",
       "<script type=\"text/javascript\">\n",
       "  (function(spec, embedOpt){\n",
       "    let outputDiv = document.currentScript.previousElementSibling;\n",
       "    if (outputDiv.id !== \"altair-viz-04def884950a4d80b0b693b1db1f0610\") {\n",
       "      outputDiv = document.getElementById(\"altair-viz-04def884950a4d80b0b693b1db1f0610\");\n",
       "    }\n",
       "    const paths = {\n",
       "      \"vega\": \"https://cdn.jsdelivr.net/npm//vega@5?noext\",\n",
       "      \"vega-lib\": \"https://cdn.jsdelivr.net/npm//vega-lib?noext\",\n",
       "      \"vega-lite\": \"https://cdn.jsdelivr.net/npm//vega-lite@4.8.1?noext\",\n",
       "      \"vega-embed\": \"https://cdn.jsdelivr.net/npm//vega-embed@6?noext\",\n",
       "    };\n",
       "\n",
       "    function loadScript(lib) {\n",
       "      return new Promise(function(resolve, reject) {\n",
       "        var s = document.createElement('script');\n",
       "        s.src = paths[lib];\n",
       "        s.async = true;\n",
       "        s.onload = () => resolve(paths[lib]);\n",
       "        s.onerror = () => reject(`Error loading script: ${paths[lib]}`);\n",
       "        document.getElementsByTagName(\"head\")[0].appendChild(s);\n",
       "      });\n",
       "    }\n",
       "\n",
       "    function showError(err) {\n",
       "      outputDiv.innerHTML = `<div class=\"error\" style=\"color:red;\">${err}</div>`;\n",
       "      throw err;\n",
       "    }\n",
       "\n",
       "    function displayChart(vegaEmbed) {\n",
       "      vegaEmbed(outputDiv, spec, embedOpt)\n",
       "        .catch(err => showError(`Javascript Error: ${err.message}<br>This usually means there's a typo in your chart specification. See the javascript console for the full traceback.`));\n",
       "    }\n",
       "\n",
       "    if(typeof define === \"function\" && define.amd) {\n",
       "      requirejs.config({paths});\n",
       "      require([\"vega-embed\"], displayChart, err => showError(`Error loading script: ${err.message}`));\n",
       "    } else if (typeof vegaEmbed === \"function\") {\n",
       "      displayChart(vegaEmbed);\n",
       "    } else {\n",
       "      loadScript(\"vega\")\n",
       "        .then(() => loadScript(\"vega-lite\"))\n",
       "        .then(() => loadScript(\"vega-embed\"))\n",
       "        .catch(showError)\n",
       "        .then(() => displayChart(vegaEmbed));\n",
       "    }\n",
       "  })({\"config\": {\"view\": {\"continuousWidth\": 400, \"continuousHeight\": 300}}, \"data\": {\"name\": \"data-7f49592aa2779a6b965883ef9c388da1\"}, \"mark\": \"line\", \"encoding\": {\"tooltip\": [{\"type\": \"quantitative\", \"field\": \"J1\"}, {\"type\": \"quantitative\", \"field\": \"A2_3\"}], \"x\": {\"type\": \"quantitative\", \"field\": \"A2_3\"}, \"y\": {\"type\": \"quantitative\", \"field\": \"J1\", \"title\": \"M\\u00e9dia J1\"}}, \"selection\": {\"selector006\": {\"type\": \"interval\", \"bind\": \"scales\", \"encodings\": [\"x\", \"y\"]}}, \"title\": \"M\\u00e9dia de J1 por nota A2_3\", \"$schema\": \"https://vega.github.io/schema/vega-lite/v4.8.1.json\", \"datasets\": {\"data-7f49592aa2779a6b965883ef9c388da1\": [{\"A2_3\": 0.0, \"J1\": 4.323502584372149, \"B1_1\": 4.220127698388568, \"B1_2\": 3.8458498023715415, \"C1_1\": 5.906506536941319, \"C1_2\": 5.13332319854059, \"D1\": 1.422620857403466, \"D2_1\": 3.9191679831490256, \"D2_2\": 3.833859926276988, \"D2_3\": 3.955766192733017, \"E1_1\": 4.066433566433567, \"E1_2\": 3.3131650957737913, \"E1_3\": 6.099270294922468, \"A1_1\": 1.0, \"A1_2\": 0.24353906962602614, \"A1_3\": 0.1751292186074795, \"A1_4\": 0.0, \"A2_1\": 0.8699899851988483, \"A2_2\": 1.3917129982969416, \"A3\": 2.4776527820006082, \"F1\": 1.387047734873822, \"F2\": 1.8134920634920635, \"F3\": 1.5866524779568258, \"F4\": 1.789260757631482, \"F5\": 1.5052659294365456, \"F6\": 1.8052155401809473, \"genero\": 0.48768622681666157, \"renda\": 2.166816111171759, \"contribuintes_renda\": 2.1032228640924293, \"CLARO\": 0.20705381574946793, \"NEXTEL\": 0.0034965034965034965, \"OI\": 0.2842809364548495, \"SERCOMTEL\": 0.0030404378230465185, \"TIM\": 0.1951961082395865, \"VIVO\": 0.2959866220735786}, {\"A2_3\": 1.0, \"J1\": 4.692804428044281, \"B1_1\": 4.595018450184502, \"B1_2\": 4.328413284132841, \"C1_1\": 5.630996309963099, \"C1_2\": 5.456642066420664, \"D1\": 1.353321033210332, \"D2_1\": 4.126961483594864, \"D2_2\": 4.218259629101284, \"D2_3\": 4.283880171184022, \"E1_1\": 4.428044280442805, \"E1_2\": 3.6937269372693726, \"E1_3\": 5.909594095940959, \"A1_1\": 1.0, \"A1_2\": 0.26014760147601473, \"A1_3\": 0.18357933579335795, \"A1_4\": 0.0, \"A2_1\": 1.5691881918819188, \"A2_2\": 2.2428822925644503, \"A3\": 2.756457564575646, \"F1\": 1.4308118081180812, \"F2\": 2.651539708265802, \"F3\": 1.6263837638376384, \"F4\": 2.2049382716049384, \"F5\": 1.5534950071326676, \"F6\": 2.405750798722045, \"genero\": 0.5525830258302583, \"renda\": 2.2858080126499547, \"contribuintes_renda\": 2.059040590405904, \"CLARO\": 0.1937269372693727, \"NEXTEL\": 0.0027675276752767526, \"OI\": 0.27398523985239853, \"SERCOMTEL\": 0.0036900369003690036, \"TIM\": 0.2592250922509225, \"VIVO\": 0.25276752767527677}, {\"A2_3\": 2.0, \"J1\": 4.84262419416003, \"B1_1\": 5.214258627227911, \"B1_2\": 4.846795601061813, \"C1_1\": 6.039438756162306, \"C1_2\": 5.579825559347744, \"D1\": 1.3716344330678802, \"D2_1\": 4.343995171997586, \"D2_2\": 4.155099577549789, \"D2_3\": 4.449004224502112, \"E1_1\": 4.517633674630262, \"E1_2\": 4.048160788775124, \"E1_3\": 6.082290481607887, \"A1_1\": 1.0, \"A1_2\": 0.2590064467197573, \"A1_3\": 0.161547212741752, \"A1_4\": 0.0, \"A2_1\": 1.623148210953192, \"A2_2\": 2.5416288362225683, \"A3\": 3.2578687902919983, \"F1\": 1.4429275692074326, \"F2\": 2.526208304969367, \"F3\": 1.657944634053849, \"F4\": 2.79490022172949, \"F5\": 1.5395292697646348, \"F6\": 2.8636959370904327, \"genero\": 0.5119453924914675, \"renda\": 2.24126332825408, \"contribuintes_renda\": 2.0462646947288587, \"CLARO\": 0.20781190747061054, \"NEXTEL\": 0.0018960940462646946, \"OI\": 0.2715206674251043, \"SERCOMTEL\": 0.0034129692832764505, \"TIM\": 0.2366325369738339, \"VIVO\": 0.266970041714069}, {\"A2_3\": 3.0, \"J1\": 5.202923181509178, \"B1_1\": 5.312372535690007, \"B1_2\": 5.055404486743711, \"C1_1\": 6.38137321549966, \"C1_2\": 5.855540448674371, \"D1\": 1.3698164513936097, \"D2_1\": 4.697950377562028, \"D2_2\": 4.612729234088458, \"D2_3\": 4.746494066882416, \"E1_1\": 5.058463630183549, \"E1_2\": 4.297076818490822, \"E1_3\": 6.283820530251529, \"A1_1\": 1.0, \"A1_2\": 0.2467709041468389, \"A1_3\": 0.16451393609789258, \"A1_4\": 0.0, \"A2_1\": 2.008837525492862, \"A2_2\": 3.2111276752411473, \"A3\": 3.8613188307273965, \"F1\": 1.4847042828008157, \"F2\": 3.1952506596306067, \"F3\": 1.6689326988443236, \"F4\": 3.37782340862423, \"F5\": 1.5485436893203883, \"F6\": 3.193548387096774, \"genero\": 0.5479265805574439, \"renda\": 2.2671432582645266, \"contribuintes_renda\": 2.0312712440516654, \"CLARO\": 0.2131203263086336, \"NEXTEL\": 0.0020394289598912306, \"OI\": 0.26308633582596874, \"SERCOMTEL\": 0.004418762746430999, \"TIM\": 0.24813052345343303, \"VIVO\": 0.25356900067980964}, {\"A2_3\": 4.0, \"J1\": 5.667831057478565, \"B1_1\": 5.807875516036837, \"B1_2\": 5.784375992378533, \"C1_1\": 6.637980311209908, \"C1_2\": 6.200381073356621, \"D1\": 1.3550333439187043, \"D2_1\": 5.099950763170852, \"D2_2\": 5.028064992614476, \"D2_3\": 5.103397341211226, \"E1_1\": 5.52143537630994, \"E1_2\": 4.871387742140362, \"E1_3\": 6.798348682121309, \"A1_1\": 1.0, \"A1_2\": 0.2527786598920292, \"A1_3\": 0.15655763734518896, \"A1_4\": 0.0, \"A2_1\": 2.742731898515513, \"A2_2\": 3.920650510174184, \"A3\": 4.653223245474754, \"F1\": 1.511908542394411, \"F2\": 3.873780091086532, \"F3\": 1.7110193712289616, \"F4\": 4.224175824175824, \"F5\": 1.5731166912850811, \"F6\": 4.094579008073818, \"genero\": 0.5335026992696094, \"renda\": 2.256474535783576, \"contribuintes_renda\": 2.058431248015243, \"CLARO\": 0.20006351222610352, \"NEXTEL\": 0.003493172435693871, \"OI\": 0.2667513496348047, \"SERCOMTEL\": 0.004445855827246745, \"TIM\": 0.25849476024134643, \"VIVO\": 0.2515084153699587}, {\"A2_3\": 5.0, \"J1\": 6.0475816736976356, \"B1_1\": 6.3792798979691945, \"B1_2\": 6.429804767978024, \"C1_1\": 7.038752084764054, \"C1_2\": 6.535367409006181, \"D1\": 1.397920141273423, \"D2_1\": 5.47075118135897, \"D2_2\": 5.283689098908261, \"D2_3\": 5.478409646407039, \"E1_1\": 6.025311488276268, \"E1_2\": 5.35220249190621, \"E1_3\": 7.263416069851859, \"A1_1\": 1.0, \"A1_2\": 0.2563523987049936, \"A1_3\": 0.15216324928872757, \"A1_4\": 0.0, \"A2_1\": 3.3651224198945338, \"A2_2\": 4.568787545051848, \"A3\": 5.492200529775336, \"F1\": 1.5624448150691652, \"F2\": 4.337219730941704, \"F3\": 1.7426665358579416, \"F4\": 4.50438429279451, \"F5\": 1.6066481994459834, \"F6\": 4.191797845898923, \"genero\": 0.500441479446679, \"renda\": 2.1290605031715413, \"contribuintes_renda\": 2.0696556460315905, \"CLARO\": 0.2227999607573825, \"NEXTEL\": 0.002648876680074561, \"OI\": 0.2576277837731777, \"SERCOMTEL\": 0.00470911409791033, \"TIM\": 0.231335230059845, \"VIVO\": 0.26312175022073975}, {\"A2_3\": 6.0, \"J1\": 6.502740408570005, \"B1_1\": 6.79737585118751, \"B1_2\": 6.6314565686763, \"C1_1\": 7.403919614681946, \"C1_2\": 6.92874937717987, \"D1\": 1.3868128217904003, \"D2_1\": 5.975352112676056, \"D2_2\": 5.943932827735645, \"D2_3\": 5.976164680390032, \"E1_1\": 6.39229363893041, \"E1_2\": 5.902840059790733, \"E1_3\": 7.329347284504236, \"A1_1\": 1.0, \"A1_2\": 0.2612522836738083, \"A1_3\": 0.14964291645905994, \"A1_4\": 0.0, \"A2_1\": 4.33034976829789, \"A2_2\": 5.5105189980697045, \"A3\": 6.219398770968278, \"F1\": 1.6161767148314234, \"F2\": 5.283427087840762, \"F3\": 1.778276033881415, \"F4\": 5.352059925093633, \"F5\": 1.6554712892741061, \"F6\": 5.15566037735849, \"genero\": 0.5261584454409567, \"renda\": 2.1536981195366467, \"contribuintes_renda\": 2.0803853180534797, \"CLARO\": 0.22737086862647402, \"NEXTEL\": 0.0029895366218236174, \"OI\": 0.24995847865803023, \"SERCOMTEL\": 0.006145158611526325, \"TIM\": 0.24746719813984389, \"VIVO\": 0.24613851519681115}, {\"A2_3\": 7.0, \"J1\": 6.9409949504394985, \"B1_1\": 7.346829998129793, \"B1_2\": 7.247989526837479, \"C1_1\": 7.749859734430522, \"C1_2\": 7.360950065457266, \"D1\": 1.3652515429212642, \"D2_1\": 6.430318208603418, \"D2_2\": 6.375957572186211, \"D2_3\": 6.451090159104302, \"E1_1\": 7.0104731625210395, \"E1_2\": 6.479334206096877, \"E1_3\": 7.783055919207032, \"A1_1\": 1.0, \"A1_2\": 0.28109220123433704, \"A1_3\": 0.1407331213764728, \"A1_4\": 0.0, \"A2_1\": 5.160073880452553, \"A2_2\": 6.2035660979851635, \"A3\": 6.930895829437068, \"F1\": 1.6570039274359454, \"F2\": 5.997546346782988, \"F3\": 1.8192444361324107, \"F4\": 5.804966373512674, \"F5\": 1.681054802592811, \"F6\": 5.6665127020785215, \"genero\": 0.4961660744342622, \"renda\": 2.1204057830814564, \"contribuintes_renda\": 2.098279409014401, \"CLARO\": 0.2390125303908734, \"NEXTEL\": 0.003646904806433514, \"OI\": 0.24293996633626333, \"SERCOMTEL\": 0.006171685057041331, \"TIM\": 0.2519169627828689, \"VIVO\": 0.2365812605199177}, {\"A2_3\": 7.124684346584955, \"J1\": 7.178907806556783, \"B1_1\": 8.189186741532332, \"B1_2\": 8.185262331703195, \"C1_1\": 8.012648674756988, \"C1_2\": 7.631286602668599, \"D1\": 1.463865241804021, \"D2_1\": 6.972184684684684, \"D2_2\": 6.900957207207207, \"D2_3\": 7.08079954954955, \"E1_1\": 7.830148523818149, \"E1_2\": 7.173006097929119, \"E1_3\": 8.37296987260762, \"A1_1\": 0.005433798224959247, \"A1_2\": 0.17353438386765682, \"A1_3\": 0.11744551107891082, \"A1_4\": 0.7264837287930931, \"A2_1\": 5.310225544229442, \"A2_2\": 6.283806087402547, \"A3\": 19.180555555555557, \"F1\": 1.8458310692507396, \"F2\": 5.399255923242608, \"F3\": 1.9131799794723179, \"F4\": 4.8885605006954105, \"F5\": 1.8587556306306305, \"F6\": 5.382898146302571, \"genero\": 0.5144448469480166, \"renda\": 2.1083233681062543, \"contribuintes_renda\": 2.055953027833122, \"CLARO\": 0.2374117007788444, \"NEXTEL\": 0.0055394554126667874, \"OI\": 0.24569824307190727, \"SERCOMTEL\": 0.007682786934734046, \"TIM\": 0.2425738090925557, \"VIVO\": 0.23400048300428666}, {\"A2_3\": 8.0, \"J1\": 7.347333841731683, \"B1_1\": 7.74734557400129, \"B1_2\": 7.879157623042177, \"C1_1\": 8.145597465829765, \"C1_2\": 7.7011790930955595, \"D1\": 1.3894526896228074, \"D2_1\": 7.008166794773252, \"D2_2\": 6.841179861644888, \"D2_3\": 6.9073789392774785, \"E1_1\": 7.556578870182437, \"E1_2\": 7.144424238869009, \"E1_3\": 8.170880506834047, \"A1_1\": 1.0, \"A1_2\": 0.28462486067929843, \"A1_3\": 0.15293013433448702, \"A1_4\": 0.0, \"A2_1\": 5.893260885952696, \"A2_2\": 6.878737854850913, \"A3\": 7.730216460374259, \"F1\": 1.699184607262275, \"F2\": 6.684672386895476, \"F3\": 1.8401478265970552, \"F4\": 6.322935779816514, \"F5\": 1.7169485011529593, \"F6\": 6.371690427698574, \"genero\": 0.49609902035548775, \"renda\": 2.0653379560304796, \"contribuintes_renda\": 2.0609491406112515, \"CLARO\": 0.23916231595002052, \"NEXTEL\": 0.0031090514460022293, \"OI\": 0.2445004986214583, \"SERCOMTEL\": 0.009385815686044465, \"TIM\": 0.23963160673432277, \"VIVO\": 0.2352906669795272}, {\"A2_3\": 9.0, \"J1\": 7.837558247903075, \"B1_1\": 8.362348555452003, \"B1_2\": 8.341938490214352, \"C1_1\": 8.602982292637465, \"C1_2\": 8.232898415657036, \"D1\": 1.377632805219012, \"D2_1\": 7.511230907457323, \"D2_2\": 7.515423779574723, \"D2_3\": 7.573674752920036, \"E1_1\": 8.169058713886301, \"E1_2\": 7.796178937558248, \"E1_3\": 8.654333643988817, \"A1_1\": 1.0, \"A1_2\": 0.29030754892823857, \"A1_3\": 0.16272134203168687, \"A1_4\": 0.0, \"A2_1\": 6.8199379923829, \"A2_2\": 7.71655224851898, \"A3\": 8.56784715750233, \"F1\": 1.722739981360671, \"F2\": 7.529747899159664, \"F3\": 1.8704566635601119, \"F4\": 7.03453237410072, \"F5\": 1.7394429469901167, \"F6\": 7.122988505747126, \"genero\": 0.46821994408201306, \"renda\": 1.9541046180936499, \"contribuintes_renda\": 2.1375582479030757, \"CLARO\": 0.24855545200372786, \"NEXTEL\": 0.00521901211556384, \"OI\": 0.22777260018639328, \"SERCOMTEL\": 0.012022367194780987, \"TIM\": 0.23783783783783785, \"VIVO\": 0.2392357875116496}, {\"A2_3\": 10.0, \"J1\": 8.426495843923885, \"B1_1\": 8.995603489730026, \"B1_2\": 8.84893865494264, \"C1_1\": 9.092086281514048, \"C1_2\": 8.569966339218245, \"D1\": 1.4115889262897574, \"D2_1\": 8.199462961881968, \"D2_2\": 8.024808826104723, \"D2_3\": 8.222228708189832, \"E1_1\": 8.775846671704334, \"E1_2\": 8.406711547709007, \"E1_3\": 9.247544136841382, \"A1_1\": 1.0, \"A1_2\": 0.31115614481005704, \"A1_3\": 0.20340729545922923, \"A1_4\": 0.0, \"A2_1\": 7.440340677267115, \"A2_2\": 8.361495127113038, \"A3\": 9.24125850106478, \"F1\": 1.727588101944082, \"F2\": 7.807212205270457, \"F3\": 1.865082091090197, \"F4\": 7.541751527494909, \"F5\": 1.7641702177339327, \"F6\": 7.203712871287129, \"genero\": 0.4522909940234939, \"renda\": 1.8077611683443182, \"contribuintes_renda\": 2.180119530122965, \"CLARO\": 0.25637150511781276, \"NEXTEL\": 0.006045201621213162, \"OI\": 0.22271072336333037, \"SERCOMTEL\": 0.014048224222023769, \"TIM\": 0.2156694373840764, \"VIVO\": 0.24816239609809715}]}}, {\"mode\": \"vega-lite\"});\n",
       "</script>"
      ],
      "text/plain": [
       "alt.Chart(...)"
      ]
     },
     "execution_count": 63,
     "metadata": {},
     "output_type": "execute_result"
    }
   ],
   "source": [
    "a2_3_groupby = df.groupby(['A2_3'], as_index=False).mean()\n",
    "\n",
    "alt.Chart(a2_3_groupby).mark_line().encode(\n",
    "    x = 'A2_3',\n",
    "    y = alt.Y('J1', title='Média J1'),\n",
    "    tooltip = ['J1', 'A2_3']\n",
    ").properties(\n",
    "    title = 'Média de J1 por nota A2_3'\n",
    ").interactive()"
   ]
  },
  {
   "cell_type": "markdown",
   "metadata": {
    "heading_collapsed": true,
    "hidden": true
   },
   "source": [
    "#### A3"
   ]
  },
  {
   "cell_type": "code",
   "execution_count": 64,
   "metadata": {
    "ExecuteTime": {
     "end_time": "2021-06-26T14:45:17.204270Z",
     "start_time": "2021-06-26T14:45:17.190772Z"
    },
    "hidden": true
   },
   "outputs": [
    {
     "data": {
      "text/plain": [
       "10.0    27251\n",
       "8.0     17340\n",
       "9.0     11009\n",
       "7.0     10871\n",
       "5.0     10798\n",
       "0.0      6803\n",
       "6.0      6584\n",
       "4.0      3124\n",
       "3.0      2981\n",
       "2.0      2548\n",
       "1.0      1103\n",
       "99.0      137\n",
       "Name: A3, dtype: int64"
      ]
     },
     "execution_count": 64,
     "metadata": {},
     "output_type": "execute_result"
    }
   ],
   "source": [
    "df['A3'].value_counts()"
   ]
  },
  {
   "cell_type": "code",
   "execution_count": 65,
   "metadata": {
    "ExecuteTime": {
     "end_time": "2021-06-26T14:45:17.250771Z",
     "start_time": "2021-06-26T14:45:17.205772Z"
    },
    "hidden": true
   },
   "outputs": [
    {
     "data": {
      "text/plain": [
       "count    100412.000000\n",
       "mean          7.046369\n",
       "std           2.941439\n",
       "min           0.000000\n",
       "25%           5.000000\n",
       "50%           8.000000\n",
       "75%          10.000000\n",
       "max          10.000000\n",
       "Name: A3, dtype: float64"
      ]
     },
     "execution_count": 65,
     "metadata": {},
     "output_type": "execute_result"
    }
   ],
   "source": [
    "df.query('A3 != 99')['A3'].describe()"
   ]
  },
  {
   "cell_type": "code",
   "execution_count": 66,
   "metadata": {
    "ExecuteTime": {
     "end_time": "2021-06-26T14:45:17.343772Z",
     "start_time": "2021-06-26T14:45:17.259772Z"
    },
    "hidden": true
   },
   "outputs": [
    {
     "data": {
      "text/plain": [
       "0          7.000000\n",
       "1         10.000000\n",
       "2          9.000000\n",
       "3          7.046369\n",
       "4         10.000000\n",
       "            ...    \n",
       "166694     7.046369\n",
       "166695    10.000000\n",
       "166696     7.046369\n",
       "166697     8.000000\n",
       "166698     7.046369\n",
       "Name: A3, Length: 166441, dtype: float64"
      ]
     },
     "execution_count": 66,
     "metadata": {},
     "output_type": "execute_result"
    }
   ],
   "source": [
    "a3_mean = df.query('A3 != 99')['A3'].describe()['mean']\n",
    "a3_filled = df['A3'].fillna(a3_mean)\n",
    "a3_filled = a3_filled.apply(lambda x: a3_mean if x == 99 else x)\n",
    "a3_filled"
   ]
  },
  {
   "cell_type": "code",
   "execution_count": 67,
   "metadata": {
    "ExecuteTime": {
     "end_time": "2021-06-26T14:45:17.374771Z",
     "start_time": "2021-06-26T14:45:17.348274Z"
    },
    "hidden": true
   },
   "outputs": [
    {
     "data": {
      "text/plain": [
       "count    166441.000000\n",
       "mean          7.046369\n",
       "std           2.284660\n",
       "min           0.000000\n",
       "25%           7.000000\n",
       "50%           7.046369\n",
       "75%           8.000000\n",
       "max          10.000000\n",
       "Name: A3, dtype: float64"
      ]
     },
     "execution_count": 67,
     "metadata": {},
     "output_type": "execute_result"
    }
   ],
   "source": [
    "df['A3'] = a3_filled\n",
    "df['A3'].describe()"
   ]
  },
  {
   "cell_type": "code",
   "execution_count": 68,
   "metadata": {
    "ExecuteTime": {
     "end_time": "2021-06-26T14:45:17.545272Z",
     "start_time": "2021-06-26T14:45:17.376271Z"
    },
    "hidden": true,
    "scrolled": true
   },
   "outputs": [
    {
     "data": {
      "text/html": [
       "\n",
       "<div id=\"altair-viz-e489989f33e04235bd415f94cd9a66e6\"></div>\n",
       "<script type=\"text/javascript\">\n",
       "  (function(spec, embedOpt){\n",
       "    let outputDiv = document.currentScript.previousElementSibling;\n",
       "    if (outputDiv.id !== \"altair-viz-e489989f33e04235bd415f94cd9a66e6\") {\n",
       "      outputDiv = document.getElementById(\"altair-viz-e489989f33e04235bd415f94cd9a66e6\");\n",
       "    }\n",
       "    const paths = {\n",
       "      \"vega\": \"https://cdn.jsdelivr.net/npm//vega@5?noext\",\n",
       "      \"vega-lib\": \"https://cdn.jsdelivr.net/npm//vega-lib?noext\",\n",
       "      \"vega-lite\": \"https://cdn.jsdelivr.net/npm//vega-lite@4.8.1?noext\",\n",
       "      \"vega-embed\": \"https://cdn.jsdelivr.net/npm//vega-embed@6?noext\",\n",
       "    };\n",
       "\n",
       "    function loadScript(lib) {\n",
       "      return new Promise(function(resolve, reject) {\n",
       "        var s = document.createElement('script');\n",
       "        s.src = paths[lib];\n",
       "        s.async = true;\n",
       "        s.onload = () => resolve(paths[lib]);\n",
       "        s.onerror = () => reject(`Error loading script: ${paths[lib]}`);\n",
       "        document.getElementsByTagName(\"head\")[0].appendChild(s);\n",
       "      });\n",
       "    }\n",
       "\n",
       "    function showError(err) {\n",
       "      outputDiv.innerHTML = `<div class=\"error\" style=\"color:red;\">${err}</div>`;\n",
       "      throw err;\n",
       "    }\n",
       "\n",
       "    function displayChart(vegaEmbed) {\n",
       "      vegaEmbed(outputDiv, spec, embedOpt)\n",
       "        .catch(err => showError(`Javascript Error: ${err.message}<br>This usually means there's a typo in your chart specification. See the javascript console for the full traceback.`));\n",
       "    }\n",
       "\n",
       "    if(typeof define === \"function\" && define.amd) {\n",
       "      requirejs.config({paths});\n",
       "      require([\"vega-embed\"], displayChart, err => showError(`Error loading script: ${err.message}`));\n",
       "    } else if (typeof vegaEmbed === \"function\") {\n",
       "      displayChart(vegaEmbed);\n",
       "    } else {\n",
       "      loadScript(\"vega\")\n",
       "        .then(() => loadScript(\"vega-lite\"))\n",
       "        .then(() => loadScript(\"vega-embed\"))\n",
       "        .catch(showError)\n",
       "        .then(() => displayChart(vegaEmbed));\n",
       "    }\n",
       "  })({\"config\": {\"view\": {\"continuousWidth\": 400, \"continuousHeight\": 300}}, \"data\": {\"name\": \"data-f60a135e9b8693dad6c533fa6e3faf21\"}, \"mark\": \"line\", \"encoding\": {\"tooltip\": [{\"type\": \"quantitative\", \"field\": \"J1\"}, {\"type\": \"quantitative\", \"field\": \"A3\"}], \"x\": {\"type\": \"quantitative\", \"field\": \"A3\"}, \"y\": {\"type\": \"quantitative\", \"field\": \"J1\", \"title\": \"M\\u00e9dia J1\"}}, \"selection\": {\"selector007\": {\"type\": \"interval\", \"bind\": \"scales\", \"encodings\": [\"x\", \"y\"]}}, \"title\": \"M\\u00e9dia de J1 por nota A3\", \"$schema\": \"https://vega.github.io/schema/vega-lite/v4.8.1.json\", \"datasets\": {\"data-f60a135e9b8693dad6c533fa6e3faf21\": [{\"A3\": 0.0, \"J1\": 4.062913420549758, \"B1_1\": 4.144642069675143, \"B1_2\": 3.7593708657945024, \"C1_1\": 5.619285609290019, \"C1_2\": 4.851389093047185, \"D1\": 1.3982066735263854, \"D2_1\": 3.769174401563263, \"D2_2\": 3.659257449926722, \"D2_3\": 3.869076697606253, \"E1_1\": 3.9323827723063354, \"E1_2\": 3.23695428487432, \"E1_3\": 5.924739085697486, \"A1_1\": 1.0, \"A1_2\": 0.23386741143613113, \"A1_3\": 0.18183154490665882, \"A1_4\": 0.0, \"A2_1\": 0.713726835891097, \"A2_2\": 1.5269895823161252, \"A2_3\": 2.3201517601525863, \"F1\": 1.3740996619138615, \"F2\": 1.9011272898074214, \"F3\": 1.5741584595031604, \"F4\": 1.760787021056265, \"F5\": 1.5065950170981925, \"F6\": 1.8153465346534654, \"genero\": 0.48625606350139644, \"renda\": 2.187294358908873, \"contribuintes_renda\": 2.0996619138615316, \"CLARO\": 0.19829486991033368, \"NEXTEL\": 0.003527855357930325, \"OI\": 0.2778186094370131, \"SERCOMTEL\": 0.002204909598706453, \"TIM\": 0.1868293399970601, \"VIVO\": 0.3217698074378951}, {\"A3\": 1.0, \"J1\": 4.43155031731641, \"B1_1\": 4.674524025385312, \"B1_2\": 4.116953762466002, \"C1_1\": 5.524025385312783, \"C1_2\": 5.274705349048051, \"D1\": 1.3345421577515866, \"D2_1\": 3.8732970027247955, \"D2_2\": 3.803814713896458, \"D2_3\": 3.810626702997275, \"E1_1\": 4.456935630099728, \"E1_2\": 3.788757932910245, \"E1_3\": 5.758839528558477, \"A1_1\": 1.0, \"A1_2\": 0.26835902085222124, \"A1_3\": 0.1767905711695376, \"A1_4\": 0.0, \"A2_1\": 1.3079065422862948, \"A2_2\": 2.3157610200724066, \"A2_3\": 2.880665505929062, \"F1\": 1.4224841341795105, \"F2\": 2.4081632653061225, \"F3\": 1.6328195829555756, \"F4\": 2.651851851851852, \"F5\": 1.5245231607629428, \"F6\": 2.524355300859599, \"genero\": 0.5448776065276518, \"renda\": 2.3949830697481467, \"contribuintes_renda\": 2.032638259292838, \"CLARO\": 0.21758839528558477, \"NEXTEL\": 0.001813236627379873, \"OI\": 0.27651858567543064, \"SERCOMTEL\": 0.007252946509519492, \"TIM\": 0.22393472348141433, \"VIVO\": 0.2556663644605621}, {\"A3\": 2.0, \"J1\": 4.854788069073783, \"B1_1\": 5.074175824175824, \"B1_2\": 4.592229199372056, \"C1_1\": 5.871664050235479, \"C1_2\": 5.420329670329671, \"D1\": 1.3885400313971743, \"D2_1\": 4.2496790757381255, \"D2_2\": 4.16367137355584, \"D2_3\": 4.5, \"E1_1\": 4.638932496075353, \"E1_2\": 3.943877551020408, \"E1_3\": 5.936028257456829, \"A1_1\": 1.0, \"A1_2\": 0.24332810047095763, \"A1_3\": 0.16601255886970173, \"A1_4\": 0.0, \"A2_1\": 1.5029640072034767, \"A2_2\": 2.71820676451297, \"A2_3\": 3.3755877059547412, \"F1\": 1.4403453689167975, \"F2\": 2.847124824684432, \"F3\": 1.652276295133438, \"F4\": 2.950338600451467, \"F5\": 1.5121951219512195, \"F6\": 3.0276315789473682, \"genero\": 0.5035321821036107, \"renda\": 2.238068748388107, \"contribuintes_renda\": 2.0364992150706436, \"CLARO\": 0.1978021978021978, \"NEXTEL\": 0.0019623233908948193, \"OI\": 0.2755102040816326, \"SERCOMTEL\": 0.0019623233908948193, \"TIM\": 0.24058084772370486, \"VIVO\": 0.27237048665620095}, {\"A3\": 3.0, \"J1\": 4.998658168399865, \"B1_1\": 5.19490103991949, \"B1_2\": 4.927876551492788, \"C1_1\": 6.13720228111372, \"C1_2\": 5.588728614558873, \"D1\": 1.370680979537068, \"D2_1\": 4.553837953091684, \"D2_2\": 4.318230277185501, \"D2_3\": 4.297974413646055, \"E1_1\": 4.823884602482388, \"E1_2\": 4.159007044615901, \"E1_3\": 6.306273062730627, \"A1_1\": 1.0, \"A1_2\": 0.23616236162361623, \"A1_3\": 0.17477356591747736, \"A1_4\": 0.0, \"A2_1\": 1.9637475257338728, \"A2_2\": 3.2754078617843168, \"A2_3\": 3.9365557834371336, \"F1\": 1.4521972492452198, \"F2\": 3.1788120024494795, \"F3\": 1.649111036564911, \"F4\": 3.303059273422562, \"F5\": 1.5485074626865671, \"F6\": 3.167650531286895, \"genero\": 0.5582019456558202, \"renda\": 2.3291713127326568, \"contribuintes_renda\": 2.0838644750083866, \"CLARO\": 0.1985910768198591, \"NEXTEL\": 0.0026836632002683663, \"OI\": 0.28178463602817844, \"SERCOMTEL\": 0.004360952700436095, \"TIM\": 0.2401878564240188, \"VIVO\": 0.2556189198255619}, {\"A3\": 4.0, \"J1\": 5.4593469910371315, \"B1_1\": 5.658130601792574, \"B1_2\": 5.679577464788732, \"C1_1\": 6.379001280409731, \"C1_2\": 5.9593469910371315, \"D1\": 1.370358514724712, \"D2_1\": 5.050330452465683, \"D2_2\": 4.913065582104728, \"D2_3\": 5.0259278088459585, \"E1_1\": 5.467669654289373, \"E1_2\": 4.686939820742638, \"E1_3\": 6.571062740076824, \"A1_1\": 1.0, \"A1_2\": 0.25224071702944945, \"A1_3\": 0.15396927016645326, \"A1_4\": 0.0, \"A2_1\": 2.629840242042824, \"A2_2\": 3.97283241246431, \"A2_3\": 4.729032886487305, \"F1\": 1.509923175416133, \"F2\": 3.8393207054212932, \"F3\": 1.6914212548015366, \"F4\": 3.9844398340248963, \"F5\": 1.563294356888663, \"F6\": 3.8451688009313156, \"genero\": 0.5396927016645326, \"renda\": 2.2942982571296664, \"contribuintes_renda\": 2.0630601792573624, \"CLARO\": 0.20358514724711907, \"NEXTEL\": 0.002880921895006402, \"OI\": 0.26696542893725994, \"SERCOMTEL\": 0.002880921895006402, \"TIM\": 0.24647887323943662, \"VIVO\": 0.2628040973111396}, {\"A3\": 5.0, \"J1\": 5.918132987590295, \"B1_1\": 6.322189294313762, \"B1_2\": 6.0689016484534175, \"C1_1\": 6.959899981478052, \"C1_2\": 6.443415447305057, \"D1\": 1.3793295054639747, \"D2_1\": 5.320202924500149, \"D2_2\": 5.2512682781259326, \"D2_3\": 5.332587287376902, \"E1_1\": 5.8938692350435264, \"E1_2\": 5.177069827745878, \"E1_3\": 7.1337284682348585, \"A1_1\": 1.0, \"A1_2\": 0.25995554732357845, \"A1_3\": 0.14947212446749397, \"A1_4\": 0.0, \"A2_1\": 3.120156602491333, \"A2_2\": 4.525805838739904, \"A2_3\": 5.5081256279308715, \"F1\": 1.5479718466382664, \"F2\": 4.3980741651300965, \"F3\": 1.7403222819040562, \"F4\": 4.521754636233951, \"F5\": 1.5948970456580125, \"F6\": 4.353959484346225, \"genero\": 0.5045378773847009, \"renda\": 2.1290498052622713, \"contribuintes_renda\": 2.0651046490090756, \"CLARO\": 0.2179107242081867, \"NEXTEL\": 0.0025930727912576402, \"OI\": 0.25819596221522506, \"SERCOMTEL\": 0.005093535839970365, \"TIM\": 0.23383959992591222, \"VIVO\": 0.2652343026486386}, {\"A3\": 6.0, \"J1\": 6.416160388821385, \"B1_1\": 6.739368165249089, \"B1_2\": 6.794198055893074, \"C1_1\": 7.3476609963548, \"C1_2\": 6.904921020656136, \"D1\": 1.3874544349939246, \"D2_1\": 6.0376890652120005, \"D2_2\": 5.896355070666997, \"D2_3\": 5.872551450533102, \"E1_1\": 6.514125151883354, \"E1_2\": 5.826701093560146, \"E1_3\": 7.4014277035236935, \"A1_1\": 1.0, \"A1_2\": 0.25637910085054677, \"A1_3\": 0.14793438639125153, \"A1_4\": 0.0, \"A2_1\": 4.233041678765567, \"A2_2\": 5.488363513003573, \"A2_3\": 6.259985275763195, \"F1\": 1.6125455650060754, \"F2\": 5.39749117992944, \"F3\": 1.7835662211421628, \"F4\": 5.298245614035087, \"F5\": 1.6424497892387802, \"F6\": 5.246185852981969, \"genero\": 0.5246051032806804, \"renda\": 2.1702693050067774, \"contribuintes_renda\": 2.052703523693803, \"CLARO\": 0.22083839611178616, \"NEXTEL\": 0.0037970838396111785, \"OI\": 0.25683475091130015, \"SERCOMTEL\": 0.00425273390036452, \"TIM\": 0.24468408262454436, \"VIVO\": 0.2522782503037667}, {\"A3\": 7.0, \"J1\": 6.89734155091528, \"B1_1\": 7.331064299512464, \"B1_2\": 7.390856406954282, \"C1_1\": 7.728635820071751, \"C1_2\": 7.302732039370803, \"D1\": 1.360224450372551, \"D2_1\": 6.455068296189792, \"D2_2\": 6.329834651329978, \"D2_3\": 6.570237239396118, \"E1_1\": 6.968632140557446, \"E1_2\": 6.458283506577132, \"E1_3\": 7.766258853831294, \"A1_1\": 1.0, \"A1_2\": 0.272468034219483, \"A1_3\": 0.1470885843068715, \"A1_4\": 0.0, \"A2_1\": 5.135923484518225, \"A2_2\": 6.2150338624479415, \"A2_3\": 7.0907910862929535, \"F1\": 1.6559654125655414, \"F2\": 6.058021390374331, \"F3\": 1.8179560298040658, \"F4\": 5.975240020212229, \"F5\": 1.6721782890007189, \"F6\": 5.769298245614035, \"genero\": 0.5006899089320209, \"renda\": 2.0954102963434242, \"contribuintes_renda\": 2.062275779597093, \"CLARO\": 0.23631680618158404, \"NEXTEL\": 0.003403550731303468, \"OI\": 0.24064023548891547, \"SERCOMTEL\": 0.006991077177812529, \"TIM\": 0.2611535277343391, \"VIVO\": 0.23171741330144421}, {\"A3\": 7.046368959885273, \"J1\": 7.180299565342501, \"B1_1\": 8.161777400839025, \"B1_2\": 8.169274106831846, \"C1_1\": 8.007723878901695, \"C1_2\": 7.621590513259325, \"D1\": 1.4632964303563585, \"D2_1\": 6.975337208646086, \"D2_2\": 6.90123596139737, \"D2_3\": 7.07280320559851, \"E1_1\": 7.8137787941662, \"E1_2\": 7.1584000969271075, \"E1_3\": 8.361477532599313, \"A1_1\": 0.002074845901043481, \"A1_2\": 0.1734540883551167, \"A1_3\": 0.11752411819049206, \"A1_4\": 0.7289372851322904, \"A2_1\": 5.310140918935698, \"A2_2\": 6.2835004754962975, \"A2_3\": 7.123348242891964, \"F1\": 1.8460222023656272, \"F2\": 5.377692534670994, \"F3\": 1.9130382104832726, \"F4\": 4.890107976314873, \"F5\": 1.8585416784242903, \"F6\": 5.409335727109515, \"genero\": 0.5146375077617411, \"renda\": 2.108046900965714, \"contribuintes_renda\": 2.056187432794681, \"CLARO\": 0.2377743112874646, \"NEXTEL\": 0.005573308697693438, \"OI\": 0.245679928516258, \"SERCOMTEL\": 0.007693589180511593, \"TIM\": 0.24234805918611518, \"VIVO\": 0.23385179239425102}, {\"A3\": 8.0, \"J1\": 7.403517877739331, \"B1_1\": 7.849365628604383, \"B1_2\": 7.885063437139562, \"C1_1\": 8.2280276816609, \"C1_2\": 7.806920415224914, \"D1\": 1.3895040369088811, \"D2_1\": 7.0422255809559795, \"D2_2\": 6.945966370678255, \"D2_3\": 7.01757037596826, \"E1_1\": 7.6522491349480966, \"E1_2\": 7.232583621683967, \"E1_3\": 8.330161476355247, \"A1_1\": 1.0, \"A1_2\": 0.2841407151095732, \"A1_3\": 0.15144175317185699, \"A1_4\": 0.0, \"A2_1\": 5.953639627959664, \"A2_2\": 6.919515793419969, \"A2_3\": 7.803041116188892, \"F1\": 1.6978085351787775, \"F2\": 6.857824427480916, \"F3\": 1.8434832756632065, \"F4\": 6.567059690493736, \"F5\": 1.7259588135273003, \"F6\": 6.452947259565667, \"genero\": 0.49232987312572085, \"renda\": 2.0406050417201427, \"contribuintes_renda\": 2.072087658592849, \"CLARO\": 0.23927335640138409, \"NEXTEL\": 0.003690888119953864, \"OI\": 0.2409457900807382, \"SERCOMTEL\": 0.01061130334486736, \"TIM\": 0.2408881199538639, \"VIVO\": 0.23708189158016146}, {\"A3\": 9.0, \"J1\": 8.034153874103007, \"B1_1\": 8.502316286674539, \"B1_2\": 8.684076664547188, \"C1_1\": 8.774093923153783, \"C1_2\": 8.391952039240621, \"D1\": 1.3854119356889818, \"D2_1\": 7.764705882352941, \"D2_2\": 7.630653266331659, \"D2_3\": 7.715932604197458, \"E1_1\": 8.332455263875012, \"E1_2\": 8.005904260150785, \"E1_3\": 8.826778090653102, \"A1_1\": 1.0, \"A1_2\": 0.29857389408665636, \"A1_3\": 0.15868834589881006, \"A1_4\": 0.0, \"A2_1\": 7.089222010749331, \"A2_2\": 7.846375079223188, \"A2_3\": 8.63702333537021, \"F1\": 1.7410300663093832, \"F2\": 7.70080673447913, \"F3\": 1.8741938414024888, \"F4\": 7.387003610108303, \"F5\": 1.761010937038132, \"F6\": 7.366110080395795, \"genero\": 0.4636206739940049, \"renda\": 1.942866415967469, \"contribuintes_renda\": 2.111272595149423, \"CLARO\": 0.25760741211735855, \"NEXTEL\": 0.004269234262875829, \"OI\": 0.22708692887637388, \"SERCOMTEL\": 0.012535198473975839, \"TIM\": 0.23680624943228268, \"VIVO\": 0.23026614588064312}, {\"A3\": 10.0, \"J1\": 8.654801658654728, \"B1_1\": 9.202231110784926, \"B1_2\": 9.026421048768853, \"C1_1\": 9.299768815823272, \"C1_2\": 8.791347106528201, \"D1\": 1.4243880958496935, \"D2_1\": 8.414892260614561, \"D2_2\": 8.291215096264185, \"D2_3\": 8.47998214968762, \"E1_1\": 8.944442405783274, \"E1_2\": 8.634178562254597, \"E1_3\": 9.355656673149609, \"A1_1\": 1.0, \"A1_2\": 0.3185571171700121, \"A1_3\": 0.20513008696928553, \"A1_4\": 0.0, \"A2_1\": 7.720144949076606, \"A2_2\": 8.444170903268317, \"A2_3\": 9.293423888357061, \"F1\": 1.7452203588859125, \"F2\": 7.999567910125306, \"F3\": 1.877105427323768, \"F4\": 7.785309047476859, \"F5\": 1.780058651026393, \"F6\": 7.434492753623188, \"genero\": 0.44941470037796777, \"renda\": 1.7940799525285707, \"contribuintes_renda\": 2.208652893471799, \"CLARO\": 0.26156838281163997, \"NEXTEL\": 0.00612821547833107, \"OI\": 0.22142306704341125, \"SERCOMTEL\": 0.013907746504715423, \"TIM\": 0.21591868188323365, \"VIVO\": 0.24160581263072914}]}}, {\"mode\": \"vega-lite\"});\n",
       "</script>"
      ],
      "text/plain": [
       "alt.Chart(...)"
      ]
     },
     "execution_count": 68,
     "metadata": {},
     "output_type": "execute_result"
    }
   ],
   "source": [
    "a3_groupby = df.groupby(['A3'], as_index=False).mean()\n",
    "\n",
    "alt.Chart(a3_groupby).mark_line().encode(\n",
    "    x = 'A3',\n",
    "    y = alt.Y('J1', title='Média J1'),\n",
    "    tooltip = ['J1', 'A3']\n",
    ").properties(\n",
    "    title = 'Média de J1 por nota A3'\n",
    ").interactive()"
   ]
  },
  {
   "cell_type": "markdown",
   "metadata": {
    "heading_collapsed": true,
    "hidden": true
   },
   "source": [
    "## Colunas B1"
   ]
  },
  {
   "cell_type": "markdown",
   "metadata": {
    "hidden": true
   },
   "source": [
    "As colunas B1 não contém valores nulos, mas contém missing data codificadas como 99."
   ]
  },
  {
   "cell_type": "markdown",
   "metadata": {
    "heading_collapsed": true,
    "hidden": true
   },
   "source": [
    "### B1_1"
   ]
  },
  {
   "cell_type": "code",
   "execution_count": 69,
   "metadata": {
    "ExecuteTime": {
     "end_time": "2021-06-26T14:45:17.560771Z",
     "start_time": "2021-06-26T14:45:17.546772Z"
    },
    "hidden": true
   },
   "outputs": [
    {
     "data": {
      "text/plain": [
       "10    40620\n",
       "8     31719\n",
       "7     22241\n",
       "5     20185\n",
       "9     16707\n",
       "6     12215\n",
       "0      8128\n",
       "4      5090\n",
       "3      4155\n",
       "2      3185\n",
       "99     1118\n",
       "1      1078\n",
       "Name: B1_1, dtype: int64"
      ]
     },
     "execution_count": 69,
     "metadata": {},
     "output_type": "execute_result"
    }
   ],
   "source": [
    "df['B1_1'].value_counts()"
   ]
  },
  {
   "cell_type": "code",
   "execution_count": 70,
   "metadata": {
    "ExecuteTime": {
     "end_time": "2021-06-26T14:45:17.607272Z",
     "start_time": "2021-06-26T14:45:17.562271Z"
    },
    "hidden": true
   },
   "outputs": [
    {
     "data": {
      "text/plain": [
       "count    165323.000000\n",
       "mean          7.140507\n",
       "std           2.674809\n",
       "min           0.000000\n",
       "25%           5.000000\n",
       "50%           8.000000\n",
       "75%           9.000000\n",
       "max          10.000000\n",
       "Name: B1_1, dtype: float64"
      ]
     },
     "execution_count": 70,
     "metadata": {},
     "output_type": "execute_result"
    }
   ],
   "source": [
    "df.query('B1_1 != 99')['B1_1'].describe()"
   ]
  },
  {
   "cell_type": "code",
   "execution_count": 71,
   "metadata": {
    "ExecuteTime": {
     "end_time": "2021-06-26T14:45:17.700271Z",
     "start_time": "2021-06-26T14:45:17.608772Z"
    },
    "hidden": true
   },
   "outputs": [
    {
     "data": {
      "text/plain": [
       "0          7.0\n",
       "1         10.0\n",
       "2         10.0\n",
       "3         10.0\n",
       "4         10.0\n",
       "          ... \n",
       "166694    10.0\n",
       "166695    10.0\n",
       "166696     8.0\n",
       "166697     5.0\n",
       "166698     9.0\n",
       "Name: B1_1, Length: 166441, dtype: float64"
      ]
     },
     "execution_count": 71,
     "metadata": {},
     "output_type": "execute_result"
    }
   ],
   "source": [
    "b1_1_mean = df.query('B1_1 != 99')['B1_1'].describe()['mean']\n",
    "b1_1 = df['B1_1']\n",
    "b1_1 = b1_1.apply(lambda x: b1_1_mean if x == 99 else x)\n",
    "b1_1"
   ]
  },
  {
   "cell_type": "code",
   "execution_count": 72,
   "metadata": {
    "ExecuteTime": {
     "end_time": "2021-06-26T14:45:17.731272Z",
     "start_time": "2021-06-26T14:45:17.701773Z"
    },
    "hidden": true
   },
   "outputs": [
    {
     "data": {
      "text/plain": [
       "count    166441.000000\n",
       "mean          7.140507\n",
       "std           2.665810\n",
       "min           0.000000\n",
       "25%           5.000000\n",
       "50%           8.000000\n",
       "75%           9.000000\n",
       "max          10.000000\n",
       "Name: B1_1, dtype: float64"
      ]
     },
     "execution_count": 72,
     "metadata": {},
     "output_type": "execute_result"
    }
   ],
   "source": [
    "df['B1_1'] = b1_1\n",
    "df['B1_1'].describe()"
   ]
  },
  {
   "cell_type": "code",
   "execution_count": 73,
   "metadata": {
    "ExecuteTime": {
     "end_time": "2021-06-26T14:45:17.855272Z",
     "start_time": "2021-06-26T14:45:17.732773Z"
    },
    "hidden": true
   },
   "outputs": [
    {
     "data": {
      "text/html": [
       "\n",
       "<div id=\"altair-viz-b6ce566f6b5340589e54a2fffa6832dd\"></div>\n",
       "<script type=\"text/javascript\">\n",
       "  (function(spec, embedOpt){\n",
       "    let outputDiv = document.currentScript.previousElementSibling;\n",
       "    if (outputDiv.id !== \"altair-viz-b6ce566f6b5340589e54a2fffa6832dd\") {\n",
       "      outputDiv = document.getElementById(\"altair-viz-b6ce566f6b5340589e54a2fffa6832dd\");\n",
       "    }\n",
       "    const paths = {\n",
       "      \"vega\": \"https://cdn.jsdelivr.net/npm//vega@5?noext\",\n",
       "      \"vega-lib\": \"https://cdn.jsdelivr.net/npm//vega-lib?noext\",\n",
       "      \"vega-lite\": \"https://cdn.jsdelivr.net/npm//vega-lite@4.8.1?noext\",\n",
       "      \"vega-embed\": \"https://cdn.jsdelivr.net/npm//vega-embed@6?noext\",\n",
       "    };\n",
       "\n",
       "    function loadScript(lib) {\n",
       "      return new Promise(function(resolve, reject) {\n",
       "        var s = document.createElement('script');\n",
       "        s.src = paths[lib];\n",
       "        s.async = true;\n",
       "        s.onload = () => resolve(paths[lib]);\n",
       "        s.onerror = () => reject(`Error loading script: ${paths[lib]}`);\n",
       "        document.getElementsByTagName(\"head\")[0].appendChild(s);\n",
       "      });\n",
       "    }\n",
       "\n",
       "    function showError(err) {\n",
       "      outputDiv.innerHTML = `<div class=\"error\" style=\"color:red;\">${err}</div>`;\n",
       "      throw err;\n",
       "    }\n",
       "\n",
       "    function displayChart(vegaEmbed) {\n",
       "      vegaEmbed(outputDiv, spec, embedOpt)\n",
       "        .catch(err => showError(`Javascript Error: ${err.message}<br>This usually means there's a typo in your chart specification. See the javascript console for the full traceback.`));\n",
       "    }\n",
       "\n",
       "    if(typeof define === \"function\" && define.amd) {\n",
       "      requirejs.config({paths});\n",
       "      require([\"vega-embed\"], displayChart, err => showError(`Error loading script: ${err.message}`));\n",
       "    } else if (typeof vegaEmbed === \"function\") {\n",
       "      displayChart(vegaEmbed);\n",
       "    } else {\n",
       "      loadScript(\"vega\")\n",
       "        .then(() => loadScript(\"vega-lite\"))\n",
       "        .then(() => loadScript(\"vega-embed\"))\n",
       "        .catch(showError)\n",
       "        .then(() => displayChart(vegaEmbed));\n",
       "    }\n",
       "  })({\"config\": {\"view\": {\"continuousWidth\": 400, \"continuousHeight\": 300}}, \"data\": {\"name\": \"data-a800a47469f3748ad09d6bf93ebd4dd4\"}, \"mark\": \"line\", \"encoding\": {\"tooltip\": [{\"type\": \"quantitative\", \"field\": \"J1\"}, {\"type\": \"quantitative\", \"field\": \"B1_1\"}], \"x\": {\"type\": \"quantitative\", \"field\": \"B1_1\"}, \"y\": {\"type\": \"quantitative\", \"field\": \"J1\", \"title\": \"M\\u00e9dia J1\"}}, \"selection\": {\"selector008\": {\"type\": \"interval\", \"bind\": \"scales\", \"encodings\": [\"x\", \"y\"]}}, \"title\": \"M\\u00e9dia de J1 por nota B1_1\", \"$schema\": \"https://vega.github.io/schema/vega-lite/v4.8.1.json\", \"datasets\": {\"data-a800a47469f3748ad09d6bf93ebd4dd4\": [{\"B1_1\": 0.0, \"J1\": 3.1035925196850394, \"B1_2\": 2.5670521653543306, \"C1_1\": 5.174581692913386, \"C1_2\": 4.53949311023622, \"D1\": 1.4888041338582678, \"D2_1\": 3.2192539109506617, \"D2_2\": 3.1968712394705174, \"D2_3\": 3.327557160048135, \"E1_1\": 3.6641240157480315, \"E1_2\": 2.766732283464567, \"E1_3\": 5.73191437007874, \"A1_1\": 0.625, \"A1_2\": 0.18725393700787402, \"A1_3\": 0.15292814960629922, \"A1_4\": 0.2947834645669291, \"A2_1\": 3.0271435301515175, \"A2_2\": 3.708606664505827, \"A2_3\": 4.881955164286802, \"A3\": 4.697082802318706, \"F1\": 1.482529527559055, \"F2\": 1.9671897289586304, \"F3\": 1.6519438976377954, \"F4\": 1.8610816542948039, \"F5\": 1.5634175691937424, \"F6\": 2.0540242557883133, \"genero\": 0.5067667322834646, \"renda\": 2.1561821901902922, \"contribuintes_renda\": 2.0625, \"CLARO\": 0.23203740157480315, \"NEXTEL\": 0.0031988188976377952, \"OI\": 0.28518700787401574, \"SERCOMTEL\": 0.0017224409448818897, \"TIM\": 0.20091043307086615, \"VIVO\": 0.26316437007874016}, {\"B1_1\": 1.0, \"J1\": 3.099257884972171, \"B1_2\": 2.9675324675324677, \"C1_1\": 4.899814471243043, \"C1_2\": 4.379406307977736, \"D1\": 1.4471243042671613, \"D2_1\": 3.2348993288590604, \"D2_2\": 3.063758389261745, \"D2_3\": 3.12248322147651, \"E1_1\": 3.566790352504638, \"E1_2\": 2.688311688311688, \"E1_3\": 5.296846011131725, \"A1_1\": 0.6410018552875696, \"A1_2\": 0.1790352504638219, \"A1_3\": 0.16419294990723562, \"A1_4\": 0.2820037105751391, \"A2_1\": 3.094116634050088, \"A2_2\": 3.9133892387820626, \"A2_3\": 4.881843130953771, \"A3\": 4.595582120032798, \"F1\": 1.5547309833024119, \"F2\": 2.31875, \"F3\": 1.7003710575139146, \"F4\": 2.08359133126935, \"F5\": 1.5973154362416107, \"F6\": 1.9208333333333334, \"genero\": 0.588126159554731, \"renda\": 2.409536404579625, \"contribuintes_renda\": 2.0779220779220777, \"CLARO\": 0.212430426716141, \"NEXTEL\": 0.0037105751391465678, \"OI\": 0.300556586270872, \"SERCOMTEL\": 0.0009276437847866419, \"TIM\": 0.23098330241187384, \"VIVO\": 0.23469387755102042}, {\"B1_1\": 2.0, \"J1\": 3.8119309262166405, \"B1_2\": 3.975510204081633, \"C1_1\": 5.41193092621664, \"C1_2\": 5.020408163265306, \"D1\": 1.4546310832025118, \"D2_1\": 3.736902705814623, \"D2_2\": 3.533678756476684, \"D2_3\": 3.6286701208981, \"E1_1\": 4.033594976452119, \"E1_2\": 3.2759811616954475, \"E1_3\": 5.788383045525903, \"A1_1\": 0.6317111459968603, \"A1_2\": 0.1858712715855573, \"A1_3\": 0.16012558869701726, \"A1_4\": 0.2882260596546311, \"A2_1\": 3.215296580066011, \"A2_2\": 4.145824577852205, \"A2_3\": 5.12413717352075, \"A3\": 4.943322928686142, \"F1\": 1.5591836734693878, \"F2\": 2.511396011396011, \"F3\": 1.7306122448979593, \"F4\": 2.858974358974359, \"F5\": 1.5975820379965457, \"F6\": 2.547925608011445, \"genero\": 0.5585557299843014, \"renda\": 2.3805808479349597, \"contribuintes_renda\": 2.0455259026687598, \"CLARO\": 0.2141287284144427, \"NEXTEL\": 0.00282574568288854, \"OI\": 0.2897959183673469, \"SERCOMTEL\": 0.002197802197802198, \"TIM\": 0.23108320251177394, \"VIVO\": 0.24050235478806908}, {\"B1_1\": 3.0, \"J1\": 4.387725631768953, \"B1_2\": 4.451744885679903, \"C1_1\": 5.756678700361011, \"C1_2\": 5.3653429602888085, \"D1\": 1.4332129963898916, \"D2_1\": 4.039915074309979, \"D2_2\": 4.094267515923567, \"D2_3\": 4.300636942675159, \"E1_1\": 4.836582430806257, \"E1_2\": 3.7552346570397113, \"E1_3\": 6.103730445246691, \"A1_1\": 0.6247894103489772, \"A1_2\": 0.1927797833935018, \"A1_3\": 0.153309265944645, \"A1_4\": 0.28303249097472927, \"A2_1\": 3.4614310384605105, \"A2_2\": 4.429177295895758, \"A2_3\": 5.442991513788697, \"A3\": 5.2448572674802545, \"F1\": 1.5694344163658243, \"F2\": 3.0111794298490775, \"F3\": 1.731167268351384, \"F4\": 3.0662488809310653, \"F5\": 1.629299363057325, \"F6\": 3.1672394043528063, \"genero\": 0.5819494584837546, \"renda\": 2.3326329244363424, \"contribuintes_renda\": 2.005054151624549, \"CLARO\": 0.22069795427196148, \"NEXTEL\": 0.002647412755716005, \"OI\": 0.2806257521058965, \"SERCOMTEL\": 0.004091456077015644, \"TIM\": 0.22936221419975933, \"VIVO\": 0.23995186522262335}, {\"B1_1\": 4.0, \"J1\": 4.984479371316307, \"B1_2\": 5.0485265225933205, \"C1_1\": 6.167583497053045, \"C1_2\": 5.809823182711199, \"D1\": 1.437328094302554, \"D2_1\": 4.552025139664805, \"D2_2\": 4.478002793296089, \"D2_3\": 4.6043994413407825, \"E1_1\": 5.310216110019646, \"E1_2\": 4.296070726915521, \"E1_3\": 6.42475442043222, \"A1_1\": 0.6292730844793714, \"A1_2\": 0.2068762278978389, \"A1_3\": 0.14950884086444008, \"A1_4\": 0.2728880157170923, \"A2_1\": 3.7827602001085583, \"A2_2\": 4.77728286163889, \"A2_3\": 5.785245630355935, \"A3\": 5.6062429157292275, \"F1\": 1.600196463654224, \"F2\": 3.7808353808353807, \"F3\": 1.7467583497053045, \"F4\": 3.6012412723041116, \"F5\": 1.6319832402234637, \"F6\": 3.50853889943074, \"genero\": 0.5573673870333988, \"renda\": 2.3029931271603012, \"contribuintes_renda\": 2.042829076620825, \"CLARO\": 0.21021611001964635, \"NEXTEL\": 0.0011787819253438114, \"OI\": 0.2599214145383104, \"SERCOMTEL\": 0.003536345776031434, \"TIM\": 0.2585461689587426, \"VIVO\": 0.24833005893909627}, {\"B1_1\": 5.0, \"J1\": 5.757988605400049, \"B1_2\": 6.104582610849641, \"C1_1\": 6.914441416893733, \"C1_2\": 6.441565518949715, \"D1\": 1.4474114441416894, \"D2_1\": 5.365339788416711, \"D2_2\": 5.277568585260893, \"D2_3\": 5.353953738569123, \"E1_1\": 5.943522417636859, \"E1_2\": 5.187317314837751, \"E1_3\": 7.139212286351251, \"A1_1\": 0.6057468417141442, \"A1_2\": 0.20074312608372555, \"A1_3\": 0.13475352984889769, \"A1_4\": 0.2997770621748823, \"A2_1\": 4.28301873633453, \"A2_2\": 5.3422226459779925, \"A2_3\": 6.268056682751849, \"A3\": 6.147723183308123, \"F1\": 1.6534059945504087, \"F2\": 4.354774156660949, \"F3\": 1.7966311617537776, \"F4\": 4.2063337393422655, \"F5\": 1.6778734086426395, \"F6\": 4.112719176175897, \"genero\": 0.5285112707456032, \"renda\": 2.1357762602994352, \"contribuintes_renda\": 2.033044339856329, \"CLARO\": 0.23512509289076047, \"NEXTEL\": 0.002378003467921724, \"OI\": 0.2589546693088927, \"SERCOMTEL\": 0.006242259103294526, \"TIM\": 0.2398810998266039, \"VIVO\": 0.23814713896457765}, {\"B1_1\": 6.0, \"J1\": 6.376422431436758, \"B1_2\": 6.885386819484241, \"C1_1\": 7.3407286123618505, \"C1_2\": 6.945722472370037, \"D1\": 1.4308636921817437, \"D2_1\": 5.928653624856157, \"D2_2\": 5.8085443037974684, \"D2_3\": 6.040563866513233, \"E1_1\": 6.521899304134261, \"E1_2\": 5.893573475235367, \"E1_3\": 7.441506344658207, \"A1_1\": 0.6004911993450676, \"A1_2\": 0.20704052394596809, \"A1_3\": 0.1361440851412198, \"A1_4\": 0.2949652067130577, \"A2_1\": 4.761305700210863, \"A2_2\": 5.813448488590216, \"A2_3\": 6.656054146896431, \"A3\": 6.5505945451521805, \"F1\": 1.702415063446582, \"F2\": 5.094635488308116, \"F3\": 1.8374130167826443, \"F4\": 5.1787512588116815, \"F5\": 1.7222382048331415, \"F6\": 4.8399792853443815, \"genero\": 0.5476054031927957, \"renda\": 2.1490760241793954, \"contribuintes_renda\": 2.0460090053213262, \"CLARO\": 0.23765861645517805, \"NEXTEL\": 0.0019647973802701594, \"OI\": 0.2519033974621367, \"SERCOMTEL\": 0.005157593123209169, \"TIM\": 0.24027834629553826, \"VIVO\": 0.24167007777322963}, {\"B1_1\": 7.0, \"J1\": 7.051436536126973, \"B1_2\": 7.631311541747223, \"C1_1\": 7.873252101973832, \"C1_2\": 7.4185962861382135, \"D1\": 1.4100535047884537, \"D2_1\": 6.622437314229098, \"D2_2\": 6.4972944135355535, \"D2_3\": 6.666869903208597, \"E1_1\": 7.175531675734005, \"E1_2\": 6.697765388246931, \"E1_3\": 7.930848433074052, \"A1_1\": 0.593723303808282, \"A1_2\": 0.23222876669214515, \"A1_3\": 0.13897756395845512, \"A1_4\": 0.2947709185738051, \"A2_1\": 5.241070492586414, \"A2_2\": 6.250524781264719, \"A2_3\": 7.0722206083945345, \"A3\": 6.9849581228861, \"F1\": 1.7369722584416167, \"F2\": 5.90017094017094, \"F3\": 1.8588642597005531, \"F4\": 5.795157693532972, \"F5\": 1.74811371084521, \"F6\": 5.675642965204236, \"genero\": 0.5209747763140147, \"renda\": 2.1264796000667756, \"contribuintes_renda\": 2.0534598264466526, \"CLARO\": 0.234162132997617, \"NEXTEL\": 0.002607796412031833, \"OI\": 0.2434243064610404, \"SERCOMTEL\": 0.007103997122431546, \"TIM\": 0.24711119104356818, \"VIVO\": 0.24104132008452858}, {\"B1_1\": 7.140506765543814, \"J1\": 7.115384615384615, \"B1_2\": 27.084973166368517, \"C1_1\": 10.432915921288014, \"C1_2\": 10.437388193202146, \"D1\": 1.6940966010733454, \"D2_1\": 10.011695906432749, \"D2_2\": 12.423976608187134, \"D2_3\": 11.412280701754385, \"E1_1\": 18.43470483005367, \"E1_2\": 15.480322003577818, \"E1_3\": 16.21377459749553, \"A1_1\": 0.370304114490161, \"A1_2\": 0.08228980322003578, \"A1_3\": 0.08050089445438283, \"A1_4\": 0.5706618962432916, \"A2_1\": 5.316648904838216, \"A2_2\": 6.184783774631391, \"A2_3\": 7.1060092221766, \"A3\": 7.08494483942618, \"F1\": 1.8533094812164579, \"F2\": 7.609756097560975, \"F3\": 1.9159212880143113, \"F4\": 10.574468085106384, \"F5\": 1.8888888888888888, \"F6\": 9.736842105263158, \"genero\": 0.3935599284436494, \"renda\": 2.017160742934115, \"contribuintes_renda\": 1.8783542039355994, \"CLARO\": 0.26028622540250446, \"NEXTEL\": 0.0, \"OI\": 0.22898032200357782, \"SERCOMTEL\": 0.0035778175313059034, \"TIM\": 0.26028622540250446, \"VIVO\": 0.21735241502683364}, {\"B1_1\": 8.0, \"J1\": 7.664648948579716, \"B1_2\": 8.236514392004793, \"C1_1\": 8.3731202118604, \"C1_2\": 7.979507550679403, \"D1\": 1.4091238689744316, \"D2_1\": 7.1726603350763, \"D2_2\": 7.119891153558852, \"D2_3\": 7.256322697684345, \"E1_1\": 7.961253507361518, \"E1_2\": 7.523755477789337, \"E1_3\": 8.492543901131814, \"A1_1\": 0.5967716510608784, \"A1_2\": 0.2425675462656452, \"A1_3\": 0.1399161385920111, \"A1_4\": 0.2927267568334437, \"A2_1\": 5.677104440646551, \"A2_2\": 6.657779008836525, \"A2_3\": 7.456089256160944, \"A3\": 7.4033598742694116, \"F1\": 1.765660960307702, \"F2\": 6.7016009686533025, \"F3\": 1.8764462940193576, \"F4\": 6.2870630262822145, \"F5\": 1.775050688293672, \"F6\": 6.271821631878558, \"genero\": 0.498502474857341, \"renda\": 2.074393060504026, \"contribuintes_renda\": 2.0918061729562725, \"CLARO\": 0.2347173618336013, \"NEXTEL\": 0.004287650934770957, \"OI\": 0.24051830133358554, \"SERCOMTEL\": 0.009647214603234654, \"TIM\": 0.24237838519499355, \"VIVO\": 0.24089662347488885}, {\"B1_1\": 9.0, \"J1\": 8.305859819237446, \"B1_2\": 8.784701023523073, \"C1_1\": 8.89914407134734, \"C1_2\": 8.539773747530974, \"D1\": 1.3763093314179684, \"D2_1\": 7.88742802303263, \"D2_2\": 7.732341650671785, \"D2_3\": 7.88915547024952, \"E1_1\": 8.641228227688993, \"E1_2\": 8.251870473454241, \"E1_3\": 8.982402585742504, \"A1_1\": 0.6005267253247142, \"A1_2\": 0.28060094571137845, \"A1_3\": 0.15083497934997306, \"A1_4\": 0.27347818279762975, \"A2_1\": 6.173249782351518, \"A2_2\": 7.108912256748877, \"A2_3\": 7.857852143018166, \"A3\": 7.82391306660105, \"F1\": 1.7906865385766446, \"F2\": 7.543608807549328, \"F3\": 1.8972885616807327, \"F4\": 7.191724941724941, \"F5\": 1.7929942418426104, \"F6\": 7.157162726008345, \"genero\": 0.4543005925659903, \"renda\": 1.9815590643704903, \"contribuintes_renda\": 2.125157119770156, \"CLARO\": 0.24408930388459926, \"NEXTEL\": 0.005925659903034656, \"OI\": 0.21775303764888967, \"SERCOMTEL\": 0.010953492548033758, \"TIM\": 0.2445681450888849, \"VIVO\": 0.24654336505656313}, {\"B1_1\": 10.0, \"J1\": 8.854702117183653, \"B1_2\": 9.510192023633678, \"C1_1\": 9.264598719842443, \"C1_2\": 8.767454455933038, \"D1\": 1.410216642048252, \"D2_1\": 8.440330592311224, \"D2_2\": 8.278624201694702, \"D2_3\": 8.443210752598405, \"E1_1\": 9.133727227966519, \"E1_2\": 8.776366322008863, \"E1_3\": 9.40930576070901, \"A1_1\": 0.6111275233874939, \"A1_2\": 0.2812161496799606, \"A1_3\": 0.17028557360905958, \"A1_4\": 0.27685869030034466, \"A2_1\": 6.443361692588319, \"A2_2\": 7.409482959936003, \"A2_3\": 8.16520159247636, \"A3\": 8.140770885595279, \"F1\": 1.7939684884293452, \"F2\": 7.625881228342693, \"F3\": 1.896085672082718, \"F4\": 7.14759535655058, \"F5\": 1.8191342822557082, \"F6\": 7.202861758596815, \"genero\": 0.4476366322008863, \"renda\": 1.8541066832668285, \"contribuintes_renda\": 2.1622599704579026, \"CLARO\": 0.24753815854258987, \"NEXTEL\": 0.008936484490398819, \"OI\": 0.22907434761201378, \"SERCOMTEL\": 0.012826193993106845, \"TIM\": 0.2224766125061546, \"VIVO\": 0.24423929098966027}]}}, {\"mode\": \"vega-lite\"});\n",
       "</script>"
      ],
      "text/plain": [
       "alt.Chart(...)"
      ]
     },
     "execution_count": 73,
     "metadata": {},
     "output_type": "execute_result"
    }
   ],
   "source": [
    "b1_1_groupby = df.groupby(['B1_1'], as_index=False).mean()\n",
    "\n",
    "alt.Chart(b1_1_groupby).mark_line().encode(\n",
    "    x = 'B1_1',\n",
    "    y = alt.Y('J1', title='Média J1'),\n",
    "    tooltip = ['J1', 'B1_1']\n",
    ").properties(\n",
    "    title = 'Média de J1 por nota B1_1'\n",
    ").interactive()"
   ]
  },
  {
   "cell_type": "markdown",
   "metadata": {
    "heading_collapsed": true,
    "hidden": true
   },
   "source": [
    "### B1_2"
   ]
  },
  {
   "cell_type": "code",
   "execution_count": 74,
   "metadata": {
    "ExecuteTime": {
     "end_time": "2021-06-26T14:45:17.870771Z",
     "start_time": "2021-06-26T14:45:17.857272Z"
    },
    "hidden": true
   },
   "outputs": [
    {
     "data": {
      "text/plain": [
       "10    38943\n",
       "8     29846\n",
       "7     21695\n",
       "5     21020\n",
       "9     15763\n",
       "6     12088\n",
       "0     10875\n",
       "4      5483\n",
       "3      4513\n",
       "2      3547\n",
       "99     1406\n",
       "1      1262\n",
       "Name: B1_2, dtype: int64"
      ]
     },
     "execution_count": 74,
     "metadata": {},
     "output_type": "execute_result"
    }
   ],
   "source": [
    "df['B1_2'].value_counts()"
   ]
  },
  {
   "cell_type": "code",
   "execution_count": 75,
   "metadata": {
    "ExecuteTime": {
     "end_time": "2021-06-26T14:45:17.917270Z",
     "start_time": "2021-06-26T14:45:17.872271Z"
    },
    "hidden": true
   },
   "outputs": [
    {
     "data": {
      "text/plain": [
       "count    165035.000000\n",
       "mean          6.928136\n",
       "std           2.835879\n",
       "min           0.000000\n",
       "25%           5.000000\n",
       "50%           8.000000\n",
       "75%           9.000000\n",
       "max          10.000000\n",
       "Name: B1_2, dtype: float64"
      ]
     },
     "execution_count": 75,
     "metadata": {},
     "output_type": "execute_result"
    }
   ],
   "source": [
    "df.query('B1_2 != 99')['B1_2'].describe()"
   ]
  },
  {
   "cell_type": "code",
   "execution_count": 76,
   "metadata": {
    "ExecuteTime": {
     "end_time": "2021-06-26T14:45:18.010271Z",
     "start_time": "2021-06-26T14:45:17.918771Z"
    },
    "hidden": true
   },
   "outputs": [
    {
     "data": {
      "text/plain": [
       "0          7.0\n",
       "1         10.0\n",
       "2         10.0\n",
       "3         10.0\n",
       "4         10.0\n",
       "          ... \n",
       "166694    10.0\n",
       "166695    10.0\n",
       "166696     8.0\n",
       "166697     4.0\n",
       "166698    10.0\n",
       "Name: B1_2, Length: 166441, dtype: float64"
      ]
     },
     "execution_count": 76,
     "metadata": {},
     "output_type": "execute_result"
    }
   ],
   "source": [
    "b1_2_mean = df.query('B1_2 != 99')['B1_2'].describe()['mean']\n",
    "b1_2 = df['B1_2']\n",
    "b1_2 = b1_2.apply(lambda x: b1_2_mean if x == 99 else x)\n",
    "b1_2"
   ]
  },
  {
   "cell_type": "code",
   "execution_count": 77,
   "metadata": {
    "ExecuteTime": {
     "end_time": "2021-06-26T14:45:18.041271Z",
     "start_time": "2021-06-26T14:45:18.011772Z"
    },
    "hidden": true
   },
   "outputs": [
    {
     "data": {
      "text/plain": [
       "count    166441.000000\n",
       "mean          6.928136\n",
       "std           2.823875\n",
       "min           0.000000\n",
       "25%           5.000000\n",
       "50%           8.000000\n",
       "75%           9.000000\n",
       "max          10.000000\n",
       "Name: B1_2, dtype: float64"
      ]
     },
     "execution_count": 77,
     "metadata": {},
     "output_type": "execute_result"
    }
   ],
   "source": [
    "df['B1_2'] = b1_2\n",
    "df['B1_2'].describe()"
   ]
  },
  {
   "cell_type": "code",
   "execution_count": 78,
   "metadata": {
    "ExecuteTime": {
     "end_time": "2021-06-26T14:45:18.164772Z",
     "start_time": "2021-06-26T14:45:18.042771Z"
    },
    "hidden": true
   },
   "outputs": [
    {
     "data": {
      "text/html": [
       "\n",
       "<div id=\"altair-viz-2a3f223351ef4c2294a4156c2de5f259\"></div>\n",
       "<script type=\"text/javascript\">\n",
       "  (function(spec, embedOpt){\n",
       "    let outputDiv = document.currentScript.previousElementSibling;\n",
       "    if (outputDiv.id !== \"altair-viz-2a3f223351ef4c2294a4156c2de5f259\") {\n",
       "      outputDiv = document.getElementById(\"altair-viz-2a3f223351ef4c2294a4156c2de5f259\");\n",
       "    }\n",
       "    const paths = {\n",
       "      \"vega\": \"https://cdn.jsdelivr.net/npm//vega@5?noext\",\n",
       "      \"vega-lib\": \"https://cdn.jsdelivr.net/npm//vega-lib?noext\",\n",
       "      \"vega-lite\": \"https://cdn.jsdelivr.net/npm//vega-lite@4.8.1?noext\",\n",
       "      \"vega-embed\": \"https://cdn.jsdelivr.net/npm//vega-embed@6?noext\",\n",
       "    };\n",
       "\n",
       "    function loadScript(lib) {\n",
       "      return new Promise(function(resolve, reject) {\n",
       "        var s = document.createElement('script');\n",
       "        s.src = paths[lib];\n",
       "        s.async = true;\n",
       "        s.onload = () => resolve(paths[lib]);\n",
       "        s.onerror = () => reject(`Error loading script: ${paths[lib]}`);\n",
       "        document.getElementsByTagName(\"head\")[0].appendChild(s);\n",
       "      });\n",
       "    }\n",
       "\n",
       "    function showError(err) {\n",
       "      outputDiv.innerHTML = `<div class=\"error\" style=\"color:red;\">${err}</div>`;\n",
       "      throw err;\n",
       "    }\n",
       "\n",
       "    function displayChart(vegaEmbed) {\n",
       "      vegaEmbed(outputDiv, spec, embedOpt)\n",
       "        .catch(err => showError(`Javascript Error: ${err.message}<br>This usually means there's a typo in your chart specification. See the javascript console for the full traceback.`));\n",
       "    }\n",
       "\n",
       "    if(typeof define === \"function\" && define.amd) {\n",
       "      requirejs.config({paths});\n",
       "      require([\"vega-embed\"], displayChart, err => showError(`Error loading script: ${err.message}`));\n",
       "    } else if (typeof vegaEmbed === \"function\") {\n",
       "      displayChart(vegaEmbed);\n",
       "    } else {\n",
       "      loadScript(\"vega\")\n",
       "        .then(() => loadScript(\"vega-lite\"))\n",
       "        .then(() => loadScript(\"vega-embed\"))\n",
       "        .catch(showError)\n",
       "        .then(() => displayChart(vegaEmbed));\n",
       "    }\n",
       "  })({\"config\": {\"view\": {\"continuousWidth\": 400, \"continuousHeight\": 300}}, \"data\": {\"name\": \"data-ed4e7c2310c195fd8fd0190ed89c6b3c\"}, \"mark\": \"line\", \"encoding\": {\"tooltip\": [{\"type\": \"quantitative\", \"field\": \"J1\"}, {\"type\": \"quantitative\", \"field\": \"B1_2\"}], \"x\": {\"type\": \"quantitative\", \"field\": \"B1_2\"}, \"y\": {\"type\": \"quantitative\", \"field\": \"J1\", \"title\": \"M\\u00e9dia J1\"}}, \"selection\": {\"selector009\": {\"type\": \"interval\", \"bind\": \"scales\", \"encodings\": [\"x\", \"y\"]}}, \"title\": \"M\\u00e9dia de J1 por nota B1_2\", \"$schema\": \"https://vega.github.io/schema/vega-lite/v4.8.1.json\", \"datasets\": {\"data-ed4e7c2310c195fd8fd0190ed89c6b3c\": [{\"B1_2\": 0.0, \"J1\": 3.2824827586206897, \"B1_1\": 2.8953009196000203, \"C1_1\": 5.3470344827586205, \"C1_2\": 4.599264367816092, \"D1\": 1.4655632183908045, \"D2_1\": 3.302993805918789, \"D2_2\": 3.25, \"D2_3\": 3.3021335168616655, \"E1_1\": 3.808, \"E1_2\": 3.0149885057471266, \"E1_3\": 5.895908045977012, \"A1_1\": 0.6384367816091954, \"A1_2\": 0.19098850574712645, \"A1_3\": 0.15089655172413793, \"A1_4\": 0.28386206896551724, \"A2_1\": 3.0833736518512804, \"A2_2\": 3.8671227539055097, \"A2_3\": 5.107011727605001, \"A3\": 4.82839415538978, \"F1\": 1.4938850574712643, \"F2\": 2.2394622093023258, \"F3\": 1.659310344827586, \"F4\": 2.17165991902834, \"F5\": 1.5511011699931176, \"F6\": 2.0057493292449213, \"genero\": 0.495632183908046, \"renda\": 2.1049400270824856, \"contribuintes_renda\": 2.0836781609195403, \"CLARO\": 0.23733333333333334, \"NEXTEL\": 0.0026666666666666666, \"OI\": 0.28, \"SERCOMTEL\": 0.002942528735632184, \"TIM\": 0.19935632183908045, \"VIVO\": 0.264183908045977}, {\"B1_2\": 1.0, \"J1\": 3.231378763866878, \"B1_1\": 3.1065016383957507, \"C1_1\": 5.225832012678288, \"C1_2\": 4.796354992076069, \"D1\": 1.434231378763867, \"D2_1\": 3.3893557422969187, \"D2_2\": 3.1554621848739495, \"D2_3\": 3.343137254901961, \"E1_1\": 3.6148969889064975, \"E1_2\": 3.175118858954041, \"E1_3\": 5.371632329635499, \"A1_1\": 0.6418383518225039, \"A1_2\": 0.19334389857369255, \"A1_3\": 0.16164817749603805, \"A1_4\": 0.27020602218700474, \"A2_1\": 3.1822091633794436, \"A2_2\": 3.946663029934999, \"A2_3\": 4.919854248845313, \"A3\": 4.743305473682973, \"F1\": 1.5578446909667194, \"F2\": 2.620071684587814, \"F3\": 1.7155309033280508, \"F4\": 2.214484679665738, \"F5\": 1.5686274509803921, \"F6\": 2.116883116883117, \"genero\": 0.5515055467511886, \"renda\": 2.338539094665788, \"contribuintes_renda\": 2.106973058637084, \"CLARO\": 0.22266244057052298, \"NEXTEL\": 0.001584786053882726, \"OI\": 0.30665610142630745, \"SERCOMTEL\": 0.002377179080824089, \"TIM\": 0.22820919175911253, \"VIVO\": 0.22266244057052298}, {\"B1_2\": 2.0, \"J1\": 4.029038624189456, \"B1_1\": 3.8647885727813467, \"C1_1\": 5.4651818438116715, \"C1_2\": 5.033267550042289, \"D1\": 1.436143219622216, \"D2_1\": 3.865, \"D2_2\": 3.686, \"D2_3\": 3.8795, \"E1_1\": 4.378347899633493, \"E1_2\": 3.5288976599943616, \"E1_3\": 5.985621652100367, \"A1_1\": 0.6309557372427403, \"A1_2\": 0.19340287566957992, \"A1_3\": 0.15139554553143503, \"A1_4\": 0.2816464617987031, \"A2_1\": 3.393079324280339, \"A2_2\": 4.321717050882665, \"A2_3\": 5.358707067606192, \"A3\": 5.181784523938417, \"F1\": 1.553707358330984, \"F2\": 2.9153506001263425, \"F3\": 1.7166619678601636, \"F4\": 2.799004975124378, \"F5\": 1.5935, \"F6\": 3.023370233702337, \"genero\": 0.548350718917395, \"renda\": 2.240373072710471, \"contribuintes_renda\": 2.0377784042853113, \"CLARO\": 0.21567521849450239, \"NEXTEL\": 0.002255427121511136, \"OI\": 0.29095009867493654, \"SERCOMTEL\": 0.0039469974626444885, \"TIM\": 0.22667042571186918, \"VIVO\": 0.24048491683112488}, {\"B1_2\": 3.0, \"J1\": 4.536893419011744, \"B1_1\": 4.366773345501595, \"C1_1\": 5.849102592510525, \"C1_2\": 5.465765566142256, \"D1\": 1.4331929980057612, \"D2_1\": 4.133698201720094, \"D2_2\": 4.068803752931978, \"D2_3\": 4.102814698983581, \"E1_1\": 4.863505428761356, \"E1_2\": 3.8349213383558607, \"E1_3\": 6.236649678705961, \"A1_1\": 0.63970751163306, \"A1_2\": 0.19477066253046754, \"A1_3\": 0.15377797473964103, \"A1_4\": 0.27298914247728784, \"A2_1\": 3.575000671341861, \"A2_2\": 4.537528203660196, \"A2_3\": 5.566138619768056, \"A3\": 5.398755019856486, \"F1\": 1.5621537779747396, \"F2\": 3.3223684210526314, \"F3\": 1.731885663638378, \"F4\": 3.3297520661157023, \"F5\": 1.604769351055512, \"F6\": 3.376854599406528, \"genero\": 0.566142255705739, \"renda\": 2.3059431942764097, \"contribuintes_renda\": 2.034345224905828, \"CLARO\": 0.22136051407046312, \"NEXTEL\": 0.0017726567693330379, \"OI\": 0.2712164857079548, \"SERCOMTEL\": 0.0039884777309993355, \"TIM\": 0.24684245512962552, \"VIVO\": 0.2368712608021272}, {\"B1_2\": 4.0, \"J1\": 5.039212110158672, \"B1_1\": 5.026615755870002, \"C1_1\": 6.22323545504286, \"C1_2\": 5.870691227430239, \"D1\": 1.4225788801750867, \"D2_1\": 4.716361339229311, \"D2_2\": 4.590334807327858, \"D2_3\": 4.839545167403664, \"E1_1\": 5.397045413095021, \"E1_2\": 4.462520517964618, \"E1_3\": 6.664234907897137, \"A1_1\": 0.6323180740470545, \"A1_2\": 0.20846252051796463, \"A1_3\": 0.14681743571037753, \"A1_4\": 0.2657304395403976, \"A2_1\": 3.8936375789040194, \"A2_2\": 4.879820906216384, \"A2_3\": 5.861774894910651, \"A3\": 5.665997683561361, \"F1\": 1.618639430968448, \"F2\": 3.8536585365853657, \"F3\": 1.762721138063104, \"F4\": 3.780937740199846, \"F5\": 1.6339229311433987, \"F6\": 3.5927523727351165, \"genero\": 0.563560094838592, \"renda\": 2.226388698373283, \"contribuintes_renda\": 2.0474192960058364, \"CLARO\": 0.22268830931971548, \"NEXTEL\": 0.002553346708006566, \"OI\": 0.25989421849352545, \"SERCOMTEL\": 0.0038300200620098486, \"TIM\": 0.2427503191683385, \"VIVO\": 0.25186941455407624}, {\"B1_2\": 5.0, \"J1\": 5.891436726926736, \"B1_1\": 5.827612884820522, \"C1_1\": 7.01151284490961, \"C1_2\": 6.5747383444338725, \"D1\": 1.440009514747859, \"D2_1\": 5.419250700875032, \"D2_2\": 5.315861014357319, \"D2_3\": 5.429615155891598, \"E1_1\": 6.087155090390104, \"E1_2\": 5.346098953377735, \"E1_3\": 7.224833491912464, \"A1_1\": 0.6087059942911512, \"A1_2\": 0.20185537583254043, \"A1_3\": 0.13377735490009515, \"A1_4\": 0.2950523311132255, \"A2_1\": 4.402414973806592, \"A2_2\": 5.486102500382985, \"A2_3\": 6.4326838659315975, \"A3\": 6.292018046447347, \"F1\": 1.6603235014272122, \"F2\": 4.550840336134454, \"F3\": 1.8016650808753567, \"F4\": 4.4593427680498925, \"F5\": 1.6804009854727722, \"F6\": 4.29638490164806, \"genero\": 0.5209324452901998, \"renda\": 2.104513870972607, \"contribuintes_renda\": 2.0409609895337772, \"CLARO\": 0.23334919124643197, \"NEXTEL\": 0.0028544243577545195, \"OI\": 0.25647002854424356, \"SERCOMTEL\": 0.0060418648905803994, \"TIM\": 0.23311132254995243, \"VIVO\": 0.2493815413891532}, {\"B1_2\": 6.0, \"J1\": 6.4415122435473195, \"B1_1\": 6.429410276262714, \"C1_1\": 7.408007941760424, \"C1_2\": 7.011085373924553, \"D1\": 1.4115651886168101, \"D2_1\": 5.907352734429917, \"D2_2\": 5.850133558273583, \"D2_3\": 5.997891185153944, \"E1_1\": 6.61499007279947, \"E1_2\": 6.013318994043679, \"E1_3\": 7.5143944407677035, \"A1_1\": 0.5983620119126406, \"A1_2\": 0.22617471872931832, \"A1_3\": 0.13691264063534084, \"A1_4\": 0.2931005956320318, \"A2_1\": 4.816546531254713, \"A2_2\": 5.895150991506622, \"A2_3\": 6.761361261332047, \"A3\": 6.629252110688005, \"F1\": 1.7082230311052282, \"F2\": 5.244967394386164, \"F3\": 1.8382693580410325, \"F4\": 5.324808184143222, \"F5\": 1.724588781105019, \"F6\": 5.044410413476263, \"genero\": 0.5354897418927862, \"renda\": 2.1260961682883925, \"contribuintes_renda\": 2.060555923229649, \"CLARO\": 0.22931833223031106, \"NEXTEL\": 0.0028127068166776967, \"OI\": 0.2569490403706155, \"SERCOMTEL\": 0.004963600264725348, \"TIM\": 0.24462276637988087, \"VIVO\": 0.24114824619457312}, {\"B1_2\": 6.928136455903293, \"J1\": 6.905405405405405, \"B1_1\": 6.856020387143515, \"C1_1\": 9.669985775248934, \"C1_2\": 9.724039829302987, \"D1\": 1.6401137980085347, \"D2_1\": 8.90513833992095, \"D2_2\": 11.660079051383399, \"D2_3\": 10.855731225296443, \"E1_1\": 16.09886201991465, \"E1_2\": 13.254623044096729, \"E1_3\": 14.419630156472262, \"A1_1\": 0.4174964438122333, \"A1_2\": 0.11522048364153627, \"A1_3\": 0.09886201991465149, \"A1_4\": 0.5106685633001422, \"A2_1\": 5.203825677231128, \"A2_2\": 6.201483418990999, \"A2_3\": 7.1050727780257095, \"A3\": 7.0403070501738245, \"F1\": 1.833570412517781, \"F2\": 6.594017094017094, \"F3\": 1.9246088193456614, \"F4\": 6.59433962264151, \"F5\": 1.8814229249011858, \"F6\": 7.35, \"genero\": 0.4267425320056899, \"renda\": 2.1857195877510205, \"contribuintes_renda\": 1.830014224751067, \"CLARO\": 0.23684210526315788, \"NEXTEL\": 0.0021337126600284497, \"OI\": 0.2197724039829303, \"SERCOMTEL\": 0.002844950213371266, \"TIM\": 0.26458036984352773, \"VIVO\": 0.24751066856330015}, {\"B1_2\": 7.0, \"J1\": 7.172389951601752, \"B1_1\": 7.167325437785438, \"C1_1\": 7.939110394100023, \"C1_2\": 7.540032265498963, \"D1\": 1.4045171698548053, \"D2_1\": 6.773976313956188, \"D2_2\": 6.637588048610573, \"D2_3\": 6.824212400340584, \"E1_1\": 7.342244756856418, \"E1_2\": 6.8340170546208805, \"E1_3\": 8.016916340170546, \"A1_1\": 0.5963125144042406, \"A1_2\": 0.2339709610509334, \"A1_3\": 0.13473150495505876, \"A1_4\": 0.29426135054159946, \"A2_1\": 5.29391466851724, \"A2_2\": 6.313863980499072, \"A2_3\": 7.117727591186683, \"A3\": 7.043536145254766, \"F1\": 1.7353307213643696, \"F2\": 6.102055033089516, \"F3\": 1.8627794422678037, \"F4\": 5.914007389989923, \"F5\": 1.7525350259307997, \"F6\": 5.891147951204254, \"genero\": 0.5188292233233464, \"renda\": 2.1182235116854224, \"contribuintes_renda\": 2.072551279096566, \"CLARO\": 0.23650610739801797, \"NEXTEL\": 0.003595298455865407, \"OI\": 0.24452638856879466, \"SERCOMTEL\": 0.006268725512790965, \"TIM\": 0.24825996773450104, \"VIVO\": 0.2375201659368518}, {\"B1_2\": 8.0, \"J1\": 7.808986128794478, \"B1_1\": 7.863798683510887, \"C1_1\": 8.500301547946123, \"C1_2\": 8.080178248341486, \"D1\": 1.4150975005025799, \"D2_1\": 7.387924614767715, \"D2_2\": 7.241908689923813, \"D2_3\": 7.396689007275018, \"E1_1\": 8.061884339609998, \"E1_2\": 7.627554781210212, \"E1_3\": 8.53028881592173, \"A1_1\": 0.5957582255578637, \"A1_2\": 0.24422033103263419, \"A1_3\": 0.14139248140454333, \"A1_4\": 0.2937412048515714, \"A2_1\": 5.754674985136852, \"A2_2\": 6.722739099471501, \"A2_3\": 7.4943349146085065, \"A3\": 7.4638468028102505, \"F1\": 1.7755143067747772, \"F2\": 6.8907462686567165, \"F3\": 1.8842390940159486, \"F4\": 6.6445730824891465, \"F5\": 1.7836398006530332, \"F6\": 6.5848557055864445, \"genero\": 0.4948736849159016, \"renda\": 2.0872775516469515, \"contribuintes_renda\": 2.0676472559136903, \"CLARO\": 0.23785431883669503, \"NEXTEL\": 0.003886617972257589, \"OI\": 0.24056825035180593, \"SERCOMTEL\": 0.009984587549420358, \"TIM\": 0.23892648931180058, \"VIVO\": 0.23999865978690613}, {\"B1_2\": 9.0, \"J1\": 8.401002347268921, \"B1_1\": 8.529596227766108, \"C1_1\": 8.963395292774218, \"C1_2\": 8.589354818245258, \"D1\": 1.382795153206877, \"D2_1\": 8.036899989721451, \"D2_2\": 7.912221194367356, \"D2_3\": 8.093637578373933, \"E1_1\": 8.656156822939796, \"E1_2\": 8.291695743196092, \"E1_3\": 8.936687178836516, \"A1_1\": 0.592463363572924, \"A1_2\": 0.2764702150605849, \"A1_3\": 0.15549070608386728, \"A1_4\": 0.2819260293091417, \"A2_1\": 6.227027073763929, \"A2_2\": 7.166252780125623, \"A2_3\": 7.883395588832105, \"A3\": 7.86106789983976, \"F1\": 1.7959779229842034, \"F2\": 7.675062189054726, \"F3\": 1.8977986423904079, \"F4\": 7.245189323401614, \"F5\": 1.808716209271251, \"F6\": 7.572272971520688, \"genero\": 0.465139884539745, \"renda\": 1.9942212464787024, \"contribuintes_renda\": 2.1083550085643594, \"CLARO\": 0.23910423142802767, \"NEXTEL\": 0.006597728858719787, \"OI\": 0.21861320814565754, \"SERCOMTEL\": 0.012116982807841147, \"TIM\": 0.24709763369916893, \"VIVO\": 0.2440525280720675}, {\"B1_2\": 10.0, \"J1\": 8.98975425622063, \"B1_1\": 9.18226411648874, \"C1_1\": 9.349254037952905, \"C1_2\": 8.868756901111881, \"D1\": 1.4183807102688544, \"D2_1\": 8.59615894039735, \"D2_2\": 8.481810154525386, \"D2_3\": 8.636688741721855, \"E1_1\": 9.280050329969443, \"E1_2\": 8.932516755257684, \"E1_3\": 9.521326040623475, \"A1_1\": 0.6042677759802789, \"A1_2\": 0.2802300798603087, \"A1_3\": 0.1716868243329995, \"A1_4\": 0.28135993631718154, \"A2_1\": 6.5216438868602715, \"A2_2\": 7.459580303948282, \"A2_3\": 8.179325750140293, \"A3\": 8.184218716547916, \"F1\": 1.8051767968569448, \"F2\": 7.816923685251087, \"F3\": 1.9038851654982925, \"F4\": 7.429334758215336, \"F5\": 1.8350110375275939, \"F6\": 7.644634733743644, \"genero\": 0.4544847597771101, \"renda\": 1.8783515039403893, \"contribuintes_renda\": 2.169555504198444, \"CLARO\": 0.24790077806024188, \"NEXTEL\": 0.008422566314870452, \"OI\": 0.2246873635826721, \"SERCOMTEL\": 0.01319877770074211, \"TIM\": 0.22895000385178338, \"VIVO\": 0.23978635441542767}]}}, {\"mode\": \"vega-lite\"});\n",
       "</script>"
      ],
      "text/plain": [
       "alt.Chart(...)"
      ]
     },
     "execution_count": 78,
     "metadata": {},
     "output_type": "execute_result"
    }
   ],
   "source": [
    "b1_2_groupby = df.groupby(['B1_2'], as_index=False).mean()\n",
    "\n",
    "alt.Chart(b1_2_groupby).mark_line().encode(\n",
    "    x = 'B1_2',\n",
    "    y = alt.Y('J1', title='Média J1'),\n",
    "    tooltip = ['J1', 'B1_2']\n",
    ").properties(\n",
    "    title = 'Média de J1 por nota B1_2'\n",
    ").interactive()"
   ]
  },
  {
   "cell_type": "markdown",
   "metadata": {
    "heading_collapsed": true,
    "hidden": true
   },
   "source": [
    "## Colunas C1"
   ]
  },
  {
   "cell_type": "markdown",
   "metadata": {
    "hidden": true
   },
   "source": [
    "As colunas C1 não contém valores nulos, mas contém missing data codificadas como 99."
   ]
  },
  {
   "cell_type": "markdown",
   "metadata": {
    "heading_collapsed": true,
    "hidden": true
   },
   "source": [
    "### C1_1"
   ]
  },
  {
   "cell_type": "code",
   "execution_count": 79,
   "metadata": {
    "ExecuteTime": {
     "end_time": "2021-06-26T14:45:18.180272Z",
     "start_time": "2021-06-26T14:45:18.166270Z"
    },
    "hidden": true
   },
   "outputs": [
    {
     "data": {
      "text/plain": [
       "10    60935\n",
       "8     28871\n",
       "9     22999\n",
       "7     16123\n",
       "5     13207\n",
       "6      8300\n",
       "0      4714\n",
       "4      4088\n",
       "3      3352\n",
       "2      2586\n",
       "1      1086\n",
       "99      180\n",
       "Name: C1_1, dtype: int64"
      ]
     },
     "execution_count": 79,
     "metadata": {},
     "output_type": "execute_result"
    }
   ],
   "source": [
    "df['C1_1'].value_counts()"
   ]
  },
  {
   "cell_type": "code",
   "execution_count": 80,
   "metadata": {
    "ExecuteTime": {
     "end_time": "2021-06-26T14:45:18.226771Z",
     "start_time": "2021-06-26T14:45:18.181774Z"
    },
    "hidden": true
   },
   "outputs": [
    {
     "data": {
      "text/plain": [
       "count    166261.000000\n",
       "mean          7.871184\n",
       "std           2.488250\n",
       "min           0.000000\n",
       "25%           7.000000\n",
       "50%           9.000000\n",
       "75%          10.000000\n",
       "max          10.000000\n",
       "Name: C1_1, dtype: float64"
      ]
     },
     "execution_count": 80,
     "metadata": {},
     "output_type": "execute_result"
    }
   ],
   "source": [
    "df.query('C1_1 != 99')['C1_1'].describe()"
   ]
  },
  {
   "cell_type": "code",
   "execution_count": 81,
   "metadata": {
    "ExecuteTime": {
     "end_time": "2021-06-26T14:45:18.335271Z",
     "start_time": "2021-06-26T14:45:18.228771Z"
    },
    "hidden": true
   },
   "outputs": [
    {
     "data": {
      "text/plain": [
       "0         10.0\n",
       "1         10.0\n",
       "2          7.0\n",
       "3         10.0\n",
       "4          0.0\n",
       "          ... \n",
       "166694     8.0\n",
       "166695    10.0\n",
       "166696     6.0\n",
       "166697     8.0\n",
       "166698     8.0\n",
       "Name: C1_1, Length: 166441, dtype: float64"
      ]
     },
     "execution_count": 81,
     "metadata": {},
     "output_type": "execute_result"
    }
   ],
   "source": [
    "c1_1_mean = df.query('C1_1 != 99')['C1_1'].describe()['mean']\n",
    "c1_1 = df['C1_1']\n",
    "c1_1 = c1_1.apply(lambda x: c1_1_mean if x == 99 else x)\n",
    "c1_1"
   ]
  },
  {
   "cell_type": "code",
   "execution_count": 82,
   "metadata": {
    "ExecuteTime": {
     "end_time": "2021-06-26T14:45:18.366269Z",
     "start_time": "2021-06-26T14:45:18.336772Z"
    },
    "hidden": true
   },
   "outputs": [
    {
     "data": {
      "text/plain": [
       "count    166441.000000\n",
       "mean          7.871184\n",
       "std           2.486904\n",
       "min           0.000000\n",
       "25%           7.000000\n",
       "50%           9.000000\n",
       "75%          10.000000\n",
       "max          10.000000\n",
       "Name: C1_1, dtype: float64"
      ]
     },
     "execution_count": 82,
     "metadata": {},
     "output_type": "execute_result"
    }
   ],
   "source": [
    "df['C1_1'] = c1_1\n",
    "df['C1_1'].describe()"
   ]
  },
  {
   "cell_type": "code",
   "execution_count": 83,
   "metadata": {
    "ExecuteTime": {
     "end_time": "2021-06-26T14:45:18.490270Z",
     "start_time": "2021-06-26T14:45:18.367772Z"
    },
    "hidden": true
   },
   "outputs": [
    {
     "data": {
      "text/html": [
       "\n",
       "<div id=\"altair-viz-376a6ea5d76348c293958fb9f334f0a9\"></div>\n",
       "<script type=\"text/javascript\">\n",
       "  (function(spec, embedOpt){\n",
       "    let outputDiv = document.currentScript.previousElementSibling;\n",
       "    if (outputDiv.id !== \"altair-viz-376a6ea5d76348c293958fb9f334f0a9\") {\n",
       "      outputDiv = document.getElementById(\"altair-viz-376a6ea5d76348c293958fb9f334f0a9\");\n",
       "    }\n",
       "    const paths = {\n",
       "      \"vega\": \"https://cdn.jsdelivr.net/npm//vega@5?noext\",\n",
       "      \"vega-lib\": \"https://cdn.jsdelivr.net/npm//vega-lib?noext\",\n",
       "      \"vega-lite\": \"https://cdn.jsdelivr.net/npm//vega-lite@4.8.1?noext\",\n",
       "      \"vega-embed\": \"https://cdn.jsdelivr.net/npm//vega-embed@6?noext\",\n",
       "    };\n",
       "\n",
       "    function loadScript(lib) {\n",
       "      return new Promise(function(resolve, reject) {\n",
       "        var s = document.createElement('script');\n",
       "        s.src = paths[lib];\n",
       "        s.async = true;\n",
       "        s.onload = () => resolve(paths[lib]);\n",
       "        s.onerror = () => reject(`Error loading script: ${paths[lib]}`);\n",
       "        document.getElementsByTagName(\"head\")[0].appendChild(s);\n",
       "      });\n",
       "    }\n",
       "\n",
       "    function showError(err) {\n",
       "      outputDiv.innerHTML = `<div class=\"error\" style=\"color:red;\">${err}</div>`;\n",
       "      throw err;\n",
       "    }\n",
       "\n",
       "    function displayChart(vegaEmbed) {\n",
       "      vegaEmbed(outputDiv, spec, embedOpt)\n",
       "        .catch(err => showError(`Javascript Error: ${err.message}<br>This usually means there's a typo in your chart specification. See the javascript console for the full traceback.`));\n",
       "    }\n",
       "\n",
       "    if(typeof define === \"function\" && define.amd) {\n",
       "      requirejs.config({paths});\n",
       "      require([\"vega-embed\"], displayChart, err => showError(`Error loading script: ${err.message}`));\n",
       "    } else if (typeof vegaEmbed === \"function\") {\n",
       "      displayChart(vegaEmbed);\n",
       "    } else {\n",
       "      loadScript(\"vega\")\n",
       "        .then(() => loadScript(\"vega-lite\"))\n",
       "        .then(() => loadScript(\"vega-embed\"))\n",
       "        .catch(showError)\n",
       "        .then(() => displayChart(vegaEmbed));\n",
       "    }\n",
       "  })({\"config\": {\"view\": {\"continuousWidth\": 400, \"continuousHeight\": 300}}, \"data\": {\"name\": \"data-8a5cd81465d4200cae22fffa37987b18\"}, \"mark\": \"line\", \"encoding\": {\"tooltip\": [{\"type\": \"quantitative\", \"field\": \"J1\"}, {\"type\": \"quantitative\", \"field\": \"C1_1\"}], \"x\": {\"type\": \"quantitative\", \"field\": \"C1_1\"}, \"y\": {\"type\": \"quantitative\", \"field\": \"J1\", \"title\": \"M\\u00e9dia J1\"}}, \"selection\": {\"selector010\": {\"type\": \"interval\", \"bind\": \"scales\", \"encodings\": [\"x\", \"y\"]}}, \"title\": \"M\\u00e9dia de J1 por nota C1_1\", \"$schema\": \"https://vega.github.io/schema/vega-lite/v4.8.1.json\", \"datasets\": {\"data-8a5cd81465d4200cae22fffa37987b18\": [{\"C1_1\": 0.0, \"J1\": 2.9204497242257106, \"B1_1\": 3.34118355050714, \"B1_2\": 2.6445661383022077, \"C1_2\": 1.9174798472634704, \"D1\": 1.4921510394569368, \"D2_1\": 2.818713450292398, \"D2_2\": 2.960735171261487, \"D2_3\": 2.989974937343358, \"E1_1\": 3.8943572337717436, \"E1_2\": 3.1251591005515484, \"E1_3\": 5.519728468392024, \"A1_1\": 0.5980059397539245, \"A1_2\": 0.18031395842172254, \"A1_3\": 0.14594823928722953, \"A1_4\": 0.32392872295290626, \"A2_1\": 3.2848831057448398, \"A2_2\": 4.085930461727005, \"A2_3\": 5.344723152918602, \"A3\": 4.901793520326988, \"F1\": 1.5483665676707679, \"F2\": 2.180366369187412, \"F3\": 1.6003394145099703, \"F4\": 1.7584925690021231, \"F5\": 1.5827067669172932, \"F6\": 1.7007007007007007, \"genero\": 0.4798472634705134, \"renda\": 2.076312688514032, \"contribuintes_renda\": 2.1052184980907933, \"CLARO\": 0.22825625795502757, \"NEXTEL\": 0.003818413237165889, \"OI\": 0.2891387356809504, \"SERCOMTEL\": 0.005939753924480272, \"TIM\": 0.2515910055154858, \"VIVO\": 0.19983029274501485}, {\"C1_1\": 1.0, \"J1\": 3.261510128913444, \"B1_1\": 3.6150861393727496, \"B1_2\": 3.1506158551891525, \"C1_2\": 2.647329650092081, \"D1\": 1.4723756906077348, \"D2_1\": 2.986038394415358, \"D2_2\": 2.5706806282722514, \"D2_3\": 2.986038394415358, \"E1_1\": 4.165745856353591, \"E1_2\": 3.465930018416206, \"E1_3\": 5.456721915285451, \"A1_1\": 0.6187845303867403, \"A1_2\": 0.18047882136279927, \"A1_3\": 0.1712707182320442, \"A1_4\": 0.27900552486187846, \"A2_1\": 3.4086925409024644, \"A2_2\": 4.280476006743342, \"A2_3\": 5.152733598691876, \"A3\": 4.892446362239868, \"F1\": 1.6003683241252302, \"F2\": 2.5092165898617513, \"F3\": 1.6510128913443831, \"F4\": 2.005277044854881, \"F5\": 1.6265270506108203, \"F6\": 1.9205607476635513, \"genero\": 0.5699815837937385, \"renda\": 2.3617318912274037, \"contribuintes_renda\": 2.0699815837937385, \"CLARO\": 0.21086556169429096, \"NEXTEL\": 0.001841620626151013, \"OI\": 0.27440147329650094, \"SERCOMTEL\": 0.0055248618784530384, \"TIM\": 0.3139963167587477, \"VIVO\": 0.1712707182320442}, {\"C1_1\": 2.0, \"J1\": 3.8294663573085845, \"B1_1\": 4.214217747377267, \"B1_2\": 3.742677002752538, \"C1_2\": 2.9860788863109047, \"D1\": 1.4709976798143851, \"D2_1\": 3.465643274853801, \"D2_2\": 3.3603801169590644, \"D2_3\": 3.4883040935672516, \"E1_1\": 4.880897138437741, \"E1_2\": 3.8511214230471773, \"E1_3\": 5.966357308584687, \"A1_1\": 0.6075019334880124, \"A1_2\": 0.1902552204176334, \"A1_3\": 0.15931941221964424, \"A1_4\": 0.3004640371229698, \"A2_1\": 3.5513286380884495, \"A2_2\": 4.428936915398628, \"A2_3\": 5.4434171581218616, \"A3\": 5.159011446698891, \"F1\": 1.603248259860789, \"F2\": 2.9415204678362574, \"F3\": 1.6616395978344933, \"F4\": 2.4754285714285715, \"F5\": 1.6440058479532165, \"F6\": 2.891170431211499, \"genero\": 0.5290023201856149, \"renda\": 2.308072574370389, \"contribuintes_renda\": 2.091260634184068, \"CLARO\": 0.19953596287703015, \"NEXTEL\": 0.0030935808197989174, \"OI\": 0.2695282289249807, \"SERCOMTEL\": 0.007733952049497293, \"TIM\": 0.28963650425367365, \"VIVO\": 0.2034029389017788}, {\"C1_1\": 3.0, \"J1\": 4.386933174224343, \"B1_1\": 4.763493930670497, \"B1_2\": 4.205929377965893, \"C1_2\": 3.64618138424821, \"D1\": 1.4600238663484486, \"D2_1\": 3.769060773480663, \"D2_2\": 3.7011049723756906, \"D2_3\": 3.7530386740331494, \"E1_1\": 5.248806682577565, \"E1_2\": 4.491050119331742, \"E1_3\": 6.096360381861575, \"A1_1\": 0.610381861575179, \"A1_2\": 0.18168257756563247, \"A1_3\": 0.15304295942720764, \"A1_4\": 0.2980310262529833, \"A2_1\": 3.71996449552795, \"A2_2\": 4.7459498653465495, \"A2_3\": 5.655828309673771, \"A3\": 5.381459009406307, \"F1\": 1.621420047732697, \"F2\": 3.2624113475177303, \"F3\": 1.6968973747016707, \"F4\": 3.0551181102362204, \"F5\": 1.6458563535911601, \"F6\": 2.7457098283931356, \"genero\": 0.5727923627684964, \"renda\": 2.3122969675287712, \"contribuintes_renda\": 2.0602625298329356, \"CLARO\": 0.21569212410501193, \"NEXTEL\": 0.0026849642004773268, \"OI\": 0.2681980906921241, \"SERCOMTEL\": 0.00954653937947494, \"TIM\": 0.2852028639618138, \"VIVO\": 0.19301909307875895}, {\"C1_1\": 4.0, \"J1\": 5.011252446183953, \"B1_1\": 5.274835890846327, \"B1_2\": 4.872096758281184, \"C1_2\": 4.39114481409002, \"D1\": 1.438600782778865, \"D2_1\": 4.382570806100218, \"D2_2\": 4.300217864923748, \"D2_3\": 4.677124183006536, \"E1_1\": 5.51761252446184, \"E1_2\": 4.749755381604697, \"E1_3\": 6.669765166340508, \"A1_1\": 0.5978473581213307, \"A1_2\": 0.20156555772994128, \"A1_3\": 0.14823874755381605, \"A1_4\": 0.2981898238747554, \"A2_1\": 4.0570586636426125, \"A2_2\": 5.0639424993430495, \"A2_3\": 5.953975992224073, \"A3\": 5.7244168409712195, \"F1\": 1.6455479452054795, \"F2\": 3.7556935817805384, \"F3\": 1.7130626223091976, \"F4\": 3.6453537936913896, \"F5\": 1.6705882352941177, \"F6\": 3.552910052910053, \"genero\": 0.5733855185909981, \"renda\": 2.298132649758618, \"contribuintes_renda\": 2.0489236790606653, \"CLARO\": 0.21330724070450097, \"NEXTEL\": 0.0014677103718199608, \"OI\": 0.2617416829745597, \"SERCOMTEL\": 0.008317025440313111, \"TIM\": 0.29549902152641877, \"VIVO\": 0.1952054794520548}, {\"C1_1\": 5.0, \"J1\": 5.38055576588173, \"B1_1\": 5.527104732100474, \"B1_2\": 5.153978342192837, \"C1_2\": 5.269932611493905, \"D1\": 1.459529037631559, \"D2_1\": 4.879798262818717, \"D2_2\": 4.803166152984029, \"D2_3\": 4.933174558699916, \"E1_1\": 5.71621110017415, \"E1_2\": 5.107897327174983, \"E1_3\": 6.818808207768607, \"A1_1\": 0.5980162035284319, \"A1_2\": 0.19678958128265314, \"A1_3\": 0.14424169001287196, \"A1_4\": 0.30279397289316273, \"A2_1\": 4.255918431464094, \"A2_2\": 5.243982970631617, \"A2_3\": 6.159370930985836, \"A3\": 5.990370407621948, \"F1\": 1.6495797683046869, \"F2\": 4.092048401037165, \"F3\": 1.754978420534565, \"F4\": 4.053152039555006, \"F5\": 1.6738582235920425, \"F6\": 3.895189003436426, \"genero\": 0.5260846520784432, \"renda\": 2.1868200305441277, \"contribuintes_renda\": 2.0368743847959414, \"CLARO\": 0.21594608919512379, \"NEXTEL\": 0.001968652987052321, \"OI\": 0.2627394563489059, \"SERCOMTEL\": 0.009540395244945862, \"TIM\": 0.2689482850003786, \"VIVO\": 0.21473461043386083}, {\"C1_1\": 6.0, \"J1\": 6.079638554216867, \"B1_1\": 6.173032029523218, \"B1_2\": 5.9537911454342884, \"C1_2\": 6.097590361445783, \"D1\": 1.4371084337349398, \"D2_1\": 5.489083904109589, \"D2_2\": 5.470462328767123, \"D2_3\": 5.800941780821918, \"E1_1\": 6.484698795180723, \"E1_2\": 5.6003614457831326, \"E1_3\": 7.2866265060240965, \"A1_1\": 0.6003614457831326, \"A1_2\": 0.22048192771084338, \"A1_3\": 0.14566265060240963, \"A1_4\": 0.2908433734939759, \"A2_1\": 4.642937068243922, \"A2_2\": 5.631261784747621, \"A2_3\": 6.470415146698108, \"A3\": 6.339517025997068, \"F1\": 1.6867469879518073, \"F2\": 4.778846153846154, \"F3\": 1.7909638554216867, \"F4\": 4.821902017291066, \"F5\": 1.6954195205479452, \"F6\": 4.559381588193957, \"genero\": 0.5651807228915663, \"renda\": 2.233057190210199, \"contribuintes_renda\": 2.043132530120482, \"CLARO\": 0.22192771084337348, \"NEXTEL\": 0.0027710843373493976, \"OI\": 0.24903614457831325, \"SERCOMTEL\": 0.008433734939759036, \"TIM\": 0.2774698795180723, \"VIVO\": 0.21710843373493977}, {\"C1_1\": 7.0, \"J1\": 6.581777584816721, \"B1_1\": 6.606998024949308, \"B1_2\": 6.424425037384676, \"C1_2\": 6.867766544687713, \"D1\": 1.4035849407678471, \"D2_1\": 6.092970049916805, \"D2_2\": 5.980137271214642, \"D2_3\": 6.112520798668885, \"E1_1\": 6.780313837375179, \"E1_2\": 6.1797432239657635, \"E1_3\": 7.610990510450908, \"A1_1\": 0.5974694535756373, \"A1_2\": 0.23091236122309744, \"A1_3\": 0.14246728276375364, \"A1_4\": 0.29101283880171186, \"A2_1\": 4.9336745228464505, \"A2_2\": 5.930029326435338, \"A2_3\": 6.765292889373573, \"A3\": 6.634203258225289, \"F1\": 1.7056999317744836, \"F2\": 5.217492096944151, \"F3\": 1.8340259256962104, \"F4\": 5.319880418535127, \"F5\": 1.7121464226289518, \"F6\": 5.1979768786127165, \"genero\": 0.5432611796812008, \"renda\": 2.232398911571842, \"contribuintes_renda\": 2.0538981579110587, \"CLARO\": 0.21881783787136388, \"NEXTEL\": 0.0034112758171556162, \"OI\": 0.25336475841964895, \"SERCOMTEL\": 0.008993363517955716, \"TIM\": 0.2654592817713825, \"VIVO\": 0.22545431991564846}, {\"C1_1\": 7.8711844629829, \"J1\": 6.727777777777778, \"B1_1\": 6.913867869430009, \"B1_2\": 6.838821226473849, \"C1_2\": 33.955555555555556, \"D1\": 1.5944444444444446, \"D2_1\": 11.917808219178083, \"D2_2\": 10.301369863013699, \"D2_3\": 12.547945205479452, \"E1_1\": 23.883333333333333, \"E1_2\": 24.183333333333334, \"E1_3\": 27.933333333333334, \"A1_1\": 0.37222222222222223, \"A1_2\": 0.18888888888888888, \"A1_3\": 0.08888888888888889, \"A1_4\": 0.5055555555555555, \"A2_1\": 5.4903053805944735, \"A2_2\": 6.367381204353786, \"A2_3\": 7.149096873575588, \"A3\": 7.240735724371154, \"F1\": 1.8555555555555556, \"F2\": 9.076923076923077, \"F3\": 1.8944444444444444, \"F4\": 9.842105263157896, \"F5\": 1.7945205479452055, \"F6\": 13.8, \"genero\": 0.4388888888888889, \"renda\": 2.005689062185693, \"contribuintes_renda\": 2.15, \"CLARO\": 0.2611111111111111, \"NEXTEL\": 0.0, \"OI\": 0.2111111111111111, \"SERCOMTEL\": 0.0, \"TIM\": 0.23333333333333334, \"VIVO\": 0.25555555555555554}, {\"C1_1\": 8.0, \"J1\": 7.028229018738527, \"B1_1\": 6.943777627617206, \"B1_2\": 6.759109054946969, \"C1_2\": 7.593675314329258, \"D1\": 1.4174084721693048, \"D2_1\": 6.5958382877526756, \"D2_2\": 6.541498216409037, \"D2_3\": 6.696432818073721, \"E1_1\": 7.244155034463649, \"E1_2\": 6.7003567593779225, \"E1_3\": 8.027363097918327, \"A1_1\": 0.599044023414499, \"A1_2\": 0.23220532714488587, \"A1_3\": 0.14149146202071283, \"A1_4\": 0.29302760555574797, \"A2_1\": 5.194561312556146, \"A2_2\": 6.163059047380437, \"A2_3\": 7.002734638258354, \"A3\": 6.914279316560287, \"F1\": 1.7243947213466801, \"F2\": 5.596204599723514, \"F3\": 1.8592012746354474, \"F4\": 5.767527675276753, \"F5\": 1.7469678953626635, \"F6\": 5.417293233082707, \"genero\": 0.5310172837795712, \"renda\": 2.1622011649854387, \"contribuintes_renda\": 2.0663641716601435, \"CLARO\": 0.23165113781995775, \"NEXTEL\": 0.004433514599425028, \"OI\": 0.24893491739115375, \"SERCOMTEL\": 0.007862561047417824, \"TIM\": 0.23982543036264764, \"VIVO\": 0.24301201898098437}, {\"C1_1\": 9.0, \"J1\": 7.709117787729901, \"B1_1\": 7.6444567508093915, \"B1_2\": 7.543939764845439, \"C1_2\": 8.46975955476325, \"D1\": 1.3902778381668768, \"D2_1\": 7.317335805462455, \"D2_2\": 7.253084218783427, \"D2_3\": 7.341439064394209, \"E1_1\": 7.973303187095091, \"E1_2\": 7.475151093525805, \"E1_3\": 8.48471672681421, \"A1_1\": 0.5973303187095091, \"A1_2\": 0.25153267533371015, \"A1_3\": 0.13935388495151962, \"A1_4\": 0.28722987955998086, \"A2_1\": 5.677910346505533, \"A2_2\": 6.6528315345377775, \"A2_3\": 7.434760779189931, \"A3\": 7.394719980905376, \"F1\": 1.7586416800730467, \"F2\": 6.4950459376688885, \"F3\": 1.8947345536762468, \"F4\": 6.634448574969021, \"F5\": 1.7685231405548028, \"F6\": 6.255083179297597, \"genero\": 0.49149963041871386, \"renda\": 2.074371618617959, \"contribuintes_renda\": 2.0789599547806428, \"CLARO\": 0.24135831992695334, \"NEXTEL\": 0.004826296795512848, \"OI\": 0.23053176225053262, \"SERCOMTEL\": 0.008435149354319754, \"TIM\": 0.2296621592243141, \"VIVO\": 0.26131570937866866}, {\"C1_1\": 10.0, \"J1\": 8.423730204316074, \"B1_1\": 8.403669611452825, \"B1_2\": 8.24815914273201, \"C1_2\": 9.059177812423075, \"D1\": 1.4155575613358498, \"D2_1\": 8.170499536686041, \"D2_2\": 8.00943475697077, \"D2_3\": 8.146266812680762, \"E1_1\": 8.701501600065644, \"E1_2\": 8.255337654878149, \"E1_3\": 9.185509149093296, \"A1_1\": 0.6134897841962748, \"A1_2\": 0.2651678017559695, \"A1_3\": 0.1582834167555592, \"A1_4\": 0.2797078854517108, \"A2_1\": 6.082157030409507, \"A2_2\": 7.061870081588521, \"A2_3\": 7.86232705965905, \"A3\": 7.875776590795708, \"F1\": 1.769524903585788, \"F2\": 6.799131301623469, \"F3\": 1.8996143431525396, \"F4\": 6.7539643616151706, \"F5\": 1.800073007047988, \"F6\": 6.642837078651685, \"genero\": 0.44524493312546154, \"renda\": 1.8524444518136902, \"contribuintes_renda\": 2.13406088454911, \"CLARO\": 0.25578074997948635, \"NEXTEL\": 0.0065315500123081975, \"OI\": 0.23178797078854518, \"SERCOMTEL\": 0.00879625830803315, \"TIM\": 0.20413555427914992, \"VIVO\": 0.26288668253056535}]}}, {\"mode\": \"vega-lite\"});\n",
       "</script>"
      ],
      "text/plain": [
       "alt.Chart(...)"
      ]
     },
     "execution_count": 83,
     "metadata": {},
     "output_type": "execute_result"
    }
   ],
   "source": [
    "c1_1_groupby = df.groupby(['C1_1'], as_index=False).mean()\n",
    "\n",
    "alt.Chart(c1_1_groupby).mark_line().encode(\n",
    "    x = 'C1_1',\n",
    "    y = alt.Y('J1', title='Média J1'),\n",
    "    tooltip = ['J1', 'C1_1']\n",
    ").properties(\n",
    "    title = 'Média de J1 por nota C1_1'\n",
    ").interactive()"
   ]
  },
  {
   "cell_type": "markdown",
   "metadata": {
    "heading_collapsed": true,
    "hidden": true
   },
   "source": [
    "### C1_2"
   ]
  },
  {
   "cell_type": "code",
   "execution_count": 84,
   "metadata": {
    "ExecuteTime": {
     "end_time": "2021-06-26T14:45:18.505770Z",
     "start_time": "2021-06-26T14:45:18.491772Z"
    },
    "hidden": true
   },
   "outputs": [
    {
     "data": {
      "text/plain": [
       "10    46442\n",
       "8     30900\n",
       "9     22809\n",
       "7     18772\n",
       "5     15570\n",
       "6     10443\n",
       "0      7339\n",
       "4      5224\n",
       "3      4298\n",
       "2      3225\n",
       "1      1190\n",
       "99      229\n",
       "Name: C1_2, dtype: int64"
      ]
     },
     "execution_count": 84,
     "metadata": {},
     "output_type": "execute_result"
    }
   ],
   "source": [
    "df['C1_2'].value_counts()"
   ]
  },
  {
   "cell_type": "code",
   "execution_count": 85,
   "metadata": {
    "ExecuteTime": {
     "end_time": "2021-06-26T14:45:18.552271Z",
     "start_time": "2021-06-26T14:45:18.507271Z"
    },
    "hidden": true
   },
   "outputs": [
    {
     "data": {
      "text/plain": [
       "count    166212.000000\n",
       "mean          7.401650\n",
       "std           2.669979\n",
       "min           0.000000\n",
       "25%           6.000000\n",
       "50%           8.000000\n",
       "75%          10.000000\n",
       "max          10.000000\n",
       "Name: C1_2, dtype: float64"
      ]
     },
     "execution_count": 85,
     "metadata": {},
     "output_type": "execute_result"
    }
   ],
   "source": [
    "df.query('C1_2 != 99')['C1_2'].describe()"
   ]
  },
  {
   "cell_type": "code",
   "execution_count": 86,
   "metadata": {
    "ExecuteTime": {
     "end_time": "2021-06-26T14:45:18.645270Z",
     "start_time": "2021-06-26T14:45:18.553772Z"
    },
    "hidden": true
   },
   "outputs": [
    {
     "data": {
      "text/plain": [
       "0         10.0\n",
       "1         10.0\n",
       "2          8.0\n",
       "3         10.0\n",
       "4          0.0\n",
       "          ... \n",
       "166694     8.0\n",
       "166695    10.0\n",
       "166696     6.0\n",
       "166697     8.0\n",
       "166698    10.0\n",
       "Name: C1_2, Length: 166441, dtype: float64"
      ]
     },
     "execution_count": 86,
     "metadata": {},
     "output_type": "execute_result"
    }
   ],
   "source": [
    "c1_2_mean = df.query('C1_2 != 99')['C1_2'].describe()['mean']\n",
    "c1_2 = df['C1_2']\n",
    "c1_2 = c1_2.apply(lambda x: c1_2_mean if x == 99 else x)\n",
    "c1_2"
   ]
  },
  {
   "cell_type": "code",
   "execution_count": 87,
   "metadata": {
    "ExecuteTime": {
     "end_time": "2021-06-26T14:45:18.660771Z",
     "start_time": "2021-06-26T14:45:18.646271Z"
    },
    "hidden": true
   },
   "outputs": [
    {
     "data": {
      "text/plain": [
       "count    166441.000000\n",
       "mean          7.401650\n",
       "std           2.668142\n",
       "min           0.000000\n",
       "25%           6.000000\n",
       "50%           8.000000\n",
       "75%          10.000000\n",
       "max          10.000000\n",
       "Name: C1_2, dtype: float64"
      ]
     },
     "execution_count": 87,
     "metadata": {},
     "output_type": "execute_result"
    }
   ],
   "source": [
    "df['C1_2'] = c1_2\n",
    "df['C1_2'].describe()"
   ]
  },
  {
   "cell_type": "code",
   "execution_count": 88,
   "metadata": {
    "ExecuteTime": {
     "end_time": "2021-06-26T14:45:18.769271Z",
     "start_time": "2021-06-26T14:45:18.661772Z"
    },
    "hidden": true
   },
   "outputs": [
    {
     "data": {
      "text/html": [
       "\n",
       "<div id=\"altair-viz-31e603d58b034f13a132af02a2e6c8d8\"></div>\n",
       "<script type=\"text/javascript\">\n",
       "  (function(spec, embedOpt){\n",
       "    let outputDiv = document.currentScript.previousElementSibling;\n",
       "    if (outputDiv.id !== \"altair-viz-31e603d58b034f13a132af02a2e6c8d8\") {\n",
       "      outputDiv = document.getElementById(\"altair-viz-31e603d58b034f13a132af02a2e6c8d8\");\n",
       "    }\n",
       "    const paths = {\n",
       "      \"vega\": \"https://cdn.jsdelivr.net/npm//vega@5?noext\",\n",
       "      \"vega-lib\": \"https://cdn.jsdelivr.net/npm//vega-lib?noext\",\n",
       "      \"vega-lite\": \"https://cdn.jsdelivr.net/npm//vega-lite@4.8.1?noext\",\n",
       "      \"vega-embed\": \"https://cdn.jsdelivr.net/npm//vega-embed@6?noext\",\n",
       "    };\n",
       "\n",
       "    function loadScript(lib) {\n",
       "      return new Promise(function(resolve, reject) {\n",
       "        var s = document.createElement('script');\n",
       "        s.src = paths[lib];\n",
       "        s.async = true;\n",
       "        s.onload = () => resolve(paths[lib]);\n",
       "        s.onerror = () => reject(`Error loading script: ${paths[lib]}`);\n",
       "        document.getElementsByTagName(\"head\")[0].appendChild(s);\n",
       "      });\n",
       "    }\n",
       "\n",
       "    function showError(err) {\n",
       "      outputDiv.innerHTML = `<div class=\"error\" style=\"color:red;\">${err}</div>`;\n",
       "      throw err;\n",
       "    }\n",
       "\n",
       "    function displayChart(vegaEmbed) {\n",
       "      vegaEmbed(outputDiv, spec, embedOpt)\n",
       "        .catch(err => showError(`Javascript Error: ${err.message}<br>This usually means there's a typo in your chart specification. See the javascript console for the full traceback.`));\n",
       "    }\n",
       "\n",
       "    if(typeof define === \"function\" && define.amd) {\n",
       "      requirejs.config({paths});\n",
       "      require([\"vega-embed\"], displayChart, err => showError(`Error loading script: ${err.message}`));\n",
       "    } else if (typeof vegaEmbed === \"function\") {\n",
       "      displayChart(vegaEmbed);\n",
       "    } else {\n",
       "      loadScript(\"vega\")\n",
       "        .then(() => loadScript(\"vega-lite\"))\n",
       "        .then(() => loadScript(\"vega-embed\"))\n",
       "        .catch(showError)\n",
       "        .then(() => displayChart(vegaEmbed));\n",
       "    }\n",
       "  })({\"config\": {\"view\": {\"continuousWidth\": 400, \"continuousHeight\": 300}}, \"data\": {\"name\": \"data-22b6b6ba419947cc40a95b800dac8742\"}, \"mark\": \"line\", \"encoding\": {\"tooltip\": [{\"type\": \"quantitative\", \"field\": \"J1\"}, {\"type\": \"quantitative\", \"field\": \"C1_2\"}], \"x\": {\"type\": \"quantitative\", \"field\": \"C1_2\"}, \"y\": {\"type\": \"quantitative\", \"field\": \"J1\", \"title\": \"M\\u00e9dia J1\"}}, \"selection\": {\"selector011\": {\"type\": \"interval\", \"bind\": \"scales\", \"encodings\": [\"x\", \"y\"]}}, \"title\": \"M\\u00e9dia de J1 por nota C1_2\", \"$schema\": \"https://vega.github.io/schema/vega-lite/v4.8.1.json\", \"datasets\": {\"data-22b6b6ba419947cc40a95b800dac8742\": [{\"C1_2\": 0.0, \"J1\": 3.8340373347867556, \"B1_1\": 4.0331930532743625, \"B1_2\": 3.3337423299156628, \"C1_1\": 3.583212506129141, \"D1\": 1.4978879956397328, \"D2_1\": 3.4911804613297153, \"D2_2\": 3.381818181818182, \"D2_3\": 3.526729986431479, \"E1_1\": 4.396239269655267, \"E1_2\": 3.6671208611527457, \"E1_3\": 6.016078484807195, \"A1_1\": 0.6146613980106281, \"A1_2\": 0.1847663169369124, \"A1_3\": 0.14647772176045784, \"A1_4\": 0.3053549529908707, \"A2_1\": 3.40992765895217, \"A2_2\": 4.302005317898013, \"A2_3\": 5.551110816417506, \"A3\": 5.181688190804269, \"F1\": 1.5627469682518054, \"F2\": 2.681209099407915, \"F3\": 1.634418858155062, \"F4\": 2.233320909429743, \"F5\": 1.5997286295793758, \"F6\": 2.2759322033898304, \"genero\": 0.45987191715492576, \"renda\": 1.9655828515389828, \"contribuintes_renda\": 2.11472952718354, \"CLARO\": 0.22169232865513014, \"NEXTEL\": 0.0024526502248262707, \"OI\": 0.28123722578007904, \"SERCOMTEL\": 0.0057228505245946314, \"TIM\": 0.23749829677067721, \"VIVO\": 0.23054912113366943}, {\"C1_2\": 1.0, \"J1\": 3.5327731092436974, \"B1_1\": 3.932286991845909, \"B1_2\": 3.4172243320935487, \"C1_1\": 3.0333969486772823, \"D1\": 1.438655462184874, \"D2_1\": 3.558383233532934, \"D2_2\": 2.911676646706587, \"D2_3\": 3.1407185628742513, \"E1_1\": 4.2176470588235295, \"E1_2\": 3.66890756302521, \"E1_3\": 5.434453781512605, \"A1_1\": 0.6260504201680672, \"A1_2\": 0.18739495798319328, \"A1_3\": 0.16974789915966387, \"A1_4\": 0.2714285714285714, \"A2_1\": 3.3572144670247943, \"A2_2\": 4.245725632486605, \"A2_3\": 5.285595451487482, \"A3\": 4.955995115251215, \"F1\": 1.5722689075630252, \"F2\": 2.6051080550098233, \"F3\": 1.66218487394958, \"F4\": 2.2238805970149254, \"F5\": 1.6197604790419162, \"F6\": 2.7086614173228347, \"genero\": 0.5394957983193277, \"renda\": 2.3913148181615433, \"contribuintes_renda\": 2.030252100840336, \"CLARO\": 0.20588235294117646, \"NEXTEL\": 0.0025210084033613447, \"OI\": 0.2747899159663866, \"SERCOMTEL\": 0.009243697478991597, \"TIM\": 0.2865546218487395, \"VIVO\": 0.1915966386554622}, {\"C1_2\": 2.0, \"J1\": 4.228837209302325, \"B1_1\": 4.510633700052613, \"B1_2\": 4.0168295426175735, \"C1_1\": 3.943486005868517, \"D1\": 1.4592248062015505, \"D2_1\": 3.602637614678899, \"D2_2\": 3.5315366972477062, \"D2_3\": 3.8377293577981653, \"E1_1\": 4.835968992248062, \"E1_2\": 3.9649612403100774, \"E1_3\": 5.97984496124031, \"A1_1\": 0.6179844961240311, \"A1_2\": 0.1965891472868217, \"A1_3\": 0.15813953488372093, \"A1_4\": 0.2837209302325581, \"A2_1\": 3.5564079744344337, \"A2_2\": 4.576727683277955, \"A2_3\": 5.563832316611582, \"A3\": 5.272626138449157, \"F1\": 1.6, \"F2\": 3.045736434108527, \"F3\": 1.689612403100775, \"F4\": 2.6563436563436564, \"F5\": 1.6278669724770642, \"F6\": 2.4915254237288136, \"genero\": 0.5438759689922481, \"renda\": 2.234914674089402, \"contribuintes_renda\": 2.052403100775194, \"CLARO\": 0.21085271317829457, \"NEXTEL\": 0.0021705426356589145, \"OI\": 0.2576744186046512, \"SERCOMTEL\": 0.004651162790697674, \"TIM\": 0.3035658914728682, \"VIVO\": 0.19751937984496123}, {\"C1_2\": 3.0, \"J1\": 4.7624476500698, \"B1_1\": 5.006470482855019, \"B1_2\": 4.602469267662287, \"C1_1\": 4.576689984501849, \"D1\": 1.4664960446719404, \"D2_1\": 4.056694286960314, \"D2_2\": 3.8469254252071523, \"D2_3\": 4.1142607937200175, \"E1_1\": 5.359702187063751, \"E1_2\": 4.670079106561191, \"E1_3\": 6.453466728711028, \"A1_1\": 0.6002791996277338, \"A1_2\": 0.19613773848301536, \"A1_3\": 0.14751046998604, \"A1_4\": 0.30107026523964636, \"A2_1\": 3.878994708270378, \"A2_2\": 4.913152006236437, \"A2_3\": 5.856783283131471, \"A3\": 5.622325409725909, \"F1\": 1.626105165193113, \"F2\": 3.7529558182949594, \"F3\": 1.7061423918101442, \"F4\": 3.3064133016627077, \"F5\": 1.6528565198430005, \"F6\": 3.2060301507537687, \"genero\": 0.5646812470916706, \"renda\": 2.2446803372020674, \"contribuintes_renda\": 2.072359236854351, \"CLARO\": 0.21265704979060027, \"NEXTEL\": 0.0025593299208934387, \"OI\": 0.27384830153559797, \"SERCOMTEL\": 0.006979990693345742, \"TIM\": 0.27664029781293625, \"VIVO\": 0.20358306188925082}, {\"C1_2\": 4.0, \"J1\": 5.321784073506891, \"B1_1\": 5.551429867638844, \"B1_2\": 5.1399425123103715, \"C1_1\": 5.362075945224336, \"D1\": 1.4500382848392037, \"D2_1\": 4.7124956491472325, \"D2_2\": 4.513052558301427, \"D2_3\": 4.8820048729550996, \"E1_1\": 5.974732006125574, \"E1_2\": 5.117343032159265, \"E1_3\": 6.809150076569678, \"A1_1\": 0.6004977029096478, \"A1_2\": 0.19774119448698316, \"A1_3\": 0.14567381316998468, \"A1_4\": 0.297281776416539, \"A2_1\": 4.183271374142147, \"A2_2\": 5.219283154451505, \"A2_3\": 6.133056373759936, \"A3\": 5.926111000015053, \"F1\": 1.6475880551301685, \"F2\": 4.120586637696904, \"F3\": 1.739280245022971, \"F4\": 4.039647577092511, \"F5\": 1.6648103028193526, \"F6\": 3.850467289719626, \"genero\": 0.5658499234303216, \"renda\": 2.210410847753899, \"contribuintes_renda\": 2.0821209800918834, \"CLARO\": 0.20865237366003062, \"NEXTEL\": 0.0015313935681470138, \"OI\": 0.264739663093415, \"SERCOMTEL\": 0.007082695252679939, \"TIM\": 0.28598774885145484, \"VIVO\": 0.20846094946401225}, {\"C1_2\": 5.0, \"J1\": 5.949839434810533, \"B1_1\": 6.025882136543965, \"B1_2\": 5.6971751481687765, \"C1_1\": 6.319207949065174, \"D1\": 1.4594091201027617, \"D2_1\": 5.364619223001069, \"D2_2\": 5.292028038493525, \"D2_3\": 5.3870737792562675, \"E1_1\": 6.225112395632626, \"E1_2\": 5.57058445728966, \"E1_3\": 7.210918432883751, \"A1_1\": 0.6061657032755299, \"A1_2\": 0.20494540783558124, \"A1_3\": 0.14463712267180476, \"A1_4\": 0.29653179190751444, \"A2_1\": 4.441359923381022, \"A2_2\": 5.471008698542646, \"A2_3\": 6.395539613815581, \"A3\": 6.233592164187998, \"F1\": 1.6622350674373796, \"F2\": 4.512264689104392, \"F3\": 1.7676942838792549, \"F4\": 4.488249930881946, \"F5\": 1.6779137459902578, \"F6\": 4.254887495389156, \"genero\": 0.5096981374438022, \"renda\": 2.0970266501476083, \"contribuintes_renda\": 2.0615928066795117, \"CLARO\": 0.22087347463070006, \"NEXTEL\": 0.0024405908798972383, \"OI\": 0.26043673731535005, \"SERCOMTEL\": 0.008092485549132947, \"TIM\": 0.2565189466923571, \"VIVO\": 0.22402055234425178}, {\"C1_2\": 6.0, \"J1\": 6.451115579814229, \"B1_1\": 6.491648941795178, \"B1_2\": 6.27874781789677, \"C1_1\": 6.920063880760116, \"D1\": 1.4280379201378914, \"D2_1\": 5.776494224008037, \"D2_2\": 5.7600870584296, \"D2_3\": 5.809643395278754, \"E1_1\": 6.635641099300967, \"E1_2\": 6.023460691372211, \"E1_3\": 7.520252800919276, \"A1_1\": 0.6031791630757445, \"A1_2\": 0.21928564588719718, \"A1_3\": 0.1465096236713588, \"A1_4\": 0.28775256152446615, \"A2_1\": 4.834106502029619, \"A2_2\": 5.835798589902588, \"A2_3\": 6.699924622115528, \"A3\": 6.560603735953211, \"F1\": 1.701714066839031, \"F2\": 5.125842696629213, \"F3\": 1.8103993105429474, \"F4\": 5.083838383838384, \"F5\": 1.7178972040850493, \"F6\": 4.824925816023739, \"genero\": 0.544575313607201, \"renda\": 2.1738654531457384, \"contribuintes_renda\": 2.0664559992339364, \"CLARO\": 0.21727472948386478, \"NEXTEL\": 0.0034472852628555013, \"OI\": 0.2571100258546395, \"SERCOMTEL\": 0.007947907689361294, \"TIM\": 0.2666858182514603, \"VIVO\": 0.22254141530211624}, {\"C1_2\": 7.0, \"J1\": 6.940017046665246, \"B1_1\": 6.979332741525311, \"B1_2\": 6.807594006736555, \"C1_1\": 7.6646911905546995, \"D1\": 1.4073620285531643, \"D2_1\": 6.447640449438202, \"D2_2\": 6.33752808988764, \"D2_3\": 6.566561797752809, \"E1_1\": 7.1057425953547835, \"E1_2\": 6.5297783933518, \"E1_3\": 7.831184743234605, \"A1_1\": 0.5962603878116344, \"A1_2\": 0.23726827189431068, \"A1_3\": 0.14004900916258256, \"A1_4\": 0.2893671425527381, \"A2_1\": 5.164048438828582, \"A2_2\": 6.161730834068888, \"A2_3\": 6.9740091504052275, \"A3\": 6.886147183554209, \"F1\": 1.721020669081611, \"F2\": 5.600534657246516, \"F3\": 1.848870658427445, \"F4\": 5.726824109975326, \"F5\": 1.7297977528089887, \"F6\": 5.540252827677977, \"genero\": 0.521308331557639, \"renda\": 2.1418269237320207, \"contribuintes_renda\": 2.064883869593011, \"CLARO\": 0.22810568932452588, \"NEXTEL\": 0.0038354996803750267, \"OI\": 0.25298316641806945, \"SERCOMTEL\": 0.007724270189644151, \"TIM\": 0.2542616663115278, \"VIVO\": 0.229810355849137}, {\"C1_2\": 7.401649700382644, \"J1\": 7.008733624454148, \"B1_1\": 7.065756522094217, \"B1_2\": 7.011478179234976, \"C1_1\": 7.852282866978578, \"D1\": 1.6069868995633187, \"D2_1\": 10.544444444444444, \"D2_2\": 14.444444444444445, \"D2_3\": 13.622222222222222, \"E1_1\": 24.820960698689955, \"E1_2\": 21.53711790393013, \"E1_3\": 22.397379912663755, \"A1_1\": 0.3406113537117904, \"A1_2\": 0.18340611353711792, \"A1_3\": 0.1222707423580786, \"A1_4\": 0.49344978165938863, \"A2_1\": 5.502412118781168, \"A2_2\": 6.283563371609233, \"A2_3\": 7.187552381893394, \"A3\": 7.166148829268835, \"F1\": 1.8209606986899562, \"F2\": 12.390243902439025, \"F3\": 1.8820960698689957, \"F4\": 12.074074074074074, \"F5\": 1.788888888888889, \"F6\": 7.842105263157895, \"genero\": 0.39737991266375544, \"renda\": 1.9154284034631164, \"contribuintes_renda\": 2.021834061135371, \"CLARO\": 0.2576419213973799, \"NEXTEL\": 0.004366812227074236, \"OI\": 0.22270742358078602, \"SERCOMTEL\": 0.0, \"TIM\": 0.21397379912663755, \"VIVO\": 0.2838427947598253}, {\"C1_2\": 8.0, \"J1\": 7.317961165048544, \"B1_1\": 7.260112943952197, \"B1_2\": 7.112843757865253, \"C1_1\": 8.294835718099016, \"D1\": 1.4150161812297735, \"D2_1\": 6.917127683115734, \"D2_2\": 6.819926974994468, \"D2_3\": 7.004536401858818, \"E1_1\": 7.568576051779935, \"E1_2\": 7.035210355987055, \"E1_3\": 8.252362459546925, \"A1_1\": 0.6026860841423948, \"A1_2\": 0.24084142394822006, \"A1_3\": 0.14640776699029126, \"A1_4\": 0.28841423948220063, \"A2_1\": 5.43141560312991, \"A2_2\": 6.3897520818485365, \"A2_3\": 7.192163484798258, \"A3\": 7.131442396484485, \"F1\": 1.7381877022653722, \"F2\": 5.856983930778739, \"F3\": 1.8703236245954693, \"F4\": 6.125031195408036, \"F5\": 1.7571918566054436, \"F6\": 5.817953975848713, \"genero\": 0.512168284789644, \"renda\": 2.1242707757204253, \"contribuintes_renda\": 2.0643042071197413, \"CLARO\": 0.2393527508090615, \"NEXTEL\": 0.0039805825242718446, \"OI\": 0.2423948220064725, \"SERCOMTEL\": 0.00831715210355987, \"TIM\": 0.23414239482200647, \"VIVO\": 0.2459223300970874}, {\"C1_2\": 9.0, \"J1\": 7.837914858170021, \"B1_1\": 7.8064991578573615, \"B1_2\": 7.695805751273549, \"C1_1\": 8.932403725831108, \"D1\": 1.3802007979306414, \"D2_1\": 7.557402560656434, \"D2_2\": 7.483341585909316, \"D2_3\": 7.509584777534131, \"E1_1\": 8.112411767284843, \"E1_2\": 7.6526371169275285, \"E1_3\": 8.639309044675347, \"A1_1\": 0.603621377526415, \"A1_2\": 0.25599544039633476, \"A1_3\": 0.1435836731114911, \"A1_4\": 0.2827392695865667, \"A2_1\": 5.822346032614208, \"A2_2\": 6.77297890481837, \"A2_3\": 7.534356234018495, \"A3\": 7.516431595089109, \"F1\": 1.7675917401025911, \"F2\": 6.621580833804942, \"F3\": 1.90258231399886, \"F4\": 6.888838883888389, \"F5\": 1.7797976939944826, \"F6\": 6.437198843559267, \"genero\": 0.48073129028015255, \"renda\": 2.0618941130257493, \"contribuintes_renda\": 2.0966723661712483, \"CLARO\": 0.2445525888903503, \"NEXTEL\": 0.005480292866850804, \"OI\": 0.22236836336533825, \"SERCOMTEL\": 0.008812310929896094, \"TIM\": 0.23065456618001667, \"VIVO\": 0.26322942698057783}, {\"C1_2\": 10.0, \"J1\": 8.477821799233453, \"B1_1\": 8.451046278944848, \"B1_2\": 8.311746067251025, \"C1_1\": 9.547292593787244, \"D1\": 1.411868567245166, \"D2_1\": 8.273083400453979, \"D2_2\": 8.15072856410632, \"D2_3\": 8.293402650655342, \"E1_1\": 8.82849575814995, \"E1_2\": 8.382713922742346, \"E1_3\": 9.296757245596659, \"A1_1\": 0.6068644761207528, \"A1_2\": 0.2682270358727014, \"A1_3\": 0.15819732139012102, \"A1_4\": 0.28588346755092375, \"A2_1\": 6.166743726991549, \"A2_2\": 7.128324007233161, \"A2_3\": 7.912198641050958, \"A3\": 7.93399505479594, \"F1\": 1.776947590543043, \"F2\": 6.879235447437011, \"F3\": 1.9096722794022651, \"F4\": 6.7697258641239575, \"F5\": 1.8098777183861756, \"F6\": 6.702869247063354, \"genero\": 0.4588734335299944, \"renda\": 1.8928561421898011, \"contribuintes_renda\": 2.129128805822316, \"CLARO\": 0.25690108091813446, \"NEXTEL\": 0.007364023943843934, \"OI\": 0.23073941690710995, \"SERCOMTEL\": 0.010141682098100856, \"TIM\": 0.20281210972826322, \"VIVO\": 0.2615735756427372}]}}, {\"mode\": \"vega-lite\"});\n",
       "</script>"
      ],
      "text/plain": [
       "alt.Chart(...)"
      ]
     },
     "execution_count": 88,
     "metadata": {},
     "output_type": "execute_result"
    }
   ],
   "source": [
    "c1_2_groupby = df.groupby(['C1_2'], as_index=False).mean()\n",
    "\n",
    "alt.Chart(c1_2_groupby).mark_line().encode(\n",
    "    x = 'C1_2',\n",
    "    y = alt.Y('J1', title='Média J1'),\n",
    "    tooltip = ['J1', 'C1_2']\n",
    ").properties(\n",
    "    title = 'Média de J1 por nota C1_2'\n",
    ").interactive()"
   ]
  },
  {
   "cell_type": "markdown",
   "metadata": {
    "heading_collapsed": true,
    "hidden": true
   },
   "source": [
    "## Colunas D2"
   ]
  },
  {
   "cell_type": "markdown",
   "metadata": {
    "hidden": true
   },
   "source": [
    "As colunas D2 contém notas dos usuários sobre o funcionamento de dados 3G e 4G. As entradas com missing data são referentes a usuários que não utilizaram serviços de internet nos 6 meses anteriores a pesquisa (pergunta D1).\n",
    "\n",
    "Para elas, iremos substituir os dados faltantes com a nota média da coluna."
   ]
  },
  {
   "cell_type": "code",
   "execution_count": 89,
   "metadata": {
    "ExecuteTime": {
     "end_time": "2021-06-26T14:45:19.125772Z",
     "start_time": "2021-06-26T14:45:18.770772Z"
    },
    "hidden": true
   },
   "outputs": [
    {
     "data": {
      "text/plain": [
       "<AxesSubplot:>"
      ]
     },
     "execution_count": 89,
     "metadata": {},
     "output_type": "execute_result"
    },
    {
     "data": {
      "image/png": "[encoded data removed]",
      "text/plain": [
       "<Figure size 1800x720 with 2 Axes>"
      ]
     },
     "metadata": {
      "needs_background": "light"
     },
     "output_type": "display_data"
    }
   ],
   "source": [
    "msno.matrix(df[['D2_1', 'D2_2', 'D2_3']])"
   ]
  },
  {
   "cell_type": "code",
   "execution_count": 90,
   "metadata": {
    "ExecuteTime": {
     "end_time": "2021-06-26T14:45:19.435774Z",
     "start_time": "2021-06-26T14:45:19.127272Z"
    },
    "hidden": true
   },
   "outputs": [
    {
     "data": {
      "text/plain": [
       "<AxesSubplot:>"
      ]
     },
     "execution_count": 90,
     "metadata": {},
     "output_type": "execute_result"
    },
    {
     "data": {
      "image/png": "[encoded data removed]",
      "text/plain": [
       "<Figure size 1728x720 with 3 Axes>"
      ]
     },
     "metadata": {
      "needs_background": "light"
     },
     "output_type": "display_data"
    }
   ],
   "source": [
    "msno.bar(df[['D2_1', 'D2_2', 'D2_3']])"
   ]
  },
  {
   "cell_type": "markdown",
   "metadata": {
    "heading_collapsed": true,
    "hidden": true
   },
   "source": [
    "### D2_1"
   ]
  },
  {
   "cell_type": "code",
   "execution_count": 91,
   "metadata": {
    "ExecuteTime": {
     "end_time": "2021-06-26T14:45:19.451271Z",
     "start_time": "2021-06-26T14:45:19.437273Z"
    },
    "hidden": true
   },
   "outputs": [
    {
     "data": {
      "text/plain": [
       "10.0    19157\n",
       "8.0     15920\n",
       "7.0     12300\n",
       "5.0     12120\n",
       "9.0      9569\n",
       "6.0      7798\n",
       "0.0      5802\n",
       "4.0      4913\n",
       "3.0      4194\n",
       "2.0      3177\n",
       "1.0      1282\n",
       "99.0      163\n",
       "Name: D2_1, dtype: int64"
      ]
     },
     "execution_count": 91,
     "metadata": {},
     "output_type": "execute_result"
    }
   ],
   "source": [
    "df['D2_1'].value_counts()"
   ]
  },
  {
   "cell_type": "code",
   "execution_count": 92,
   "metadata": {
    "ExecuteTime": {
     "end_time": "2021-06-26T14:45:19.466772Z",
     "start_time": "2021-06-26T14:45:19.452771Z"
    },
    "hidden": true
   },
   "outputs": [
    {
     "data": {
      "text/plain": [
       "False    96395\n",
       "True     70046\n",
       "Name: D2_1, dtype: int64"
      ]
     },
     "execution_count": 92,
     "metadata": {},
     "output_type": "execute_result"
    }
   ],
   "source": [
    "df['D2_1'].isnull().value_counts() #O resultado será o mesmo para as duas outras colunas"
   ]
  },
  {
   "cell_type": "code",
   "execution_count": 93,
   "metadata": {
    "ExecuteTime": {
     "end_time": "2021-06-26T14:45:19.482271Z",
     "start_time": "2021-06-26T14:45:19.468272Z"
    },
    "hidden": true
   },
   "outputs": [
    {
     "data": {
      "text/plain": [
       "count    96395.000000\n",
       "mean         6.790248\n",
       "std          4.755004\n",
       "min          0.000000\n",
       "25%          5.000000\n",
       "50%          7.000000\n",
       "75%          9.000000\n",
       "max         99.000000\n",
       "Name: D2_1, dtype: float64"
      ]
     },
     "execution_count": 93,
     "metadata": {},
     "output_type": "execute_result"
    }
   ],
   "source": [
    "df['D2_1'].describe()"
   ]
  },
  {
   "cell_type": "code",
   "execution_count": 94,
   "metadata": {
    "ExecuteTime": {
     "end_time": "2021-06-26T14:45:19.544272Z",
     "start_time": "2021-06-26T14:45:19.483772Z"
    },
    "hidden": true
   },
   "outputs": [
    {
     "data": {
      "text/plain": [
       "0          4.000000\n",
       "1          6.790248\n",
       "2          4.000000\n",
       "3         10.000000\n",
       "4          6.000000\n",
       "            ...    \n",
       "166694    10.000000\n",
       "166695     6.790248\n",
       "166696     6.790248\n",
       "166697     8.000000\n",
       "166698    10.000000\n",
       "Name: D2_1, Length: 166441, dtype: float64"
      ]
     },
     "execution_count": 94,
     "metadata": {},
     "output_type": "execute_result"
    }
   ],
   "source": [
    "d2_1_mean = df['D2_1'].describe()['mean']\n",
    "d2_1_filled = df['D2_1'].fillna(d2_1_mean)\n",
    "d2_1_filled = d2_1_filled.apply(lambda x: d2_1_mean if x == 99 else x)\n",
    "d2_1_filled"
   ]
  },
  {
   "cell_type": "code",
   "execution_count": 95,
   "metadata": {
    "ExecuteTime": {
     "end_time": "2021-06-26T14:45:19.559771Z",
     "start_time": "2021-06-26T14:45:19.545773Z"
    },
    "hidden": true
   },
   "outputs": [
    {
     "data": {
      "text/plain": [
       "count    166441.000000\n",
       "mean          6.699945\n",
       "std           2.181649\n",
       "min           0.000000\n",
       "25%           6.790248\n",
       "50%           6.790248\n",
       "75%           8.000000\n",
       "max          10.000000\n",
       "Name: D2_1, dtype: float64"
      ]
     },
     "execution_count": 95,
     "metadata": {},
     "output_type": "execute_result"
    }
   ],
   "source": [
    "df['D2_1'] = d2_1_filled\n",
    "df['D2_1'].describe()"
   ]
  },
  {
   "cell_type": "code",
   "execution_count": 96,
   "metadata": {
    "ExecuteTime": {
     "end_time": "2021-06-26T14:45:19.683771Z",
     "start_time": "2021-06-26T14:45:19.561272Z"
    },
    "hidden": true
   },
   "outputs": [
    {
     "data": {
      "text/html": [
       "\n",
       "<div id=\"altair-viz-55e7dd797f9648a098c8aa14c0e81d7f\"></div>\n",
       "<script type=\"text/javascript\">\n",
       "  (function(spec, embedOpt){\n",
       "    let outputDiv = document.currentScript.previousElementSibling;\n",
       "    if (outputDiv.id !== \"altair-viz-55e7dd797f9648a098c8aa14c0e81d7f\") {\n",
       "      outputDiv = document.getElementById(\"altair-viz-55e7dd797f9648a098c8aa14c0e81d7f\");\n",
       "    }\n",
       "    const paths = {\n",
       "      \"vega\": \"https://cdn.jsdelivr.net/npm//vega@5?noext\",\n",
       "      \"vega-lib\": \"https://cdn.jsdelivr.net/npm//vega-lib?noext\",\n",
       "      \"vega-lite\": \"https://cdn.jsdelivr.net/npm//vega-lite@4.8.1?noext\",\n",
       "      \"vega-embed\": \"https://cdn.jsdelivr.net/npm//vega-embed@6?noext\",\n",
       "    };\n",
       "\n",
       "    function loadScript(lib) {\n",
       "      return new Promise(function(resolve, reject) {\n",
       "        var s = document.createElement('script');\n",
       "        s.src = paths[lib];\n",
       "        s.async = true;\n",
       "        s.onload = () => resolve(paths[lib]);\n",
       "        s.onerror = () => reject(`Error loading script: ${paths[lib]}`);\n",
       "        document.getElementsByTagName(\"head\")[0].appendChild(s);\n",
       "      });\n",
       "    }\n",
       "\n",
       "    function showError(err) {\n",
       "      outputDiv.innerHTML = `<div class=\"error\" style=\"color:red;\">${err}</div>`;\n",
       "      throw err;\n",
       "    }\n",
       "\n",
       "    function displayChart(vegaEmbed) {\n",
       "      vegaEmbed(outputDiv, spec, embedOpt)\n",
       "        .catch(err => showError(`Javascript Error: ${err.message}<br>This usually means there's a typo in your chart specification. See the javascript console for the full traceback.`));\n",
       "    }\n",
       "\n",
       "    if(typeof define === \"function\" && define.amd) {\n",
       "      requirejs.config({paths});\n",
       "      require([\"vega-embed\"], displayChart, err => showError(`Error loading script: ${err.message}`));\n",
       "    } else if (typeof vegaEmbed === \"function\") {\n",
       "      displayChart(vegaEmbed);\n",
       "    } else {\n",
       "      loadScript(\"vega\")\n",
       "        .then(() => loadScript(\"vega-lite\"))\n",
       "        .then(() => loadScript(\"vega-embed\"))\n",
       "        .catch(showError)\n",
       "        .then(() => displayChart(vegaEmbed));\n",
       "    }\n",
       "  })({\"config\": {\"view\": {\"continuousWidth\": 400, \"continuousHeight\": 300}}, \"data\": {\"name\": \"data-dfbb190111bb0b0c4517bddd07d0f078\"}, \"mark\": \"line\", \"encoding\": {\"tooltip\": [{\"type\": \"quantitative\", \"field\": \"J1\"}, {\"type\": \"quantitative\", \"field\": \"D2_1\"}], \"x\": {\"type\": \"quantitative\", \"field\": \"D2_1\"}, \"y\": {\"type\": \"quantitative\", \"field\": \"J1\", \"title\": \"M\\u00e9dia J1\"}}, \"selection\": {\"selector012\": {\"type\": \"interval\", \"bind\": \"scales\", \"encodings\": [\"x\", \"y\"]}}, \"title\": \"M\\u00e9dia de J1 por nota D2_1\", \"$schema\": \"https://vega.github.io/schema/vega-lite/v4.8.1.json\", \"datasets\": {\"data-dfbb190111bb0b0c4517bddd07d0f078\": [{\"D2_1\": 0.0, \"J1\": 4.029300241296105, \"B1_1\": 4.1388364567011005, \"B1_2\": 3.2907968651150594, \"C1_1\": 5.44017083496432, \"C1_2\": 4.746812865994815, \"D1\": 1.0, \"D2_2\": 1.4693209238193727, \"D2_3\": 1.6140985866942434, \"E1_1\": 4.308341951051362, \"E1_2\": 3.4848328162702518, \"E1_3\": 6.092726645984143, \"A1_1\": 0.6902792140641159, \"A1_2\": 0.26559806963116167, \"A1_3\": 0.1599448466046191, \"A1_4\": 0.22044122716304723, \"A2_1\": 3.1089393932934435, \"A2_2\": 3.9789099763175964, \"A2_3\": 5.320825456502219, \"A3\": 4.994752993056232, \"F1\": 1.5029300241296104, \"F2\": 2.8196948682385576, \"F3\": 1.6745949672526714, \"F4\": 2.305614406779661, \"F5\": 1.5134436401240952, \"F6\": 1.4991144172865745, \"genero\": 0.4596690796277146, \"renda\": 2.1345648864529454, \"contribuintes_renda\": 2.1075491209927613, \"CLARO\": 0.24870734229576008, \"NEXTEL\": 0.004653567735263702, \"OI\": 0.2721475353326439, \"SERCOMTEL\": 0.008273009307135471, \"TIM\": 0.208031713202344, \"VIVO\": 0.23285074112375043}, {\"D2_1\": 1.0, \"J1\": 4.194227769110764, \"B1_1\": 4.480157587411994, \"B1_2\": 3.902327932424111, \"C1_1\": 5.238589067443825, \"C1_2\": 4.732295865367211, \"D1\": 1.0, \"D2_2\": 1.9414976599063962, \"D2_3\": 2.137285491419657, \"E1_1\": 4.322932917316693, \"E1_2\": 3.5085803432137284, \"E1_3\": 5.6801872074882995, \"A1_1\": 0.7082683307332294, \"A1_2\": 0.2714508580343214, \"A1_3\": 0.15678627145085802, \"A1_4\": 0.19890795631825273, \"A2_1\": 3.1607732593709175, \"A2_2\": 4.12297342234711, \"A2_3\": 5.226701985665218, \"A3\": 4.922263643523477, \"F1\": 1.5686427457098284, \"F2\": 2.9584086799276674, \"F3\": 1.6934477379095163, \"F4\": 2.854961832061069, \"F5\": 1.545241809672387, \"F6\": 1.9125214408233275, \"genero\": 0.5452418096723869, \"renda\": 2.3889280021255193, \"contribuintes_renda\": 2.0881435257410295, \"CLARO\": 0.20904836193447737, \"NEXTEL\": 0.00234009360374415, \"OI\": 0.2753510140405616, \"SERCOMTEL\": 0.00858034321372855, \"TIM\": 0.26131045241809675, \"VIVO\": 0.21918876755070202}, {\"D2_1\": 2.0, \"J1\": 4.821214982688071, \"B1_1\": 5.044508992022485, \"B1_2\": 4.485991158445906, \"C1_1\": 5.89298079949638, \"C1_2\": 5.441611583254643, \"D1\": 1.0, \"D2_2\": 2.8265659427132515, \"D2_3\": 2.8445073969153287, \"E1_1\": 4.983632357570035, \"E1_2\": 4.25590179414542, \"E1_3\": 6.268177525967895, \"A1_1\": 0.6679257160843564, \"A1_2\": 0.2845451683978596, \"A1_3\": 0.16902738432483475, \"A1_4\": 0.22033364809568776, \"A2_1\": 3.625285887563921, \"A2_2\": 4.617980064109405, \"A2_3\": 5.678286445919746, \"A3\": 5.459556811645828, \"F1\": 1.580421781554926, \"F2\": 3.4456114028507128, \"F3\": 1.7286748504878817, \"F4\": 3.305104408352668, \"F5\": 1.587346553352219, \"F6\": 2.9801678108314262, \"genero\": 0.546742209631728, \"renda\": 2.3199164151351597, \"contribuintes_renda\": 2.0862448851117406, \"CLARO\": 0.22348127163991185, \"NEXTEL\": 0.0028328611898017, \"OI\": 0.2552722694365754, \"SERCOMTEL\": 0.00881334592382751, \"TIM\": 0.2612527541706012, \"VIVO\": 0.2222222222222222}, {\"D2_1\": 3.0, \"J1\": 5.222699093943729, \"B1_1\": 5.487835848201908, \"B1_2\": 4.979237493285298, \"C1_1\": 6.214769282051971, \"C1_2\": 5.790891750119218, \"D1\": 1.0, \"D2_2\": 3.421793037672866, \"D2_3\": 3.731998092513114, \"E1_1\": 5.337148307105388, \"E1_2\": 4.528612303290415, \"E1_3\": 6.59036719122556, \"A1_1\": 0.6616595135908441, \"A1_2\": 0.27896995708154504, \"A1_3\": 0.156413924654268, \"A1_4\": 0.22889842632331903, \"A2_1\": 3.954406732207595, \"A2_2\": 4.962970755843051, \"A2_3\": 5.974857059975486, \"A3\": 5.731733498330106, \"F1\": 1.6020505484024796, \"F2\": 3.9472738166566805, \"F3\": 1.751788268955651, \"F4\": 3.860710854947166, \"F5\": 1.6132570338578922, \"F6\": 3.429716399506782, \"genero\": 0.5455412494039104, \"renda\": 2.3255545722567557, \"contribuintes_renda\": 2.051979017644254, \"CLARO\": 0.2162613257033858, \"NEXTEL\": 0.004053409632808774, \"OI\": 0.2591797806390081, \"SERCOMTEL\": 0.010491177873152123, \"TIM\": 0.26227944682880305, \"VIVO\": 0.21745350500715308}, {\"D2_1\": 4.0, \"J1\": 5.776511296560146, \"B1_1\": 5.896769099929181, \"B1_2\": 5.535210841761442, \"C1_1\": 6.674536942804804, \"C1_2\": 6.2476300832081275, \"D1\": 1.0, \"D2_2\": 4.425401994707918, \"D2_3\": 4.599633625076328, \"E1_1\": 5.813759413800122, \"E1_2\": 5.115204559332383, \"E1_3\": 6.881945857927946, \"A1_1\": 0.6501119478933441, \"A1_2\": 0.27702015062080193, \"A1_3\": 0.1559128841848158, \"A1_4\": 0.23244453490738856, \"A2_1\": 4.190421366230076, \"A2_2\": 5.3114808257897215, \"A2_3\": 6.2073740288904595, \"A3\": 6.054333418856349, \"F1\": 1.633625076328109, \"F2\": 4.432222222222222, \"F3\": 1.784652961530633, \"F4\": 4.2684310018903595, \"F5\": 1.6482800732749847, \"F6\": 4.081597222222222, \"genero\": 0.5485446773865256, \"renda\": 2.2291269922861496, \"contribuintes_renda\": 2.0812131080806027, \"CLARO\": 0.21107266435986158, \"NEXTEL\": 0.003256665988194586, \"OI\": 0.24791369835131286, \"SERCOMTEL\": 0.010991247710156728, \"TIM\": 0.27640952574801547, \"VIVO\": 0.2259312029309994}, {\"D2_1\": 5.0, \"J1\": 6.403630363036304, \"B1_1\": 6.5247648013532595, \"B1_2\": 6.168113726951212, \"C1_1\": 7.321574648337618, \"C1_2\": 6.861205573259297, \"D1\": 1.0, \"D2_2\": 5.332673267326733, \"D2_3\": 5.4816006600660065, \"E1_1\": 6.3680693069306935, \"E1_2\": 5.822112211221122, \"E1_3\": 7.5627062706270625, \"A1_1\": 0.63993399339934, \"A1_2\": 0.30635313531353137, \"A1_3\": 0.15057755775577558, \"A1_4\": 0.2400990099009901, \"A2_1\": 4.568255285490866, \"A2_2\": 5.707162855208042, \"A2_3\": 6.636808369475046, \"A3\": 6.480010321172723, \"F1\": 1.651897689768977, \"F2\": 4.9741644939559135, \"F3\": 1.8075907590759075, \"F4\": 4.9245283018867925, \"F5\": 1.6811881188118811, \"F6\": 4.957298136645963, \"genero\": 0.5092409240924093, \"renda\": 2.1300632915085163, \"contribuintes_renda\": 2.0707095709570957, \"CLARO\": 0.2198844884488449, \"NEXTEL\": 0.004867986798679868, \"OI\": 0.24867986798679867, \"SERCOMTEL\": 0.008415841584158416, \"TIM\": 0.24108910891089108, \"VIVO\": 0.24595709570957094}, {\"D2_1\": 6.0, \"J1\": 6.8168761220825855, \"B1_1\": 6.928126330056396, \"B1_2\": 6.718588170028647, \"C1_1\": 7.590213482668881, \"C1_2\": 7.177610701269802, \"D1\": 1.0, \"D2_2\": 6.181841497819954, \"D2_3\": 6.3985637342908435, \"E1_1\": 6.932803282893049, \"E1_2\": 6.324826878686843, \"E1_3\": 7.814311361887664, \"A1_1\": 0.6234932033854834, \"A1_2\": 0.33046935111567066, \"A1_3\": 0.1537573736855604, \"A1_4\": 0.23877917414721722, \"A2_1\": 5.029940013499963, \"A2_2\": 6.045248573739293, \"A2_3\": 6.889916575241463, \"A3\": 6.765488378186725, \"F1\": 1.6896640164144652, \"F2\": 5.618181818181818, \"F3\": 1.8355988715055143, \"F4\": 5.432917316692667, \"F5\": 1.729546037445499, \"F6\": 5.886676149834044, \"genero\": 0.5418055911772249, \"renda\": 2.2175311890109577, \"contribuintes_renda\": 2.076301615798923, \"CLARO\": 0.21813285457809695, \"NEXTEL\": 0.00602718645806617, \"OI\": 0.23429084380610413, \"SERCOMTEL\": 0.008463708643241858, \"TIM\": 0.2650679661451654, \"VIVO\": 0.242754552449346}, {\"D2_1\": 6.790248456870169, \"J1\": 7.072512071101995, \"B1_1\": 7.00754489212575, \"B1_2\": 6.836722648774072, \"C1_1\": 7.761822989800845, \"C1_2\": 7.252489485072467, \"D1\": 1.997678360324175, \"D2_2\": 38.45398773006135, \"D2_3\": 31.926380368098158, \"E1_1\": 7.710208092979532, \"E1_2\": 7.065205315557835, \"E1_3\": 8.305288495776894, \"A1_1\": 0.5643863322366078, \"A1_2\": 0.08780925522368926, \"A1_3\": 0.13004030822259255, \"A1_4\": 0.3650671566323406, \"A2_1\": 5.39474662015512, \"A2_2\": 6.3073189952229045, \"A2_3\": 7.138860763574801, \"A3\": 7.093848983203222, \"F1\": 1.7640615875457561, \"F2\": 5.266284334440084, \"F3\": 1.8547194804084945, \"F4\": 4.9270588235294115, \"F5\": 1.8957055214723926, \"F6\": 5.823529411764706, \"genero\": 0.48706006352461934, \"renda\": 2.0156279364962364, \"contribuintes_renda\": 2.0392114971015114, \"CLARO\": 0.2396986141377886, \"NEXTEL\": 0.0009400504208862112, \"OI\": 0.2753065846259027, \"SERCOMTEL\": 0.008973208563004743, \"TIM\": 0.2234613795952086, \"VIVO\": 0.22697944707943427}, {\"D2_1\": 7.0, \"J1\": 7.318211382113821, \"B1_1\": 7.418714007941781, \"B1_2\": 7.256995237029054, \"C1_1\": 8.10147140579194, \"C1_2\": 7.738326678593836, \"D1\": 1.0, \"D2_2\": 6.95650406504065, \"D2_3\": 7.125121951219512, \"E1_1\": 7.39650406504065, \"E1_2\": 6.9660975609756095, \"E1_3\": 8.085203252032521, \"A1_1\": 0.6167479674796748, \"A1_2\": 0.3411382113821138, \"A1_3\": 0.15471544715447155, \"A1_4\": 0.2434959349593496, \"A2_1\": 5.387629736518129, \"A2_2\": 6.405209040563444, \"A2_3\": 7.190579757104011, \"A3\": 7.096008769074201, \"F1\": 1.7126829268292683, \"F2\": 6.244199207696661, \"F3\": 1.863089430894309, \"F4\": 6.144893111638955, \"F5\": 1.7673983739837398, \"F6\": 6.573226144704649, \"genero\": 0.52, \"renda\": 2.1494581393371375, \"contribuintes_renda\": 2.0952032520325203, \"CLARO\": 0.2283739837398374, \"NEXTEL\": 0.0074796747967479675, \"OI\": 0.2226829268292683, \"SERCOMTEL\": 0.008699186991869919, \"TIM\": 0.26097560975609757, \"VIVO\": 0.24764227642276423}, {\"D2_1\": 8.0, \"J1\": 7.784484924623116, \"B1_1\": 7.816313531373347, \"B1_2\": 7.7105816845155255, \"C1_1\": 8.51747465970363, \"C1_2\": 8.127413200169858, \"D1\": 1.0, \"D2_2\": 7.789258793969849, \"D2_3\": 7.937814070351759, \"E1_1\": 7.93354271356784, \"E1_2\": 7.553266331658292, \"E1_3\": 8.526695979899497, \"A1_1\": 0.6121859296482413, \"A1_2\": 0.3681532663316583, \"A1_3\": 0.15201005025125627, \"A1_4\": 0.24340452261306533, \"A2_1\": 5.707146445586391, \"A2_2\": 6.711009749438382, \"A2_3\": 7.504329195332339, \"A3\": 7.451734079211234, \"F1\": 1.7418341708542713, \"F2\": 6.62360097323601, \"F3\": 1.877826633165829, \"F4\": 6.5311053984575835, \"F5\": 1.805967336683417, \"F6\": 7.1395273551311105, \"genero\": 0.50678391959799, \"renda\": 2.092344943117498, \"contribuintes_renda\": 2.109108040201005, \"CLARO\": 0.23699748743718593, \"NEXTEL\": 0.008668341708542714, \"OI\": 0.19792713567839196, \"SERCOMTEL\": 0.008040201005025126, \"TIM\": 0.2537688442211055, \"VIVO\": 0.26608040201005023}, {\"D2_1\": 9.0, \"J1\": 8.239418957048803, \"B1_1\": 8.288246593751436, \"B1_2\": 8.243500218903966, \"C1_1\": 8.926307938150993, \"C1_2\": 8.54106243026503, \"D1\": 1.0, \"D2_2\": 8.55700700177657, \"D2_3\": 8.679485839690669, \"E1_1\": 8.452293865607691, \"E1_2\": 8.096352805935835, \"E1_3\": 8.855366286968335, \"A1_1\": 0.6067509666631832, \"A1_2\": 0.39063643013899046, \"A1_3\": 0.1592642909394921, \"A1_4\": 0.23482077542062912, \"A2_1\": 6.121183000706063, \"A2_2\": 7.096849064218217, \"A2_3\": 7.781135271016394, \"A3\": 7.749469314649755, \"F1\": 1.7599540181837183, \"F2\": 7.250761863299957, \"F3\": 1.9032291775525134, \"F4\": 7.168466522678186, \"F5\": 1.8394816595255512, \"F6\": 7.819010416666667, \"genero\": 0.4853171700282161, \"renda\": 2.015839485763775, \"contribuintes_renda\": 2.145469746054969, \"CLARO\": 0.2489288326888912, \"NEXTEL\": 0.010763925175044414, \"OI\": 0.19207858710419062, \"SERCOMTEL\": 0.007628801337652837, \"TIM\": 0.23994147768836868, \"VIVO\": 0.27380081513219773}, {\"D2_1\": 10.0, \"J1\": 8.889805293104349, \"B1_1\": 8.905791981723896, \"B1_2\": 8.803907731768403, \"C1_1\": 9.432134111028006, \"C1_2\": 8.949336685922113, \"D1\": 1.0, \"D2_2\": 9.299942579735866, \"D2_3\": 9.442031633345513, \"E1_1\": 9.045884011066452, \"E1_2\": 8.747246437333612, \"E1_3\": 9.413739103199875, \"A1_1\": 0.6349637208331158, \"A1_2\": 0.4296079761966905, \"A1_3\": 0.19199248316542256, \"A1_4\": 0.22315602651772198, \"A2_1\": 6.475346337124223, \"A2_2\": 7.483152076985714, \"A2_3\": 8.19144612839661, \"A3\": 8.193961571543925, \"F1\": 1.7664561256981781, \"F2\": 7.614438980777828, \"F3\": 1.8963825233596074, \"F4\": 7.603022670025189, \"F5\": 1.8585373492718067, \"F6\": 8.252029520295203, \"genero\": 0.46818395364618676, \"renda\": 1.8303434746054854, \"contribuintes_renda\": 2.2463329331314923, \"CLARO\": 0.26027039724382733, \"NEXTEL\": 0.010805449705068644, \"OI\": 0.19073967740251604, \"SERCOMTEL\": 0.006629430495380279, \"TIM\": 0.21965861042960796, \"VIVO\": 0.28141149449287467}]}}, {\"mode\": \"vega-lite\"});\n",
       "</script>"
      ],
      "text/plain": [
       "alt.Chart(...)"
      ]
     },
     "execution_count": 96,
     "metadata": {},
     "output_type": "execute_result"
    }
   ],
   "source": [
    "d2_1_groupby = df.groupby(['D2_1'], as_index=False).mean()\n",
    "\n",
    "alt.Chart(d2_1_groupby).mark_line().encode(\n",
    "    x = 'D2_1',\n",
    "    y = alt.Y('J1', title='Média J1'),\n",
    "    tooltip = ['J1', 'D2_1']\n",
    ").properties(\n",
    "    title = 'Média de J1 por nota D2_1'\n",
    ").interactive()"
   ]
  },
  {
   "cell_type": "markdown",
   "metadata": {
    "heading_collapsed": true,
    "hidden": true
   },
   "source": [
    "### D2_2"
   ]
  },
  {
   "cell_type": "code",
   "execution_count": 97,
   "metadata": {
    "ExecuteTime": {
     "end_time": "2021-06-26T14:45:19.699272Z",
     "start_time": "2021-06-26T14:45:19.686272Z"
    },
    "hidden": true
   },
   "outputs": [
    {
     "data": {
      "text/plain": [
       "8.0     16539\n",
       "10.0    16473\n",
       "7.0     12825\n",
       "5.0     12164\n",
       "9.0      9572\n",
       "6.0      8174\n",
       "0.0      6427\n",
       "4.0      5032\n",
       "3.0      4390\n",
       "2.0      3298\n",
       "1.0      1291\n",
       "99.0      210\n",
       "Name: D2_2, dtype: int64"
      ]
     },
     "execution_count": 97,
     "metadata": {},
     "output_type": "execute_result"
    }
   ],
   "source": [
    "df['D2_2'].value_counts()"
   ]
  },
  {
   "cell_type": "code",
   "execution_count": 98,
   "metadata": {
    "ExecuteTime": {
     "end_time": "2021-06-26T14:45:19.714772Z",
     "start_time": "2021-06-26T14:45:19.700771Z"
    },
    "hidden": true
   },
   "outputs": [
    {
     "data": {
      "text/plain": [
       "count    96395.000000\n",
       "mean         6.689185\n",
       "std          5.180937\n",
       "min          0.000000\n",
       "25%          5.000000\n",
       "50%          7.000000\n",
       "75%          9.000000\n",
       "max         99.000000\n",
       "Name: D2_2, dtype: float64"
      ]
     },
     "execution_count": 98,
     "metadata": {},
     "output_type": "execute_result"
    }
   ],
   "source": [
    "df['D2_2'].describe()"
   ]
  },
  {
   "cell_type": "code",
   "execution_count": 99,
   "metadata": {
    "ExecuteTime": {
     "end_time": "2021-06-26T14:45:19.776771Z",
     "start_time": "2021-06-26T14:45:19.716272Z"
    },
    "hidden": true
   },
   "outputs": [
    {
     "data": {
      "text/plain": [
       "0          6.000000\n",
       "1          6.689185\n",
       "2          9.000000\n",
       "3         10.000000\n",
       "4          5.000000\n",
       "            ...    \n",
       "166694    10.000000\n",
       "166695     6.689185\n",
       "166696     6.689185\n",
       "166697     6.000000\n",
       "166698     8.000000\n",
       "Name: D2_2, Length: 166441, dtype: float64"
      ]
     },
     "execution_count": 99,
     "metadata": {},
     "output_type": "execute_result"
    }
   ],
   "source": [
    "d2_2_mean = df['D2_2'].describe()['mean']\n",
    "d2_2_filled = df['D2_2'].fillna(d2_2_mean)\n",
    "d2_2_filled = d2_2_filled.apply(lambda x: d2_2_mean if x == 99 else x)\n",
    "d2_2_filled"
   ]
  },
  {
   "cell_type": "code",
   "execution_count": 100,
   "metadata": {
    "ExecuteTime": {
     "end_time": "2021-06-26T14:45:19.792271Z",
     "start_time": "2021-06-26T14:45:19.778773Z"
    },
    "hidden": true
   },
   "outputs": [
    {
     "data": {
      "text/plain": [
       "count    166441.000000\n",
       "mean          6.572716\n",
       "std           2.186469\n",
       "min           0.000000\n",
       "25%           6.689185\n",
       "50%           6.689185\n",
       "75%           8.000000\n",
       "max          10.000000\n",
       "Name: D2_2, dtype: float64"
      ]
     },
     "execution_count": 100,
     "metadata": {},
     "output_type": "execute_result"
    }
   ],
   "source": [
    "df['D2_2'] = d2_2_filled\n",
    "df['D2_2'].describe()"
   ]
  },
  {
   "cell_type": "code",
   "execution_count": 101,
   "metadata": {
    "ExecuteTime": {
     "end_time": "2021-06-26T14:45:19.900772Z",
     "start_time": "2021-06-26T14:45:19.793774Z"
    },
    "hidden": true
   },
   "outputs": [
    {
     "data": {
      "text/html": [
       "\n",
       "<div id=\"altair-viz-c028b7e632bf4e70ab2964163c406f5e\"></div>\n",
       "<script type=\"text/javascript\">\n",
       "  (function(spec, embedOpt){\n",
       "    let outputDiv = document.currentScript.previousElementSibling;\n",
       "    if (outputDiv.id !== \"altair-viz-c028b7e632bf4e70ab2964163c406f5e\") {\n",
       "      outputDiv = document.getElementById(\"altair-viz-c028b7e632bf4e70ab2964163c406f5e\");\n",
       "    }\n",
       "    const paths = {\n",
       "      \"vega\": \"https://cdn.jsdelivr.net/npm//vega@5?noext\",\n",
       "      \"vega-lib\": \"https://cdn.jsdelivr.net/npm//vega-lib?noext\",\n",
       "      \"vega-lite\": \"https://cdn.jsdelivr.net/npm//vega-lite@4.8.1?noext\",\n",
       "      \"vega-embed\": \"https://cdn.jsdelivr.net/npm//vega-embed@6?noext\",\n",
       "    };\n",
       "\n",
       "    function loadScript(lib) {\n",
       "      return new Promise(function(resolve, reject) {\n",
       "        var s = document.createElement('script');\n",
       "        s.src = paths[lib];\n",
       "        s.async = true;\n",
       "        s.onload = () => resolve(paths[lib]);\n",
       "        s.onerror = () => reject(`Error loading script: ${paths[lib]}`);\n",
       "        document.getElementsByTagName(\"head\")[0].appendChild(s);\n",
       "      });\n",
       "    }\n",
       "\n",
       "    function showError(err) {\n",
       "      outputDiv.innerHTML = `<div class=\"error\" style=\"color:red;\">${err}</div>`;\n",
       "      throw err;\n",
       "    }\n",
       "\n",
       "    function displayChart(vegaEmbed) {\n",
       "      vegaEmbed(outputDiv, spec, embedOpt)\n",
       "        .catch(err => showError(`Javascript Error: ${err.message}<br>This usually means there's a typo in your chart specification. See the javascript console for the full traceback.`));\n",
       "    }\n",
       "\n",
       "    if(typeof define === \"function\" && define.amd) {\n",
       "      requirejs.config({paths});\n",
       "      require([\"vega-embed\"], displayChart, err => showError(`Error loading script: ${err.message}`));\n",
       "    } else if (typeof vegaEmbed === \"function\") {\n",
       "      displayChart(vegaEmbed);\n",
       "    } else {\n",
       "      loadScript(\"vega\")\n",
       "        .then(() => loadScript(\"vega-lite\"))\n",
       "        .then(() => loadScript(\"vega-embed\"))\n",
       "        .catch(showError)\n",
       "        .then(() => displayChart(vegaEmbed));\n",
       "    }\n",
       "  })({\"config\": {\"view\": {\"continuousWidth\": 400, \"continuousHeight\": 300}}, \"data\": {\"name\": \"data-679213aca0237e0ff8320e537563df22\"}, \"mark\": \"line\", \"encoding\": {\"tooltip\": [{\"type\": \"quantitative\", \"field\": \"J1\"}, {\"type\": \"quantitative\", \"field\": \"D2_2\"}], \"x\": {\"type\": \"quantitative\", \"field\": \"D2_2\"}, \"y\": {\"type\": \"quantitative\", \"field\": \"J1\", \"title\": \"M\\u00e9dia J1\"}}, \"selection\": {\"selector013\": {\"type\": \"interval\", \"bind\": \"scales\", \"encodings\": [\"x\", \"y\"]}}, \"title\": \"M\\u00e9dia de J1 por nota D2_2\", \"$schema\": \"https://vega.github.io/schema/vega-lite/v4.8.1.json\", \"datasets\": {\"data-679213aca0237e0ff8320e537563df22\": [{\"D2_2\": 0.0, \"J1\": 4.119651470359421, \"B1_1\": 4.226869635730817, \"B1_2\": 3.3787129019395183, \"C1_1\": 5.432198906009953, \"C1_2\": 4.665256978186017, \"D1\": 1.0, \"D2_1\": 1.5186184835580334, \"D2_3\": 1.6836782324568227, \"E1_1\": 4.367356464913645, \"E1_2\": 3.5567138633888282, \"E1_3\": 6.133810487007935, \"A1_1\": 0.6892796016804108, \"A1_2\": 0.26871012914267933, \"A1_3\": 0.15917224210362532, \"A1_4\": 0.21892018048856388, \"A2_1\": 3.1400105050562197, \"A2_2\": 4.07025167987344, \"A2_3\": 5.344657974054728, \"A3\": 5.026728534110644, \"F1\": 1.509724599346507, \"F2\": 2.876229768327515, \"F3\": 1.683833826046367, \"F4\": 2.423228346456693, \"F5\": 1.5161039365178155, \"F6\": 1.632797427652733, \"genero\": 0.47144857631865567, \"renda\": 2.1488432611246067, \"contribuintes_renda\": 2.0918002178310253, \"CLARO\": 0.2537731445464447, \"NEXTEL\": 0.004978994865411545, \"OI\": 0.26341994709817956, \"SERCOMTEL\": 0.007624085887661428, \"TIM\": 0.20616150614594678, \"VIVO\": 0.23883615995021004}, {\"D2_2\": 1.0, \"J1\": 4.24864446165763, \"B1_1\": 4.565888479521437, \"B1_2\": 3.9183337093225554, \"C1_1\": 5.269558481797056, \"C1_2\": 4.794269287142047, \"D1\": 1.0, \"D2_1\": 2.0408909747923087, \"D2_3\": 2.12006196746708, \"E1_1\": 4.2865995352439965, \"E1_2\": 3.458559256390395, \"E1_3\": 5.731216111541441, \"A1_1\": 0.6738962044926413, \"A1_2\": 0.2889233152594888, \"A1_3\": 0.17505809450038728, \"A1_4\": 0.21378776142525174, \"A2_1\": 3.4027988426927287, \"A2_2\": 4.271896955091095, \"A2_3\": 5.230435406593578, \"A3\": 5.029063773905273, \"F1\": 1.5530596436870643, \"F2\": 2.9948006932409013, \"F3\": 1.7064291247095276, \"F4\": 2.862796833773087, \"F5\": 1.5584817970565452, \"F6\": 2.187719298245614, \"genero\": 0.5538342370255616, \"renda\": 2.4206250360250836, \"contribuintes_renda\": 2.0852052672347017, \"CLARO\": 0.2238574748257165, \"NEXTEL\": 0.0023237800154918666, \"OI\": 0.2796281951975213, \"SERCOMTEL\": 0.0077459333849728895, \"TIM\": 0.27652982184353214, \"VIVO\": 0.18745158791634392}, {\"D2_2\": 2.0, \"J1\": 4.910248635536689, \"B1_1\": 5.115301564854425, \"B1_2\": 4.610302704593799, \"C1_1\": 5.9757428744693755, \"C1_2\": 5.508127137477492, \"D1\": 1.0, \"D2_1\": 2.8730021206268894, \"D2_3\": 3.0418435415403273, \"E1_1\": 5.145542753183748, \"E1_2\": 4.314129775621589, \"E1_3\": 6.489993935718617, \"A1_1\": 0.676773802304427, \"A1_2\": 0.26288659793814434, \"A1_3\": 0.17070952092177077, \"A1_4\": 0.22164948453608246, \"A2_1\": 3.597106962292685, \"A2_2\": 4.644121740344035, \"A2_3\": 5.738754472664057, \"A3\": 5.4583147511089996, \"F1\": 1.575803517283202, \"F2\": 3.5218012866333095, \"F3\": 1.7265009096422075, \"F4\": 3.2982261640798227, \"F5\": 1.5782292298362643, \"F6\": 2.97627606038821, \"genero\": 0.5442692540933899, \"renda\": 2.323351685165108, \"contribuintes_renda\": 2.106124924196483, \"CLARO\": 0.23165554881746514, \"NEXTEL\": 0.0036385688295936932, \"OI\": 0.25621588841722254, \"SERCOMTEL\": 0.010309278350515464, \"TIM\": 0.2553062462098241, \"VIVO\": 0.21740448756822317}, {\"D2_2\": 3.0, \"J1\": 5.372665148063781, \"B1_1\": 5.596379863663589, \"B1_2\": 5.102976258297662, \"C1_1\": 6.3552943892769855, \"C1_2\": 5.878451400842912, \"D1\": 1.0, \"D2_1\": 3.659669986852927, \"D2_3\": 3.710706150341686, \"E1_1\": 5.361731207289294, \"E1_2\": 4.7109339407744875, \"E1_3\": 6.6963553530751705, \"A1_1\": 0.6621867881548975, \"A1_2\": 0.2908883826879271, \"A1_3\": 0.1530751708428246, \"A1_4\": 0.22642369020501138, \"A2_1\": 3.9522259834983116, \"A2_2\": 4.993956740145056, \"A2_3\": 6.003594459319319, \"A3\": 5.816824124243507, \"F1\": 1.607744874715262, \"F2\": 4.047038327526132, \"F3\": 1.747380410022779, \"F4\": 3.8349864743011723, \"F5\": 1.6157175398633257, \"F6\": 3.771191464137522, \"genero\": 0.5250569476082004, \"renda\": 2.2454216194871677, \"contribuintes_renda\": 2.067881548974943, \"CLARO\": 0.2214123006833713, \"NEXTEL\": 0.002733485193621868, \"OI\": 0.26150341685649203, \"SERCOMTEL\": 0.008428246013667425, \"TIM\": 0.25125284738041004, \"VIVO\": 0.22574031890660592}, {\"D2_2\": 4.0, \"J1\": 5.81379173290938, \"B1_1\": 5.931090641543859, \"B1_2\": 5.574790766789699, \"C1_1\": 6.795829402501778, \"C1_2\": 6.311169177146416, \"D1\": 1.0, \"D2_1\": 4.517279658641564, \"D2_3\": 4.584062003179651, \"E1_1\": 5.915937996820349, \"E1_2\": 5.1834260731319555, \"E1_3\": 6.99741653418124, \"A1_1\": 0.6569952305246423, \"A1_2\": 0.287758346581876, \"A1_3\": 0.1567965023847377, \"A1_4\": 0.22515898251192368, \"A2_1\": 4.234915036296289, \"A2_2\": 5.3638717336890185, \"A2_3\": 6.272396938466797, \"A3\": 6.12942461636732, \"F1\": 1.6343402225755166, \"F2\": 4.504891304347826, \"F3\": 1.7774244833068362, \"F4\": 4.603571428571429, \"F5\": 1.642885532591415, \"F6\": 4.190317195325543, \"genero\": 0.5461049284578696, \"renda\": 2.1794821394298856, \"contribuintes_renda\": 2.0920111287758347, \"CLARO\": 0.20906200317965024, \"NEXTEL\": 0.0037758346581875995, \"OI\": 0.25139109697933226, \"SERCOMTEL\": 0.009538950715421303, \"TIM\": 0.2766295707472178, \"VIVO\": 0.22038950715421304}, {\"D2_2\": 5.0, \"J1\": 6.48109174613614, \"B1_1\": 6.594625562173394, \"B1_2\": 6.238235587665994, \"C1_1\": 7.41750121159585, \"C1_2\": 6.93503876585849, \"D1\": 1.0, \"D2_1\": 5.4551663906042345, \"D2_3\": 5.590019730351858, \"E1_1\": 6.427902005919106, \"E1_2\": 5.925600131535679, \"E1_3\": 7.517839526471556, \"A1_1\": 0.6451825057546859, \"A1_2\": 0.30491614600460376, \"A1_3\": 0.1510194015126603, \"A1_4\": 0.23717527129233804, \"A2_1\": 4.63462626644443, \"A2_2\": 5.7661392886393426, \"A2_3\": 6.696543779707454, \"A3\": 6.5551139957759945, \"F1\": 1.6526635975008221, \"F2\": 5.103668639053255, \"F3\": 1.8119861887536994, \"F4\": 4.968517708788807, \"F5\": 1.6906445248273594, \"F6\": 5.051820356098857, \"genero\": 0.5115093719171325, \"renda\": 2.1180682351022027, \"contribuintes_renda\": 2.085498191384413, \"CLARO\": 0.2258303189740217, \"NEXTEL\": 0.0053436369615258135, \"OI\": 0.24408089444261755, \"SERCOMTEL\": 0.009454126931930287, \"TIM\": 0.24112134166392635, \"VIVO\": 0.24704044722130877}, {\"D2_2\": 6.0, \"J1\": 6.913628578419378, \"B1_1\": 6.991936768882059, \"B1_2\": 6.798505227691211, \"C1_1\": 7.721722036006229, \"C1_2\": 7.300564172730938, \"D1\": 1.0, \"D2_1\": 6.2681810907893105, \"D2_3\": 6.555297284071446, \"E1_1\": 6.988744800587228, \"E1_2\": 6.441521898703205, \"E1_3\": 7.787252263273795, \"A1_1\": 0.6187912894543675, \"A1_2\": 0.33631025201859555, \"A1_3\": 0.1521898703205285, \"A1_4\": 0.23917298752140934, \"A2_1\": 5.07542108265324, \"A2_2\": 6.089190274430461, \"A2_3\": 6.953818681029105, \"A3\": 6.8207272798971275, \"F1\": 1.6906043552728163, \"F2\": 5.733096085409253, \"F3\": 1.8442622950819672, \"F4\": 5.5758051846033, \"F5\": 1.7359921702960608, \"F6\": 6.1241890639481005, \"genero\": 0.5338879373623685, \"renda\": 2.1687049820115245, \"contribuintes_renda\": 2.0913873256667483, \"CLARO\": 0.22143381453388794, \"NEXTEL\": 0.005260582334230487, \"OI\": 0.2288965011010521, \"SERCOMTEL\": 0.008319060435527282, \"TIM\": 0.2610716907266944, \"VIVO\": 0.24785906532909224}, {\"D2_2\": 6.689185123709736, \"J1\": 7.072534730129811, \"B1_1\": 7.006848160995676, \"B1_2\": 6.8363031005333825, \"C1_1\": 7.76125824280438, \"C1_2\": 7.2520303014156, \"D1\": 1.9970109314506945, \"D2_1\": 6.789498367739458, \"D2_3\": 34.92857142857143, \"E1_1\": 7.7096760419038945, \"E1_2\": 7.070300045547711, \"E1_3\": 8.314848553860168, \"A1_1\": 0.5643930767478934, \"A1_2\": 0.08792131632885447, \"A1_3\": 0.13012411751309497, \"A1_4\": 0.365107606467775, \"A2_1\": 5.394399140146056, \"A2_2\": 6.307637569160804, \"A2_3\": 7.138593407046351, \"A3\": 7.0940989667768255, \"F1\": 1.7641197904805284, \"F2\": 5.271904417089066, \"F3\": 1.8547028011842406, \"F4\": 4.9265282131661445, \"F5\": 1.8666666666666667, \"F6\": 8.785714285714286, \"genero\": 0.4869335003416078, \"renda\": 2.0157079067717274, \"contribuintes_renda\": 2.0390429287178318, \"CLARO\": 0.23972329765429287, \"NEXTEL\": 0.0009394215440674107, \"OI\": 0.27509394215440675, \"SERCOMTEL\": 0.008967205647916192, \"TIM\": 0.22336882259166477, \"VIVO\": 0.22725461170576178}, {\"D2_2\": 7.0, \"J1\": 7.381442495126706, \"B1_1\": 7.505678191380074, \"B1_2\": 7.336421850619319, \"C1_1\": 8.152288365788763, \"C1_2\": 7.775018701544127, \"D1\": 1.0, \"D2_1\": 7.108120387938399, \"D2_3\": 7.26261208576998, \"E1_1\": 7.497153996101365, \"E1_2\": 7.0063157894736845, \"E1_3\": 8.162183235867447, \"A1_1\": 0.6176998050682261, \"A1_2\": 0.3446393762183236, \"A1_3\": 0.15688109161793373, \"A1_4\": 0.2420272904483431, \"A2_1\": 5.432004187819415, \"A2_2\": 6.465148553700015, \"A2_3\": 7.236233633831034, \"A3\": 7.142363407400418, \"F1\": 1.7203898635477584, \"F2\": 6.232292247629671, \"F3\": 1.8637037037037036, \"F4\": 6.272311212814645, \"F5\": 1.7749707602339182, \"F6\": 6.615038115038115, \"genero\": 0.5151656920077973, \"renda\": 2.123470266971886, \"contribuintes_renda\": 2.1003508771929824, \"CLARO\": 0.22775828460038985, \"NEXTEL\": 0.00709551656920078, \"OI\": 0.21816764132553607, \"SERCOMTEL\": 0.008343079922027291, \"TIM\": 0.25894736842105265, \"VIVO\": 0.2538791423001949}, {\"D2_2\": 8.0, \"J1\": 7.876534252373179, \"B1_1\": 7.921459903154796, \"B1_2\": 7.834881624607538, \"C1_1\": 8.600153512993998, \"C1_2\": 8.232180482133598, \"D1\": 1.0, \"D2_1\": 7.946312562935861, \"D2_3\": 8.059132958461818, \"E1_1\": 8.03736622528569, \"E1_2\": 7.660438962452385, \"E1_3\": 8.612854465203458, \"A1_1\": 0.6127335389080355, \"A1_2\": 0.37154604268698227, \"A1_3\": 0.14916258540419614, \"A1_4\": 0.24185259084587943, \"A2_1\": 5.793082876001076, \"A2_2\": 6.8024136636402766, \"A2_3\": 7.5685709936620436, \"A3\": 7.511721636116802, \"F1\": 1.7467198742366528, \"F2\": 6.742898066364288, \"F3\": 1.8853618719390532, \"F4\": 6.622362869198312, \"F5\": 1.809662011004293, \"F6\": 7.324650571791614, \"genero\": 0.5031743152548521, \"renda\": 2.0854257220404127, \"contribuintes_renda\": 2.1036338351774595, \"CLARO\": 0.23562488663159803, \"NEXTEL\": 0.008706693270451659, \"OI\": 0.20333756575367315, \"SERCOMTEL\": 0.00852530382731725, \"TIM\": 0.24953141060523612, \"VIVO\": 0.2651913658625068}, {\"D2_2\": 9.0, \"J1\": 8.30996656916005, \"B1_1\": 8.370224998189476, \"B1_2\": 8.320105891631012, \"C1_1\": 8.982091833377854, \"C1_2\": 8.63148922349597, \"D1\": 1.0, \"D2_1\": 8.713259714548157, \"D2_3\": 8.87661930631007, \"E1_1\": 8.525595486836608, \"E1_2\": 8.253029669870456, \"E1_3\": 8.961032177183451, \"A1_1\": 0.6073965733389052, \"A1_2\": 0.39709569577935644, \"A1_3\": 0.1599456748850815, \"A1_4\": 0.23547847889678228, \"A2_1\": 6.172004484669879, \"A2_2\": 7.11684654474961, \"A2_3\": 7.8375272271134095, \"A3\": 7.812932893661116, \"F1\": 1.7694316757208526, \"F2\": 7.371545083824196, \"F3\": 1.9082741328875887, \"F4\": 7.364464692482915, \"F5\": 1.8521730045967404, \"F6\": 7.890459363957597, \"genero\": 0.4897618052653573, \"renda\": 2.0345655079091904, \"contribuintes_renda\": 2.1343501880484745, \"CLARO\": 0.24770162975344756, \"NEXTEL\": 0.010238194734642709, \"OI\": 0.1849143334726285, \"SERCOMTEL\": 0.006790639364814041, \"TIM\": 0.2455077308817384, \"VIVO\": 0.2779983284580025}, {\"D2_2\": 10.0, \"J1\": 8.92703211315486, \"B1_1\": 8.929365046192714, \"B1_2\": 8.841027798001111, \"C1_1\": 9.420342067244743, \"C1_2\": 8.985396384611668, \"D1\": 1.0, \"D2_1\": 9.34218152197061, \"D2_3\": 9.44642748740363, \"E1_1\": 9.09397195410672, \"E1_2\": 8.737631275420386, \"E1_3\": 9.407151095732411, \"A1_1\": 0.6298791962605476, \"A1_2\": 0.43167607600315666, \"A1_3\": 0.19796029867055182, \"A1_4\": 0.2270988890912402, \"A2_1\": 6.518168974472667, \"A2_2\": 7.4954479230162105, \"A2_3\": 8.19909498104858, \"A3\": 8.201913972503565, \"F1\": 1.7656164633035878, \"F2\": 7.637658637658638, \"F3\": 1.8929156802039702, \"F4\": 7.491496598639456, \"F5\": 1.8603775875675348, \"F6\": 8.099565217391305, \"genero\": 0.4704668245006981, \"renda\": 1.8527310253166185, \"contribuintes_renda\": 2.256419595702058, \"CLARO\": 0.25581254173496026, \"NEXTEL\": 0.012080373945243732, \"OI\": 0.1936502155041583, \"SERCOMTEL\": 0.006920415224913495, \"TIM\": 0.22369938687549323, \"VIVO\": 0.2773629575669277}]}}, {\"mode\": \"vega-lite\"});\n",
       "</script>"
      ],
      "text/plain": [
       "alt.Chart(...)"
      ]
     },
     "execution_count": 101,
     "metadata": {},
     "output_type": "execute_result"
    }
   ],
   "source": [
    "d2_2_groupby = df.groupby(['D2_2'], as_index=False) \\\n",
    "                 .mean()\n",
    "\n",
    "alt.Chart(d2_2_groupby).mark_line().encode(\n",
    "    x = 'D2_2',\n",
    "    y = alt.Y('J1', title='Média J1'),\n",
    "    tooltip = ['J1', 'D2_2']\n",
    ").properties(\n",
    "    title = 'Média de J1 por nota D2_2'\n",
    ").interactive()"
   ]
  },
  {
   "cell_type": "markdown",
   "metadata": {
    "heading_collapsed": true,
    "hidden": true
   },
   "source": [
    "### D2_3"
   ]
  },
  {
   "cell_type": "code",
   "execution_count": 102,
   "metadata": {
    "ExecuteTime": {
     "end_time": "2021-06-26T14:45:19.916271Z",
     "start_time": "2021-06-26T14:45:19.902271Z"
    },
    "hidden": true
   },
   "outputs": [
    {
     "data": {
      "text/plain": [
       "10.0    17310\n",
       "8.0     16442\n",
       "7.0     12696\n",
       "5.0     11946\n",
       "9.0      9468\n",
       "6.0      8094\n",
       "0.0      6286\n",
       "4.0      4969\n",
       "3.0      4272\n",
       "2.0      3189\n",
       "1.0      1406\n",
       "99.0      317\n",
       "Name: D2_3, dtype: int64"
      ]
     },
     "execution_count": 102,
     "metadata": {},
     "output_type": "execute_result"
    }
   ],
   "source": [
    "df['D2_3'].value_counts()"
   ]
  },
  {
   "cell_type": "code",
   "execution_count": 103,
   "metadata": {
    "ExecuteTime": {
     "end_time": "2021-06-26T14:45:19.931773Z",
     "start_time": "2021-06-26T14:45:19.918271Z"
    },
    "hidden": true
   },
   "outputs": [
    {
     "data": {
      "text/plain": [
       "count    96395.000000\n",
       "mean         6.835137\n",
       "std          6.023894\n",
       "min          0.000000\n",
       "25%          5.000000\n",
       "50%          7.000000\n",
       "75%          9.000000\n",
       "max         99.000000\n",
       "Name: D2_3, dtype: float64"
      ]
     },
     "execution_count": 103,
     "metadata": {},
     "output_type": "execute_result"
    }
   ],
   "source": [
    "df['D2_3'].describe()"
   ]
  },
  {
   "cell_type": "code",
   "execution_count": 104,
   "metadata": {
    "ExecuteTime": {
     "end_time": "2021-06-26T14:45:19.993771Z",
     "start_time": "2021-06-26T14:45:19.933272Z"
    },
    "hidden": true
   },
   "outputs": [
    {
     "data": {
      "text/plain": [
       "0          5.000000\n",
       "1          6.835137\n",
       "2          5.000000\n",
       "3         10.000000\n",
       "4          6.000000\n",
       "            ...    \n",
       "166694     8.000000\n",
       "166695     6.835137\n",
       "166696     6.835137\n",
       "166697     5.000000\n",
       "166698    10.000000\n",
       "Name: D2_3, Length: 166441, dtype: float64"
      ]
     },
     "execution_count": 104,
     "metadata": {},
     "output_type": "execute_result"
    }
   ],
   "source": [
    "d2_3_mean = df['D2_3'].describe()['mean']\n",
    "d2_3_filled = df['D2_3'].fillna(d2_3_mean)\n",
    "d2_3_filled = d2_3_filled.apply(lambda x: d2_3_mean if x == 99 else x)\n",
    "d2_3_filled"
   ]
  },
  {
   "cell_type": "code",
   "execution_count": 105,
   "metadata": {
    "ExecuteTime": {
     "end_time": "2021-06-26T14:45:20.009271Z",
     "start_time": "2021-06-26T14:45:19.995771Z"
    },
    "hidden": true
   },
   "outputs": [
    {
     "data": {
      "text/plain": [
       "count    166441.000000\n",
       "mean          6.659601\n",
       "std           2.192432\n",
       "min           0.000000\n",
       "25%           6.835137\n",
       "50%           6.835137\n",
       "75%           8.000000\n",
       "max          10.000000\n",
       "Name: D2_3, dtype: float64"
      ]
     },
     "execution_count": 105,
     "metadata": {},
     "output_type": "execute_result"
    }
   ],
   "source": [
    "df['D2_3'] = d2_3_filled\n",
    "df['D2_3'].describe()"
   ]
  },
  {
   "cell_type": "code",
   "execution_count": 106,
   "metadata": {
    "ExecuteTime": {
     "end_time": "2021-06-26T14:45:20.117771Z",
     "start_time": "2021-06-26T14:45:20.011272Z"
    },
    "hidden": true,
    "scrolled": true
   },
   "outputs": [
    {
     "data": {
      "text/html": [
       "\n",
       "<div id=\"altair-viz-0e8329ed71ce4059964d06c84141ee24\"></div>\n",
       "<script type=\"text/javascript\">\n",
       "  (function(spec, embedOpt){\n",
       "    let outputDiv = document.currentScript.previousElementSibling;\n",
       "    if (outputDiv.id !== \"altair-viz-0e8329ed71ce4059964d06c84141ee24\") {\n",
       "      outputDiv = document.getElementById(\"altair-viz-0e8329ed71ce4059964d06c84141ee24\");\n",
       "    }\n",
       "    const paths = {\n",
       "      \"vega\": \"https://cdn.jsdelivr.net/npm//vega@5?noext\",\n",
       "      \"vega-lib\": \"https://cdn.jsdelivr.net/npm//vega-lib?noext\",\n",
       "      \"vega-lite\": \"https://cdn.jsdelivr.net/npm//vega-lite@4.8.1?noext\",\n",
       "      \"vega-embed\": \"https://cdn.jsdelivr.net/npm//vega-embed@6?noext\",\n",
       "    };\n",
       "\n",
       "    function loadScript(lib) {\n",
       "      return new Promise(function(resolve, reject) {\n",
       "        var s = document.createElement('script');\n",
       "        s.src = paths[lib];\n",
       "        s.async = true;\n",
       "        s.onload = () => resolve(paths[lib]);\n",
       "        s.onerror = () => reject(`Error loading script: ${paths[lib]}`);\n",
       "        document.getElementsByTagName(\"head\")[0].appendChild(s);\n",
       "      });\n",
       "    }\n",
       "\n",
       "    function showError(err) {\n",
       "      outputDiv.innerHTML = `<div class=\"error\" style=\"color:red;\">${err}</div>`;\n",
       "      throw err;\n",
       "    }\n",
       "\n",
       "    function displayChart(vegaEmbed) {\n",
       "      vegaEmbed(outputDiv, spec, embedOpt)\n",
       "        .catch(err => showError(`Javascript Error: ${err.message}<br>This usually means there's a typo in your chart specification. See the javascript console for the full traceback.`));\n",
       "    }\n",
       "\n",
       "    if(typeof define === \"function\" && define.amd) {\n",
       "      requirejs.config({paths});\n",
       "      require([\"vega-embed\"], displayChart, err => showError(`Error loading script: ${err.message}`));\n",
       "    } else if (typeof vegaEmbed === \"function\") {\n",
       "      displayChart(vegaEmbed);\n",
       "    } else {\n",
       "      loadScript(\"vega\")\n",
       "        .then(() => loadScript(\"vega-lite\"))\n",
       "        .then(() => loadScript(\"vega-embed\"))\n",
       "        .catch(showError)\n",
       "        .then(() => displayChart(vegaEmbed));\n",
       "    }\n",
       "  })({\"config\": {\"view\": {\"continuousWidth\": 400, \"continuousHeight\": 300}}, \"data\": {\"name\": \"data-eaff038dff5edb82ee8aed9a30a64d3c\"}, \"mark\": \"line\", \"encoding\": {\"tooltip\": [{\"type\": \"quantitative\", \"field\": \"J1\"}, {\"type\": \"quantitative\", \"field\": \"D2_3\"}], \"x\": {\"type\": \"quantitative\", \"field\": \"D2_3\"}, \"y\": {\"type\": \"quantitative\", \"field\": \"J1\", \"title\": \"M\\u00e9dia J1\"}}, \"selection\": {\"selector014\": {\"type\": \"interval\", \"bind\": \"scales\", \"encodings\": [\"x\", \"y\"]}}, \"title\": \"M\\u00e9dia de J1 por nota D2_3\", \"$schema\": \"https://vega.github.io/schema/vega-lite/v4.8.1.json\", \"datasets\": {\"data-eaff038dff5edb82ee8aed9a30a64d3c\": [{\"D2_3\": 0.0, \"J1\": 4.201559020044543, \"B1_1\": 4.242164827911024, \"B1_2\": 3.4508183413422033, \"C1_1\": 5.58202570050731, \"C1_2\": 4.802991822908293, \"D1\": 1.0, \"D2_1\": 1.6008769067947555, \"D2_2\": 1.410599262166617, \"E1_1\": 4.315622017181037, \"E1_2\": 3.4875914731148585, \"E1_3\": 6.109290486796055, \"A1_1\": 0.6858097359210945, \"A1_2\": 0.2580337257397391, \"A1_3\": 0.15431116767419661, \"A1_4\": 0.22478523703468023, \"A2_1\": 3.0972522902493593, \"A2_2\": 4.120308590119398, \"A2_3\": 5.390092964513474, \"A3\": 5.089541347364209, \"F1\": 1.5159083678014635, \"F2\": 3.023989484061781, \"F3\": 1.6826280623608019, \"F4\": 2.5418546365914785, \"F5\": 1.5299077314667515, \"F6\": 1.737394247038917, \"genero\": 0.4611835825644289, \"renda\": 2.1292610770617046, \"contribuintes_renda\": 2.1251988545975182, \"CLARO\": 0.25692013999363666, \"NEXTEL\": 0.003658924594336621, \"OI\": 0.26980591791282216, \"SERCOMTEL\": 0.008272351256761056, \"TIM\": 0.2026726057906459, \"VIVO\": 0.2303531657651925}, {\"D2_3\": 1.0, \"J1\": 4.340682788051209, \"B1_1\": 4.577213390513639, \"B1_2\": 3.987755625439338, \"C1_1\": 5.47724039829303, \"C1_2\": 4.893600035348779, \"D1\": 1.0, \"D2_1\": 2.2112375533428166, \"D2_2\": 2.058321479374111, \"E1_1\": 4.502844950213372, \"E1_2\": 3.597439544807966, \"E1_3\": 5.723328591749644, \"A1_1\": 0.6955903271692745, \"A1_2\": 0.2802275960170697, \"A1_3\": 0.15576102418207682, \"A1_4\": 0.20981507823613088, \"A2_1\": 3.378511033010344, \"A2_2\": 4.342823474396631, \"A2_3\": 5.3800603843089645, \"A3\": 5.1279131684430395, \"F1\": 1.5689900426742531, \"F2\": 2.9686468646864688, \"F3\": 1.7155049786628733, \"F4\": 2.6975, \"F5\": 1.569701280227596, \"F6\": 2.112396694214876, \"genero\": 0.5263157894736842, \"renda\": 2.3442609390000286, \"contribuintes_renda\": 2.081792318634424, \"CLARO\": 0.23684210526315788, \"NEXTEL\": 0.004978662873399715, \"OI\": 0.2709815078236131, \"SERCOMTEL\": 0.006401137980085348, \"TIM\": 0.2503556187766714, \"VIVO\": 0.20910384068278806}, {\"D2_3\": 2.0, \"J1\": 4.861084979617435, \"B1_1\": 5.112701495031494, \"B1_2\": 4.561325109415723, \"C1_1\": 6.036961801336777, \"C1_2\": 5.515835685167764, \"D1\": 1.0, \"D2_1\": 2.9193447000491908, \"D2_2\": 2.7024357338887204, \"E1_1\": 5.007839448102853, \"E1_2\": 4.305111320163061, \"E1_3\": 6.332706177485105, \"A1_1\": 0.6814048291000313, \"A1_2\": 0.2696770147381624, \"A1_3\": 0.169645656945751, \"A1_4\": 0.22295390404515522, \"A2_1\": 3.613783874016455, \"A2_2\": 4.642326010599337, \"A2_3\": 5.677775917908426, \"A3\": 5.405191982503412, \"F1\": 1.5741611790529946, \"F2\": 3.4285714285714284, \"F3\": 1.7391031671370336, \"F4\": 3.512019230769231, \"F5\": 1.5976795233615553, \"F6\": 2.969602494154326, \"genero\": 0.5380997177798683, \"renda\": 2.3372724121321062, \"contribuintes_renda\": 2.1019128253370964, \"CLARO\": 0.23455628723737848, \"NEXTEL\": 0.0028222013170272815, \"OI\": 0.2715584822828473, \"SERCOMTEL\": 0.007525870178739417, \"TIM\": 0.2449043587331452, \"VIVO\": 0.21197867670116025}, {\"D2_3\": 3.0, \"J1\": 5.42813670411985, \"B1_1\": 5.594894338720563, \"B1_2\": 5.123777696570776, \"C1_1\": 6.438579951635989, \"C1_2\": 5.951732982069467, \"D1\": 1.0, \"D2_1\": 3.7886498680037053, \"D2_2\": 3.604125537421809, \"E1_1\": 5.355337078651686, \"E1_2\": 4.751170411985019, \"E1_3\": 6.731039325842697, \"A1_1\": 0.6694756554307116, \"A1_2\": 0.28230337078651685, \"A1_3\": 0.1523876404494382, \"A1_4\": 0.2272940074906367, \"A2_1\": 3.921506847886179, \"A2_2\": 5.014745533512775, \"A2_3\": 5.995681890160232, \"A3\": 5.759038407827048, \"F1\": 1.610252808988764, \"F2\": 3.9129129129129128, \"F3\": 1.7593632958801497, \"F4\": 3.84727626459144, \"F5\": 1.6271067415730338, \"F6\": 3.556183301946014, \"genero\": 0.5304307116104869, \"renda\": 2.276167177931663, \"contribuintes_renda\": 2.0500936329588013, \"CLARO\": 0.21512172284644196, \"NEXTEL\": 0.002106741573033708, \"OI\": 0.25842696629213485, \"SERCOMTEL\": 0.012640449438202247, \"TIM\": 0.26053370786516855, \"VIVO\": 0.22659176029962547}, {\"D2_3\": 4.0, \"J1\": 5.807405916683438, \"B1_1\": 5.915670576517933, \"B1_2\": 5.573999479049623, \"C1_1\": 6.769947913959144, \"C1_2\": 6.388368544858275, \"D1\": 1.0, \"D2_1\": 4.497760262702879, \"D2_2\": 4.356901977383488, \"E1_1\": 5.941436908834776, \"E1_2\": 5.173878043872007, \"E1_3\": 7.061783054940632, \"A1_1\": 0.6548601328235057, \"A1_2\": 0.29221171261823303, \"A1_3\": 0.16160193197826525, \"A1_4\": 0.2294224189977863, \"A2_1\": 4.271494567865032, \"A2_2\": 5.3484803514320225, \"A2_3\": 6.297309799110446, \"A3\": 6.121083089772964, \"F1\": 1.6282954316763936, \"F2\": 4.593936112615052, \"F3\": 1.7794324813845843, \"F4\": 4.640510948905109, \"F5\": 1.646005232441135, \"F6\": 4.307561114269471, \"genero\": 0.5459851076675387, \"renda\": 2.224222945128237, \"contribuintes_renda\": 2.0527269068222984, \"CLARO\": 0.20466894747434092, \"NEXTEL\": 0.002817468303481586, \"OI\": 0.25880458844837995, \"SERCOMTEL\": 0.010867377742000403, \"TIM\": 0.25699335882471325, \"VIVO\": 0.23867981485208292}, {\"D2_3\": 5.0, \"J1\": 6.446844131927005, \"B1_1\": 6.580218474733555, \"B1_2\": 6.207538164780875, \"C1_1\": 7.398060196448844, \"C1_2\": 6.905928465269124, \"D1\": 1.0, \"D2_1\": 5.438188114648774, \"D2_2\": 5.275347160845794, \"E1_1\": 6.380545789385568, \"E1_2\": 5.860204252469446, \"E1_3\": 7.551230537418383, \"A1_1\": 0.6482504604051565, \"A1_2\": 0.3065461242256822, \"A1_3\": 0.15544952285283778, \"A1_4\": 0.23196048886656623, \"A2_1\": 4.5777460217062576, \"A2_2\": 5.686005740633161, \"A2_3\": 6.639579550584075, \"A3\": 6.503358495160924, \"F1\": 1.6498409509459233, \"F2\": 5.050203203442505, \"F3\": 1.800770132261845, \"F4\": 4.9336134453781515, \"F5\": 1.683910932529717, \"F6\": 5.0818326271186445, \"genero\": 0.5013393604553825, \"renda\": 2.105920294995272, \"contribuintes_renda\": 2.084212288632178, \"CLARO\": 0.22124560522350578, \"NEXTEL\": 0.004687761593838942, \"OI\": 0.25020927507115354, \"SERCOMTEL\": 0.009626653273062113, \"TIM\": 0.23982923154193872, \"VIVO\": 0.24351247279424074}, {\"D2_3\": 6.0, \"J1\": 6.884482332592044, \"B1_1\": 6.96681148534384, \"B1_2\": 6.738048695393584, \"C1_1\": 7.673306445382502, \"C1_2\": 7.280801000667256, \"D1\": 1.0, \"D2_1\": 6.28098260809727, \"D2_2\": 6.129443556597857, \"E1_1\": 6.963800345935261, \"E1_2\": 6.4256239189523106, \"E1_3\": 7.7368421052631575, \"A1_1\": 0.6286137879911046, \"A1_2\": 0.32431430689399554, \"A1_3\": 0.15221151470224858, \"A1_4\": 0.23931307141092167, \"A2_1\": 5.083313756092119, \"A2_2\": 6.114623906823631, \"A2_3\": 6.9487179768908, \"A3\": 6.828074062561414, \"F1\": 1.6947121324437855, \"F2\": 5.744637798462161, \"F3\": 1.8450704225352113, \"F4\": 5.421850079744817, \"F5\": 1.732270817889795, \"F6\": 5.735579141670512, \"genero\": 0.5305164319248826, \"renda\": 2.2184534454714155, \"contribuintes_renda\": 2.072769953051643, \"CLARO\": 0.22115147022485793, \"NEXTEL\": 0.0054361255250803065, \"OI\": 0.24240177909562638, \"SERCOMTEL\": 0.00901902643933778, \"TIM\": 0.25315048183839883, \"VIVO\": 0.23968371633308624}, {\"D2_3\": 6.835136677213549, \"J1\": 7.073717720961301, \"B1_1\": 7.007952508731154, \"B1_2\": 6.8382331351029615, \"C1_1\": 7.7634794064407515, \"C1_2\": 7.253716288483351, \"D1\": 1.9954947912965622, \"D2_1\": 6.7912156188746655, \"D2_2\": 6.689829288245047, \"E1_1\": 7.719682219348237, \"E1_2\": 7.0804826400238765, \"E1_3\": 8.316828446768898, \"A1_1\": 0.5644585932947714, \"A1_2\": 0.08815712803604167, \"A1_3\": 0.13011099583587965, \"A1_4\": 0.3649503290081435, \"A2_1\": 5.3942341503266364, \"A2_2\": 6.308244908626332, \"A2_3\": 7.139203187547324, \"A3\": 7.09436793307772, \"F1\": 1.764037917655586, \"F2\": 5.272420646871048, \"F3\": 1.854852692466211, \"F4\": 4.928032899246059, \"F5\": 1.889589905362776, \"F6\": 8.885714285714286, \"genero\": 0.4866904481048278, \"renda\": 2.0152797152390423, \"contribuintes_renda\": 2.038685104387249, \"CLARO\": 0.23958614612793655, \"NEXTEL\": 0.0009379929792646703, \"OI\": 0.2752583033696687, \"SERCOMTEL\": 0.008981993377201085, \"TIM\": 0.2233276011540156, \"VIVO\": 0.22725011724912242}, {\"D2_3\": 7.0, \"J1\": 7.381852551984877, \"B1_1\": 7.4602823192144045, \"B1_2\": 7.317330326467003, \"C1_1\": 8.165907051222032, \"C1_2\": 7.785759943958878, \"D1\": 1.0, \"D2_1\": 7.058100502151066, \"D2_2\": 6.9382397488372005, \"E1_1\": 7.455103969754253, \"E1_2\": 6.986373660995589, \"E1_3\": 8.171628859483302, \"A1_1\": 0.6117674858223062, \"A1_2\": 0.3357750472589792, \"A1_3\": 0.15367044738500316, \"A1_4\": 0.25063011972274735, \"A2_1\": 5.440658021771777, \"A2_2\": 6.451464013412099, \"A2_3\": 7.26183953411794, \"A3\": 7.15878414894042, \"F1\": 1.71794265910523, \"F2\": 6.171739737503491, \"F3\": 1.8709829867674859, \"F4\": 6.146520146520147, \"F5\": 1.778276622558286, \"F6\": 6.558081705150977, \"genero\": 0.5057498424700693, \"renda\": 2.123220591780471, \"contribuintes_renda\": 2.1008979206049148, \"CLARO\": 0.22424385633270322, \"NEXTEL\": 0.007088846880907372, \"OI\": 0.22164461247637052, \"SERCOMTEL\": 0.010081915563957152, \"TIM\": 0.25299306868304977, \"VIVO\": 0.2588216761184625}, {\"D2_3\": 8.0, \"J1\": 7.8368203381583745, \"B1_1\": 7.901769935783531, \"B1_2\": 7.797845703255575, \"C1_1\": 8.539733297270566, \"C1_2\": 8.162707073020727, \"D1\": 1.0, \"D2_1\": 7.85304737678734, \"D2_2\": 7.729619592034228, \"E1_1\": 8.029984186838584, \"E1_2\": 7.608928354214815, \"E1_3\": 8.587276487045372, \"A1_1\": 0.6167132952195596, \"A1_2\": 0.37471110570490207, \"A1_3\": 0.15253618781170175, \"A1_4\": 0.23610266390950005, \"A2_1\": 5.763221574666555, \"A2_2\": 6.779438771705407, \"A2_3\": 7.542391591361889, \"A3\": 7.477847805176218, \"F1\": 1.742488748327454, \"F2\": 6.682097307510628, \"F3\": 1.8806106313100597, \"F4\": 6.570045848191543, \"F5\": 1.809877143899769, \"F6\": 7.0722968650031985, \"genero\": 0.5010947573287922, \"renda\": 2.0874662518169043, \"contribuintes_renda\": 2.117929692251551, \"CLARO\": 0.23433888821311277, \"NEXTEL\": 0.008636418927137818, \"OI\": 0.204719620484126, \"SERCOMTEL\": 0.007602481449945262, \"TIM\": 0.2527064833961805, \"VIVO\": 0.2623768398005109}, {\"D2_3\": 9.0, \"J1\": 8.245141529362062, \"B1_1\": 8.322660608584327, \"B1_2\": 8.262121476607062, \"C1_1\": 8.88421122144379, \"C1_2\": 8.521505581675479, \"D1\": 1.0, \"D2_1\": 8.583917589691392, \"D2_2\": 8.449404246578817, \"E1_1\": 8.443282636248416, \"E1_2\": 8.171102661596958, \"E1_3\": 8.844845796366709, \"A1_1\": 0.6025559780312632, \"A1_2\": 0.3965990705534432, \"A1_3\": 0.15779467680608364, \"A1_4\": 0.23891001267427123, \"A2_1\": 6.139170760408073, \"A2_2\": 7.092328973511164, \"A2_3\": 7.799211319924923, \"A3\": 7.755130875999554, \"F1\": 1.7640473172792563, \"F2\": 7.197851387645479, \"F3\": 1.8985002112378537, \"F4\": 7.059313215400624, \"F5\": 1.8328052386987748, \"F6\": 7.8749210360075805, \"genero\": 0.49767638360794253, \"renda\": 2.0091302292351227, \"contribuintes_renda\": 2.152936206168145, \"CLARO\": 0.24820447824250105, \"NEXTEL\": 0.009928179129700043, \"OI\": 0.17807351077313055, \"SERCOMTEL\": 0.005386565272496832, \"TIM\": 0.2590832277144064, \"VIVO\": 0.27080692860160543}, {\"D2_3\": 10.0, \"J1\": 8.8736568457539, \"B1_1\": 8.910323221653522, \"B1_2\": 8.810219392742296, \"C1_1\": 9.356083774458158, \"C1_2\": 8.92797493885677, \"D1\": 1.0, \"D2_1\": 9.270595882188365, \"D2_2\": 9.128786665711377, \"E1_1\": 9.076949740034662, \"E1_2\": 8.732524552281918, \"E1_3\": 9.403235124205661, \"A1_1\": 0.6246100519930676, \"A1_2\": 0.4391103408434431, \"A1_3\": 0.1956094742923166, \"A1_4\": 0.22461005199306758, \"A2_1\": 6.517192470305377, \"A2_2\": 7.473317142876278, \"A2_3\": 8.170736029872833, \"A3\": 8.20021506770449, \"F1\": 1.7670132871172732, \"F2\": 7.629308207289859, \"F3\": 1.8939341421143847, \"F4\": 7.413943355119826, \"F5\": 1.8523396880415945, \"F6\": 7.959311424100156, \"genero\": 0.49231658001155404, \"renda\": 1.855745810314219, \"contribuintes_renda\": 2.2405545927209705, \"CLARO\": 0.26210283073367996, \"NEXTEL\": 0.013287117273252455, \"OI\": 0.1780473714615829, \"SERCOMTEL\": 0.005834777585210861, \"TIM\": 0.23206239168110918, \"VIVO\": 0.2823801270941652}]}}, {\"mode\": \"vega-lite\"});\n",
       "</script>"
      ],
      "text/plain": [
       "alt.Chart(...)"
      ]
     },
     "execution_count": 106,
     "metadata": {},
     "output_type": "execute_result"
    }
   ],
   "source": [
    "d2_3_groupby = df.groupby(['D2_3'], as_index=False).mean()\n",
    "\n",
    "alt.Chart(d2_3_groupby).mark_line().encode(\n",
    "    x = 'D2_3',\n",
    "    y = alt.Y('J1', title='Média J1'),\n",
    "    tooltip = ['J1', 'D2_3']\n",
    ").properties(\n",
    "    title = 'Média de J1 por nota D2_3'\n",
    ").interactive()"
   ]
  },
  {
   "cell_type": "markdown",
   "metadata": {
    "heading_collapsed": true,
    "hidden": true
   },
   "source": [
    "## E1"
   ]
  },
  {
   "cell_type": "markdown",
   "metadata": {
    "hidden": true
   },
   "source": [
    "As colunas E1 não contém valores nulos, mas contém missing data codificadas como 99."
   ]
  },
  {
   "cell_type": "markdown",
   "metadata": {
    "hidden": true
   },
   "source": [
    "### 5.5.1 E1_1"
   ]
  },
  {
   "cell_type": "code",
   "execution_count": 107,
   "metadata": {
    "ExecuteTime": {
     "end_time": "2021-06-26T14:45:20.133272Z",
     "start_time": "2021-06-26T14:45:20.119273Z"
    },
    "hidden": true
   },
   "outputs": [
    {
     "data": {
      "text/plain": [
       "10    42125\n",
       "8     28683\n",
       "5     20523\n",
       "7     19475\n",
       "9     15734\n",
       "6     11671\n",
       "0     11070\n",
       "4      5645\n",
       "3      4857\n",
       "2      4124\n",
       "1      1594\n",
       "99      940\n",
       "Name: E1_1, dtype: int64"
      ]
     },
     "execution_count": 107,
     "metadata": {},
     "output_type": "execute_result"
    }
   ],
   "source": [
    "df['E1_1'].value_counts()"
   ]
  },
  {
   "cell_type": "code",
   "execution_count": 108,
   "metadata": {
    "ExecuteTime": {
     "end_time": "2021-06-26T14:45:20.179771Z",
     "start_time": "2021-06-26T14:45:20.134772Z"
    },
    "hidden": true
   },
   "outputs": [
    {
     "data": {
      "text/plain": [
       "count    165501.000000\n",
       "mean          6.938200\n",
       "std           2.903593\n",
       "min           0.000000\n",
       "25%           5.000000\n",
       "50%           8.000000\n",
       "75%          10.000000\n",
       "max          10.000000\n",
       "Name: E1_1, dtype: float64"
      ]
     },
     "execution_count": 108,
     "metadata": {},
     "output_type": "execute_result"
    }
   ],
   "source": [
    "df.query('E1_1 != 99')['E1_1'].describe()"
   ]
  },
  {
   "cell_type": "code",
   "execution_count": 109,
   "metadata": {
    "ExecuteTime": {
     "end_time": "2021-06-26T14:45:20.272772Z",
     "start_time": "2021-06-26T14:45:20.181272Z"
    },
    "hidden": true
   },
   "outputs": [
    {
     "data": {
      "text/plain": [
       "0          8.0\n",
       "1         10.0\n",
       "2          8.0\n",
       "3         10.0\n",
       "4         10.0\n",
       "          ... \n",
       "166694     8.0\n",
       "166695    10.0\n",
       "166696     8.0\n",
       "166697     6.0\n",
       "166698    10.0\n",
       "Name: E1_1, Length: 166441, dtype: float64"
      ]
     },
     "execution_count": 109,
     "metadata": {},
     "output_type": "execute_result"
    }
   ],
   "source": [
    "e1_1_mean = df.query('E1_1 != 99')['E1_1'].describe()['mean']\n",
    "e1_1 = df['E1_1']\n",
    "e1_1 = e1_1.apply(lambda x: e1_1_mean if x == 99 else x)\n",
    "e1_1"
   ]
  },
  {
   "cell_type": "code",
   "execution_count": 110,
   "metadata": {
    "ExecuteTime": {
     "end_time": "2021-06-26T14:45:20.303560Z",
     "start_time": "2021-06-26T14:45:20.274772Z"
    },
    "hidden": true
   },
   "outputs": [
    {
     "data": {
      "text/plain": [
       "count    166441.000000\n",
       "mean          6.938200\n",
       "std           2.895382\n",
       "min           0.000000\n",
       "25%           5.000000\n",
       "50%           8.000000\n",
       "75%          10.000000\n",
       "max          10.000000\n",
       "Name: E1_1, dtype: float64"
      ]
     },
     "execution_count": 110,
     "metadata": {},
     "output_type": "execute_result"
    }
   ],
   "source": [
    "df['E1_1'] = e1_1\n",
    "df['E1_1'].describe()"
   ]
  },
  {
   "cell_type": "code",
   "execution_count": 111,
   "metadata": {
    "ExecuteTime": {
     "end_time": "2021-06-26T14:45:20.427270Z",
     "start_time": "2021-06-26T14:45:20.305271Z"
    },
    "hidden": true
   },
   "outputs": [
    {
     "data": {
      "text/html": [
       "\n",
       "<div id=\"altair-viz-ea2ccbc77f5d4e57b500701608cbe176\"></div>\n",
       "<script type=\"text/javascript\">\n",
       "  (function(spec, embedOpt){\n",
       "    let outputDiv = document.currentScript.previousElementSibling;\n",
       "    if (outputDiv.id !== \"altair-viz-ea2ccbc77f5d4e57b500701608cbe176\") {\n",
       "      outputDiv = document.getElementById(\"altair-viz-ea2ccbc77f5d4e57b500701608cbe176\");\n",
       "    }\n",
       "    const paths = {\n",
       "      \"vega\": \"https://cdn.jsdelivr.net/npm//vega@5?noext\",\n",
       "      \"vega-lib\": \"https://cdn.jsdelivr.net/npm//vega-lib?noext\",\n",
       "      \"vega-lite\": \"https://cdn.jsdelivr.net/npm//vega-lite@4.8.1?noext\",\n",
       "      \"vega-embed\": \"https://cdn.jsdelivr.net/npm//vega-embed@6?noext\",\n",
       "    };\n",
       "\n",
       "    function loadScript(lib) {\n",
       "      return new Promise(function(resolve, reject) {\n",
       "        var s = document.createElement('script');\n",
       "        s.src = paths[lib];\n",
       "        s.async = true;\n",
       "        s.onload = () => resolve(paths[lib]);\n",
       "        s.onerror = () => reject(`Error loading script: ${paths[lib]}`);\n",
       "        document.getElementsByTagName(\"head\")[0].appendChild(s);\n",
       "      });\n",
       "    }\n",
       "\n",
       "    function showError(err) {\n",
       "      outputDiv.innerHTML = `<div class=\"error\" style=\"color:red;\">${err}</div>`;\n",
       "      throw err;\n",
       "    }\n",
       "\n",
       "    function displayChart(vegaEmbed) {\n",
       "      vegaEmbed(outputDiv, spec, embedOpt)\n",
       "        .catch(err => showError(`Javascript Error: ${err.message}<br>This usually means there's a typo in your chart specification. See the javascript console for the full traceback.`));\n",
       "    }\n",
       "\n",
       "    if(typeof define === \"function\" && define.amd) {\n",
       "      requirejs.config({paths});\n",
       "      require([\"vega-embed\"], displayChart, err => showError(`Error loading script: ${err.message}`));\n",
       "    } else if (typeof vegaEmbed === \"function\") {\n",
       "      displayChart(vegaEmbed);\n",
       "    } else {\n",
       "      loadScript(\"vega\")\n",
       "        .then(() => loadScript(\"vega-lite\"))\n",
       "        .then(() => loadScript(\"vega-embed\"))\n",
       "        .catch(showError)\n",
       "        .then(() => displayChart(vegaEmbed));\n",
       "    }\n",
       "  })({\"config\": {\"view\": {\"continuousWidth\": 400, \"continuousHeight\": 300}}, \"data\": {\"name\": \"data-2d88cc8515301f4a186746929203eb8f\"}, \"mark\": \"line\", \"encoding\": {\"tooltip\": [{\"type\": \"quantitative\", \"field\": \"J1\"}, {\"type\": \"quantitative\", \"field\": \"E1_1\"}], \"x\": {\"type\": \"quantitative\", \"field\": \"E1_1\"}, \"y\": {\"type\": \"quantitative\", \"field\": \"J1\", \"title\": \"M\\u00e9dia J1\"}}, \"selection\": {\"selector015\": {\"type\": \"interval\", \"bind\": \"scales\", \"encodings\": [\"x\", \"y\"]}}, \"title\": \"M\\u00e9dia de J1 por nota E1_1\", \"$schema\": \"https://vega.github.io/schema/vega-lite/v4.8.1.json\", \"datasets\": {\"data-2d88cc8515301f4a186746929203eb8f\": [{\"E1_1\": 0.0, \"J1\": 3.980397470641373, \"B1_1\": 3.698821998890008, \"B1_2\": 3.0948730647565386, \"C1_1\": 5.5450363599635635, \"C1_2\": 4.848114100795426, \"D1\": 1.4711833785004518, \"D2_1\": 4.999538138510922, \"D2_2\": 4.878580318212926, \"D2_3\": 4.97662784388932, \"E1_2\": 1.7311653116531165, \"E1_3\": 5.329087624209575, \"A1_1\": 0.6325203252032521, \"A1_2\": 0.19060523938572718, \"A1_3\": 0.14516711833785004, \"A1_4\": 0.288256549232159, \"A2_1\": 3.1926249748120195, \"A2_2\": 3.9413404740509432, \"A2_3\": 5.226656157351375, \"A3\": 5.001380134981707, \"F1\": 1.4723577235772358, \"F2\": 2.071563088512241, \"F3\": 1.6826558265582656, \"F4\": 2.2040990606319384, \"F5\": 1.5707208746156474, \"F6\": 2.2630322323915637, \"genero\": 0.48301716350496837, \"renda\": 2.1465970738611513, \"contribuintes_renda\": 2.0974706413730804, \"CLARO\": 0.23848238482384823, \"NEXTEL\": 0.002168021680216802, \"OI\": 0.2704607046070461, \"SERCOMTEL\": 0.0012646793134598012, \"TIM\": 0.2105691056910569, \"VIVO\": 0.26440831074977417}, {\"E1_1\": 1.0, \"J1\": 4.437892095357591, \"B1_1\": 4.309186349180215, \"B1_2\": 3.8984552305337754, \"C1_1\": 5.518031599075261, \"C1_2\": 5.122837703513655, \"D1\": 1.3958594730238394, \"D2_1\": 4.862125014553894, \"D2_2\": 4.719537872291045, \"D2_3\": 4.852140395251418, \"E1_2\": 2.4090338770388957, \"E1_3\": 5.156838143036387, \"A1_1\": 0.6204516938519448, \"A1_2\": 0.22961104140526975, \"A1_3\": 0.15683814303638646, \"A1_4\": 0.2823086574654956, \"A2_1\": 3.5368623005659527, \"A2_2\": 4.406024297476287, \"A2_3\": 5.355666729655149, \"A3\": 5.237858192377917, \"F1\": 1.519447929736512, \"F2\": 2.5796344647519582, \"F3\": 1.7239648682559598, \"F4\": 2.768181818181818, \"F5\": 1.5981308411214954, \"F6\": 2.8268733850129197, \"genero\": 0.560853199498118, \"renda\": 2.4358254317830617, \"contribuintes_renda\": 2.079673776662484, \"CLARO\": 0.2176913425345044, \"NEXTEL\": 0.0012547051442910915, \"OI\": 0.2835633626097867, \"SERCOMTEL\": 0.0018820577164366374, \"TIM\": 0.24843161856963614, \"VIVO\": 0.22898368883312423}, {\"E1_1\": 2.0, \"J1\": 4.769883608147429, \"B1_1\": 4.6529567610741225, \"B1_2\": 4.291772353376409, \"C1_1\": 5.926253924457561, \"C1_2\": 5.410720549927905, \"D1\": 1.4296799224054315, \"D2_1\": 5.271991030781704, \"D2_2\": 5.16675120388755, \"D2_3\": 5.282179473511988, \"E1_2\": 2.8171677982541223, \"E1_3\": 5.6115421920465565, \"A1_1\": 0.6277885548011639, \"A1_2\": 0.20198836081474297, \"A1_3\": 0.1454898157129001, \"A1_4\": 0.2832201745877789, \"A2_1\": 3.587210892222932, \"A2_2\": 4.5454761303709015, \"A2_3\": 5.538739573186367, \"A3\": 5.34415990792995, \"F1\": 1.559893307468477, \"F2\": 2.969146005509642, \"F3\": 1.7347235693501455, \"F4\": 3.0155393053016453, \"F5\": 1.6220238095238095, \"F6\": 3.001124859392576, \"genero\": 0.5387972841901066, \"renda\": 2.2538932902592492, \"contribuintes_renda\": 2.0848690591658583, \"CLARO\": 0.21750727449078563, \"NEXTEL\": 0.0016973811833171678, \"OI\": 0.2419980601357905, \"SERCOMTEL\": 0.004122211445198836, \"TIM\": 0.2519398642095053, \"VIVO\": 0.26576139670223087}, {\"E1_1\": 3.0, \"J1\": 5.223800700020589, \"B1_1\": 5.146553455900942, \"B1_2\": 4.807887557670131, \"C1_1\": 6.238007000205888, \"C1_2\": 5.779329822750905, \"D1\": 1.4311303273625695, \"D2_1\": 5.565769253142368, \"D2_2\": 5.43421411260319, \"D2_3\": 5.532899409549367, \"E1_2\": 3.5001029442042415, \"E1_3\": 5.92958616429895, \"A1_1\": 0.6151945645460161, \"A1_2\": 0.2122709491455631, \"A1_3\": 0.13959234095120446, \"A1_4\": 0.2835083384805435, \"A2_1\": 3.856773875891612, \"A2_2\": 4.9065196763608245, \"A2_3\": 5.864969570287593, \"A3\": 5.734353782982141, \"F1\": 1.5853407453160386, \"F2\": 3.618172790466733, \"F3\": 1.7652872143298333, \"F4\": 3.4596491228070176, \"F5\": 1.645674990951864, \"F6\": 3.4719101123595504, \"genero\": 0.5433395099855878, \"renda\": 2.214414395598445, \"contribuintes_renda\": 2.0504426600782377, \"CLARO\": 0.22462425365451924, \"NEXTEL\": 0.0020588840848260242, \"OI\": 0.24418365246036647, \"SERCOMTEL\": 0.003911879761169446, \"TIM\": 0.254272184476014, \"VIVO\": 0.2530368540251184}, {\"E1_1\": 4.0, \"J1\": 5.613817537643933, \"B1_1\": 5.523817651386433, \"B1_2\": 5.27728417809111, \"C1_1\": 6.562044706629932, \"C1_2\": 6.1441635605670095, \"D1\": 1.421434898139947, \"D2_1\": 5.7445442553015305, \"D2_2\": 5.618603602289296, \"D2_3\": 5.7237911382030235, \"E1_2\": 4.177147918511958, \"E1_3\": 6.440566873339238, \"A1_1\": 0.6162976085031001, \"A1_2\": 0.20814880425155005, \"A1_3\": 0.14242692648361382, \"A1_4\": 0.28503100088573957, \"A2_1\": 4.148847883824642, \"A2_2\": 5.174084966473538, \"A2_3\": 6.0941431040772, \"A3\": 5.93244765489981, \"F1\": 1.6148804251550044, \"F2\": 4.158233670653174, \"F3\": 1.7730735163861824, \"F4\": 4.359875097580016, \"F5\": 1.6595223515003061, \"F6\": 4.318345323741007, \"genero\": 0.5470327723649248, \"renda\": 2.210039845634096, \"contribuintes_renda\": 2.0418069087688218, \"CLARO\": 0.2304694419840567, \"NEXTEL\": 0.0012400354295837024, \"OI\": 0.24393268379096544, \"SERCOMTEL\": 0.003365810451727192, \"TIM\": 0.2579273693534101, \"VIVO\": 0.245881310894597}, {\"E1_1\": 5.0, \"J1\": 6.135311601617698, \"B1_1\": 6.044819368834127, \"B1_2\": 5.764734471570071, \"C1_1\": 7.085182311673816, \"C1_2\": 6.566868612868987, \"D1\": 1.4372655069921552, \"D2_1\": 6.065860527941808, \"D2_2\": 5.932370729604073, \"D2_3\": 6.008221775809485, \"E1_2\": 5.204794620669492, \"E1_3\": 7.135457779077133, \"A1_1\": 0.6057593919017688, \"A1_2\": 0.20952102519124885, \"A1_3\": 0.13911221556302686, \"A1_4\": 0.29347561272718414, \"A2_1\": 4.487311442875221, \"A2_2\": 5.526011007921269, \"A2_3\": 6.4637813672621665, \"A3\": 6.34146405441793, \"F1\": 1.6621838912439701, \"F2\": 4.726669551420741, \"F3\": 1.8012473809871852, \"F4\": 4.531747977445452, \"F5\": 1.680924755390077, \"F6\": 4.534599728629579, \"genero\": 0.5129367051600643, \"renda\": 2.0952380549314595, \"contribuintes_renda\": 2.0605174682064025, \"CLARO\": 0.23003459533206647, \"NEXTEL\": 0.00233883935097208, \"OI\": 0.25200994006724164, \"SERCOMTEL\": 0.0056034692783706085, \"TIM\": 0.23208107976416703, \"VIVO\": 0.25717487696730496}, {\"E1_1\": 6.0, \"J1\": 6.682974895038986, \"B1_1\": 6.634551617361771, \"B1_2\": 6.417117039097842, \"C1_1\": 7.443929251241616, \"C1_2\": 6.989016497978123, \"D1\": 1.4158169822637305, \"D2_1\": 6.396383171733823, \"D2_2\": 6.271169400349407, \"D2_3\": 6.361262214155578, \"E1_2\": 5.955530802844658, \"E1_3\": 7.380258761031617, \"A1_1\": 0.6069745523091423, \"A1_2\": 0.22817239311113016, \"A1_3\": 0.14017650586924857, \"A1_4\": 0.2863507839945163, \"A2_1\": 4.932083708198353, \"A2_2\": 5.981622873485615, \"A2_3\": 6.829645689122736, \"A3\": 6.701659272613101, \"F1\": 1.7026818610230485, \"F2\": 5.585590778097982, \"F3\": 1.8405449404506897, \"F4\": 5.397098334228909, \"F5\": 1.724992666471106, \"F6\": 5.481066666666667, \"genero\": 0.527803958529689, \"renda\": 2.099568309826736, \"contribuintes_renda\": 2.070002570473824, \"CLARO\": 0.23142832662154056, \"NEXTEL\": 0.0022277439808071286, \"OI\": 0.2413674920743724, \"SERCOMTEL\": 0.005655042412818096, \"TIM\": 0.24093907977037102, \"VIVO\": 0.25867534915602775}, {\"E1_1\": 6.938199769185685, \"J1\": 7.152127659574468, \"B1_1\": 7.077309518272495, \"B1_2\": 7.054037634827919, \"C1_1\": 7.939094773700455, \"C1_2\": 7.535821900868965, \"D1\": 1.6893617021276597, \"D2_1\": 6.821259026192193, \"D2_2\": 6.719332975026242, \"D2_3\": 6.872554284068462, \"E1_2\": 25.140425531914893, \"E1_3\": 23.147872340425533, \"A1_1\": 0.3861702127659574, \"A1_2\": 0.11063829787234042, \"A1_3\": 0.1202127659574468, \"A1_4\": 0.526595744680851, \"A2_1\": 5.530079619718092, \"A2_2\": 6.348527225378251, \"A2_3\": 7.280914868770433, \"A3\": 7.180118422736649, \"F1\": 1.8414893617021277, \"F2\": 7.771812080536913, \"F3\": 1.9031914893617021, \"F4\": 8.538461538461538, \"F5\": 1.8664383561643836, \"F6\": 5.564102564102564, \"genero\": 0.40638297872340423, \"renda\": 2.130735409545773, \"contribuintes_renda\": 1.9106382978723404, \"CLARO\": 0.2276595744680851, \"NEXTEL\": 0.0031914893617021275, \"OI\": 0.2297872340425532, \"SERCOMTEL\": 0.00851063829787234, \"TIM\": 0.2542553191489362, \"VIVO\": 0.251063829787234}, {\"E1_1\": 7.0, \"J1\": 7.18413350449294, \"B1_1\": 7.196581403796014, \"B1_2\": 7.027097484631273, \"C1_1\": 7.8636931291019065, \"C1_2\": 7.433100454136444, \"D1\": 1.404826700898588, \"D2_1\": 6.7143605936250985, \"D2_2\": 6.609490767590278, \"D2_3\": 6.682375951910311, \"E1_2\": 6.893761232349165, \"E1_3\": 7.937509627727856, \"A1_1\": 0.5937869062901155, \"A1_2\": 0.2365596919127086, \"A1_3\": 0.1377150192554557, \"A1_4\": 0.2954043645699615, \"A2_1\": 5.3333594009984795, \"A2_2\": 6.32210492271279, \"A2_3\": 7.125275704398628, \"A3\": 7.052849404995156, \"F1\": 1.7455198973042363, \"F2\": 6.301654560129136, \"F3\": 1.859563543003851, \"F4\": 5.973674588665448, \"F5\": 1.7535156587007161, \"F6\": 5.834441722086105, \"genero\": 0.5054685494223363, \"renda\": 2.076125630027459, \"contribuintes_renda\": 2.056688061617458, \"CLARO\": 0.23671373555840822, \"NEXTEL\": 0.0033889602053915275, \"OI\": 0.2423620025673941, \"SERCOMTEL\": 0.006777920410783055, \"TIM\": 0.25201540436457, \"VIVO\": 0.2371245186136072}, {\"E1_1\": 8.0, \"J1\": 7.622110657880975, \"B1_1\": 7.673680129821617, \"B1_2\": 7.521116477728343, \"C1_1\": 8.252368347813466, \"C1_2\": 7.8230599325351795, \"D1\": 1.416379039849388, \"D2_1\": 6.952824130171526, \"D2_2\": 6.8235575081143525, \"D2_3\": 6.910642884400685, \"E1_2\": 7.700972701600251, \"E1_3\": 8.613603876860859, \"A1_1\": 0.5978802775162989, \"A1_2\": 0.24300108077955584, \"A1_3\": 0.1425931736568699, \"A1_4\": 0.29104347522922985, \"A2_1\": 5.677335117116607, \"A2_2\": 6.656920737019324, \"A2_3\": 7.431918383662757, \"A3\": 7.394830820985861, \"F1\": 1.7732106125579612, \"F2\": 6.828900845503459, \"F3\": 1.8767214029215913, \"F4\": 6.317873303167421, \"F5\": 1.7746117084826762, \"F6\": 6.354890007951233, \"genero\": 0.4904647352090088, \"renda\": 2.0524080124785815, \"contribuintes_renda\": 2.084196213785169, \"CLARO\": 0.23459889132935885, \"NEXTEL\": 0.004079071226859115, \"OI\": 0.24042115538820905, \"SERCOMTEL\": 0.009134330439633232, \"TIM\": 0.24404699647875047, \"VIVO\": 0.24038629153156924}, {\"E1_1\": 9.0, \"J1\": 8.128384390491929, \"B1_1\": 8.234630641552135, \"B1_2\": 8.125189760545872, \"C1_1\": 8.689521987505259, \"C1_2\": 8.299506460131433, \"D1\": 1.3902377017922969, \"D2_1\": 7.389603915709548, \"D2_2\": 7.267990089373764, \"D2_3\": 7.351083471568323, \"E1_2\": 8.515762043981187, \"E1_3\": 9.031587644591331, \"A1_1\": 0.6015634930723275, \"A1_2\": 0.27214948519130544, \"A1_3\": 0.14624380322867675, \"A1_4\": 0.27920427100546585, \"A2_1\": 6.167221244000714, \"A2_2\": 7.067958955591759, \"A2_3\": 7.800671366301422, \"A3\": 7.752520064771279, \"F1\": 1.7973814668869963, \"F2\": 7.559284818067754, \"F3\": 1.8951315622219398, \"F4\": 7.036969696969697, \"F5\": 1.80654575776527, \"F6\": 7.139008620689655, \"genero\": 0.4635820516079827, \"renda\": 2.0052895061438614, \"contribuintes_renda\": 2.1072835896784037, \"CLARO\": 0.2442481250794458, \"NEXTEL\": 0.005338756832337613, \"OI\": 0.23217236557772974, \"SERCOMTEL\": 0.009914834117198424, \"TIM\": 0.23782890555484937, \"VIVO\": 0.2394813779077158}, {\"E1_1\": 10.0, \"J1\": 8.542077151335311, \"B1_1\": 8.719931400326326, \"B1_2\": 8.582857498350984, \"C1_1\": 9.063710785856923, \"C1_2\": 8.590587747898514, \"D1\": 1.4157151335311573, \"D2_1\": 7.568806472505277, \"D2_2\": 7.429563465731141, \"D2_3\": 7.51593879523009, \"E1_2\": 9.13887240356083, \"E1_3\": 9.646789317507418, \"A1_1\": 0.6040356083086054, \"A1_2\": 0.2697448071216617, \"A1_3\": 0.1697566765578635, \"A1_4\": 0.2844391691394659, \"A2_1\": 6.346649898282819, \"A2_2\": 7.3373160284769625, \"A2_3\": 8.067298550546893, \"A3\": 8.051322597662619, \"F1\": 1.808973293768546, \"F2\": 7.692680502050454, \"F3\": 1.90086646884273, \"F4\": 6.9351053639846745, \"F5\": 1.8257831227400154, \"F6\": 7.001399253731344, \"genero\": 0.4816854599406528, \"renda\": 1.9398559712602412, \"contribuintes_renda\": 2.1337210682492582, \"CLARO\": 0.24726409495548962, \"NEXTEL\": 0.009258160237388725, \"OI\": 0.24021364985163204, \"SERCOMTEL\": 0.014409495548961425, \"TIM\": 0.22174480712166172, \"VIVO\": 0.22893768545994064}]}}, {\"mode\": \"vega-lite\"});\n",
       "</script>"
      ],
      "text/plain": [
       "alt.Chart(...)"
      ]
     },
     "execution_count": 111,
     "metadata": {},
     "output_type": "execute_result"
    }
   ],
   "source": [
    "e1_1_groupby = df.groupby(['E1_1'], as_index=False).mean()\n",
    "\n",
    "alt.Chart(e1_1_groupby).mark_line().encode(\n",
    "    x = 'E1_1',\n",
    "    y = alt.Y('J1', title='Média J1'),\n",
    "    tooltip = ['J1', 'E1_1']\n",
    ").properties(\n",
    "    title = 'Média de J1 por nota E1_1'\n",
    ").interactive()"
   ]
  },
  {
   "cell_type": "markdown",
   "metadata": {
    "hidden": true
   },
   "source": [
    "### 5.5.2 E1_2"
   ]
  },
  {
   "cell_type": "code",
   "execution_count": 112,
   "metadata": {
    "ExecuteTime": {
     "end_time": "2021-06-26T14:45:20.442771Z",
     "start_time": "2021-06-26T14:45:20.428771Z"
    },
    "hidden": true
   },
   "outputs": [
    {
     "data": {
      "text/plain": [
       "10    41687\n",
       "8     24440\n",
       "5     19974\n",
       "7     16982\n",
       "0     16414\n",
       "9     14453\n",
       "6     10952\n",
       "4      6830\n",
       "3      6229\n",
       "2      5526\n",
       "1      2318\n",
       "99      636\n",
       "Name: E1_2, dtype: int64"
      ]
     },
     "execution_count": 112,
     "metadata": {},
     "output_type": "execute_result"
    }
   ],
   "source": [
    "df['E1_2'].value_counts()"
   ]
  },
  {
   "cell_type": "code",
   "execution_count": 113,
   "metadata": {
    "ExecuteTime": {
     "end_time": "2021-06-26T14:45:20.489273Z",
     "start_time": "2021-06-26T14:45:20.444774Z"
    },
    "hidden": true
   },
   "outputs": [
    {
     "data": {
      "text/plain": [
       "count    165805.000000\n",
       "mean          6.551672\n",
       "std           3.203901\n",
       "min           0.000000\n",
       "25%           5.000000\n",
       "50%           7.000000\n",
       "75%          10.000000\n",
       "max          10.000000\n",
       "Name: E1_2, dtype: float64"
      ]
     },
     "execution_count": 113,
     "metadata": {},
     "output_type": "execute_result"
    }
   ],
   "source": [
    "df.query('E1_2 != 99')['E1_2'].describe()"
   ]
  },
  {
   "cell_type": "code",
   "execution_count": 114,
   "metadata": {
    "ExecuteTime": {
     "end_time": "2021-06-26T14:45:20.581772Z",
     "start_time": "2021-06-26T14:45:20.490772Z"
    },
    "hidden": true
   },
   "outputs": [
    {
     "data": {
      "text/plain": [
       "0         10.0\n",
       "1         10.0\n",
       "2         10.0\n",
       "3          0.0\n",
       "4         10.0\n",
       "          ... \n",
       "166694    10.0\n",
       "166695    10.0\n",
       "166696    10.0\n",
       "166697     7.0\n",
       "166698     8.0\n",
       "Name: E1_2, Length: 166441, dtype: float64"
      ]
     },
     "execution_count": 114,
     "metadata": {},
     "output_type": "execute_result"
    }
   ],
   "source": [
    "e1_2_mean = df.query('E1_2 != 99')['E1_2'].describe()['mean']\n",
    "e1_2 = df['E1_2']\n",
    "e1_2 = e1_2.apply(lambda x: e1_2_mean if x == 99 else x)\n",
    "e1_2"
   ]
  },
  {
   "cell_type": "code",
   "execution_count": 115,
   "metadata": {
    "ExecuteTime": {
     "end_time": "2021-06-26T14:45:20.612770Z",
     "start_time": "2021-06-26T14:45:20.583272Z"
    },
    "hidden": true
   },
   "outputs": [
    {
     "data": {
      "text/plain": [
       "count    166441.000000\n",
       "mean          6.551672\n",
       "std           3.197773\n",
       "min           0.000000\n",
       "25%           5.000000\n",
       "50%           7.000000\n",
       "75%          10.000000\n",
       "max          10.000000\n",
       "Name: E1_2, dtype: float64"
      ]
     },
     "execution_count": 115,
     "metadata": {},
     "output_type": "execute_result"
    }
   ],
   "source": [
    "df['E1_2'] = e1_2\n",
    "df['E1_2'].describe()"
   ]
  },
  {
   "cell_type": "code",
   "execution_count": 116,
   "metadata": {
    "ExecuteTime": {
     "end_time": "2021-06-26T14:45:20.736771Z",
     "start_time": "2021-06-26T14:45:20.614272Z"
    },
    "hidden": true
   },
   "outputs": [
    {
     "data": {
      "text/html": [
       "\n",
       "<div id=\"altair-viz-e921aef7fcd2471d86af2e62cdc26b95\"></div>\n",
       "<script type=\"text/javascript\">\n",
       "  (function(spec, embedOpt){\n",
       "    let outputDiv = document.currentScript.previousElementSibling;\n",
       "    if (outputDiv.id !== \"altair-viz-e921aef7fcd2471d86af2e62cdc26b95\") {\n",
       "      outputDiv = document.getElementById(\"altair-viz-e921aef7fcd2471d86af2e62cdc26b95\");\n",
       "    }\n",
       "    const paths = {\n",
       "      \"vega\": \"https://cdn.jsdelivr.net/npm//vega@5?noext\",\n",
       "      \"vega-lib\": \"https://cdn.jsdelivr.net/npm//vega-lib?noext\",\n",
       "      \"vega-lite\": \"https://cdn.jsdelivr.net/npm//vega-lite@4.8.1?noext\",\n",
       "      \"vega-embed\": \"https://cdn.jsdelivr.net/npm//vega-embed@6?noext\",\n",
       "    };\n",
       "\n",
       "    function loadScript(lib) {\n",
       "      return new Promise(function(resolve, reject) {\n",
       "        var s = document.createElement('script');\n",
       "        s.src = paths[lib];\n",
       "        s.async = true;\n",
       "        s.onload = () => resolve(paths[lib]);\n",
       "        s.onerror = () => reject(`Error loading script: ${paths[lib]}`);\n",
       "        document.getElementsByTagName(\"head\")[0].appendChild(s);\n",
       "      });\n",
       "    }\n",
       "\n",
       "    function showError(err) {\n",
       "      outputDiv.innerHTML = `<div class=\"error\" style=\"color:red;\">${err}</div>`;\n",
       "      throw err;\n",
       "    }\n",
       "\n",
       "    function displayChart(vegaEmbed) {\n",
       "      vegaEmbed(outputDiv, spec, embedOpt)\n",
       "        .catch(err => showError(`Javascript Error: ${err.message}<br>This usually means there's a typo in your chart specification. See the javascript console for the full traceback.`));\n",
       "    }\n",
       "\n",
       "    if(typeof define === \"function\" && define.amd) {\n",
       "      requirejs.config({paths});\n",
       "      require([\"vega-embed\"], displayChart, err => showError(`Error loading script: ${err.message}`));\n",
       "    } else if (typeof vegaEmbed === \"function\") {\n",
       "      displayChart(vegaEmbed);\n",
       "    } else {\n",
       "      loadScript(\"vega\")\n",
       "        .then(() => loadScript(\"vega-lite\"))\n",
       "        .then(() => loadScript(\"vega-embed\"))\n",
       "        .catch(showError)\n",
       "        .then(() => displayChart(vegaEmbed));\n",
       "    }\n",
       "  })({\"config\": {\"view\": {\"continuousWidth\": 400, \"continuousHeight\": 300}}, \"data\": {\"name\": \"data-b5b6838773676b025b50a3aa50630968\"}, \"mark\": \"line\", \"encoding\": {\"tooltip\": [{\"type\": \"quantitative\", \"field\": \"J1\"}, {\"type\": \"quantitative\", \"field\": \"E1_2\"}], \"x\": {\"type\": \"quantitative\", \"field\": \"E1_2\"}, \"y\": {\"type\": \"quantitative\", \"field\": \"J1\", \"title\": \"M\\u00e9dia J1\"}}, \"selection\": {\"selector016\": {\"type\": \"interval\", \"bind\": \"scales\", \"encodings\": [\"x\", \"y\"]}}, \"title\": \"M\\u00e9dia de J1 por nota E1_2\", \"$schema\": \"https://vega.github.io/schema/vega-lite/v4.8.1.json\", \"datasets\": {\"data-b5b6838773676b025b50a3aa50630968\": [{\"E1_2\": 0.0, \"J1\": 4.283721213598148, \"B1_1\": 4.066467729903177, \"B1_2\": 3.496745448160479, \"C1_1\": 5.8709365483609535, \"C1_2\": 5.1991987231211825, \"D1\": 1.4712440599488241, \"D2_1\": 5.127394589702869, \"D2_2\": 4.991681182541871, \"D2_3\": 5.0937005703592, \"E1_1\": 2.8144458619937334, \"E1_3\": 6.0031071036919705, \"A1_1\": 0.6251980017058608, \"A1_2\": 0.18764469355428293, \"A1_3\": 0.14652126233702936, \"A1_4\": 0.2924942122578287, \"A2_1\": 3.3168957169123217, \"A2_2\": 4.198177765411045, \"A2_3\": 5.433763622843302, \"A3\": 5.223415550837369, \"F1\": 1.487754356037529, \"F2\": 2.338130352045671, \"F3\": 1.7027537468015108, \"F4\": 2.476122156179545, \"F5\": 1.5924645696508815, \"F6\": 2.4175855244557534, \"genero\": 0.49311563299622274, \"renda\": 2.166935585844378, \"contribuintes_renda\": 2.0720726209333495, \"CLARO\": 0.23291092969416352, \"NEXTEL\": 0.0018277080541001583, \"OI\": 0.2676983063238699, \"SERCOMTEL\": 0.0022541732667235286, \"TIM\": 0.22139636895333253, \"VIVO\": 0.26136225173632266}, {\"E1_2\": 1.0, \"J1\": 4.663071613459879, \"B1_1\": 4.595454944301077, \"B1_2\": 4.284725586877758, \"C1_1\": 5.776851755360641, \"C1_2\": 5.28464335608316, \"D1\": 1.3917169974115617, \"D2_1\": 5.117828341566735, \"D2_2\": 4.990146014916344, \"D2_3\": 5.1465248704136055, \"E1_1\": 3.363760395599401, \"E1_3\": 5.617773943054357, \"A1_1\": 0.6238136324417601, \"A1_2\": 0.21656600517687663, \"A1_3\": 0.16566005176876616, \"A1_4\": 0.272648835202761, \"A2_1\": 3.5713288843655073, \"A2_2\": 4.554108415729432, \"A2_3\": 5.537736348706518, \"A3\": 5.355665976281304, \"F1\": 1.5569456427955133, \"F2\": 2.9629990262901655, \"F3\": 1.7467644521138912, \"F4\": 2.868824531516184, \"F5\": 1.6418439716312057, \"F6\": 2.9366336633663366, \"genero\": 0.5802415875754962, \"renda\": 2.453199478909075, \"contribuintes_renda\": 2.092320966350302, \"CLARO\": 0.21656600517687663, \"NEXTEL\": 0.001725625539257981, \"OI\": 0.2631578947368421, \"SERCOMTEL\": 0.0, \"TIM\": 0.2657463330457291, \"VIVO\": 0.23339085418464192}, {\"E1_2\": 2.0, \"J1\": 5.265472312703583, \"B1_1\": 5.1501841724202, \"B1_2\": 4.771569720769369, \"C1_1\": 6.279517472564051, \"C1_2\": 5.828773669815557, \"D1\": 1.418204849800941, \"D2_1\": 5.5087922858271225, \"D2_2\": 5.4122167005077495, \"D2_3\": 5.5036849525655995, \"E1_1\": 4.073903943901343, \"E1_3\": 6.173181324647123, \"A1_1\": 0.6190734708650019, \"A1_2\": 0.2014115092290988, \"A1_3\": 0.14676076728193993, \"A1_4\": 0.2868259138617445, \"A2_1\": 3.800815845433474, \"A2_2\": 4.830994664689022, \"A2_3\": 5.82800944325979, \"A3\": 5.672083105913202, \"F1\": 1.5857763300760044, \"F2\": 3.527304499781564, \"F3\": 1.755700325732899, \"F4\": 3.52, \"F5\": 1.6401244167962674, \"F6\": 3.603284356093345, \"genero\": 0.5461454940282302, \"renda\": 2.320823334010445, \"contribuintes_renda\": 2.031849439015563, \"CLARO\": 0.21389793702497287, \"NEXTEL\": 0.0009048136083966703, \"OI\": 0.2423090843286283, \"SERCOMTEL\": 0.0025334781035106766, \"TIM\": 0.2571480275063337, \"VIVO\": 0.26800579080709375}, {\"E1_2\": 3.0, \"J1\": 5.580028897094237, \"B1_1\": 5.530313502078899, \"B1_2\": 5.240529299420388, \"C1_1\": 6.53517636111558, \"C1_2\": 6.072758580446791, \"D1\": 1.417723551131803, \"D2_1\": 5.751031903525288, \"D2_2\": 5.620598108445989, \"D2_3\": 5.712721442319102, \"E1_1\": 4.721045624337585, \"E1_3\": 6.471664793706855, \"A1_1\": 0.6212875260876545, \"A1_2\": 0.20613260555466367, \"A1_3\": 0.14721464119441321, \"A1_4\": 0.2814255899823407, \"A2_1\": 4.12405153350891, \"A2_2\": 5.156554471349754, \"A2_3\": 6.115367889830359, \"A3\": 5.9366858598758885, \"F1\": 1.610049767217852, \"F2\": 4.013585837793331, \"F3\": 1.7739605073045432, \"F4\": 4.166193181818182, \"F5\": 1.6432313206506755, \"F6\": 4.068778979907265, \"genero\": 0.5626906405522556, \"renda\": 2.257504156529439, \"contribuintes_renda\": 2.0619682131963395, \"CLARO\": 0.23631401509070477, \"NEXTEL\": 0.0014448547118317548, \"OI\": 0.2430566704125863, \"SERCOMTEL\": 0.0035318670733665114, \"TIM\": 0.2497993257344678, \"VIVO\": 0.24739123454808157}, {\"E1_2\": 4.0, \"J1\": 5.9863836017569545, \"B1_1\": 5.923203479334728, \"B1_2\": 5.722596626537492, \"C1_1\": 6.855415042145231, \"C1_2\": 6.460118096457032, \"D1\": 1.4175695461200586, \"D2_1\": 6.024497853322119, \"D2_2\": 5.918549206963523, \"D2_3\": 6.018812722815607, \"E1_1\": 5.339570950737511, \"E1_3\": 6.738506588579795, \"A1_1\": 0.6127379209370425, \"A1_2\": 0.21537335285505124, \"A1_3\": 0.13879941434846266, \"A1_4\": 0.28301610541727673, \"A2_1\": 4.402189710124162, \"A2_2\": 5.433122123408193, \"A2_3\": 6.302201232058002, \"A3\": 6.199389659551073, \"F1\": 1.645827232796486, \"F2\": 4.655642827614717, \"F3\": 1.8005856515373353, \"F4\": 4.479441997063143, \"F5\": 1.6885369532428356, \"F6\": 4.632768361581921, \"genero\": 0.5503660322108346, \"renda\": 2.189497013322014, \"contribuintes_renda\": 2.0651537335285504, \"CLARO\": 0.2240117130307467, \"NEXTEL\": 0.001610541727672035, \"OI\": 0.2465592972181552, \"SERCOMTEL\": 0.004831625183016106, \"TIM\": 0.25768667642752563, \"VIVO\": 0.24743777452415813}, {\"E1_2\": 5.0, \"J1\": 6.492940823069991, \"B1_1\": 6.485201904422117, \"B1_2\": 6.224788571372365, \"C1_1\": 7.355835296563321, \"C1_2\": 6.8852327822573915, \"D1\": 1.4297086212075698, \"D2_1\": 6.276563931681136, \"D2_2\": 6.162255127424143, \"D2_3\": 6.220671455598101, \"E1_1\": 6.012935064718579, \"E1_3\": 7.446330229298088, \"A1_1\": 0.6036347251426855, \"A1_2\": 0.21512966856913987, \"A1_3\": 0.1336237108240713, \"A1_4\": 0.292630419545409, \"A2_1\": 4.753845742969688, \"A2_2\": 5.7766152329203395, \"A2_3\": 6.698300990139985, \"A3\": 6.597307154999489, \"F1\": 1.6738259737658956, \"F2\": 5.299002302379125, \"F3\": 1.8174126364273555, \"F4\": 4.9797093501508085, \"F5\": 1.7032745149679571, \"F6\": 4.98491124260355, \"genero\": 0.507059176930009, \"renda\": 2.088255001479073, \"contribuintes_renda\": 2.0654851306698707, \"CLARO\": 0.24051266646640632, \"NEXTEL\": 0.0024531891458896564, \"OI\": 0.2364073295283869, \"SERCOMTEL\": 0.005457094222489236, \"TIM\": 0.23845999799739662, \"VIVO\": 0.2549314108340843}, {\"E1_2\": 6.0, \"J1\": 6.890157048940833, \"B1_1\": 6.875430188044529, \"B1_2\": 6.700892901107397, \"C1_1\": 7.623250608123343, \"C1_2\": 7.189701866992643, \"D1\": 1.4163623082542, \"D2_1\": 6.577175465335517, \"D2_2\": 6.457789547671249, \"D2_3\": 6.546103541054809, \"E1_1\": 6.610073775636183, \"E1_3\": 7.72845142439737, \"A1_1\": 0.5908509861212564, \"A1_2\": 0.23155588020452886, \"A1_3\": 0.1454528853177502, \"A1_4\": 0.293827611395179, \"A2_1\": 5.111737660787038, \"A2_2\": 6.144012675953766, \"A2_3\": 6.944172828911825, \"A3\": 6.848165074138054, \"F1\": 1.724890430971512, \"F2\": 5.913707268503153, \"F3\": 1.849890430971512, \"F4\": 5.5298053527980535, \"F5\": 1.7352941176470589, \"F6\": 5.739952718676123, \"genero\": 0.5151570489408327, \"renda\": 2.1059963239488084, \"contribuintes_renda\": 2.069028487947407, \"CLARO\": 0.2279035792549306, \"NEXTEL\": 0.002282688093498904, \"OI\": 0.23593864134404674, \"SERCOMTEL\": 0.005569758948137327, \"TIM\": 0.254108838568298, \"VIVO\": 0.2501826150474799}, {\"E1_2\": 6.551672144989596, \"J1\": 7.062893081761007, \"B1_1\": 7.112351799072035, \"B1_2\": 6.966123157028056, \"C1_1\": 7.952233131668889, \"C1_2\": 7.52493874043106, \"D1\": 1.7264150943396226, \"D2_1\": 6.844411995846568, \"D2_2\": 6.714300909419755, \"D2_3\": 6.8664001075240595, \"E1_1\": 7.082263767886942, \"E1_3\": 25.30817610062893, \"A1_1\": 0.3977987421383648, \"A1_2\": 0.10220125786163523, \"A1_3\": 0.10534591194968554, \"A1_4\": 0.5345911949685535, \"A2_1\": 5.471390164305786, \"A2_2\": 6.294069391577864, \"A2_3\": 7.194373969675349, \"A3\": 7.135643663828258, \"F1\": 1.8616352201257862, \"F2\": 10.011363636363637, \"F3\": 1.9088050314465408, \"F4\": 8.379310344827585, \"F5\": 1.8160919540229885, \"F6\": 5.28125, \"genero\": 0.44025157232704404, \"renda\": 1.9510967127074734, \"contribuintes_renda\": 1.95125786163522, \"CLARO\": 0.24371069182389937, \"NEXTEL\": 0.012578616352201259, \"OI\": 0.21540880503144655, \"SERCOMTEL\": 0.01729559748427673, \"TIM\": 0.24371069182389937, \"VIVO\": 0.23113207547169812}, {\"E1_2\": 7.0, \"J1\": 7.3007890707808265, \"B1_1\": 7.324892927222083, \"B1_2\": 7.18138995380247, \"C1_1\": 7.978687302257965, \"C1_2\": 7.537169544082147, \"D1\": 1.4050759627841243, \"D2_1\": 6.7923696631375705, \"D2_2\": 6.677084103337448, \"D2_3\": 6.763413557266619, \"E1_1\": 7.2151273104552525, \"E1_3\": 8.125368036744788, \"A1_1\": 0.5995760216700036, \"A1_2\": 0.24107878930632434, \"A1_3\": 0.1359086091155341, \"A1_4\": 0.2903662701684136, \"A2_1\": 5.458675229467735, \"A2_2\": 6.4454906367112725, \"A2_3\": 7.223801324175813, \"A3\": 7.144492557814724, \"F1\": 1.7537392533270522, \"F2\": 6.545671927307509, \"F3\": 1.8586150041220115, \"F4\": 6.105372761349438, \"F5\": 1.7532416114025537, \"F6\": 6.246690734055355, \"genero\": 0.5007655164291603, \"renda\": 2.061284130000529, \"contribuintes_renda\": 2.061535743728654, \"CLARO\": 0.2391944411730067, \"NEXTEL\": 0.003474266870804381, \"OI\": 0.23689789188552585, \"SERCOMTEL\": 0.00741962077493817, \"TIM\": 0.24455305617712872, \"VIVO\": 0.2457896596396184}, {\"E1_2\": 8.0, \"J1\": 7.660801963993453, \"B1_1\": 7.705433510691506, \"B1_2\": 7.572603268403578, \"C1_1\": 8.250835666499983, \"C1_2\": 7.820148717009333, \"D1\": 1.4153846153846155, \"D2_1\": 6.973257254637122, \"D2_2\": 6.85280108976235, \"D2_3\": 6.923126334048972, \"E1_1\": 7.814446741986443, \"E1_3\": 8.59259410801964, \"A1_1\": 0.5922258592471359, \"A1_2\": 0.25053191489361704, \"A1_3\": 0.14210310965630116, \"A1_4\": 0.29488543371522097, \"A2_1\": 5.751290836253594, \"A2_2\": 6.72018859558734, \"A2_3\": 7.4785430266729715, \"A3\": 7.428485251238953, \"F1\": 1.785065466448445, \"F2\": 7.111555301732343, \"F3\": 1.8837152209492636, \"F4\": 6.409922589725546, \"F5\": 1.784434490481523, \"F6\": 6.3626623376623375, \"genero\": 0.4920621931260229, \"renda\": 2.038681173635717, \"contribuintes_renda\": 2.0828150572831423, \"CLARO\": 0.24022094926350246, \"NEXTEL\": 0.004623567921440262, \"OI\": 0.23817512274959082, \"SERCOMTEL\": 0.009288052373158755, \"TIM\": 0.24099836333878888, \"VIVO\": 0.23854337152209493}, {\"E1_2\": 9.0, \"J1\": 8.136027122396735, \"B1_1\": 8.232426277858206, \"B1_2\": 8.102669723180957, \"C1_1\": 8.669415883688144, \"C1_2\": 8.28720966183557, \"D1\": 1.392236905832699, \"D2_1\": 7.38097560988525, \"D2_2\": 7.247030252763026, \"D2_3\": 7.350626026893347, \"E1_1\": 8.464581816045468, \"E1_3\": 8.961807237251781, \"A1_1\": 0.599321940081644, \"A1_2\": 0.2694942226527365, \"A1_3\": 0.14855047395004498, \"A1_4\": 0.283747318895731, \"A2_1\": 6.143132413069099, \"A2_2\": 7.081044054137558, \"A2_3\": 7.793324208885989, \"A3\": 7.753120267723465, \"F1\": 1.8087594271085587, \"F2\": 7.74493487698987, \"F3\": 1.8936552964782398, \"F4\": 7.219908913467794, \"F5\": 1.801457194899818, \"F6\": 7.1702981651376145, \"genero\": 0.461772642357988, \"renda\": 1.9685329454737546, \"contribuintes_renda\": 2.11810696741161, \"CLARO\": 0.2418183076177956, \"NEXTEL\": 0.006503840033211098, \"OI\": 0.23220092714315366, \"SERCOMTEL\": 0.009894139624991352, \"TIM\": 0.23863557738877741, \"VIVO\": 0.23960423441500034}, {\"E1_2\": 10.0, \"J1\": 8.646796363374673, \"B1_1\": 8.795454858622293, \"B1_2\": 8.669677981826895, \"C1_1\": 9.119973423762108, \"C1_2\": 8.64154530146143, \"D1\": 1.4157890949216783, \"D2_1\": 7.616361447723405, \"D2_2\": 7.470711515128482, \"D2_3\": 7.560604929447565, \"E1_1\": 9.105168439760524, \"E1_3\": 9.618778036318277, \"A1_1\": 0.6060882289442752, \"A1_2\": 0.2721232038765083, \"A1_3\": 0.1689975292057476, \"A1_4\": 0.28270204140379496, \"A2_1\": 6.4272499967653625, \"A2_2\": 7.385454835011992, \"A2_3\": 8.10717753951931, \"A3\": 8.101757259239761, \"F1\": 1.8207834576726558, \"F2\": 7.9788515593628695, \"F3\": 1.9069014321011346, \"F4\": 7.253285235763978, \"F5\": 1.8316498316498318, \"F6\": 7.111951219512195, \"genero\": 0.47451243793029, \"renda\": 1.9155857455827126, \"contribuintes_renda\": 2.135269988245736, \"CLARO\": 0.24271355578477702, \"NEXTEL\": 0.009043586729675918, \"OI\": 0.24986206731115215, \"SERCOMTEL\": 0.015232566507544319, \"TIM\": 0.21786168349845275, \"VIVO\": 0.2272650946338187}]}}, {\"mode\": \"vega-lite\"});\n",
       "</script>"
      ],
      "text/plain": [
       "alt.Chart(...)"
      ]
     },
     "execution_count": 116,
     "metadata": {},
     "output_type": "execute_result"
    }
   ],
   "source": [
    "e1_2_groupby = df.groupby(['E1_2'], as_index=False).mean()\n",
    "\n",
    "alt.Chart(e1_2_groupby).mark_line().encode(\n",
    "    x = 'E1_2',\n",
    "    y = alt.Y('J1', title='Média J1'),\n",
    "    tooltip = ['J1', 'E1_2']\n",
    ").properties(\n",
    "    title = 'Média de J1 por nota E1_2'\n",
    ").interactive()"
   ]
  },
  {
   "cell_type": "markdown",
   "metadata": {
    "heading_collapsed": true,
    "hidden": true
   },
   "source": [
    "## Colunas F"
   ]
  },
  {
   "cell_type": "code",
   "execution_count": 117,
   "metadata": {
    "ExecuteTime": {
     "end_time": "2021-06-26T14:45:21.186272Z",
     "start_time": "2021-06-26T14:45:20.738272Z"
    },
    "hidden": true
   },
   "outputs": [
    {
     "data": {
      "text/plain": [
       "<AxesSubplot:>"
      ]
     },
     "execution_count": 117,
     "metadata": {},
     "output_type": "execute_result"
    },
    {
     "data": {
      "image/png": "[encoded data removed]",
      "text/plain": [
       "<Figure size 1800x720 with 2 Axes>"
      ]
     },
     "metadata": {
      "needs_background": "light"
     },
     "output_type": "display_data"
    }
   ],
   "source": [
    "msno.matrix(df[['F1', 'F2', 'F3', 'F4', 'F5', 'F6']])"
   ]
  },
  {
   "cell_type": "code",
   "execution_count": 118,
   "metadata": {
    "ExecuteTime": {
     "end_time": "2021-06-26T14:45:21.573772Z",
     "start_time": "2021-06-26T14:45:21.188273Z"
    },
    "hidden": true
   },
   "outputs": [
    {
     "data": {
      "text/plain": [
       "<AxesSubplot:>"
      ]
     },
     "execution_count": 118,
     "metadata": {},
     "output_type": "execute_result"
    },
    {
     "data": {
      "image/png": "[encoded data removed]",
      "text/plain": [
       "<Figure size 1728x720 with 3 Axes>"
      ]
     },
     "metadata": {
      "needs_background": "light"
     },
     "output_type": "display_data"
    }
   ],
   "source": [
    "msno.bar(df[['F1', 'F2', 'F3', 'F4', 'F5', 'F6']])"
   ]
  },
  {
   "cell_type": "markdown",
   "metadata": {
    "hidden": true
   },
   "source": [
    "As colunas F2, F4 e F6 contém mais de 50% de missing data, portanto vamos removê-las."
   ]
  },
  {
   "cell_type": "code",
   "execution_count": 119,
   "metadata": {
    "ExecuteTime": {
     "end_time": "2021-06-26T14:45:21.620271Z",
     "start_time": "2021-06-26T14:45:21.575271Z"
    },
    "hidden": true
   },
   "outputs": [
    {
     "data": {
      "text/html": [
       "<div>\n",
       "<style scoped>\n",
       "    .dataframe tbody tr th:only-of-type {\n",
       "        vertical-align: middle;\n",
       "    }\n",
       "\n",
       "    .dataframe tbody tr th {\n",
       "        vertical-align: top;\n",
       "    }\n",
       "\n",
       "    .dataframe thead th {\n",
       "        text-align: right;\n",
       "    }\n",
       "</style>\n",
       "<table border=\"1\" class=\"dataframe\">\n",
       "  <thead>\n",
       "    <tr style=\"text-align: right;\">\n",
       "      <th></th>\n",
       "      <th>J1</th>\n",
       "      <th>B1_1</th>\n",
       "      <th>B1_2</th>\n",
       "      <th>C1_1</th>\n",
       "      <th>C1_2</th>\n",
       "      <th>D1</th>\n",
       "      <th>D2_1</th>\n",
       "      <th>D2_2</th>\n",
       "      <th>D2_3</th>\n",
       "      <th>E1_1</th>\n",
       "      <th>...</th>\n",
       "      <th>F5</th>\n",
       "      <th>genero</th>\n",
       "      <th>renda</th>\n",
       "      <th>contribuintes_renda</th>\n",
       "      <th>CLARO</th>\n",
       "      <th>NEXTEL</th>\n",
       "      <th>OI</th>\n",
       "      <th>SERCOMTEL</th>\n",
       "      <th>TIM</th>\n",
       "      <th>VIVO</th>\n",
       "    </tr>\n",
       "  </thead>\n",
       "  <tbody>\n",
       "    <tr>\n",
       "      <th>0</th>\n",
       "      <td>4</td>\n",
       "      <td>7.0</td>\n",
       "      <td>7.0</td>\n",
       "      <td>10.0</td>\n",
       "      <td>10.0</td>\n",
       "      <td>1</td>\n",
       "      <td>4.000000</td>\n",
       "      <td>6.000000</td>\n",
       "      <td>5.000000</td>\n",
       "      <td>8.0</td>\n",
       "      <td>...</td>\n",
       "      <td>2.0</td>\n",
       "      <td>1</td>\n",
       "      <td>1.000000</td>\n",
       "      <td>3</td>\n",
       "      <td>1</td>\n",
       "      <td>0</td>\n",
       "      <td>0</td>\n",
       "      <td>0</td>\n",
       "      <td>0</td>\n",
       "      <td>0</td>\n",
       "    </tr>\n",
       "    <tr>\n",
       "      <th>1</th>\n",
       "      <td>10</td>\n",
       "      <td>10.0</td>\n",
       "      <td>10.0</td>\n",
       "      <td>10.0</td>\n",
       "      <td>10.0</td>\n",
       "      <td>2</td>\n",
       "      <td>6.790248</td>\n",
       "      <td>6.689185</td>\n",
       "      <td>6.835137</td>\n",
       "      <td>10.0</td>\n",
       "      <td>...</td>\n",
       "      <td>NaN</td>\n",
       "      <td>1</td>\n",
       "      <td>1.000000</td>\n",
       "      <td>1</td>\n",
       "      <td>0</td>\n",
       "      <td>0</td>\n",
       "      <td>1</td>\n",
       "      <td>0</td>\n",
       "      <td>0</td>\n",
       "      <td>0</td>\n",
       "    </tr>\n",
       "    <tr>\n",
       "      <th>2</th>\n",
       "      <td>10</td>\n",
       "      <td>10.0</td>\n",
       "      <td>10.0</td>\n",
       "      <td>7.0</td>\n",
       "      <td>8.0</td>\n",
       "      <td>1</td>\n",
       "      <td>4.000000</td>\n",
       "      <td>9.000000</td>\n",
       "      <td>5.000000</td>\n",
       "      <td>8.0</td>\n",
       "      <td>...</td>\n",
       "      <td>2.0</td>\n",
       "      <td>1</td>\n",
       "      <td>1.988197</td>\n",
       "      <td>2</td>\n",
       "      <td>0</td>\n",
       "      <td>0</td>\n",
       "      <td>0</td>\n",
       "      <td>0</td>\n",
       "      <td>1</td>\n",
       "      <td>0</td>\n",
       "    </tr>\n",
       "    <tr>\n",
       "      <th>3</th>\n",
       "      <td>10</td>\n",
       "      <td>10.0</td>\n",
       "      <td>10.0</td>\n",
       "      <td>10.0</td>\n",
       "      <td>10.0</td>\n",
       "      <td>1</td>\n",
       "      <td>10.000000</td>\n",
       "      <td>10.000000</td>\n",
       "      <td>10.000000</td>\n",
       "      <td>10.0</td>\n",
       "      <td>...</td>\n",
       "      <td>2.0</td>\n",
       "      <td>1</td>\n",
       "      <td>1.000000</td>\n",
       "      <td>1</td>\n",
       "      <td>0</td>\n",
       "      <td>0</td>\n",
       "      <td>0</td>\n",
       "      <td>0</td>\n",
       "      <td>0</td>\n",
       "      <td>1</td>\n",
       "    </tr>\n",
       "    <tr>\n",
       "      <th>4</th>\n",
       "      <td>9</td>\n",
       "      <td>10.0</td>\n",
       "      <td>10.0</td>\n",
       "      <td>0.0</td>\n",
       "      <td>0.0</td>\n",
       "      <td>1</td>\n",
       "      <td>6.000000</td>\n",
       "      <td>5.000000</td>\n",
       "      <td>6.000000</td>\n",
       "      <td>10.0</td>\n",
       "      <td>...</td>\n",
       "      <td>2.0</td>\n",
       "      <td>0</td>\n",
       "      <td>1.000000</td>\n",
       "      <td>2</td>\n",
       "      <td>0</td>\n",
       "      <td>0</td>\n",
       "      <td>0</td>\n",
       "      <td>0</td>\n",
       "      <td>0</td>\n",
       "      <td>1</td>\n",
       "    </tr>\n",
       "  </tbody>\n",
       "</table>\n",
       "<p>5 rows × 32 columns</p>\n",
       "</div>"
      ],
      "text/plain": [
       "   J1  B1_1  B1_2  C1_1  C1_2  D1       D2_1       D2_2       D2_3  E1_1  ...  \\\n",
       "0   4   7.0   7.0  10.0  10.0   1   4.000000   6.000000   5.000000   8.0  ...   \n",
       "1  10  10.0  10.0  10.0  10.0   2   6.790248   6.689185   6.835137  10.0  ...   \n",
       "2  10  10.0  10.0   7.0   8.0   1   4.000000   9.000000   5.000000   8.0  ...   \n",
       "3  10  10.0  10.0  10.0  10.0   1  10.000000  10.000000  10.000000  10.0  ...   \n",
       "4   9  10.0  10.0   0.0   0.0   1   6.000000   5.000000   6.000000  10.0  ...   \n",
       "\n",
       "    F5  genero     renda  contribuintes_renda  CLARO  NEXTEL  OI  SERCOMTEL  \\\n",
       "0  2.0       1  1.000000                    3      1       0   0          0   \n",
       "1  NaN       1  1.000000                    1      0       0   1          0   \n",
       "2  2.0       1  1.988197                    2      0       0   0          0   \n",
       "3  2.0       1  1.000000                    1      0       0   0          0   \n",
       "4  2.0       0  1.000000                    2      0       0   0          0   \n",
       "\n",
       "   TIM  VIVO  \n",
       "0    0     0  \n",
       "1    0     0  \n",
       "2    1     0  \n",
       "3    0     1  \n",
       "4    0     1  \n",
       "\n",
       "[5 rows x 32 columns]"
      ]
     },
     "execution_count": 119,
     "metadata": {},
     "output_type": "execute_result"
    }
   ],
   "source": [
    "df = df.drop(columns=['F2', 'F4', 'F6'])\n",
    "df.head()"
   ]
  },
  {
   "cell_type": "code",
   "execution_count": 120,
   "metadata": {
    "ExecuteTime": {
     "end_time": "2021-06-26T14:45:21.635771Z",
     "start_time": "2021-06-26T14:45:21.622271Z"
    },
    "hidden": true
   },
   "outputs": [
    {
     "data": {
      "text/plain": [
       "2    120583\n",
       "1     45858\n",
       "Name: F1, dtype: int64"
      ]
     },
     "execution_count": 120,
     "metadata": {},
     "output_type": "execute_result"
    }
   ],
   "source": [
    "df['F1'].value_counts()"
   ]
  },
  {
   "cell_type": "code",
   "execution_count": 121,
   "metadata": {
    "ExecuteTime": {
     "end_time": "2021-06-26T14:45:21.651271Z",
     "start_time": "2021-06-26T14:45:21.637772Z"
    },
    "hidden": true
   },
   "outputs": [
    {
     "data": {
      "text/plain": [
       "2    140845\n",
       "1     25596\n",
       "Name: F3, dtype: int64"
      ]
     },
     "execution_count": 121,
     "metadata": {},
     "output_type": "execute_result"
    }
   ],
   "source": [
    "df['F3'].value_counts()"
   ]
  },
  {
   "cell_type": "markdown",
   "metadata": {
    "hidden": true
   },
   "source": [
    "As colunas F1 e F3 não contém missing data, então não precisamos limpá-las.\n",
    "\n",
    "A coluna F5 descreve se o usuário entrou em contato com a operadora para falar sobre problemas na internet 3G/4G nos 6 meses anteriores à pesquisa. Porém, só é preenchida para aqueles que responderam SIM para a pergunta D1.\n",
    "\n",
    "Portanto, podemos preencher as entradas com missing data com NÃO, que é igual a 2."
   ]
  },
  {
   "cell_type": "code",
   "execution_count": 122,
   "metadata": {
    "ExecuteTime": {
     "end_time": "2021-06-26T14:45:21.666773Z",
     "start_time": "2021-06-26T14:45:21.652773Z"
    },
    "hidden": true
   },
   "outputs": [
    {
     "data": {
      "text/plain": [
       "2.0    142188\n",
       "1.0     24253\n",
       "Name: F5, dtype: int64"
      ]
     },
     "execution_count": 122,
     "metadata": {},
     "output_type": "execute_result"
    }
   ],
   "source": [
    "df['F5'] = df['F5'].fillna(2)\n",
    "df['F5'].value_counts()"
   ]
  },
  {
   "cell_type": "markdown",
   "metadata": {},
   "source": [
    "# Nota final"
   ]
  },
  {
   "cell_type": "markdown",
   "metadata": {},
   "source": [
    "O último passo é agrupar a nota final em baixa, se menor que 8, ou alta, se maior ou igual a 8."
   ]
  },
  {
   "cell_type": "code",
   "execution_count": 123,
   "metadata": {
    "ExecuteTime": {
     "end_time": "2021-06-26T14:45:21.697772Z",
     "start_time": "2021-06-26T14:45:21.668273Z"
    }
   },
   "outputs": [
    {
     "data": {
      "text/plain": [
       "0         baixa\n",
       "1          alta\n",
       "2          alta\n",
       "3          alta\n",
       "4          alta\n",
       "          ...  \n",
       "166694     alta\n",
       "166695     alta\n",
       "166696    baixa\n",
       "166697     alta\n",
       "166698     alta\n",
       "Name: J1, Length: 166441, dtype: object"
      ]
     },
     "execution_count": 123,
     "metadata": {},
     "output_type": "execute_result"
    }
   ],
   "source": [
    "new_j1 = df[\"J1\"].apply(lambda x: 'baixa' if x < 8 else 'alta')\n",
    "new_j1"
   ]
  },
  {
   "cell_type": "code",
   "execution_count": 124,
   "metadata": {
    "ExecuteTime": {
     "end_time": "2021-06-26T14:45:21.713271Z",
     "start_time": "2021-06-26T14:45:21.699771Z"
    }
   },
   "outputs": [],
   "source": [
    "df[\"nota\"] = new_j1"
   ]
  },
  {
   "cell_type": "code",
   "execution_count": 125,
   "metadata": {
    "ExecuteTime": {
     "end_time": "2021-06-26T14:45:21.744272Z",
     "start_time": "2021-06-26T14:45:21.714773Z"
    }
   },
   "outputs": [],
   "source": [
    "df = df.drop(columns=['J1'])"
   ]
  },
  {
   "cell_type": "code",
   "execution_count": 126,
   "metadata": {
    "ExecuteTime": {
     "end_time": "2021-06-26T14:45:24.549776Z",
     "start_time": "2021-06-26T14:45:21.745772Z"
    }
   },
   "outputs": [],
   "source": [
    "df.to_csv(\"bd.csv\")"
   ]
  }
 ],
 "metadata": {
  "hide_input": false,
  "kernelspec": {
   "display_name": "Python 3",
   "language": "python",
   "name": "python3"
  },
  "language_info": {
   "codemirror_mode": {
    "name": "ipython",
    "version": 3
   },
   "file_extension": ".py",
   "mimetype": "text/x-python",
   "name": "python",
   "nbconvert_exporter": "python",
   "pygments_lexer": "ipython3",
   "version": "3.7.9"
  },
  "toc": {
   "base_numbering": 1,
   "nav_menu": {},
   "number_sections": true,
   "sideBar": true,
   "skip_h1_title": false,
   "title_cell": "Table of Contents",
   "title_sidebar": "Contents",
   "toc_cell": false,
   "toc_position": {
    "height": "calc(100% - 180px)",
    "left": "10px",
    "top": "150px",
    "width": "384px"
   },
   "toc_section_display": true,
   "toc_window_display": true
  },
  "varInspector": {
   "cols": {
    "lenName": 16,
    "lenType": 16,
    "lenVar": 40
   },
   "kernels_config": {
    "python": {
     "delete_cmd_postfix": "",
     "delete_cmd_prefix": "del ",
     "library": "var_list.py",
     "varRefreshCmd": "print(var_dic_list())"
    },
    "r": {
     "delete_cmd_postfix": ") ",
     "delete_cmd_prefix": "rm(",
     "library": "var_list.r",
     "varRefreshCmd": "cat(var_dic_list()) "
    }
   },
   "position": {
    "height": "875px",
    "left": "2190px",
    "right": "20px",
    "top": "120px",
    "width": "350px"
   },
   "types_to_exclude": [
    "module",
    "function",
    "builtin_function_or_method",
    "instance",
    "_Feature"
   ],
   "window_display": true
  }
 },
 "nbformat": 4,
 "nbformat_minor": 4
}
